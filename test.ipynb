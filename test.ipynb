{
 "cells": [
  {
   "cell_type": "code",
   "execution_count": 142,
   "metadata": {},
   "outputs": [],
   "source": [
    "import pandas as pd"
   ]
  },
  {
   "cell_type": "code",
   "execution_count": 10,
   "metadata": {},
   "outputs": [
    {
     "data": {
      "text/html": [
       "<div>\n",
       "<style scoped>\n",
       "    .dataframe tbody tr th:only-of-type {\n",
       "        vertical-align: middle;\n",
       "    }\n",
       "\n",
       "    .dataframe tbody tr th {\n",
       "        vertical-align: top;\n",
       "    }\n",
       "\n",
       "    .dataframe thead th {\n",
       "        text-align: right;\n",
       "    }\n",
       "</style>\n",
       "<table border=\"1\" class=\"dataframe\">\n",
       "  <thead>\n",
       "    <tr style=\"text-align: right;\">\n",
       "      <th></th>\n",
       "      <th></th>\n",
       "      <th>58PDI1202.PV</th>\n",
       "      <th>58TI3246.PV</th>\n",
       "      <th>58PIC3226A.PV</th>\n",
       "      <th>58HIC3225.MV</th>\n",
       "      <th>58ZI3225.PV</th>\n",
       "      <th>58PI3239.PV</th>\n",
       "      <th>58TI3230.PV</th>\n",
       "      <th>58TI3231.PV</th>\n",
       "      <th>58PI3209.PV</th>\n",
       "      <th>58TI3208.PV</th>\n",
       "      <th>...</th>\n",
       "      <th>58VI3118B.PV</th>\n",
       "      <th>58TI3113.PV</th>\n",
       "      <th>58VI3233A.PV</th>\n",
       "      <th>58VI3233B.PV</th>\n",
       "      <th>58TI3232.PV</th>\n",
       "      <th>58TI3234.PV</th>\n",
       "      <th>58TI3414.PV</th>\n",
       "      <th>58PI3314.PV</th>\n",
       "      <th>58PI3107.PV</th>\n",
       "      <th>58LI3403.PV</th>\n",
       "    </tr>\n",
       "    <tr>\n",
       "      <th>Date</th>\n",
       "      <th>Time</th>\n",
       "      <th></th>\n",
       "      <th></th>\n",
       "      <th></th>\n",
       "      <th></th>\n",
       "      <th></th>\n",
       "      <th></th>\n",
       "      <th></th>\n",
       "      <th></th>\n",
       "      <th></th>\n",
       "      <th></th>\n",
       "      <th></th>\n",
       "      <th></th>\n",
       "      <th></th>\n",
       "      <th></th>\n",
       "      <th></th>\n",
       "      <th></th>\n",
       "      <th></th>\n",
       "      <th></th>\n",
       "      <th></th>\n",
       "      <th></th>\n",
       "      <th></th>\n",
       "    </tr>\n",
       "  </thead>\n",
       "  <tbody>\n",
       "    <tr>\n",
       "      <th>2018-08-16 00:00:00</th>\n",
       "      <th>00:00:00</th>\n",
       "      <td>0.485438</td>\n",
       "      <td>13.704390</td>\n",
       "      <td>759.735596</td>\n",
       "      <td>82.490387</td>\n",
       "      <td>82.814613</td>\n",
       "      <td>168.270096</td>\n",
       "      <td>127.014091</td>\n",
       "      <td>22.268492</td>\n",
       "      <td>349.978271</td>\n",
       "      <td>85.172089</td>\n",
       "      <td>...</td>\n",
       "      <td>23.487450</td>\n",
       "      <td>76.504044</td>\n",
       "      <td>41.856094</td>\n",
       "      <td>33.768810</td>\n",
       "      <td>70.640869</td>\n",
       "      <td>74.101479</td>\n",
       "      <td>46.227104</td>\n",
       "      <td>308.491455</td>\n",
       "      <td>1386.177490</td>\n",
       "      <td>96.028496</td>\n",
       "    </tr>\n",
       "    <tr>\n",
       "      <th>2018-08-16 01:00:00</th>\n",
       "      <th>01:00:00</th>\n",
       "      <td>0.486443</td>\n",
       "      <td>14.682747</td>\n",
       "      <td>758.939575</td>\n",
       "      <td>84.825310</td>\n",
       "      <td>85.061035</td>\n",
       "      <td>168.685211</td>\n",
       "      <td>128.635193</td>\n",
       "      <td>22.674412</td>\n",
       "      <td>350.204132</td>\n",
       "      <td>85.504578</td>\n",
       "      <td>...</td>\n",
       "      <td>23.633106</td>\n",
       "      <td>76.478264</td>\n",
       "      <td>41.984322</td>\n",
       "      <td>33.921059</td>\n",
       "      <td>70.738480</td>\n",
       "      <td>74.173584</td>\n",
       "      <td>46.416500</td>\n",
       "      <td>307.626678</td>\n",
       "      <td>1383.323853</td>\n",
       "      <td>96.039764</td>\n",
       "    </tr>\n",
       "    <tr>\n",
       "      <th>2018-08-16 02:00:00</th>\n",
       "      <th>02:00:00</th>\n",
       "      <td>0.496587</td>\n",
       "      <td>14.022818</td>\n",
       "      <td>761.087402</td>\n",
       "      <td>84.914108</td>\n",
       "      <td>85.217781</td>\n",
       "      <td>169.251389</td>\n",
       "      <td>128.156845</td>\n",
       "      <td>22.561634</td>\n",
       "      <td>351.214966</td>\n",
       "      <td>85.411736</td>\n",
       "      <td>...</td>\n",
       "      <td>23.810165</td>\n",
       "      <td>76.530525</td>\n",
       "      <td>41.715927</td>\n",
       "      <td>34.148010</td>\n",
       "      <td>70.738480</td>\n",
       "      <td>74.236641</td>\n",
       "      <td>46.504772</td>\n",
       "      <td>307.028870</td>\n",
       "      <td>1381.364014</td>\n",
       "      <td>96.113159</td>\n",
       "    </tr>\n",
       "    <tr>\n",
       "      <th>2018-08-16 03:00:00</th>\n",
       "      <th>03:00:00</th>\n",
       "      <td>0.532740</td>\n",
       "      <td>13.443664</td>\n",
       "      <td>759.993347</td>\n",
       "      <td>83.618591</td>\n",
       "      <td>83.950287</td>\n",
       "      <td>168.628265</td>\n",
       "      <td>127.136993</td>\n",
       "      <td>22.304523</td>\n",
       "      <td>350.304291</td>\n",
       "      <td>85.164139</td>\n",
       "      <td>...</td>\n",
       "      <td>23.006880</td>\n",
       "      <td>76.759766</td>\n",
       "      <td>42.757172</td>\n",
       "      <td>33.967159</td>\n",
       "      <td>70.592285</td>\n",
       "      <td>74.064438</td>\n",
       "      <td>46.162468</td>\n",
       "      <td>308.572327</td>\n",
       "      <td>1385.243042</td>\n",
       "      <td>95.938889</td>\n",
       "    </tr>\n",
       "    <tr>\n",
       "      <th>2018-08-16 04:00:00</th>\n",
       "      <th>04:00:00</th>\n",
       "      <td>0.584378</td>\n",
       "      <td>12.676052</td>\n",
       "      <td>760.262573</td>\n",
       "      <td>82.454002</td>\n",
       "      <td>82.755478</td>\n",
       "      <td>168.529510</td>\n",
       "      <td>126.012871</td>\n",
       "      <td>22.126286</td>\n",
       "      <td>350.265015</td>\n",
       "      <td>84.979736</td>\n",
       "      <td>...</td>\n",
       "      <td>22.874638</td>\n",
       "      <td>77.681564</td>\n",
       "      <td>43.185646</td>\n",
       "      <td>35.361031</td>\n",
       "      <td>70.485199</td>\n",
       "      <td>73.977112</td>\n",
       "      <td>45.805019</td>\n",
       "      <td>310.387726</td>\n",
       "      <td>1389.648071</td>\n",
       "      <td>95.648880</td>\n",
       "    </tr>\n",
       "  </tbody>\n",
       "</table>\n",
       "<p>5 rows × 109 columns</p>\n",
       "</div>"
      ],
      "text/plain": [
       "                              58PDI1202.PV  58TI3246.PV  58PIC3226A.PV  \\\n",
       "Date                Time                                                 \n",
       "2018-08-16 00:00:00 00:00:00      0.485438    13.704390     759.735596   \n",
       "2018-08-16 01:00:00 01:00:00      0.486443    14.682747     758.939575   \n",
       "2018-08-16 02:00:00 02:00:00      0.496587    14.022818     761.087402   \n",
       "2018-08-16 03:00:00 03:00:00      0.532740    13.443664     759.993347   \n",
       "2018-08-16 04:00:00 04:00:00      0.584378    12.676052     760.262573   \n",
       "\n",
       "                              58HIC3225.MV  58ZI3225.PV  58PI3239.PV  \\\n",
       "Date                Time                                               \n",
       "2018-08-16 00:00:00 00:00:00     82.490387    82.814613   168.270096   \n",
       "2018-08-16 01:00:00 01:00:00     84.825310    85.061035   168.685211   \n",
       "2018-08-16 02:00:00 02:00:00     84.914108    85.217781   169.251389   \n",
       "2018-08-16 03:00:00 03:00:00     83.618591    83.950287   168.628265   \n",
       "2018-08-16 04:00:00 04:00:00     82.454002    82.755478   168.529510   \n",
       "\n",
       "                              58TI3230.PV  58TI3231.PV  58PI3209.PV  \\\n",
       "Date                Time                                              \n",
       "2018-08-16 00:00:00 00:00:00   127.014091    22.268492   349.978271   \n",
       "2018-08-16 01:00:00 01:00:00   128.635193    22.674412   350.204132   \n",
       "2018-08-16 02:00:00 02:00:00   128.156845    22.561634   351.214966   \n",
       "2018-08-16 03:00:00 03:00:00   127.136993    22.304523   350.304291   \n",
       "2018-08-16 04:00:00 04:00:00   126.012871    22.126286   350.265015   \n",
       "\n",
       "                              58TI3208.PV  ...  58VI3118B.PV  58TI3113.PV  \\\n",
       "Date                Time                   ...                              \n",
       "2018-08-16 00:00:00 00:00:00    85.172089  ...     23.487450    76.504044   \n",
       "2018-08-16 01:00:00 01:00:00    85.504578  ...     23.633106    76.478264   \n",
       "2018-08-16 02:00:00 02:00:00    85.411736  ...     23.810165    76.530525   \n",
       "2018-08-16 03:00:00 03:00:00    85.164139  ...     23.006880    76.759766   \n",
       "2018-08-16 04:00:00 04:00:00    84.979736  ...     22.874638    77.681564   \n",
       "\n",
       "                              58VI3233A.PV  58VI3233B.PV  58TI3232.PV  \\\n",
       "Date                Time                                                \n",
       "2018-08-16 00:00:00 00:00:00     41.856094     33.768810    70.640869   \n",
       "2018-08-16 01:00:00 01:00:00     41.984322     33.921059    70.738480   \n",
       "2018-08-16 02:00:00 02:00:00     41.715927     34.148010    70.738480   \n",
       "2018-08-16 03:00:00 03:00:00     42.757172     33.967159    70.592285   \n",
       "2018-08-16 04:00:00 04:00:00     43.185646     35.361031    70.485199   \n",
       "\n",
       "                              58TI3234.PV  58TI3414.PV  58PI3314.PV  \\\n",
       "Date                Time                                              \n",
       "2018-08-16 00:00:00 00:00:00    74.101479    46.227104   308.491455   \n",
       "2018-08-16 01:00:00 01:00:00    74.173584    46.416500   307.626678   \n",
       "2018-08-16 02:00:00 02:00:00    74.236641    46.504772   307.028870   \n",
       "2018-08-16 03:00:00 03:00:00    74.064438    46.162468   308.572327   \n",
       "2018-08-16 04:00:00 04:00:00    73.977112    45.805019   310.387726   \n",
       "\n",
       "                              58PI3107.PV  58LI3403.PV  \n",
       "Date                Time                                \n",
       "2018-08-16 00:00:00 00:00:00  1386.177490    96.028496  \n",
       "2018-08-16 01:00:00 01:00:00  1383.323853    96.039764  \n",
       "2018-08-16 02:00:00 02:00:00  1381.364014    96.113159  \n",
       "2018-08-16 03:00:00 03:00:00  1385.243042    95.938889  \n",
       "2018-08-16 04:00:00 04:00:00  1389.648071    95.648880  \n",
       "\n",
       "[5 rows x 109 columns]"
      ]
     },
     "execution_count": 10,
     "metadata": {},
     "output_type": "execute_result"
    }
   ],
   "source": [
    "df = pd.read_excel('Book1.xlsx', index_col= [0,1])\n",
    "df.head()"
   ]
  },
  {
   "cell_type": "code",
   "execution_count": 6,
   "metadata": {},
   "outputs": [],
   "source": [
    "from sklearn.datasets import load_iris\n",
    "data = load_iris"
   ]
  },
  {
   "cell_type": "code",
   "execution_count": 11,
   "metadata": {},
   "outputs": [
    {
     "data": {
      "text/html": [
       "<div>\n",
       "<style scoped>\n",
       "    .dataframe tbody tr th:only-of-type {\n",
       "        vertical-align: middle;\n",
       "    }\n",
       "\n",
       "    .dataframe tbody tr th {\n",
       "        vertical-align: top;\n",
       "    }\n",
       "\n",
       "    .dataframe thead th {\n",
       "        text-align: right;\n",
       "    }\n",
       "</style>\n",
       "<table border=\"1\" class=\"dataframe\">\n",
       "  <thead>\n",
       "    <tr style=\"text-align: right;\">\n",
       "      <th></th>\n",
       "      <th></th>\n",
       "      <th>58PDI1202.PV</th>\n",
       "      <th>58TI3246.PV</th>\n",
       "      <th>58PIC3226A.PV</th>\n",
       "      <th>58HIC3225.MV</th>\n",
       "      <th>58ZI3225.PV</th>\n",
       "      <th>58PI3239.PV</th>\n",
       "      <th>58TI3230.PV</th>\n",
       "      <th>58TI3231.PV</th>\n",
       "      <th>58PI3209.PV</th>\n",
       "      <th>58TI3208.PV</th>\n",
       "      <th>...</th>\n",
       "      <th>58VI3118B.PV</th>\n",
       "      <th>58TI3113.PV</th>\n",
       "      <th>58VI3233A.PV</th>\n",
       "      <th>58VI3233B.PV</th>\n",
       "      <th>58TI3232.PV</th>\n",
       "      <th>58TI3234.PV</th>\n",
       "      <th>58TI3414.PV</th>\n",
       "      <th>58PI3314.PV</th>\n",
       "      <th>58PI3107.PV</th>\n",
       "      <th>58LI3403.PV</th>\n",
       "    </tr>\n",
       "    <tr>\n",
       "      <th>Date</th>\n",
       "      <th>Time</th>\n",
       "      <th></th>\n",
       "      <th></th>\n",
       "      <th></th>\n",
       "      <th></th>\n",
       "      <th></th>\n",
       "      <th></th>\n",
       "      <th></th>\n",
       "      <th></th>\n",
       "      <th></th>\n",
       "      <th></th>\n",
       "      <th></th>\n",
       "      <th></th>\n",
       "      <th></th>\n",
       "      <th></th>\n",
       "      <th></th>\n",
       "      <th></th>\n",
       "      <th></th>\n",
       "      <th></th>\n",
       "      <th></th>\n",
       "      <th></th>\n",
       "      <th></th>\n",
       "    </tr>\n",
       "  </thead>\n",
       "  <tbody>\n",
       "    <tr>\n",
       "      <th>2018-08-16 00:00:00</th>\n",
       "      <th>00:00:00</th>\n",
       "      <td>0.485438</td>\n",
       "      <td>13.704390</td>\n",
       "      <td>759.735596</td>\n",
       "      <td>82.490387</td>\n",
       "      <td>82.814613</td>\n",
       "      <td>168.270096</td>\n",
       "      <td>127.014091</td>\n",
       "      <td>22.268492</td>\n",
       "      <td>349.978271</td>\n",
       "      <td>85.172089</td>\n",
       "      <td>...</td>\n",
       "      <td>23.487450</td>\n",
       "      <td>76.504044</td>\n",
       "      <td>41.856094</td>\n",
       "      <td>33.768810</td>\n",
       "      <td>70.640869</td>\n",
       "      <td>74.101479</td>\n",
       "      <td>46.227104</td>\n",
       "      <td>308.491455</td>\n",
       "      <td>1386.177490</td>\n",
       "      <td>96.028496</td>\n",
       "    </tr>\n",
       "    <tr>\n",
       "      <th>2018-08-16 01:00:00</th>\n",
       "      <th>01:00:00</th>\n",
       "      <td>0.486443</td>\n",
       "      <td>14.682747</td>\n",
       "      <td>758.939575</td>\n",
       "      <td>84.825310</td>\n",
       "      <td>85.061035</td>\n",
       "      <td>168.685211</td>\n",
       "      <td>128.635193</td>\n",
       "      <td>22.674412</td>\n",
       "      <td>350.204132</td>\n",
       "      <td>85.504578</td>\n",
       "      <td>...</td>\n",
       "      <td>23.633106</td>\n",
       "      <td>76.478264</td>\n",
       "      <td>41.984322</td>\n",
       "      <td>33.921059</td>\n",
       "      <td>70.738480</td>\n",
       "      <td>74.173584</td>\n",
       "      <td>46.416500</td>\n",
       "      <td>307.626678</td>\n",
       "      <td>1383.323853</td>\n",
       "      <td>96.039764</td>\n",
       "    </tr>\n",
       "    <tr>\n",
       "      <th>2018-08-16 02:00:00</th>\n",
       "      <th>02:00:00</th>\n",
       "      <td>0.496587</td>\n",
       "      <td>14.022818</td>\n",
       "      <td>761.087402</td>\n",
       "      <td>84.914108</td>\n",
       "      <td>85.217781</td>\n",
       "      <td>169.251389</td>\n",
       "      <td>128.156845</td>\n",
       "      <td>22.561634</td>\n",
       "      <td>351.214966</td>\n",
       "      <td>85.411736</td>\n",
       "      <td>...</td>\n",
       "      <td>23.810165</td>\n",
       "      <td>76.530525</td>\n",
       "      <td>41.715927</td>\n",
       "      <td>34.148010</td>\n",
       "      <td>70.738480</td>\n",
       "      <td>74.236641</td>\n",
       "      <td>46.504772</td>\n",
       "      <td>307.028870</td>\n",
       "      <td>1381.364014</td>\n",
       "      <td>96.113159</td>\n",
       "    </tr>\n",
       "    <tr>\n",
       "      <th>2018-08-16 03:00:00</th>\n",
       "      <th>03:00:00</th>\n",
       "      <td>0.532740</td>\n",
       "      <td>13.443664</td>\n",
       "      <td>759.993347</td>\n",
       "      <td>83.618591</td>\n",
       "      <td>83.950287</td>\n",
       "      <td>168.628265</td>\n",
       "      <td>127.136993</td>\n",
       "      <td>22.304523</td>\n",
       "      <td>350.304291</td>\n",
       "      <td>85.164139</td>\n",
       "      <td>...</td>\n",
       "      <td>23.006880</td>\n",
       "      <td>76.759766</td>\n",
       "      <td>42.757172</td>\n",
       "      <td>33.967159</td>\n",
       "      <td>70.592285</td>\n",
       "      <td>74.064438</td>\n",
       "      <td>46.162468</td>\n",
       "      <td>308.572327</td>\n",
       "      <td>1385.243042</td>\n",
       "      <td>95.938889</td>\n",
       "    </tr>\n",
       "    <tr>\n",
       "      <th>2018-08-16 04:00:00</th>\n",
       "      <th>04:00:00</th>\n",
       "      <td>0.584378</td>\n",
       "      <td>12.676052</td>\n",
       "      <td>760.262573</td>\n",
       "      <td>82.454002</td>\n",
       "      <td>82.755478</td>\n",
       "      <td>168.529510</td>\n",
       "      <td>126.012871</td>\n",
       "      <td>22.126286</td>\n",
       "      <td>350.265015</td>\n",
       "      <td>84.979736</td>\n",
       "      <td>...</td>\n",
       "      <td>22.874638</td>\n",
       "      <td>77.681564</td>\n",
       "      <td>43.185646</td>\n",
       "      <td>35.361031</td>\n",
       "      <td>70.485199</td>\n",
       "      <td>73.977112</td>\n",
       "      <td>45.805019</td>\n",
       "      <td>310.387726</td>\n",
       "      <td>1389.648071</td>\n",
       "      <td>95.648880</td>\n",
       "    </tr>\n",
       "    <tr>\n",
       "      <th>...</th>\n",
       "      <th>...</th>\n",
       "      <td>...</td>\n",
       "      <td>...</td>\n",
       "      <td>...</td>\n",
       "      <td>...</td>\n",
       "      <td>...</td>\n",
       "      <td>...</td>\n",
       "      <td>...</td>\n",
       "      <td>...</td>\n",
       "      <td>...</td>\n",
       "      <td>...</td>\n",
       "      <td>...</td>\n",
       "      <td>...</td>\n",
       "      <td>...</td>\n",
       "      <td>...</td>\n",
       "      <td>...</td>\n",
       "      <td>...</td>\n",
       "      <td>...</td>\n",
       "      <td>...</td>\n",
       "      <td>...</td>\n",
       "      <td>...</td>\n",
       "      <td>...</td>\n",
       "    </tr>\n",
       "    <tr>\n",
       "      <th>2018-08-24 01:00:00</th>\n",
       "      <th>01:00:00</th>\n",
       "      <td>0.473993</td>\n",
       "      <td>11.786310</td>\n",
       "      <td>760.520081</td>\n",
       "      <td>77.178696</td>\n",
       "      <td>77.820496</td>\n",
       "      <td>166.596039</td>\n",
       "      <td>123.442291</td>\n",
       "      <td>20.819235</td>\n",
       "      <td>348.574005</td>\n",
       "      <td>83.701340</td>\n",
       "      <td>...</td>\n",
       "      <td>22.990658</td>\n",
       "      <td>77.625931</td>\n",
       "      <td>40.363670</td>\n",
       "      <td>33.927650</td>\n",
       "      <td>70.351501</td>\n",
       "      <td>73.794785</td>\n",
       "      <td>45.797623</td>\n",
       "      <td>309.746033</td>\n",
       "      <td>1388.534424</td>\n",
       "      <td>95.493912</td>\n",
       "    </tr>\n",
       "    <tr>\n",
       "      <th>2018-08-24 02:00:00</th>\n",
       "      <th>02:00:00</th>\n",
       "      <td>0.467463</td>\n",
       "      <td>11.900259</td>\n",
       "      <td>760.181030</td>\n",
       "      <td>77.017929</td>\n",
       "      <td>77.817200</td>\n",
       "      <td>166.178986</td>\n",
       "      <td>123.550011</td>\n",
       "      <td>20.495556</td>\n",
       "      <td>348.061554</td>\n",
       "      <td>83.390305</td>\n",
       "      <td>...</td>\n",
       "      <td>22.288027</td>\n",
       "      <td>78.207901</td>\n",
       "      <td>41.000538</td>\n",
       "      <td>33.817520</td>\n",
       "      <td>70.213913</td>\n",
       "      <td>73.605209</td>\n",
       "      <td>45.528351</td>\n",
       "      <td>310.769257</td>\n",
       "      <td>1390.792725</td>\n",
       "      <td>95.407166</td>\n",
       "    </tr>\n",
       "    <tr>\n",
       "      <th>2018-08-24 03:00:00</th>\n",
       "      <th>03:00:00</th>\n",
       "      <td>0.464840</td>\n",
       "      <td>11.657276</td>\n",
       "      <td>760.728271</td>\n",
       "      <td>76.772148</td>\n",
       "      <td>77.409386</td>\n",
       "      <td>166.037354</td>\n",
       "      <td>123.248230</td>\n",
       "      <td>20.243111</td>\n",
       "      <td>348.021545</td>\n",
       "      <td>83.107590</td>\n",
       "      <td>...</td>\n",
       "      <td>21.714409</td>\n",
       "      <td>78.645752</td>\n",
       "      <td>42.541042</td>\n",
       "      <td>33.271301</td>\n",
       "      <td>70.082870</td>\n",
       "      <td>73.389854</td>\n",
       "      <td>45.104935</td>\n",
       "      <td>312.714050</td>\n",
       "      <td>1395.204346</td>\n",
       "      <td>95.123466</td>\n",
       "    </tr>\n",
       "    <tr>\n",
       "      <th>2018-08-24 04:00:00</th>\n",
       "      <th>04:00:00</th>\n",
       "      <td>0.467145</td>\n",
       "      <td>11.132824</td>\n",
       "      <td>760.498901</td>\n",
       "      <td>75.521309</td>\n",
       "      <td>76.357529</td>\n",
       "      <td>165.655212</td>\n",
       "      <td>122.510582</td>\n",
       "      <td>19.950104</td>\n",
       "      <td>347.567444</td>\n",
       "      <td>82.829147</td>\n",
       "      <td>...</td>\n",
       "      <td>22.560356</td>\n",
       "      <td>78.643066</td>\n",
       "      <td>43.564651</td>\n",
       "      <td>32.213875</td>\n",
       "      <td>70.060699</td>\n",
       "      <td>73.233437</td>\n",
       "      <td>44.747948</td>\n",
       "      <td>314.445190</td>\n",
       "      <td>1399.405029</td>\n",
       "      <td>94.838837</td>\n",
       "    </tr>\n",
       "    <tr>\n",
       "      <th>2018-08-24 05:00:00</th>\n",
       "      <th>05:00:00</th>\n",
       "      <td>0.468127</td>\n",
       "      <td>10.911824</td>\n",
       "      <td>760.193115</td>\n",
       "      <td>75.030769</td>\n",
       "      <td>75.882812</td>\n",
       "      <td>165.509659</td>\n",
       "      <td>122.077087</td>\n",
       "      <td>19.870119</td>\n",
       "      <td>347.370697</td>\n",
       "      <td>82.747231</td>\n",
       "      <td>...</td>\n",
       "      <td>22.755892</td>\n",
       "      <td>78.610199</td>\n",
       "      <td>43.956718</td>\n",
       "      <td>31.639442</td>\n",
       "      <td>70.037277</td>\n",
       "      <td>73.157028</td>\n",
       "      <td>44.601780</td>\n",
       "      <td>315.065063</td>\n",
       "      <td>1401.377930</td>\n",
       "      <td>94.677277</td>\n",
       "    </tr>\n",
       "  </tbody>\n",
       "</table>\n",
       "<p>192 rows × 109 columns</p>\n",
       "</div>"
      ],
      "text/plain": [
       "                              58PDI1202.PV  58TI3246.PV  58PIC3226A.PV  \\\n",
       "Date                Time                                                 \n",
       "2018-08-16 00:00:00 00:00:00      0.485438    13.704390     759.735596   \n",
       "2018-08-16 01:00:00 01:00:00      0.486443    14.682747     758.939575   \n",
       "2018-08-16 02:00:00 02:00:00      0.496587    14.022818     761.087402   \n",
       "2018-08-16 03:00:00 03:00:00      0.532740    13.443664     759.993347   \n",
       "2018-08-16 04:00:00 04:00:00      0.584378    12.676052     760.262573   \n",
       "...                                    ...          ...            ...   \n",
       "2018-08-24 01:00:00 01:00:00      0.473993    11.786310     760.520081   \n",
       "2018-08-24 02:00:00 02:00:00      0.467463    11.900259     760.181030   \n",
       "2018-08-24 03:00:00 03:00:00      0.464840    11.657276     760.728271   \n",
       "2018-08-24 04:00:00 04:00:00      0.467145    11.132824     760.498901   \n",
       "2018-08-24 05:00:00 05:00:00      0.468127    10.911824     760.193115   \n",
       "\n",
       "                              58HIC3225.MV  58ZI3225.PV  58PI3239.PV  \\\n",
       "Date                Time                                               \n",
       "2018-08-16 00:00:00 00:00:00     82.490387    82.814613   168.270096   \n",
       "2018-08-16 01:00:00 01:00:00     84.825310    85.061035   168.685211   \n",
       "2018-08-16 02:00:00 02:00:00     84.914108    85.217781   169.251389   \n",
       "2018-08-16 03:00:00 03:00:00     83.618591    83.950287   168.628265   \n",
       "2018-08-16 04:00:00 04:00:00     82.454002    82.755478   168.529510   \n",
       "...                                    ...          ...          ...   \n",
       "2018-08-24 01:00:00 01:00:00     77.178696    77.820496   166.596039   \n",
       "2018-08-24 02:00:00 02:00:00     77.017929    77.817200   166.178986   \n",
       "2018-08-24 03:00:00 03:00:00     76.772148    77.409386   166.037354   \n",
       "2018-08-24 04:00:00 04:00:00     75.521309    76.357529   165.655212   \n",
       "2018-08-24 05:00:00 05:00:00     75.030769    75.882812   165.509659   \n",
       "\n",
       "                              58TI3230.PV  58TI3231.PV  58PI3209.PV  \\\n",
       "Date                Time                                              \n",
       "2018-08-16 00:00:00 00:00:00   127.014091    22.268492   349.978271   \n",
       "2018-08-16 01:00:00 01:00:00   128.635193    22.674412   350.204132   \n",
       "2018-08-16 02:00:00 02:00:00   128.156845    22.561634   351.214966   \n",
       "2018-08-16 03:00:00 03:00:00   127.136993    22.304523   350.304291   \n",
       "2018-08-16 04:00:00 04:00:00   126.012871    22.126286   350.265015   \n",
       "...                                   ...          ...          ...   \n",
       "2018-08-24 01:00:00 01:00:00   123.442291    20.819235   348.574005   \n",
       "2018-08-24 02:00:00 02:00:00   123.550011    20.495556   348.061554   \n",
       "2018-08-24 03:00:00 03:00:00   123.248230    20.243111   348.021545   \n",
       "2018-08-24 04:00:00 04:00:00   122.510582    19.950104   347.567444   \n",
       "2018-08-24 05:00:00 05:00:00   122.077087    19.870119   347.370697   \n",
       "\n",
       "                              58TI3208.PV  ...  58VI3118B.PV  58TI3113.PV  \\\n",
       "Date                Time                   ...                              \n",
       "2018-08-16 00:00:00 00:00:00    85.172089  ...     23.487450    76.504044   \n",
       "2018-08-16 01:00:00 01:00:00    85.504578  ...     23.633106    76.478264   \n",
       "2018-08-16 02:00:00 02:00:00    85.411736  ...     23.810165    76.530525   \n",
       "2018-08-16 03:00:00 03:00:00    85.164139  ...     23.006880    76.759766   \n",
       "2018-08-16 04:00:00 04:00:00    84.979736  ...     22.874638    77.681564   \n",
       "...                                   ...  ...           ...          ...   \n",
       "2018-08-24 01:00:00 01:00:00    83.701340  ...     22.990658    77.625931   \n",
       "2018-08-24 02:00:00 02:00:00    83.390305  ...     22.288027    78.207901   \n",
       "2018-08-24 03:00:00 03:00:00    83.107590  ...     21.714409    78.645752   \n",
       "2018-08-24 04:00:00 04:00:00    82.829147  ...     22.560356    78.643066   \n",
       "2018-08-24 05:00:00 05:00:00    82.747231  ...     22.755892    78.610199   \n",
       "\n",
       "                              58VI3233A.PV  58VI3233B.PV  58TI3232.PV  \\\n",
       "Date                Time                                                \n",
       "2018-08-16 00:00:00 00:00:00     41.856094     33.768810    70.640869   \n",
       "2018-08-16 01:00:00 01:00:00     41.984322     33.921059    70.738480   \n",
       "2018-08-16 02:00:00 02:00:00     41.715927     34.148010    70.738480   \n",
       "2018-08-16 03:00:00 03:00:00     42.757172     33.967159    70.592285   \n",
       "2018-08-16 04:00:00 04:00:00     43.185646     35.361031    70.485199   \n",
       "...                                    ...           ...          ...   \n",
       "2018-08-24 01:00:00 01:00:00     40.363670     33.927650    70.351501   \n",
       "2018-08-24 02:00:00 02:00:00     41.000538     33.817520    70.213913   \n",
       "2018-08-24 03:00:00 03:00:00     42.541042     33.271301    70.082870   \n",
       "2018-08-24 04:00:00 04:00:00     43.564651     32.213875    70.060699   \n",
       "2018-08-24 05:00:00 05:00:00     43.956718     31.639442    70.037277   \n",
       "\n",
       "                              58TI3234.PV  58TI3414.PV  58PI3314.PV  \\\n",
       "Date                Time                                              \n",
       "2018-08-16 00:00:00 00:00:00    74.101479    46.227104   308.491455   \n",
       "2018-08-16 01:00:00 01:00:00    74.173584    46.416500   307.626678   \n",
       "2018-08-16 02:00:00 02:00:00    74.236641    46.504772   307.028870   \n",
       "2018-08-16 03:00:00 03:00:00    74.064438    46.162468   308.572327   \n",
       "2018-08-16 04:00:00 04:00:00    73.977112    45.805019   310.387726   \n",
       "...                                   ...          ...          ...   \n",
       "2018-08-24 01:00:00 01:00:00    73.794785    45.797623   309.746033   \n",
       "2018-08-24 02:00:00 02:00:00    73.605209    45.528351   310.769257   \n",
       "2018-08-24 03:00:00 03:00:00    73.389854    45.104935   312.714050   \n",
       "2018-08-24 04:00:00 04:00:00    73.233437    44.747948   314.445190   \n",
       "2018-08-24 05:00:00 05:00:00    73.157028    44.601780   315.065063   \n",
       "\n",
       "                              58PI3107.PV  58LI3403.PV  \n",
       "Date                Time                                \n",
       "2018-08-16 00:00:00 00:00:00  1386.177490    96.028496  \n",
       "2018-08-16 01:00:00 01:00:00  1383.323853    96.039764  \n",
       "2018-08-16 02:00:00 02:00:00  1381.364014    96.113159  \n",
       "2018-08-16 03:00:00 03:00:00  1385.243042    95.938889  \n",
       "2018-08-16 04:00:00 04:00:00  1389.648071    95.648880  \n",
       "...                                   ...          ...  \n",
       "2018-08-24 01:00:00 01:00:00  1388.534424    95.493912  \n",
       "2018-08-24 02:00:00 02:00:00  1390.792725    95.407166  \n",
       "2018-08-24 03:00:00 03:00:00  1395.204346    95.123466  \n",
       "2018-08-24 04:00:00 04:00:00  1399.405029    94.838837  \n",
       "2018-08-24 05:00:00 05:00:00  1401.377930    94.677277  \n",
       "\n",
       "[192 rows x 109 columns]"
      ]
     },
     "execution_count": 11,
     "metadata": {},
     "output_type": "execute_result"
    }
   ],
   "source": [
    "df"
   ]
  },
  {
   "cell_type": "code",
   "execution_count": 12,
   "metadata": {},
   "outputs": [
    {
     "data": {
      "text/html": [
       "<div>\n",
       "<style scoped>\n",
       "    .dataframe tbody tr th:only-of-type {\n",
       "        vertical-align: middle;\n",
       "    }\n",
       "\n",
       "    .dataframe tbody tr th {\n",
       "        vertical-align: top;\n",
       "    }\n",
       "\n",
       "    .dataframe thead th {\n",
       "        text-align: right;\n",
       "    }\n",
       "</style>\n",
       "<table border=\"1\" class=\"dataframe\">\n",
       "  <thead>\n",
       "    <tr style=\"text-align: right;\">\n",
       "      <th></th>\n",
       "      <th>sepal_length</th>\n",
       "      <th>sepal_width</th>\n",
       "      <th>petal_length</th>\n",
       "      <th>petal_width</th>\n",
       "      <th>species</th>\n",
       "    </tr>\n",
       "  </thead>\n",
       "  <tbody>\n",
       "    <tr>\n",
       "      <th>0</th>\n",
       "      <td>5.1</td>\n",
       "      <td>3.5</td>\n",
       "      <td>1.4</td>\n",
       "      <td>0.2</td>\n",
       "      <td>setosa</td>\n",
       "    </tr>\n",
       "    <tr>\n",
       "      <th>1</th>\n",
       "      <td>4.9</td>\n",
       "      <td>3.0</td>\n",
       "      <td>1.4</td>\n",
       "      <td>0.2</td>\n",
       "      <td>setosa</td>\n",
       "    </tr>\n",
       "    <tr>\n",
       "      <th>2</th>\n",
       "      <td>4.7</td>\n",
       "      <td>3.2</td>\n",
       "      <td>1.3</td>\n",
       "      <td>0.2</td>\n",
       "      <td>setosa</td>\n",
       "    </tr>\n",
       "    <tr>\n",
       "      <th>3</th>\n",
       "      <td>4.6</td>\n",
       "      <td>3.1</td>\n",
       "      <td>1.5</td>\n",
       "      <td>0.2</td>\n",
       "      <td>setosa</td>\n",
       "    </tr>\n",
       "    <tr>\n",
       "      <th>4</th>\n",
       "      <td>5.0</td>\n",
       "      <td>3.6</td>\n",
       "      <td>1.4</td>\n",
       "      <td>0.2</td>\n",
       "      <td>setosa</td>\n",
       "    </tr>\n",
       "  </tbody>\n",
       "</table>\n",
       "</div>"
      ],
      "text/plain": [
       "   sepal_length  sepal_width  petal_length  petal_width species\n",
       "0           5.1          3.5           1.4          0.2  setosa\n",
       "1           4.9          3.0           1.4          0.2  setosa\n",
       "2           4.7          3.2           1.3          0.2  setosa\n",
       "3           4.6          3.1           1.5          0.2  setosa\n",
       "4           5.0          3.6           1.4          0.2  setosa"
      ]
     },
     "execution_count": 12,
     "metadata": {},
     "output_type": "execute_result"
    }
   ],
   "source": [
    "import seaborn as sns\n",
    "iris = sns.load_dataset('iris')\n",
    "iris.head()"
   ]
  },
  {
   "cell_type": "code",
   "execution_count": 18,
   "metadata": {},
   "outputs": [],
   "source": [
    "from sklearn.preprocessing import scale\n",
    "from sklearn import decomposition\n",
    "X = scale(df)"
   ]
  },
  {
   "cell_type": "code",
   "execution_count": 21,
   "metadata": {},
   "outputs": [
    {
     "data": {
      "text/html": [
       "<style>#sk-container-id-2 {color: black;background-color: white;}#sk-container-id-2 pre{padding: 0;}#sk-container-id-2 div.sk-toggleable {background-color: white;}#sk-container-id-2 label.sk-toggleable__label {cursor: pointer;display: block;width: 100%;margin-bottom: 0;padding: 0.3em;box-sizing: border-box;text-align: center;}#sk-container-id-2 label.sk-toggleable__label-arrow:before {content: \"▸\";float: left;margin-right: 0.25em;color: #696969;}#sk-container-id-2 label.sk-toggleable__label-arrow:hover:before {color: black;}#sk-container-id-2 div.sk-estimator:hover label.sk-toggleable__label-arrow:before {color: black;}#sk-container-id-2 div.sk-toggleable__content {max-height: 0;max-width: 0;overflow: hidden;text-align: left;background-color: #f0f8ff;}#sk-container-id-2 div.sk-toggleable__content pre {margin: 0.2em;color: black;border-radius: 0.25em;background-color: #f0f8ff;}#sk-container-id-2 input.sk-toggleable__control:checked~div.sk-toggleable__content {max-height: 200px;max-width: 100%;overflow: auto;}#sk-container-id-2 input.sk-toggleable__control:checked~label.sk-toggleable__label-arrow:before {content: \"▾\";}#sk-container-id-2 div.sk-estimator input.sk-toggleable__control:checked~label.sk-toggleable__label {background-color: #d4ebff;}#sk-container-id-2 div.sk-label input.sk-toggleable__control:checked~label.sk-toggleable__label {background-color: #d4ebff;}#sk-container-id-2 input.sk-hidden--visually {border: 0;clip: rect(1px 1px 1px 1px);clip: rect(1px, 1px, 1px, 1px);height: 1px;margin: -1px;overflow: hidden;padding: 0;position: absolute;width: 1px;}#sk-container-id-2 div.sk-estimator {font-family: monospace;background-color: #f0f8ff;border: 1px dotted black;border-radius: 0.25em;box-sizing: border-box;margin-bottom: 0.5em;}#sk-container-id-2 div.sk-estimator:hover {background-color: #d4ebff;}#sk-container-id-2 div.sk-parallel-item::after {content: \"\";width: 100%;border-bottom: 1px solid gray;flex-grow: 1;}#sk-container-id-2 div.sk-label:hover label.sk-toggleable__label {background-color: #d4ebff;}#sk-container-id-2 div.sk-serial::before {content: \"\";position: absolute;border-left: 1px solid gray;box-sizing: border-box;top: 0;bottom: 0;left: 50%;z-index: 0;}#sk-container-id-2 div.sk-serial {display: flex;flex-direction: column;align-items: center;background-color: white;padding-right: 0.2em;padding-left: 0.2em;position: relative;}#sk-container-id-2 div.sk-item {position: relative;z-index: 1;}#sk-container-id-2 div.sk-parallel {display: flex;align-items: stretch;justify-content: center;background-color: white;position: relative;}#sk-container-id-2 div.sk-item::before, #sk-container-id-2 div.sk-parallel-item::before {content: \"\";position: absolute;border-left: 1px solid gray;box-sizing: border-box;top: 0;bottom: 0;left: 50%;z-index: -1;}#sk-container-id-2 div.sk-parallel-item {display: flex;flex-direction: column;z-index: 1;position: relative;background-color: white;}#sk-container-id-2 div.sk-parallel-item:first-child::after {align-self: flex-end;width: 50%;}#sk-container-id-2 div.sk-parallel-item:last-child::after {align-self: flex-start;width: 50%;}#sk-container-id-2 div.sk-parallel-item:only-child::after {width: 0;}#sk-container-id-2 div.sk-dashed-wrapped {border: 1px dashed gray;margin: 0 0.4em 0.5em 0.4em;box-sizing: border-box;padding-bottom: 0.4em;background-color: white;}#sk-container-id-2 div.sk-label label {font-family: monospace;font-weight: bold;display: inline-block;line-height: 1.2em;}#sk-container-id-2 div.sk-label-container {text-align: center;}#sk-container-id-2 div.sk-container {/* jupyter's `normalize.less` sets `[hidden] { display: none; }` but bootstrap.min.css set `[hidden] { display: none !important; }` so we also need the `!important` here to be able to override the default hidden behavior on the sphinx rendered scikit-learn.org. See: https://github.com/scikit-learn/scikit-learn/issues/21755 */display: inline-block !important;position: relative;}#sk-container-id-2 div.sk-text-repr-fallback {display: none;}</style><div id=\"sk-container-id-2\" class=\"sk-top-container\"><div class=\"sk-text-repr-fallback\"><pre>PCA(n_components=3)</pre><b>In a Jupyter environment, please rerun this cell to show the HTML representation or trust the notebook. <br />On GitHub, the HTML representation is unable to render, please try loading this page with nbviewer.org.</b></div><div class=\"sk-container\" hidden><div class=\"sk-item\"><div class=\"sk-estimator sk-toggleable\"><input class=\"sk-toggleable__control sk-hidden--visually\" id=\"sk-estimator-id-2\" type=\"checkbox\" checked><label for=\"sk-estimator-id-2\" class=\"sk-toggleable__label sk-toggleable__label-arrow\">PCA</label><div class=\"sk-toggleable__content\"><pre>PCA(n_components=3)</pre></div></div></div></div></div>"
      ],
      "text/plain": [
       "PCA(n_components=3)"
      ]
     },
     "execution_count": 21,
     "metadata": {},
     "output_type": "execute_result"
    }
   ],
   "source": [
    "pca = decomposition.PCA(n_components=3)\n",
    "pca.fit(X)"
   ]
  },
  {
   "cell_type": "code",
   "execution_count": 25,
   "metadata": {},
   "outputs": [
    {
     "data": {
      "text/html": [
       "<div>\n",
       "<style scoped>\n",
       "    .dataframe tbody tr th:only-of-type {\n",
       "        vertical-align: middle;\n",
       "    }\n",
       "\n",
       "    .dataframe tbody tr th {\n",
       "        vertical-align: top;\n",
       "    }\n",
       "\n",
       "    .dataframe thead th {\n",
       "        text-align: right;\n",
       "    }\n",
       "</style>\n",
       "<table border=\"1\" class=\"dataframe\">\n",
       "  <thead>\n",
       "    <tr style=\"text-align: right;\">\n",
       "      <th></th>\n",
       "      <th>PC1</th>\n",
       "      <th>PC2</th>\n",
       "      <th>PC3</th>\n",
       "    </tr>\n",
       "  </thead>\n",
       "  <tbody>\n",
       "    <tr>\n",
       "      <th>0</th>\n",
       "      <td>-0.831807</td>\n",
       "      <td>-1.409666</td>\n",
       "      <td>-0.649151</td>\n",
       "    </tr>\n",
       "    <tr>\n",
       "      <th>1</th>\n",
       "      <td>1.308848</td>\n",
       "      <td>-1.202074</td>\n",
       "      <td>-1.124630</td>\n",
       "    </tr>\n",
       "    <tr>\n",
       "      <th>2</th>\n",
       "      <td>0.695631</td>\n",
       "      <td>-1.762999</td>\n",
       "      <td>-3.789233</td>\n",
       "    </tr>\n",
       "    <tr>\n",
       "      <th>3</th>\n",
       "      <td>-0.268076</td>\n",
       "      <td>-1.398477</td>\n",
       "      <td>-2.022174</td>\n",
       "    </tr>\n",
       "    <tr>\n",
       "      <th>4</th>\n",
       "      <td>-1.737866</td>\n",
       "      <td>-1.120452</td>\n",
       "      <td>-0.998125</td>\n",
       "    </tr>\n",
       "    <tr>\n",
       "      <th>...</th>\n",
       "      <td>...</td>\n",
       "      <td>...</td>\n",
       "      <td>...</td>\n",
       "    </tr>\n",
       "    <tr>\n",
       "      <th>187</th>\n",
       "      <td>-5.321524</td>\n",
       "      <td>-5.488164</td>\n",
       "      <td>-2.428397</td>\n",
       "    </tr>\n",
       "    <tr>\n",
       "      <th>188</th>\n",
       "      <td>-6.396318</td>\n",
       "      <td>-4.704834</td>\n",
       "      <td>-2.129935</td>\n",
       "    </tr>\n",
       "    <tr>\n",
       "      <th>189</th>\n",
       "      <td>-8.426948</td>\n",
       "      <td>-4.706928</td>\n",
       "      <td>-1.589742</td>\n",
       "    </tr>\n",
       "    <tr>\n",
       "      <th>190</th>\n",
       "      <td>-10.018027</td>\n",
       "      <td>-4.787396</td>\n",
       "      <td>0.061166</td>\n",
       "    </tr>\n",
       "    <tr>\n",
       "      <th>191</th>\n",
       "      <td>-10.849555</td>\n",
       "      <td>-4.727860</td>\n",
       "      <td>1.340361</td>\n",
       "    </tr>\n",
       "  </tbody>\n",
       "</table>\n",
       "<p>192 rows × 3 columns</p>\n",
       "</div>"
      ],
      "text/plain": [
       "           PC1       PC2       PC3\n",
       "0    -0.831807 -1.409666 -0.649151\n",
       "1     1.308848 -1.202074 -1.124630\n",
       "2     0.695631 -1.762999 -3.789233\n",
       "3    -0.268076 -1.398477 -2.022174\n",
       "4    -1.737866 -1.120452 -0.998125\n",
       "..         ...       ...       ...\n",
       "187  -5.321524 -5.488164 -2.428397\n",
       "188  -6.396318 -4.704834 -2.129935\n",
       "189  -8.426948 -4.706928 -1.589742\n",
       "190 -10.018027 -4.787396  0.061166\n",
       "191 -10.849555 -4.727860  1.340361\n",
       "\n",
       "[192 rows x 3 columns]"
      ]
     },
     "execution_count": 25,
     "metadata": {},
     "output_type": "execute_result"
    }
   ],
   "source": [
    "scores = pca.transform(X)\n",
    "scores_df = pd.DataFrame(scores,columns=['PC1','PC2','PC3'])\n",
    "scores_df"
   ]
  },
  {
   "cell_type": "code",
   "execution_count": 51,
   "metadata": {},
   "outputs": [
    {
     "data": {
      "text/html": [
       "<div>\n",
       "<style scoped>\n",
       "    .dataframe tbody tr th:only-of-type {\n",
       "        vertical-align: middle;\n",
       "    }\n",
       "\n",
       "    .dataframe tbody tr th {\n",
       "        vertical-align: top;\n",
       "    }\n",
       "\n",
       "    .dataframe thead th {\n",
       "        text-align: right;\n",
       "    }\n",
       "</style>\n",
       "<table border=\"1\" class=\"dataframe\">\n",
       "  <thead>\n",
       "    <tr style=\"text-align: right;\">\n",
       "      <th></th>\n",
       "      <th>PC1</th>\n",
       "      <th>PC2</th>\n",
       "      <th>PC3</th>\n",
       "    </tr>\n",
       "  </thead>\n",
       "  <tbody>\n",
       "    <tr>\n",
       "      <th>58TI3414.PV</th>\n",
       "      <td>0.132567</td>\n",
       "      <td>-0.008799</td>\n",
       "      <td>-0.033748</td>\n",
       "    </tr>\n",
       "    <tr>\n",
       "      <th>58TI3117.PV</th>\n",
       "      <td>0.132557</td>\n",
       "      <td>-0.013824</td>\n",
       "      <td>-0.015572</td>\n",
       "    </tr>\n",
       "    <tr>\n",
       "      <th>58TI3224.PV</th>\n",
       "      <td>0.132089</td>\n",
       "      <td>0.005279</td>\n",
       "      <td>-0.035718</td>\n",
       "    </tr>\n",
       "    <tr>\n",
       "      <th>58TI3211.PV</th>\n",
       "      <td>0.131885</td>\n",
       "      <td>0.013248</td>\n",
       "      <td>-0.048472</td>\n",
       "    </tr>\n",
       "    <tr>\n",
       "      <th>58TI3222.PV</th>\n",
       "      <td>0.131865</td>\n",
       "      <td>0.003477</td>\n",
       "      <td>-0.028778</td>\n",
       "    </tr>\n",
       "    <tr>\n",
       "      <th>...</th>\n",
       "      <td>...</td>\n",
       "      <td>...</td>\n",
       "      <td>...</td>\n",
       "    </tr>\n",
       "    <tr>\n",
       "      <th>58VI3203A.PV</th>\n",
       "      <td>-0.129657</td>\n",
       "      <td>0.014903</td>\n",
       "      <td>-0.022427</td>\n",
       "    </tr>\n",
       "    <tr>\n",
       "      <th>58VI3268A.PV</th>\n",
       "      <td>-0.131580</td>\n",
       "      <td>0.009735</td>\n",
       "      <td>0.025539</td>\n",
       "    </tr>\n",
       "    <tr>\n",
       "      <th>58VI3210B.PV</th>\n",
       "      <td>-0.131626</td>\n",
       "      <td>0.001642</td>\n",
       "      <td>0.020905</td>\n",
       "    </tr>\n",
       "    <tr>\n",
       "      <th>58VI3268B.PV</th>\n",
       "      <td>-0.132443</td>\n",
       "      <td>0.004710</td>\n",
       "      <td>0.030358</td>\n",
       "    </tr>\n",
       "    <tr>\n",
       "      <th>58VI3228A.PV</th>\n",
       "      <td>-0.132622</td>\n",
       "      <td>-0.001925</td>\n",
       "      <td>0.028098</td>\n",
       "    </tr>\n",
       "  </tbody>\n",
       "</table>\n",
       "<p>109 rows × 3 columns</p>\n",
       "</div>"
      ],
      "text/plain": [
       "                   PC1       PC2       PC3\n",
       "58TI3414.PV   0.132567 -0.008799 -0.033748\n",
       "58TI3117.PV   0.132557 -0.013824 -0.015572\n",
       "58TI3224.PV   0.132089  0.005279 -0.035718\n",
       "58TI3211.PV   0.131885  0.013248 -0.048472\n",
       "58TI3222.PV   0.131865  0.003477 -0.028778\n",
       "...                ...       ...       ...\n",
       "58VI3203A.PV -0.129657  0.014903 -0.022427\n",
       "58VI3268A.PV -0.131580  0.009735  0.025539\n",
       "58VI3210B.PV -0.131626  0.001642  0.020905\n",
       "58VI3268B.PV -0.132443  0.004710  0.030358\n",
       "58VI3228A.PV -0.132622 -0.001925  0.028098\n",
       "\n",
       "[109 rows x 3 columns]"
      ]
     },
     "execution_count": 51,
     "metadata": {},
     "output_type": "execute_result"
    }
   ],
   "source": [
    "loadings = pca.components_.T\n",
    "loadings.shape\n",
    "index = df.columns.to_list()\n",
    "len(index)\n",
    "df_loadings = pd.DataFrame(loadings,columns=['PC1','PC2','PC3'],index=index)\n",
    "df_loadings.sort_values(by = 'PC1',ascending=False)"
   ]
  },
  {
   "cell_type": "code",
   "execution_count": 44,
   "metadata": {},
   "outputs": [
    {
     "data": {
      "text/plain": [
       "array([0.51436954, 0.16670643, 0.06634926])"
      ]
     },
     "execution_count": 44,
     "metadata": {},
     "output_type": "execute_result"
    }
   ],
   "source": [
    "explained_var = pca.explained_variance_ratio_\n",
    "explained_var"
   ]
  },
  {
   "cell_type": "code",
   "execution_count": 62,
   "metadata": {},
   "outputs": [
    {
     "data": {
      "application/vnd.plotly.v1+json": {
       "config": {
        "plotlyServerURL": "https://plot.ly"
       },
       "data": [
        {
         "dimensions": [
          {
           "axis": {
            "matches": true
           },
           "label": "PC1",
           "values": [
            0.008821353993050274,
            0.12005225658754115,
            -0.05422087353916549,
            0.13166881699588573,
            0.13167086498987643,
            0.12497948339736387,
            0.12762666589479502,
            0.13139051286807796,
            0.11537250721016654,
            0.13165781218821465,
            0.13132966751831324,
            -0.05421612557452735,
            0.13126686955438144,
            0.054425728027060215,
            -0.12079208447924453,
            -0.10843396023032059,
            0.046460787021829084,
            -0.012459330891429693,
            0.031526334046569224,
            0.111654814542644,
            -0.04802257853683654,
            0.003019924442080038,
            -0.032669386040681286,
            0.11381223580615145,
            0.11616117167754578,
            0.10828786860998489,
            -0.054673905547414726,
            -0.029418286319834452,
            -0.08353424494787919,
            -0.07340337821067532,
            0.01238713952387451,
            -0.0841273159027902,
            -0.06141621798231358,
            -0.05090902807348965,
            -0.053470704154840516,
            -0.03463822208221063,
            0.018873858338139746,
            -0.09027010455779451,
            -0.025624457171803512,
            0.0062129705012774206,
            -0.06633365440180782,
            -0.01863466992200004,
            0.020859345327314694,
            0.043717575825416674,
            0.11432317725343212,
            0.11495625388607332,
            0.12032510045662546,
            0.01103296834260978,
            0,
            0.01604394353179924,
            0.009675264580570104,
            -0.021458258206931317,
            -0.0756681126276638,
            -0.05104509481318495,
            -0.029418286319834452,
            0.09427769659851677,
            -0.12837257389220594,
            0.1320887442631662,
            -0.10722060160558822,
            -0.12854520759379315,
            0.1312200862647014,
            -0.13158000881203663,
            -0.13244348849831653,
            -0.09159961760062127,
            -0.11749656398045952,
            -0.13162565455214414,
            0.10940751888422308,
            -0.13262180280174865,
            -0.12468071441491566,
            0.13186499957928363,
            -0.12965692776081214,
            -0.11130934224694285,
            0.13188542859240046,
            0.11417241101358507,
            -0.04845624089828855,
            0.06353317703190366,
            0.12513609436394105,
            -0.05427811023213793,
            -0.0914322681402893,
            0.12959617002798673,
            -0.129469955526281,
            -0.12737474724224185,
            -0.003780969571828427,
            -0.12205415266503104,
            0.05975687420003986,
            0.13177188577797025,
            0.09618751757189369,
            0.11169970644820294,
            0.1318466110346826,
            -0.029418286319834452,
            -0.0789936245460348,
            -0.0055604973237302294,
            0.132556868117253,
            0.1294823635757815,
            0.08776749520836875,
            0.08412142013495218,
            0.03167706200042544,
            -0.09863525446639482,
            0.032414573851596185,
            0.09503830854216888,
            -0.11440631949713338,
            0.08050680856515492,
            -0.06880727899972817,
            0.1263299262766102,
            0.125492984453579,
            0.1325665235644179,
            -0.1293311849608289,
            -0.12796044580016366,
            0.12869736910381316
           ]
          },
          {
           "axis": {
            "matches": true
           },
           "label": "PC2",
           "values": [
            -0.07131576968821367,
            0.04885910895556145,
            -0.07183738972061954,
            0.017879390905923498,
            0.016878263062339083,
            -0.03608367559766307,
            0.036023952098245035,
            -0.0295651202858202,
            -0.045893827717704214,
            -0.027612219579608164,
            -0.027655208813493273,
            -0.07183192165766826,
            -0.029622276552994518,
            0.0717787633243287,
            -0.009621654944358538,
            -0.00850893618604138,
            0.037895348215246955,
            0.031052382777799144,
            0.016662200139934465,
            -0.0008519593350467564,
            -0.054012411357164426,
            0.15878300840645734,
            -0.07358178185786234,
            -0.004423752821349933,
            0.0036673889820230177,
            0.0064491497803390386,
            -0.07899231572222737,
            0.012762212717409342,
            0.013673881750917698,
            0.046221400612611416,
            0.00380028421957896,
            0.010390497408027999,
            0.021471445967428397,
            -0.2018675162290633,
            -0.18893105339853258,
            -0.21708439593207357,
            -0.21414549326826512,
            0.10991928089298164,
            -0.22539279851990326,
            -0.22599739463715357,
            0.15772133885191703,
            -0.22821402614839237,
            -0.22603080282587337,
            -0.21320724264704474,
            -0.06582058555037629,
            -0.00039178500597253986,
            0.058162510676701994,
            0.22935705604017223,
            0,
            0.1945441900958456,
            0.226241965997503,
            -0.22787662472703743,
            -0.19039251557936485,
            -0.1634297857099215,
            0.012762212717409339,
            -0.06473110978697132,
            0.0039587092997856186,
            0.005278834758289825,
            0.03669374548831562,
            0.022619754775338508,
            -0.001508057996594127,
            0.009735013354316008,
            0.004710391742306765,
            -0.00583206060381094,
            -0.0017652182162944028,
            0.0016424363266028493,
            0.01006025172693046,
            -0.001925218273887544,
            0.039852365605731,
            0.0034766834399359904,
            0.01490303901368278,
            -0.013690538348002948,
            0.013247982883586798,
            -0.09289422649652793,
            0.13978609217078575,
            0.06895285289468128,
            -0.027913466390377763,
            -0.09802157650199038,
            -0.10051672259594444,
            -0.02033744456926708,
            -0.009050196580639078,
            0.010339942925550242,
            -0.22509412501305961,
            0.04096506653060006,
            0.026635322208155055,
            0.0023354611722636504,
            -0.07781008085989005,
            -0.0037390761703386343,
            0.006720840116987754,
            0.012762212717409339,
            -0.09986863553652993,
            -0.016419561063469233,
            -0.013824235847082726,
            -0.02641527023223452,
            -0.13825404647938336,
            0.02570989575199484,
            0.01917128536812893,
            -0.1549744279352574,
            -0.10163636888877765,
            -0.0680124623985146,
            0.001181680779424521,
            -0.021881817653132397,
            0.08044406936834429,
            -0.03795201460657171,
            -0.008889259401523403,
            -0.00879886710277535,
            -0.001963575407491845,
            -0.019219512624671947,
            0.018264473951994795
           ]
          },
          {
           "axis": {
            "matches": true
           },
           "label": "PC3",
           "values": [
            -0.017548334632435523,
            -0.024466712083971213,
            -0.2245819446100552,
            -0.022134239385200268,
            -0.021430348437226437,
            -0.04503602229394546,
            -0.019063876878906927,
            0.006855563778888629,
            -0.09848679194761412,
            0.006410884620755938,
            0.009346526271550018,
            -0.22459324141314543,
            0.0107140898095643,
            0.2245399285809732,
            0.0718556664321713,
            -0.1499230338695,
            -0.18350850678926534,
            -0.1155794505321267,
            0.006328013047560097,
            -0.019517638050967196,
            -0.2358537017146133,
            -0.19274974546229284,
            -0.20299324358085194,
            -0.027726721278900517,
            -0.057276758816155314,
            -0.04265343887514483,
            -0.025793306594881164,
            0.11916123262932264,
            -0.17693511243561313,
            -0.21298498782995426,
            0.024471753064257112,
            -0.17233736232904248,
            -0.20080319913375083,
            -0.10473277567783071,
            -0.1386748700185104,
            -0.04881580153625995,
            -0.06416921598693334,
            0.05729375088715198,
            -0.022333780852719896,
            -0.04837571596345091,
            0.0842571211697698,
            0.007051691670207253,
            0.02029855436687426,
            0.03759291577178623,
            0.056382868693580404,
            0.07483383435388974,
            -0.022374454699148186,
            -0.025841646168963603,
            0,
            -0.07919935222935472,
            -0.027343926131896294,
            0.004032708855720797,
            0.012367209296456806,
            -0.059546639062412365,
            0.11916123262932264,
            -0.07639422783596794,
            -0.012609954368950042,
            -0.03571810454303012,
            -0.05741537613229815,
            -0.023252456355303906,
            -0.02927999847369205,
            0.025539035804893452,
            0.03035793216027069,
            0.07833459630106877,
            0.017637234654628596,
            0.02090466630179272,
            0.000006871315065698477,
            0.028098024363968646,
            0.04685717092061177,
            -0.028778340115923107,
            -0.022427435042910608,
            -0.06290890965197482,
            -0.04847171816141564,
            0.010059149006608394,
            -0.16076438441629404,
            -0.05448544000810908,
            -0.04949440038662338,
            0.07826816228409936,
            0.06851805730581469,
            -0.03051432566978572,
            0.04847013099596667,
            0.030004520798974404,
            0.028958638763332687,
            0.0469675344309427,
            0.09837619448578179,
            -0.03579442144752176,
            -0.11771376973853682,
            -0.10168123374604805,
            -0.041856834769471433,
            0.11916123262932264,
            0.1453327426191006,
            0.18899365741349725,
            -0.015571566788656174,
            0.00591775274925158,
            0.05608321486196386,
            0.16783546305174316,
            0.17850990874848083,
            0.039330191892400904,
            0.19636793594102234,
            0.10977910135191514,
            0.08241476970624297,
            0.18474197798943096,
            -0.07416278886254768,
            0.03475560883358937,
            0.04830054755235559,
            -0.03374752135059339,
            0.07153594248666184,
            0.07693412688279246,
            -0.06727000707767465
           ]
          }
         ],
         "hovertemplate": "%{xaxis.title.text}=%{x}<br>%{yaxis.title.text}=%{y}<extra></extra>",
         "legendgroup": "",
         "marker": {
          "color": "#636efa",
          "symbol": "circle"
         },
         "name": "",
         "showlegend": false,
         "type": "splom"
        }
       ],
       "layout": {
        "dragmode": "select",
        "legend": {
         "tracegroupgap": 0
        },
        "margin": {
         "t": 60
        },
        "template": {
         "data": {
          "bar": [
           {
            "error_x": {
             "color": "#2a3f5f"
            },
            "error_y": {
             "color": "#2a3f5f"
            },
            "marker": {
             "line": {
              "color": "#E5ECF6",
              "width": 0.5
             },
             "pattern": {
              "fillmode": "overlay",
              "size": 10,
              "solidity": 0.2
             }
            },
            "type": "bar"
           }
          ],
          "barpolar": [
           {
            "marker": {
             "line": {
              "color": "#E5ECF6",
              "width": 0.5
             },
             "pattern": {
              "fillmode": "overlay",
              "size": 10,
              "solidity": 0.2
             }
            },
            "type": "barpolar"
           }
          ],
          "carpet": [
           {
            "aaxis": {
             "endlinecolor": "#2a3f5f",
             "gridcolor": "white",
             "linecolor": "white",
             "minorgridcolor": "white",
             "startlinecolor": "#2a3f5f"
            },
            "baxis": {
             "endlinecolor": "#2a3f5f",
             "gridcolor": "white",
             "linecolor": "white",
             "minorgridcolor": "white",
             "startlinecolor": "#2a3f5f"
            },
            "type": "carpet"
           }
          ],
          "choropleth": [
           {
            "colorbar": {
             "outlinewidth": 0,
             "ticks": ""
            },
            "type": "choropleth"
           }
          ],
          "contour": [
           {
            "colorbar": {
             "outlinewidth": 0,
             "ticks": ""
            },
            "colorscale": [
             [
              0,
              "#0d0887"
             ],
             [
              0.1111111111111111,
              "#46039f"
             ],
             [
              0.2222222222222222,
              "#7201a8"
             ],
             [
              0.3333333333333333,
              "#9c179e"
             ],
             [
              0.4444444444444444,
              "#bd3786"
             ],
             [
              0.5555555555555556,
              "#d8576b"
             ],
             [
              0.6666666666666666,
              "#ed7953"
             ],
             [
              0.7777777777777778,
              "#fb9f3a"
             ],
             [
              0.8888888888888888,
              "#fdca26"
             ],
             [
              1,
              "#f0f921"
             ]
            ],
            "type": "contour"
           }
          ],
          "contourcarpet": [
           {
            "colorbar": {
             "outlinewidth": 0,
             "ticks": ""
            },
            "type": "contourcarpet"
           }
          ],
          "heatmap": [
           {
            "colorbar": {
             "outlinewidth": 0,
             "ticks": ""
            },
            "colorscale": [
             [
              0,
              "#0d0887"
             ],
             [
              0.1111111111111111,
              "#46039f"
             ],
             [
              0.2222222222222222,
              "#7201a8"
             ],
             [
              0.3333333333333333,
              "#9c179e"
             ],
             [
              0.4444444444444444,
              "#bd3786"
             ],
             [
              0.5555555555555556,
              "#d8576b"
             ],
             [
              0.6666666666666666,
              "#ed7953"
             ],
             [
              0.7777777777777778,
              "#fb9f3a"
             ],
             [
              0.8888888888888888,
              "#fdca26"
             ],
             [
              1,
              "#f0f921"
             ]
            ],
            "type": "heatmap"
           }
          ],
          "heatmapgl": [
           {
            "colorbar": {
             "outlinewidth": 0,
             "ticks": ""
            },
            "colorscale": [
             [
              0,
              "#0d0887"
             ],
             [
              0.1111111111111111,
              "#46039f"
             ],
             [
              0.2222222222222222,
              "#7201a8"
             ],
             [
              0.3333333333333333,
              "#9c179e"
             ],
             [
              0.4444444444444444,
              "#bd3786"
             ],
             [
              0.5555555555555556,
              "#d8576b"
             ],
             [
              0.6666666666666666,
              "#ed7953"
             ],
             [
              0.7777777777777778,
              "#fb9f3a"
             ],
             [
              0.8888888888888888,
              "#fdca26"
             ],
             [
              1,
              "#f0f921"
             ]
            ],
            "type": "heatmapgl"
           }
          ],
          "histogram": [
           {
            "marker": {
             "pattern": {
              "fillmode": "overlay",
              "size": 10,
              "solidity": 0.2
             }
            },
            "type": "histogram"
           }
          ],
          "histogram2d": [
           {
            "colorbar": {
             "outlinewidth": 0,
             "ticks": ""
            },
            "colorscale": [
             [
              0,
              "#0d0887"
             ],
             [
              0.1111111111111111,
              "#46039f"
             ],
             [
              0.2222222222222222,
              "#7201a8"
             ],
             [
              0.3333333333333333,
              "#9c179e"
             ],
             [
              0.4444444444444444,
              "#bd3786"
             ],
             [
              0.5555555555555556,
              "#d8576b"
             ],
             [
              0.6666666666666666,
              "#ed7953"
             ],
             [
              0.7777777777777778,
              "#fb9f3a"
             ],
             [
              0.8888888888888888,
              "#fdca26"
             ],
             [
              1,
              "#f0f921"
             ]
            ],
            "type": "histogram2d"
           }
          ],
          "histogram2dcontour": [
           {
            "colorbar": {
             "outlinewidth": 0,
             "ticks": ""
            },
            "colorscale": [
             [
              0,
              "#0d0887"
             ],
             [
              0.1111111111111111,
              "#46039f"
             ],
             [
              0.2222222222222222,
              "#7201a8"
             ],
             [
              0.3333333333333333,
              "#9c179e"
             ],
             [
              0.4444444444444444,
              "#bd3786"
             ],
             [
              0.5555555555555556,
              "#d8576b"
             ],
             [
              0.6666666666666666,
              "#ed7953"
             ],
             [
              0.7777777777777778,
              "#fb9f3a"
             ],
             [
              0.8888888888888888,
              "#fdca26"
             ],
             [
              1,
              "#f0f921"
             ]
            ],
            "type": "histogram2dcontour"
           }
          ],
          "mesh3d": [
           {
            "colorbar": {
             "outlinewidth": 0,
             "ticks": ""
            },
            "type": "mesh3d"
           }
          ],
          "parcoords": [
           {
            "line": {
             "colorbar": {
              "outlinewidth": 0,
              "ticks": ""
             }
            },
            "type": "parcoords"
           }
          ],
          "pie": [
           {
            "automargin": true,
            "type": "pie"
           }
          ],
          "scatter": [
           {
            "fillpattern": {
             "fillmode": "overlay",
             "size": 10,
             "solidity": 0.2
            },
            "type": "scatter"
           }
          ],
          "scatter3d": [
           {
            "line": {
             "colorbar": {
              "outlinewidth": 0,
              "ticks": ""
             }
            },
            "marker": {
             "colorbar": {
              "outlinewidth": 0,
              "ticks": ""
             }
            },
            "type": "scatter3d"
           }
          ],
          "scattercarpet": [
           {
            "marker": {
             "colorbar": {
              "outlinewidth": 0,
              "ticks": ""
             }
            },
            "type": "scattercarpet"
           }
          ],
          "scattergeo": [
           {
            "marker": {
             "colorbar": {
              "outlinewidth": 0,
              "ticks": ""
             }
            },
            "type": "scattergeo"
           }
          ],
          "scattergl": [
           {
            "marker": {
             "colorbar": {
              "outlinewidth": 0,
              "ticks": ""
             }
            },
            "type": "scattergl"
           }
          ],
          "scattermapbox": [
           {
            "marker": {
             "colorbar": {
              "outlinewidth": 0,
              "ticks": ""
             }
            },
            "type": "scattermapbox"
           }
          ],
          "scatterpolar": [
           {
            "marker": {
             "colorbar": {
              "outlinewidth": 0,
              "ticks": ""
             }
            },
            "type": "scatterpolar"
           }
          ],
          "scatterpolargl": [
           {
            "marker": {
             "colorbar": {
              "outlinewidth": 0,
              "ticks": ""
             }
            },
            "type": "scatterpolargl"
           }
          ],
          "scatterternary": [
           {
            "marker": {
             "colorbar": {
              "outlinewidth": 0,
              "ticks": ""
             }
            },
            "type": "scatterternary"
           }
          ],
          "surface": [
           {
            "colorbar": {
             "outlinewidth": 0,
             "ticks": ""
            },
            "colorscale": [
             [
              0,
              "#0d0887"
             ],
             [
              0.1111111111111111,
              "#46039f"
             ],
             [
              0.2222222222222222,
              "#7201a8"
             ],
             [
              0.3333333333333333,
              "#9c179e"
             ],
             [
              0.4444444444444444,
              "#bd3786"
             ],
             [
              0.5555555555555556,
              "#d8576b"
             ],
             [
              0.6666666666666666,
              "#ed7953"
             ],
             [
              0.7777777777777778,
              "#fb9f3a"
             ],
             [
              0.8888888888888888,
              "#fdca26"
             ],
             [
              1,
              "#f0f921"
             ]
            ],
            "type": "surface"
           }
          ],
          "table": [
           {
            "cells": {
             "fill": {
              "color": "#EBF0F8"
             },
             "line": {
              "color": "white"
             }
            },
            "header": {
             "fill": {
              "color": "#C8D4E3"
             },
             "line": {
              "color": "white"
             }
            },
            "type": "table"
           }
          ]
         },
         "layout": {
          "annotationdefaults": {
           "arrowcolor": "#2a3f5f",
           "arrowhead": 0,
           "arrowwidth": 1
          },
          "autotypenumbers": "strict",
          "coloraxis": {
           "colorbar": {
            "outlinewidth": 0,
            "ticks": ""
           }
          },
          "colorscale": {
           "diverging": [
            [
             0,
             "#8e0152"
            ],
            [
             0.1,
             "#c51b7d"
            ],
            [
             0.2,
             "#de77ae"
            ],
            [
             0.3,
             "#f1b6da"
            ],
            [
             0.4,
             "#fde0ef"
            ],
            [
             0.5,
             "#f7f7f7"
            ],
            [
             0.6,
             "#e6f5d0"
            ],
            [
             0.7,
             "#b8e186"
            ],
            [
             0.8,
             "#7fbc41"
            ],
            [
             0.9,
             "#4d9221"
            ],
            [
             1,
             "#276419"
            ]
           ],
           "sequential": [
            [
             0,
             "#0d0887"
            ],
            [
             0.1111111111111111,
             "#46039f"
            ],
            [
             0.2222222222222222,
             "#7201a8"
            ],
            [
             0.3333333333333333,
             "#9c179e"
            ],
            [
             0.4444444444444444,
             "#bd3786"
            ],
            [
             0.5555555555555556,
             "#d8576b"
            ],
            [
             0.6666666666666666,
             "#ed7953"
            ],
            [
             0.7777777777777778,
             "#fb9f3a"
            ],
            [
             0.8888888888888888,
             "#fdca26"
            ],
            [
             1,
             "#f0f921"
            ]
           ],
           "sequentialminus": [
            [
             0,
             "#0d0887"
            ],
            [
             0.1111111111111111,
             "#46039f"
            ],
            [
             0.2222222222222222,
             "#7201a8"
            ],
            [
             0.3333333333333333,
             "#9c179e"
            ],
            [
             0.4444444444444444,
             "#bd3786"
            ],
            [
             0.5555555555555556,
             "#d8576b"
            ],
            [
             0.6666666666666666,
             "#ed7953"
            ],
            [
             0.7777777777777778,
             "#fb9f3a"
            ],
            [
             0.8888888888888888,
             "#fdca26"
            ],
            [
             1,
             "#f0f921"
            ]
           ]
          },
          "colorway": [
           "#636efa",
           "#EF553B",
           "#00cc96",
           "#ab63fa",
           "#FFA15A",
           "#19d3f3",
           "#FF6692",
           "#B6E880",
           "#FF97FF",
           "#FECB52"
          ],
          "font": {
           "color": "#2a3f5f"
          },
          "geo": {
           "bgcolor": "white",
           "lakecolor": "white",
           "landcolor": "#E5ECF6",
           "showlakes": true,
           "showland": true,
           "subunitcolor": "white"
          },
          "hoverlabel": {
           "align": "left"
          },
          "hovermode": "closest",
          "mapbox": {
           "style": "light"
          },
          "paper_bgcolor": "white",
          "plot_bgcolor": "#E5ECF6",
          "polar": {
           "angularaxis": {
            "gridcolor": "white",
            "linecolor": "white",
            "ticks": ""
           },
           "bgcolor": "#E5ECF6",
           "radialaxis": {
            "gridcolor": "white",
            "linecolor": "white",
            "ticks": ""
           }
          },
          "scene": {
           "xaxis": {
            "backgroundcolor": "#E5ECF6",
            "gridcolor": "white",
            "gridwidth": 2,
            "linecolor": "white",
            "showbackground": true,
            "ticks": "",
            "zerolinecolor": "white"
           },
           "yaxis": {
            "backgroundcolor": "#E5ECF6",
            "gridcolor": "white",
            "gridwidth": 2,
            "linecolor": "white",
            "showbackground": true,
            "ticks": "",
            "zerolinecolor": "white"
           },
           "zaxis": {
            "backgroundcolor": "#E5ECF6",
            "gridcolor": "white",
            "gridwidth": 2,
            "linecolor": "white",
            "showbackground": true,
            "ticks": "",
            "zerolinecolor": "white"
           }
          },
          "shapedefaults": {
           "line": {
            "color": "#2a3f5f"
           }
          },
          "ternary": {
           "aaxis": {
            "gridcolor": "white",
            "linecolor": "white",
            "ticks": ""
           },
           "baxis": {
            "gridcolor": "white",
            "linecolor": "white",
            "ticks": ""
           },
           "bgcolor": "#E5ECF6",
           "caxis": {
            "gridcolor": "white",
            "linecolor": "white",
            "ticks": ""
           }
          },
          "title": {
           "x": 0.05
          },
          "xaxis": {
           "automargin": true,
           "gridcolor": "white",
           "linecolor": "white",
           "ticks": "",
           "title": {
            "standoff": 15
           },
           "zerolinecolor": "white",
           "zerolinewidth": 2
          },
          "yaxis": {
           "automargin": true,
           "gridcolor": "white",
           "linecolor": "white",
           "ticks": "",
           "title": {
            "standoff": 15
           },
           "zerolinecolor": "white",
           "zerolinewidth": 2
          }
         }
        }
       }
      }
     },
     "metadata": {},
     "output_type": "display_data"
    }
   ],
   "source": [
    "\n",
    "import plotly.express as px\n",
    "labels = {\n",
    "    str(i): f\"PC {i+1} ({var:.1f}%)\"\n",
    "    for i, var in enumerate(pca.explained_variance_ratio_ * 100)\n",
    "}\n",
    "fig = px.scatter_matrix(\n",
    "    df_loadings,\n",
    "    labels=labels\n",
    "\n",
    ")\n",
    "fig"
   ]
  },
  {
   "cell_type": "code",
   "execution_count": 96,
   "metadata": {},
   "outputs": [
    {
     "data": {
      "image/png": "[encoded data removed]",
      "text/plain": [
       "<Figure size 1080x1080 with 2 Axes>"
      ]
     },
     "metadata": {},
     "output_type": "display_data"
    }
   ],
   "source": [
    "ax = sns.heatmap(df_loadings, annot=True, cmap='Spectral',)\n",
    "\n",
    "sns.set(rc = {'figure.figsize':(20,20)})\n"
   ]
  },
  {
   "cell_type": "code",
   "execution_count": 104,
   "metadata": {},
   "outputs": [
    {
     "data": {
      "application/vnd.plotly.v1+json": {
       "config": {
        "plotlyServerURL": "https://plot.ly"
       },
       "data": [
        {
         "alignmentgroup": "True",
         "hovertemplate": "variable=0<br>index=%{x}<br>value=%{y}<br>text=%{text}<extra></extra>",
         "legendgroup": "0",
         "marker": {
          "color": "#636efa",
          "pattern": {
           "shape": ""
          }
         },
         "name": "0",
         "offsetgroup": "0",
         "orientation": "v",
         "showlegend": true,
         "text": [
          "PC1",
          "PC2",
          "PC3"
         ],
         "textposition": "auto",
         "type": "bar",
         "x": [
          0,
          1,
          2
         ],
         "xaxis": "x",
         "y": [
          55.84275778124591,
          18.098557398494627,
          7.203237359783808
         ],
         "yaxis": "y"
        }
       ],
       "layout": {
        "barmode": "relative",
        "legend": {
         "title": {
          "text": "variable"
         },
         "tracegroupgap": 0
        },
        "margin": {
         "t": 60
        },
        "template": {
         "data": {
          "bar": [
           {
            "error_x": {
             "color": "#2a3f5f"
            },
            "error_y": {
             "color": "#2a3f5f"
            },
            "marker": {
             "line": {
              "color": "#E5ECF6",
              "width": 0.5
             },
             "pattern": {
              "fillmode": "overlay",
              "size": 10,
              "solidity": 0.2
             }
            },
            "type": "bar"
           }
          ],
          "barpolar": [
           {
            "marker": {
             "line": {
              "color": "#E5ECF6",
              "width": 0.5
             },
             "pattern": {
              "fillmode": "overlay",
              "size": 10,
              "solidity": 0.2
             }
            },
            "type": "barpolar"
           }
          ],
          "carpet": [
           {
            "aaxis": {
             "endlinecolor": "#2a3f5f",
             "gridcolor": "white",
             "linecolor": "white",
             "minorgridcolor": "white",
             "startlinecolor": "#2a3f5f"
            },
            "baxis": {
             "endlinecolor": "#2a3f5f",
             "gridcolor": "white",
             "linecolor": "white",
             "minorgridcolor": "white",
             "startlinecolor": "#2a3f5f"
            },
            "type": "carpet"
           }
          ],
          "choropleth": [
           {
            "colorbar": {
             "outlinewidth": 0,
             "ticks": ""
            },
            "type": "choropleth"
           }
          ],
          "contour": [
           {
            "colorbar": {
             "outlinewidth": 0,
             "ticks": ""
            },
            "colorscale": [
             [
              0,
              "#0d0887"
             ],
             [
              0.1111111111111111,
              "#46039f"
             ],
             [
              0.2222222222222222,
              "#7201a8"
             ],
             [
              0.3333333333333333,
              "#9c179e"
             ],
             [
              0.4444444444444444,
              "#bd3786"
             ],
             [
              0.5555555555555556,
              "#d8576b"
             ],
             [
              0.6666666666666666,
              "#ed7953"
             ],
             [
              0.7777777777777778,
              "#fb9f3a"
             ],
             [
              0.8888888888888888,
              "#fdca26"
             ],
             [
              1,
              "#f0f921"
             ]
            ],
            "type": "contour"
           }
          ],
          "contourcarpet": [
           {
            "colorbar": {
             "outlinewidth": 0,
             "ticks": ""
            },
            "type": "contourcarpet"
           }
          ],
          "heatmap": [
           {
            "colorbar": {
             "outlinewidth": 0,
             "ticks": ""
            },
            "colorscale": [
             [
              0,
              "#0d0887"
             ],
             [
              0.1111111111111111,
              "#46039f"
             ],
             [
              0.2222222222222222,
              "#7201a8"
             ],
             [
              0.3333333333333333,
              "#9c179e"
             ],
             [
              0.4444444444444444,
              "#bd3786"
             ],
             [
              0.5555555555555556,
              "#d8576b"
             ],
             [
              0.6666666666666666,
              "#ed7953"
             ],
             [
              0.7777777777777778,
              "#fb9f3a"
             ],
             [
              0.8888888888888888,
              "#fdca26"
             ],
             [
              1,
              "#f0f921"
             ]
            ],
            "type": "heatmap"
           }
          ],
          "heatmapgl": [
           {
            "colorbar": {
             "outlinewidth": 0,
             "ticks": ""
            },
            "colorscale": [
             [
              0,
              "#0d0887"
             ],
             [
              0.1111111111111111,
              "#46039f"
             ],
             [
              0.2222222222222222,
              "#7201a8"
             ],
             [
              0.3333333333333333,
              "#9c179e"
             ],
             [
              0.4444444444444444,
              "#bd3786"
             ],
             [
              0.5555555555555556,
              "#d8576b"
             ],
             [
              0.6666666666666666,
              "#ed7953"
             ],
             [
              0.7777777777777778,
              "#fb9f3a"
             ],
             [
              0.8888888888888888,
              "#fdca26"
             ],
             [
              1,
              "#f0f921"
             ]
            ],
            "type": "heatmapgl"
           }
          ],
          "histogram": [
           {
            "marker": {
             "pattern": {
              "fillmode": "overlay",
              "size": 10,
              "solidity": 0.2
             }
            },
            "type": "histogram"
           }
          ],
          "histogram2d": [
           {
            "colorbar": {
             "outlinewidth": 0,
             "ticks": ""
            },
            "colorscale": [
             [
              0,
              "#0d0887"
             ],
             [
              0.1111111111111111,
              "#46039f"
             ],
             [
              0.2222222222222222,
              "#7201a8"
             ],
             [
              0.3333333333333333,
              "#9c179e"
             ],
             [
              0.4444444444444444,
              "#bd3786"
             ],
             [
              0.5555555555555556,
              "#d8576b"
             ],
             [
              0.6666666666666666,
              "#ed7953"
             ],
             [
              0.7777777777777778,
              "#fb9f3a"
             ],
             [
              0.8888888888888888,
              "#fdca26"
             ],
             [
              1,
              "#f0f921"
             ]
            ],
            "type": "histogram2d"
           }
          ],
          "histogram2dcontour": [
           {
            "colorbar": {
             "outlinewidth": 0,
             "ticks": ""
            },
            "colorscale": [
             [
              0,
              "#0d0887"
             ],
             [
              0.1111111111111111,
              "#46039f"
             ],
             [
              0.2222222222222222,
              "#7201a8"
             ],
             [
              0.3333333333333333,
              "#9c179e"
             ],
             [
              0.4444444444444444,
              "#bd3786"
             ],
             [
              0.5555555555555556,
              "#d8576b"
             ],
             [
              0.6666666666666666,
              "#ed7953"
             ],
             [
              0.7777777777777778,
              "#fb9f3a"
             ],
             [
              0.8888888888888888,
              "#fdca26"
             ],
             [
              1,
              "#f0f921"
             ]
            ],
            "type": "histogram2dcontour"
           }
          ],
          "mesh3d": [
           {
            "colorbar": {
             "outlinewidth": 0,
             "ticks": ""
            },
            "type": "mesh3d"
           }
          ],
          "parcoords": [
           {
            "line": {
             "colorbar": {
              "outlinewidth": 0,
              "ticks": ""
             }
            },
            "type": "parcoords"
           }
          ],
          "pie": [
           {
            "automargin": true,
            "type": "pie"
           }
          ],
          "scatter": [
           {
            "fillpattern": {
             "fillmode": "overlay",
             "size": 10,
             "solidity": 0.2
            },
            "type": "scatter"
           }
          ],
          "scatter3d": [
           {
            "line": {
             "colorbar": {
              "outlinewidth": 0,
              "ticks": ""
             }
            },
            "marker": {
             "colorbar": {
              "outlinewidth": 0,
              "ticks": ""
             }
            },
            "type": "scatter3d"
           }
          ],
          "scattercarpet": [
           {
            "marker": {
             "colorbar": {
              "outlinewidth": 0,
              "ticks": ""
             }
            },
            "type": "scattercarpet"
           }
          ],
          "scattergeo": [
           {
            "marker": {
             "colorbar": {
              "outlinewidth": 0,
              "ticks": ""
             }
            },
            "type": "scattergeo"
           }
          ],
          "scattergl": [
           {
            "marker": {
             "colorbar": {
              "outlinewidth": 0,
              "ticks": ""
             }
            },
            "type": "scattergl"
           }
          ],
          "scattermapbox": [
           {
            "marker": {
             "colorbar": {
              "outlinewidth": 0,
              "ticks": ""
             }
            },
            "type": "scattermapbox"
           }
          ],
          "scatterpolar": [
           {
            "marker": {
             "colorbar": {
              "outlinewidth": 0,
              "ticks": ""
             }
            },
            "type": "scatterpolar"
           }
          ],
          "scatterpolargl": [
           {
            "marker": {
             "colorbar": {
              "outlinewidth": 0,
              "ticks": ""
             }
            },
            "type": "scatterpolargl"
           }
          ],
          "scatterternary": [
           {
            "marker": {
             "colorbar": {
              "outlinewidth": 0,
              "ticks": ""
             }
            },
            "type": "scatterternary"
           }
          ],
          "surface": [
           {
            "colorbar": {
             "outlinewidth": 0,
             "ticks": ""
            },
            "colorscale": [
             [
              0,
              "#0d0887"
             ],
             [
              0.1111111111111111,
              "#46039f"
             ],
             [
              0.2222222222222222,
              "#7201a8"
             ],
             [
              0.3333333333333333,
              "#9c179e"
             ],
             [
              0.4444444444444444,
              "#bd3786"
             ],
             [
              0.5555555555555556,
              "#d8576b"
             ],
             [
              0.6666666666666666,
              "#ed7953"
             ],
             [
              0.7777777777777778,
              "#fb9f3a"
             ],
             [
              0.8888888888888888,
              "#fdca26"
             ],
             [
              1,
              "#f0f921"
             ]
            ],
            "type": "surface"
           }
          ],
          "table": [
           {
            "cells": {
             "fill": {
              "color": "#EBF0F8"
             },
             "line": {
              "color": "white"
             }
            },
            "header": {
             "fill": {
              "color": "#C8D4E3"
             },
             "line": {
              "color": "white"
             }
            },
            "type": "table"
           }
          ]
         },
         "layout": {
          "annotationdefaults": {
           "arrowcolor": "#2a3f5f",
           "arrowhead": 0,
           "arrowwidth": 1
          },
          "autotypenumbers": "strict",
          "coloraxis": {
           "colorbar": {
            "outlinewidth": 0,
            "ticks": ""
           }
          },
          "colorscale": {
           "diverging": [
            [
             0,
             "#8e0152"
            ],
            [
             0.1,
             "#c51b7d"
            ],
            [
             0.2,
             "#de77ae"
            ],
            [
             0.3,
             "#f1b6da"
            ],
            [
             0.4,
             "#fde0ef"
            ],
            [
             0.5,
             "#f7f7f7"
            ],
            [
             0.6,
             "#e6f5d0"
            ],
            [
             0.7,
             "#b8e186"
            ],
            [
             0.8,
             "#7fbc41"
            ],
            [
             0.9,
             "#4d9221"
            ],
            [
             1,
             "#276419"
            ]
           ],
           "sequential": [
            [
             0,
             "#0d0887"
            ],
            [
             0.1111111111111111,
             "#46039f"
            ],
            [
             0.2222222222222222,
             "#7201a8"
            ],
            [
             0.3333333333333333,
             "#9c179e"
            ],
            [
             0.4444444444444444,
             "#bd3786"
            ],
            [
             0.5555555555555556,
             "#d8576b"
            ],
            [
             0.6666666666666666,
             "#ed7953"
            ],
            [
             0.7777777777777778,
             "#fb9f3a"
            ],
            [
             0.8888888888888888,
             "#fdca26"
            ],
            [
             1,
             "#f0f921"
            ]
           ],
           "sequentialminus": [
            [
             0,
             "#0d0887"
            ],
            [
             0.1111111111111111,
             "#46039f"
            ],
            [
             0.2222222222222222,
             "#7201a8"
            ],
            [
             0.3333333333333333,
             "#9c179e"
            ],
            [
             0.4444444444444444,
             "#bd3786"
            ],
            [
             0.5555555555555556,
             "#d8576b"
            ],
            [
             0.6666666666666666,
             "#ed7953"
            ],
            [
             0.7777777777777778,
             "#fb9f3a"
            ],
            [
             0.8888888888888888,
             "#fdca26"
            ],
            [
             1,
             "#f0f921"
            ]
           ]
          },
          "colorway": [
           "#636efa",
           "#EF553B",
           "#00cc96",
           "#ab63fa",
           "#FFA15A",
           "#19d3f3",
           "#FF6692",
           "#B6E880",
           "#FF97FF",
           "#FECB52"
          ],
          "font": {
           "color": "#2a3f5f"
          },
          "geo": {
           "bgcolor": "white",
           "lakecolor": "white",
           "landcolor": "#E5ECF6",
           "showlakes": true,
           "showland": true,
           "subunitcolor": "white"
          },
          "hoverlabel": {
           "align": "left"
          },
          "hovermode": "closest",
          "mapbox": {
           "style": "light"
          },
          "paper_bgcolor": "white",
          "plot_bgcolor": "#E5ECF6",
          "polar": {
           "angularaxis": {
            "gridcolor": "white",
            "linecolor": "white",
            "ticks": ""
           },
           "bgcolor": "#E5ECF6",
           "radialaxis": {
            "gridcolor": "white",
            "linecolor": "white",
            "ticks": ""
           }
          },
          "scene": {
           "xaxis": {
            "backgroundcolor": "#E5ECF6",
            "gridcolor": "white",
            "gridwidth": 2,
            "linecolor": "white",
            "showbackground": true,
            "ticks": "",
            "zerolinecolor": "white"
           },
           "yaxis": {
            "backgroundcolor": "#E5ECF6",
            "gridcolor": "white",
            "gridwidth": 2,
            "linecolor": "white",
            "showbackground": true,
            "ticks": "",
            "zerolinecolor": "white"
           },
           "zaxis": {
            "backgroundcolor": "#E5ECF6",
            "gridcolor": "white",
            "gridwidth": 2,
            "linecolor": "white",
            "showbackground": true,
            "ticks": "",
            "zerolinecolor": "white"
           }
          },
          "shapedefaults": {
           "line": {
            "color": "#2a3f5f"
           }
          },
          "ternary": {
           "aaxis": {
            "gridcolor": "white",
            "linecolor": "white",
            "ticks": ""
           },
           "baxis": {
            "gridcolor": "white",
            "linecolor": "white",
            "ticks": ""
           },
           "bgcolor": "#E5ECF6",
           "caxis": {
            "gridcolor": "white",
            "linecolor": "white",
            "ticks": ""
           }
          },
          "title": {
           "x": 0.05
          },
          "xaxis": {
           "automargin": true,
           "gridcolor": "white",
           "linecolor": "white",
           "ticks": "",
           "title": {
            "standoff": 15
           },
           "zerolinecolor": "white",
           "zerolinewidth": 2
          },
          "yaxis": {
           "automargin": true,
           "gridcolor": "white",
           "linecolor": "white",
           "ticks": "",
           "title": {
            "standoff": 15
           },
           "zerolinecolor": "white",
           "zerolinewidth": 2
          }
         }
        },
        "xaxis": {
         "anchor": "y",
         "domain": [
          0,
          1
         ],
         "title": {
          "text": "index"
         }
        },
        "yaxis": {
         "anchor": "x",
         "domain": [
          0,
          1
         ],
         "title": {
          "text": "value"
         }
        }
       }
      }
     },
     "metadata": {},
     "output_type": "display_data"
    }
   ],
   "source": [
    "px.bar(pca.explained_variance_, text=['PC1','PC2','PC3'])\n"
   ]
  },
  {
   "cell_type": "code",
   "execution_count": 112,
   "metadata": {},
   "outputs": [],
   "source": [
    "from bioinfokit.visuz import cluster"
   ]
  },
  {
   "cell_type": "code",
   "execution_count": 123,
   "metadata": {},
   "outputs": [],
   "source": [
    "loadings = pca.components_\n",
    "loadings[0]\n",
    "loadings[1]\n",
    "\n",
    "cluster.pcaplot(x=loadings[0], y=loadings[1], labels=df.columns.values, \n",
    "    var1=round(pca.explained_variance_ratio_[0]*100, 2),\n",
    "    var2=round(pca.explained_variance_ratio_[1]*100, 2))"
   ]
  },
  {
   "cell_type": "code",
   "execution_count": 127,
   "metadata": {},
   "outputs": [],
   "source": [
    "cluster.biplot(cscore=scores, loadings=loadings, labels=df.columns.values, var1=round(pca.explained_variance_ratio_[0]*100, 2),\n",
    "    var2=round(pca.explained_variance_ratio_[1]*100, 2))\n"
   ]
  },
  {
   "cell_type": "code",
   "execution_count": 131,
   "metadata": {},
   "outputs": [],
   "source": [
    "cluster.pcaplot(x=loadings[0], y=loadings[1], z = loadings[2],labels=df.columns.values, \n",
    "    var1=round(pca.explained_variance_ratio_[0]*100, 2),\n",
    "    var2=round(pca.explained_variance_ratio_[1]*100, 2),\n",
    "    var3=round(pca.explained_variance_ratio_[2]*100, 2))"
   ]
  },
  {
   "cell_type": "code",
   "execution_count": 140,
   "metadata": {},
   "outputs": [
    {
     "data": {
      "application/vnd.plotly.v1+json": {
       "config": {
        "plotlyServerURL": "https://plot.ly"
       },
       "data": [
        {
         "hovertemplate": "PC1=%{x}<br>PC2=%{y}<br>PC3=%{z}<extra></extra>",
         "legendgroup": "",
         "marker": {
          "color": "#636efa",
          "symbol": "circle"
         },
         "mode": "markers",
         "name": "",
         "scene": "scene",
         "showlegend": false,
         "type": "scatter3d",
         "x": [
          -0.8318065049949498,
          1.3088482127515053,
          0.6956305174981583,
          -0.2680761475758278,
          -1.737865781782244,
          -0.3587312343358301,
          -0.2796242839092597,
          -1.6276457362368808,
          -2.50901810765547,
          -1.074846689191911,
          0.8069096294348224,
          2.7940537949978523,
          4.291075859691247,
          5.062257539392688,
          6.0312816262383215,
          5.983605706209238,
          5.8693631410674625,
          4.903208992909154,
          5.664060101531918,
          5.451188390750775,
          5.140048124439768,
          5.4704230746439455,
          5.53975727196165,
          5.108802110306889,
          -2.290739330640794,
          -3.482891284882328,
          -4.048864274017702,
          -4.190480231390941,
          -2.992475352187245,
          -1.7717824543715068,
          -2.12343954247392,
          -1.5786666284635307,
          0.5533086642864485,
          1.4382932487574571,
          1.5133587108508635,
          0.8847365581475622,
          -0.7916928141493865,
          -2.06726705565437,
          -3.225304702835851,
          -4.073522825047304,
          -4.7320619437938625,
          -6.844639341935551,
          -9.240705942607,
          -10.125044008470239,
          -11.396938397146261,
          -11.832900544805282,
          -11.91156962049594,
          -12.931937841792884,
          -14.159378361588528,
          -14.83477688324312,
          -14.82004527626506,
          -12.531220285566338,
          -8.814175953431137,
          -5.461054644121396,
          -3.7625798647619195,
          -3.002636121030801,
          -1.4650387835965508,
          0.1594274118039339,
          0.8565976509183635,
          1.506168203172381,
          1.1446910100815924,
          0.0520420796223812,
          -0.8172073481850939,
          -3.5397501004717684,
          -4.862514367732577,
          -5.905309735622602,
          -6.231141159311795,
          -6.32857474306207,
          -6.196946430969019,
          -6.17483092614425,
          -7.464732929932243,
          -7.1286097588518595,
          -7.13663889605511,
          -6.863519716122566,
          -6.584612210309935,
          -5.447860047849312,
          -1.3500223550868147,
          2.635838917396884,
          4.294533889715414,
          5.541606331276902,
          7.466184311040054,
          10.481715069997346,
          12.941115526191005,
          12.133886502976631,
          9.658164980100056,
          8.052286906421205,
          7.759719640119965,
          7.40693726166003,
          6.850980163014696,
          6.243688905449906,
          6.3628703365782195,
          5.887642082111461,
          6.855901178511744,
          6.604289049213147,
          5.86018190036766,
          5.35209823170477,
          6.274769336600268,
          6.13751893156642,
          5.707421900437132,
          7.346966492465243,
          9.596132048674047,
          12.741998655772143,
          14.87957723195172,
          14.479424035326963,
          13.363868518349799,
          13.582969971097674,
          14.759947037192834,
          14.282220570283593,
          12.093983544740265,
          11.936728001417903,
          12.886216965663646,
          13.103048156033964,
          12.812136684555785,
          10.618632452104347,
          9.617116720273362,
          8.676687801227605,
          8.322526484733984,
          6.702289674626786,
          6.602864029537121,
          7.017130713452774,
          7.930007551817618,
          6.185695938336907,
          8.160169216142872,
          9.167654476681511,
          10.794863476049416,
          12.105844906362327,
          10.479708932196512,
          10.30932160619631,
          9.830660188471672,
          8.96377392885005,
          8.093942538088138,
          5.975568527843539,
          4.20773589809227,
          2.695444939261645,
          2.4128471190866154,
          0.8136781642074437,
          -1.601124095675097,
          -3.5678313370008223,
          -4.271889441339336,
          -4.157564775429362,
          -6.343183805030841,
          -7.520961446923707,
          -7.950340698985781,
          -9.122873815119497,
          -10.502004955883107,
          -10.813733323200042,
          -11.422491248877092,
          -9.60077220780794,
          -6.535872407346477,
          -4.149576972436325,
          -2.607488589256059,
          -1.369962999114089,
          -0.9477672672825175,
          -0.6431296822420792,
          0.3049148985600172,
          0.5794542416985587,
          -0.49942182979684147,
          -2.330095238358276,
          -3.827239050976283,
          -4.052351771695506,
          -4.698711719883644,
          -5.787004721522874,
          -7.121307679386378,
          -8.046592587662433,
          -9.63722502407362,
          -11.549678110798077,
          -12.549529029324603,
          -13.076840015495234,
          -13.212309157795223,
          -13.766214233851773,
          -13.15996669573187,
          -11.781060125146062,
          -8.3483361950278,
          -5.597956848470314,
          -3.8373706073663256,
          -1.6985682062081158,
          0.382021835213993,
          2.1059497211334626,
          1.9410227042850554,
          2.1538878044766885,
          1.861802538617476,
          1.0370065134429034,
          -1.0878407761783246,
          -2.9391612543947354,
          -4.398557111384082,
          -4.933746562553201,
          -5.352191072104558,
          -5.321523851052211,
          -6.396317500054076,
          -8.426948447612556,
          -10.018026936159176,
          -10.84955548734137
         ],
         "y": [
          -1.409666269690036,
          -1.2020735900848323,
          -1.7629986452329653,
          -1.3984774038874601,
          -1.1204522371820733,
          -1.4902990682998836,
          -2.317362127944297,
          -2.4629819194360993,
          -2.072404960165308,
          -1.5784368441232612,
          -2.0949349497805607,
          -1.5501160388375934,
          -0.22900683916431938,
          -0.5119278816649314,
          -0.42566098708286954,
          -0.9139568493675788,
          -0.29260690220330154,
          -0.8043077611454384,
          -0.3941787768196016,
          -0.7653224605024654,
          -1.6572989706294123,
          -1.1449735521781905,
          -0.8825636784472168,
          0.1378430568016825,
          -0.9015220885158375,
          -0.39273276073874364,
          -1.0111617083331477,
          0.07922374914000435,
          0.45987014146483896,
          1.7912554203814983,
          9.045817557580927,
          10.74509433798293,
          8.475424073925836,
          6.258796200108149,
          4.610907060706461,
          3.867569489236036,
          3.194261731333762,
          3.5354424233559194,
          4.287195114299254,
          4.520247403519817,
          4.8089403022444985,
          5.050887493018378,
          4.691957200162104,
          4.03210298222504,
          4.239471727596819,
          3.8599262564829395,
          3.5065429387933427,
          3.761401202237325,
          3.838518209788853,
          4.617358868225799,
          5.249898536764192,
          6.23200409101945,
          6.722006942160812,
          6.601362517148477,
          6.469512699201447,
          6.433167943256227,
          6.584823253859347,
          6.085167011233641,
          5.48402515337886,
          4.194370815523318,
          3.4468380610259777,
          4.03710008138742,
          4.00218535391143,
          5.07587343392678,
          5.787457594842822,
          5.784598839678017,
          5.4247621249170015,
          4.484707068709866,
          4.204573593916759,
          4.859198402047991,
          5.467100560286087,
          5.3396572095719055,
          5.31249694828261,
          4.883703581666715,
          5.289118509845209,
          5.333684043429206,
          5.236689439772079,
          4.481729408887394,
          4.027343741793511,
          4.743474875648184,
          4.24675072662712,
          3.5231938219346945,
          3.7874891568612874,
          3.177344820577122,
          2.182988148229523,
          2.3984939701012187,
          3.0281624883285625,
          2.162714449991149,
          1.5129821129089303,
          2.3304486890572873,
          2.5733235709743014,
          2.1544695603502846,
          2.9596475963777737,
          3.2401334547270375,
          2.9662403734198057,
          3.199533193318688,
          3.43432711080593,
          3.705220764268609,
          3.4785419261595685,
          4.364087596244671,
          4.611072716718794,
          4.6539986463914005,
          8.118036640446071,
          6.299454659076488,
          3.7747602278314742,
          3.258467576444815,
          4.424105367845846,
          4.480723016325301,
          3.5612429423198466,
          0.4145239745596777,
          -3.328407304582062,
          -4.746930838047944,
          -4.4905590253306125,
          -4.6628590583658625,
          -3.662141292131855,
          -2.663382866590255,
          -2.939590703191407,
          -3.362596840970726,
          -3.8282393889889543,
          -4.40599666033796,
          -4.25370701513511,
          -5.421831074194536,
          -4.387292691654543,
          -5.212261049802514,
          -4.689293199930146,
          -4.6670525756092704,
          -5.644657008075601,
          -5.4028299918372715,
          -5.396804459264282,
          -5.789905282223065,
          -5.3569372835487945,
          -5.051880993495037,
          -4.642749159743584,
          -4.334029111123671,
          -4.139243330739489,
          -4.106270578859137,
          -3.017630599857856,
          -2.67226446212501,
          -2.577758171034313,
          -2.2963415676529473,
          -2.2188076963971755,
          -2.4281962101239825,
          -1.526262918550144,
          -1.392691467774208,
          -1.5683674696092023,
          -1.6628152871167714,
          -1.146249975835986,
          -0.9577558470115901,
          -1.0808184889731585,
          -1.2127027686706204,
          -1.2578557324297504,
          -1.3798197852709908,
          -1.7778876479456005,
          -2.192578342485872,
          -2.612745459024043,
          -3.2830681268876236,
          -3.791816342842469,
          -3.5937106618684,
          -3.0843205584912,
          -3.0189119571465874,
          -3.467457510980858,
          -3.708489899998541,
          -4.019040577833141,
          -4.279099193976922,
          -4.363813962688905,
          -4.274324876468924,
          -4.65659338282762,
          -4.455961903987406,
          -3.8928382195365225,
          -4.143637826760189,
          -5.036129356753952,
          -5.414323826002696,
          -5.277303755160781,
          -5.907654484122599,
          -6.866212582039417,
          -6.752885763194658,
          -6.032210252322804,
          -5.34979540509618,
          -6.071280107204173,
          -6.300501004356793,
          -6.5133577435515475,
          -6.160649431364228,
          -5.614666998273267,
          -4.914026134043776,
          -5.468376438486476,
          -5.881560692834755,
          -6.353540206831795,
          -5.488164432340101,
          -4.70483436716591,
          -4.706928308317051,
          -4.787396011071151,
          -4.727859820978507
         ],
         "z": [
          -0.6491513235200257,
          -1.124629547506206,
          -3.7892327751790833,
          -2.0221742997215166,
          -0.9981250122440364,
          -1.4375300420591808,
          -2.8193209880778896,
          -2.5236538037530045,
          -1.8174900395687883,
          0.3903399571151481,
          -0.5998089616362515,
          -0.4371952635517581,
          -0.7509614676008619,
          -2.6095135845913573,
          -3.075232491701191,
          -4.253462954603648,
          -3.3506679509939343,
          -3.850585520889297,
          -2.4774237402359516,
          -3.506791867163945,
          -4.430033663612933,
          -2.874587703667399,
          -3.850807110662174,
          -2.9470954289656746,
          -1.1914723442878898,
          0.5348062963036349,
          -0.03403027758512417,
          2.52578864091988,
          3.153405596235353,
          1.2458513012653054,
          -0.32447546603487587,
          -1.7817990887108974,
          -2.1151315532050177,
          -2.8551903056237156,
          -4.1800980324881545,
          -4.605011053081044,
          -5.62954091237404,
          -4.908091215147173,
          -3.9291087297705913,
          -4.036587150659695,
          -2.909824120423388,
          -0.8253184210563734,
          0.8525941608457521,
          2.506906662175015,
          2.8160047469339666,
          2.3593775330095816,
          1.7252564978702185,
          1.8398964986107493,
          2.116064701699264,
          3.1742488631807526,
          3.752303410839348,
          4.746225356188123,
          3.1983672356320447,
          1.5184200329195332,
          -0.9503886756737799,
          -1.760187901275234,
          -1.2233146223482123,
          -1.75212146056235,
          -3.0731906368873663,
          -3.7151011997916474,
          -3.9889307257071094,
          -2.976003266623913,
          -2.763024656267337,
          -2.9350557914878515,
          -1.0429079083449933,
          0.10357123215963315,
          0.4305761530077075,
          -0.6024523998988328,
          -1.2005289249421154,
          -1.4411225942635653,
          -0.8411687807151684,
          -0.2098145067680606,
          -0.47609478302529834,
          -2.1109910115347477,
          -1.153864848898463,
          -0.6109366498827028,
          0.11608505356423587,
          -1.511843691508077,
          -3.0758561041290835,
          -1.7432799776270416,
          -2.0328190883939836,
          -0.47100717959310356,
          1.371388559175877,
          -0.12004326404568541,
          -3.6717828050095678,
          -2.0119543667896633,
          0.10389516195614532,
          -0.17922745442858212,
          -0.5845152927771258,
          -0.07385820280195288,
          -0.10859190720779205,
          -0.4604726504222959,
          0.06860901450231985,
          -0.002815620722728385,
          -1.3349209650060159,
          0.06624661642002846,
          0.509520227271076,
          -0.9858370727025966,
          -0.910146757537926,
          1.530802735764215,
          2.7003946980334383,
          5.929427177729358,
          13.515336348210617,
          8.056899747230583,
          3.255391006442293,
          3.7668212422651344,
          7.066412639338782,
          5.8069035376665425,
          3.5571965736977913,
          2.205201062435628,
          1.8220643867479005,
          0.34057583301194794,
          1.4689005252104954,
          1.1862530463659706,
          1.8246288393667731,
          2.2527646194166846,
          1.584016135363964,
          2.0022493932245493,
          3.134009354271407,
          2.7598992541310143,
          3.129156163013111,
          -0.45652641798604376,
          2.6561957052576104,
          1.505510248441726,
          2.760784542777139,
          2.238653786214518,
          -0.4475972353760762,
          0.9642603617422774,
          0.40923273368752444,
          0.6707236388139256,
          1.105572692007928,
          2.8617570364073655,
          0.012017527374664412,
          0.7213071338361832,
          1.578449959912579,
          -0.02294243836629156,
          -0.4644164131823933,
          1.6598880293909606,
          1.903221179475135,
          2.125351333013746,
          1.4151721999071734,
          1.371157976111124,
          1.779868057413602,
          1.1312609286752215,
          2.3767181824101113,
          2.5166196476550047,
          3.4296300217744156,
          4.719443249705581,
          3.7050740600299186,
          2.4297914111150907,
          0.18467765720039672,
          -0.7178608343355816,
          -0.9164650322973102,
          -0.7067873873998053,
          -1.1666233221675022,
          -1.1992955684984417,
          -2.2827098242081583,
          -1.5951770020293072,
          -2.1220177000054097,
          -1.3289457036321914,
          -1.7732658742353917,
          -1.5805419348307475,
          -0.2383178809479227,
          0.8649149730259127,
          1.5250992209202323,
          1.826112126583413,
          2.708760807361186,
          3.0286018064646765,
          3.580586152332698,
          3.812044051193087,
          4.12279320746446,
          4.0685800840762605,
          4.087565073631319,
          1.3606201945746272,
          0.30498593273862706,
          -0.8409878215908232,
          -1.050771402744181,
          -1.7555741197274959,
          -3.3470561146506355,
          -3.519364818338498,
          -3.7611996857983705,
          -3.9481178915413695,
          -3.5639224851961853,
          -2.5495870620609606,
          -1.265600270132635,
          -0.6808142223360163,
          -1.967694857966453,
          -2.4283968280931187,
          -2.1299354863183417,
          -1.589741926613896,
          0.06116608415068596,
          1.3403606765566218
         ]
        }
       ],
       "layout": {
        "legend": {
         "tracegroupgap": 0
        },
        "margin": {
         "t": 60
        },
        "scene": {
         "domain": {
          "x": [
           0,
           1
          ],
          "y": [
           0,
           1
          ]
         },
         "xaxis": {
          "title": {
           "text": "PC1"
          }
         },
         "yaxis": {
          "title": {
           "text": "PC2"
          }
         },
         "zaxis": {
          "title": {
           "text": "PC3"
          }
         }
        },
        "template": {
         "data": {
          "bar": [
           {
            "error_x": {
             "color": "#2a3f5f"
            },
            "error_y": {
             "color": "#2a3f5f"
            },
            "marker": {
             "line": {
              "color": "#E5ECF6",
              "width": 0.5
             },
             "pattern": {
              "fillmode": "overlay",
              "size": 10,
              "solidity": 0.2
             }
            },
            "type": "bar"
           }
          ],
          "barpolar": [
           {
            "marker": {
             "line": {
              "color": "#E5ECF6",
              "width": 0.5
             },
             "pattern": {
              "fillmode": "overlay",
              "size": 10,
              "solidity": 0.2
             }
            },
            "type": "barpolar"
           }
          ],
          "carpet": [
           {
            "aaxis": {
             "endlinecolor": "#2a3f5f",
             "gridcolor": "white",
             "linecolor": "white",
             "minorgridcolor": "white",
             "startlinecolor": "#2a3f5f"
            },
            "baxis": {
             "endlinecolor": "#2a3f5f",
             "gridcolor": "white",
             "linecolor": "white",
             "minorgridcolor": "white",
             "startlinecolor": "#2a3f5f"
            },
            "type": "carpet"
           }
          ],
          "choropleth": [
           {
            "colorbar": {
             "outlinewidth": 0,
             "ticks": ""
            },
            "type": "choropleth"
           }
          ],
          "contour": [
           {
            "colorbar": {
             "outlinewidth": 0,
             "ticks": ""
            },
            "colorscale": [
             [
              0,
              "#0d0887"
             ],
             [
              0.1111111111111111,
              "#46039f"
             ],
             [
              0.2222222222222222,
              "#7201a8"
             ],
             [
              0.3333333333333333,
              "#9c179e"
             ],
             [
              0.4444444444444444,
              "#bd3786"
             ],
             [
              0.5555555555555556,
              "#d8576b"
             ],
             [
              0.6666666666666666,
              "#ed7953"
             ],
             [
              0.7777777777777778,
              "#fb9f3a"
             ],
             [
              0.8888888888888888,
              "#fdca26"
             ],
             [
              1,
              "#f0f921"
             ]
            ],
            "type": "contour"
           }
          ],
          "contourcarpet": [
           {
            "colorbar": {
             "outlinewidth": 0,
             "ticks": ""
            },
            "type": "contourcarpet"
           }
          ],
          "heatmap": [
           {
            "colorbar": {
             "outlinewidth": 0,
             "ticks": ""
            },
            "colorscale": [
             [
              0,
              "#0d0887"
             ],
             [
              0.1111111111111111,
              "#46039f"
             ],
             [
              0.2222222222222222,
              "#7201a8"
             ],
             [
              0.3333333333333333,
              "#9c179e"
             ],
             [
              0.4444444444444444,
              "#bd3786"
             ],
             [
              0.5555555555555556,
              "#d8576b"
             ],
             [
              0.6666666666666666,
              "#ed7953"
             ],
             [
              0.7777777777777778,
              "#fb9f3a"
             ],
             [
              0.8888888888888888,
              "#fdca26"
             ],
             [
              1,
              "#f0f921"
             ]
            ],
            "type": "heatmap"
           }
          ],
          "heatmapgl": [
           {
            "colorbar": {
             "outlinewidth": 0,
             "ticks": ""
            },
            "colorscale": [
             [
              0,
              "#0d0887"
             ],
             [
              0.1111111111111111,
              "#46039f"
             ],
             [
              0.2222222222222222,
              "#7201a8"
             ],
             [
              0.3333333333333333,
              "#9c179e"
             ],
             [
              0.4444444444444444,
              "#bd3786"
             ],
             [
              0.5555555555555556,
              "#d8576b"
             ],
             [
              0.6666666666666666,
              "#ed7953"
             ],
             [
              0.7777777777777778,
              "#fb9f3a"
             ],
             [
              0.8888888888888888,
              "#fdca26"
             ],
             [
              1,
              "#f0f921"
             ]
            ],
            "type": "heatmapgl"
           }
          ],
          "histogram": [
           {
            "marker": {
             "pattern": {
              "fillmode": "overlay",
              "size": 10,
              "solidity": 0.2
             }
            },
            "type": "histogram"
           }
          ],
          "histogram2d": [
           {
            "colorbar": {
             "outlinewidth": 0,
             "ticks": ""
            },
            "colorscale": [
             [
              0,
              "#0d0887"
             ],
             [
              0.1111111111111111,
              "#46039f"
             ],
             [
              0.2222222222222222,
              "#7201a8"
             ],
             [
              0.3333333333333333,
              "#9c179e"
             ],
             [
              0.4444444444444444,
              "#bd3786"
             ],
             [
              0.5555555555555556,
              "#d8576b"
             ],
             [
              0.6666666666666666,
              "#ed7953"
             ],
             [
              0.7777777777777778,
              "#fb9f3a"
             ],
             [
              0.8888888888888888,
              "#fdca26"
             ],
             [
              1,
              "#f0f921"
             ]
            ],
            "type": "histogram2d"
           }
          ],
          "histogram2dcontour": [
           {
            "colorbar": {
             "outlinewidth": 0,
             "ticks": ""
            },
            "colorscale": [
             [
              0,
              "#0d0887"
             ],
             [
              0.1111111111111111,
              "#46039f"
             ],
             [
              0.2222222222222222,
              "#7201a8"
             ],
             [
              0.3333333333333333,
              "#9c179e"
             ],
             [
              0.4444444444444444,
              "#bd3786"
             ],
             [
              0.5555555555555556,
              "#d8576b"
             ],
             [
              0.6666666666666666,
              "#ed7953"
             ],
             [
              0.7777777777777778,
              "#fb9f3a"
             ],
             [
              0.8888888888888888,
              "#fdca26"
             ],
             [
              1,
              "#f0f921"
             ]
            ],
            "type": "histogram2dcontour"
           }
          ],
          "mesh3d": [
           {
            "colorbar": {
             "outlinewidth": 0,
             "ticks": ""
            },
            "type": "mesh3d"
           }
          ],
          "parcoords": [
           {
            "line": {
             "colorbar": {
              "outlinewidth": 0,
              "ticks": ""
             }
            },
            "type": "parcoords"
           }
          ],
          "pie": [
           {
            "automargin": true,
            "type": "pie"
           }
          ],
          "scatter": [
           {
            "fillpattern": {
             "fillmode": "overlay",
             "size": 10,
             "solidity": 0.2
            },
            "type": "scatter"
           }
          ],
          "scatter3d": [
           {
            "line": {
             "colorbar": {
              "outlinewidth": 0,
              "ticks": ""
             }
            },
            "marker": {
             "colorbar": {
              "outlinewidth": 0,
              "ticks": ""
             }
            },
            "type": "scatter3d"
           }
          ],
          "scattercarpet": [
           {
            "marker": {
             "colorbar": {
              "outlinewidth": 0,
              "ticks": ""
             }
            },
            "type": "scattercarpet"
           }
          ],
          "scattergeo": [
           {
            "marker": {
             "colorbar": {
              "outlinewidth": 0,
              "ticks": ""
             }
            },
            "type": "scattergeo"
           }
          ],
          "scattergl": [
           {
            "marker": {
             "colorbar": {
              "outlinewidth": 0,
              "ticks": ""
             }
            },
            "type": "scattergl"
           }
          ],
          "scattermapbox": [
           {
            "marker": {
             "colorbar": {
              "outlinewidth": 0,
              "ticks": ""
             }
            },
            "type": "scattermapbox"
           }
          ],
          "scatterpolar": [
           {
            "marker": {
             "colorbar": {
              "outlinewidth": 0,
              "ticks": ""
             }
            },
            "type": "scatterpolar"
           }
          ],
          "scatterpolargl": [
           {
            "marker": {
             "colorbar": {
              "outlinewidth": 0,
              "ticks": ""
             }
            },
            "type": "scatterpolargl"
           }
          ],
          "scatterternary": [
           {
            "marker": {
             "colorbar": {
              "outlinewidth": 0,
              "ticks": ""
             }
            },
            "type": "scatterternary"
           }
          ],
          "surface": [
           {
            "colorbar": {
             "outlinewidth": 0,
             "ticks": ""
            },
            "colorscale": [
             [
              0,
              "#0d0887"
             ],
             [
              0.1111111111111111,
              "#46039f"
             ],
             [
              0.2222222222222222,
              "#7201a8"
             ],
             [
              0.3333333333333333,
              "#9c179e"
             ],
             [
              0.4444444444444444,
              "#bd3786"
             ],
             [
              0.5555555555555556,
              "#d8576b"
             ],
             [
              0.6666666666666666,
              "#ed7953"
             ],
             [
              0.7777777777777778,
              "#fb9f3a"
             ],
             [
              0.8888888888888888,
              "#fdca26"
             ],
             [
              1,
              "#f0f921"
             ]
            ],
            "type": "surface"
           }
          ],
          "table": [
           {
            "cells": {
             "fill": {
              "color": "#EBF0F8"
             },
             "line": {
              "color": "white"
             }
            },
            "header": {
             "fill": {
              "color": "#C8D4E3"
             },
             "line": {
              "color": "white"
             }
            },
            "type": "table"
           }
          ]
         },
         "layout": {
          "annotationdefaults": {
           "arrowcolor": "#2a3f5f",
           "arrowhead": 0,
           "arrowwidth": 1
          },
          "autotypenumbers": "strict",
          "coloraxis": {
           "colorbar": {
            "outlinewidth": 0,
            "ticks": ""
           }
          },
          "colorscale": {
           "diverging": [
            [
             0,
             "#8e0152"
            ],
            [
             0.1,
             "#c51b7d"
            ],
            [
             0.2,
             "#de77ae"
            ],
            [
             0.3,
             "#f1b6da"
            ],
            [
             0.4,
             "#fde0ef"
            ],
            [
             0.5,
             "#f7f7f7"
            ],
            [
             0.6,
             "#e6f5d0"
            ],
            [
             0.7,
             "#b8e186"
            ],
            [
             0.8,
             "#7fbc41"
            ],
            [
             0.9,
             "#4d9221"
            ],
            [
             1,
             "#276419"
            ]
           ],
           "sequential": [
            [
             0,
             "#0d0887"
            ],
            [
             0.1111111111111111,
             "#46039f"
            ],
            [
             0.2222222222222222,
             "#7201a8"
            ],
            [
             0.3333333333333333,
             "#9c179e"
            ],
            [
             0.4444444444444444,
             "#bd3786"
            ],
            [
             0.5555555555555556,
             "#d8576b"
            ],
            [
             0.6666666666666666,
             "#ed7953"
            ],
            [
             0.7777777777777778,
             "#fb9f3a"
            ],
            [
             0.8888888888888888,
             "#fdca26"
            ],
            [
             1,
             "#f0f921"
            ]
           ],
           "sequentialminus": [
            [
             0,
             "#0d0887"
            ],
            [
             0.1111111111111111,
             "#46039f"
            ],
            [
             0.2222222222222222,
             "#7201a8"
            ],
            [
             0.3333333333333333,
             "#9c179e"
            ],
            [
             0.4444444444444444,
             "#bd3786"
            ],
            [
             0.5555555555555556,
             "#d8576b"
            ],
            [
             0.6666666666666666,
             "#ed7953"
            ],
            [
             0.7777777777777778,
             "#fb9f3a"
            ],
            [
             0.8888888888888888,
             "#fdca26"
            ],
            [
             1,
             "#f0f921"
            ]
           ]
          },
          "colorway": [
           "#636efa",
           "#EF553B",
           "#00cc96",
           "#ab63fa",
           "#FFA15A",
           "#19d3f3",
           "#FF6692",
           "#B6E880",
           "#FF97FF",
           "#FECB52"
          ],
          "font": {
           "color": "#2a3f5f"
          },
          "geo": {
           "bgcolor": "white",
           "lakecolor": "white",
           "landcolor": "#E5ECF6",
           "showlakes": true,
           "showland": true,
           "subunitcolor": "white"
          },
          "hoverlabel": {
           "align": "left"
          },
          "hovermode": "closest",
          "mapbox": {
           "style": "light"
          },
          "paper_bgcolor": "white",
          "plot_bgcolor": "#E5ECF6",
          "polar": {
           "angularaxis": {
            "gridcolor": "white",
            "linecolor": "white",
            "ticks": ""
           },
           "bgcolor": "#E5ECF6",
           "radialaxis": {
            "gridcolor": "white",
            "linecolor": "white",
            "ticks": ""
           }
          },
          "scene": {
           "xaxis": {
            "backgroundcolor": "#E5ECF6",
            "gridcolor": "white",
            "gridwidth": 2,
            "linecolor": "white",
            "showbackground": true,
            "ticks": "",
            "zerolinecolor": "white"
           },
           "yaxis": {
            "backgroundcolor": "#E5ECF6",
            "gridcolor": "white",
            "gridwidth": 2,
            "linecolor": "white",
            "showbackground": true,
            "ticks": "",
            "zerolinecolor": "white"
           },
           "zaxis": {
            "backgroundcolor": "#E5ECF6",
            "gridcolor": "white",
            "gridwidth": 2,
            "linecolor": "white",
            "showbackground": true,
            "ticks": "",
            "zerolinecolor": "white"
           }
          },
          "shapedefaults": {
           "line": {
            "color": "#2a3f5f"
           }
          },
          "ternary": {
           "aaxis": {
            "gridcolor": "white",
            "linecolor": "white",
            "ticks": ""
           },
           "baxis": {
            "gridcolor": "white",
            "linecolor": "white",
            "ticks": ""
           },
           "bgcolor": "#E5ECF6",
           "caxis": {
            "gridcolor": "white",
            "linecolor": "white",
            "ticks": ""
           }
          },
          "title": {
           "x": 0.05
          },
          "xaxis": {
           "automargin": true,
           "gridcolor": "white",
           "linecolor": "white",
           "ticks": "",
           "title": {
            "standoff": 15
           },
           "zerolinecolor": "white",
           "zerolinewidth": 2
          },
          "yaxis": {
           "automargin": true,
           "gridcolor": "white",
           "linecolor": "white",
           "ticks": "",
           "title": {
            "standoff": 15
           },
           "zerolinecolor": "white",
           "zerolinewidth": 2
          }
         }
        }
       }
      }
     },
     "metadata": {},
     "output_type": "display_data"
    }
   ],
   "source": [
    "px.scatter_3d(scores_df,x='PC1',y='PC2',z='PC3')"
   ]
  },
  {
   "cell_type": "code",
   "execution_count": 144,
   "metadata": {},
   "outputs": [
    {
     "data": {
      "text/html": [
       "<div>\n",
       "<style scoped>\n",
       "    .dataframe tbody tr th:only-of-type {\n",
       "        vertical-align: middle;\n",
       "    }\n",
       "\n",
       "    .dataframe tbody tr th {\n",
       "        vertical-align: top;\n",
       "    }\n",
       "\n",
       "    .dataframe thead th {\n",
       "        text-align: right;\n",
       "    }\n",
       "</style>\n",
       "<table border=\"1\" class=\"dataframe\">\n",
       "  <thead>\n",
       "    <tr style=\"text-align: right;\">\n",
       "      <th></th>\n",
       "      <th></th>\n",
       "      <th>58PDI1202.PV</th>\n",
       "      <th>58TI3246.PV</th>\n",
       "      <th>58PIC3226A.PV</th>\n",
       "      <th>58HIC3225.MV</th>\n",
       "      <th>58ZI3225.PV</th>\n",
       "      <th>58PI3239.PV</th>\n",
       "      <th>58TI3230.PV</th>\n",
       "      <th>58TI3231.PV</th>\n",
       "      <th>58PI3209.PV</th>\n",
       "      <th>58TI3208.PV</th>\n",
       "      <th>...</th>\n",
       "      <th>58VI3118B.PV</th>\n",
       "      <th>58TI3113.PV</th>\n",
       "      <th>58VI3233A.PV</th>\n",
       "      <th>58VI3233B.PV</th>\n",
       "      <th>58TI3232.PV</th>\n",
       "      <th>58TI3234.PV</th>\n",
       "      <th>58TI3414.PV</th>\n",
       "      <th>58PI3314.PV</th>\n",
       "      <th>58PI3107.PV</th>\n",
       "      <th>58LI3403.PV</th>\n",
       "    </tr>\n",
       "    <tr>\n",
       "      <th>Date</th>\n",
       "      <th>Time</th>\n",
       "      <th></th>\n",
       "      <th></th>\n",
       "      <th></th>\n",
       "      <th></th>\n",
       "      <th></th>\n",
       "      <th></th>\n",
       "      <th></th>\n",
       "      <th></th>\n",
       "      <th></th>\n",
       "      <th></th>\n",
       "      <th></th>\n",
       "      <th></th>\n",
       "      <th></th>\n",
       "      <th></th>\n",
       "      <th></th>\n",
       "      <th></th>\n",
       "      <th></th>\n",
       "      <th></th>\n",
       "      <th></th>\n",
       "      <th></th>\n",
       "      <th></th>\n",
       "    </tr>\n",
       "  </thead>\n",
       "  <tbody>\n",
       "    <tr>\n",
       "      <th>2018-08-16 00:00:00</th>\n",
       "      <th>00:00:00</th>\n",
       "      <td>0.485438</td>\n",
       "      <td>13.704390</td>\n",
       "      <td>759.735596</td>\n",
       "      <td>82.490387</td>\n",
       "      <td>82.814613</td>\n",
       "      <td>168.270096</td>\n",
       "      <td>127.014091</td>\n",
       "      <td>22.268492</td>\n",
       "      <td>349.978271</td>\n",
       "      <td>85.172089</td>\n",
       "      <td>...</td>\n",
       "      <td>23.487450</td>\n",
       "      <td>76.504044</td>\n",
       "      <td>41.856094</td>\n",
       "      <td>33.768810</td>\n",
       "      <td>70.640869</td>\n",
       "      <td>74.101479</td>\n",
       "      <td>46.227104</td>\n",
       "      <td>308.491455</td>\n",
       "      <td>1386.177490</td>\n",
       "      <td>96.028496</td>\n",
       "    </tr>\n",
       "    <tr>\n",
       "      <th>2018-08-16 01:00:00</th>\n",
       "      <th>01:00:00</th>\n",
       "      <td>0.486443</td>\n",
       "      <td>14.682747</td>\n",
       "      <td>758.939575</td>\n",
       "      <td>84.825310</td>\n",
       "      <td>85.061035</td>\n",
       "      <td>168.685211</td>\n",
       "      <td>128.635193</td>\n",
       "      <td>22.674412</td>\n",
       "      <td>350.204132</td>\n",
       "      <td>85.504578</td>\n",
       "      <td>...</td>\n",
       "      <td>23.633106</td>\n",
       "      <td>76.478264</td>\n",
       "      <td>41.984322</td>\n",
       "      <td>33.921059</td>\n",
       "      <td>70.738480</td>\n",
       "      <td>74.173584</td>\n",
       "      <td>46.416500</td>\n",
       "      <td>307.626678</td>\n",
       "      <td>1383.323853</td>\n",
       "      <td>96.039764</td>\n",
       "    </tr>\n",
       "    <tr>\n",
       "      <th>2018-08-16 02:00:00</th>\n",
       "      <th>02:00:00</th>\n",
       "      <td>0.496587</td>\n",
       "      <td>14.022818</td>\n",
       "      <td>761.087402</td>\n",
       "      <td>84.914108</td>\n",
       "      <td>85.217781</td>\n",
       "      <td>169.251389</td>\n",
       "      <td>128.156845</td>\n",
       "      <td>22.561634</td>\n",
       "      <td>351.214966</td>\n",
       "      <td>85.411736</td>\n",
       "      <td>...</td>\n",
       "      <td>23.810165</td>\n",
       "      <td>76.530525</td>\n",
       "      <td>41.715927</td>\n",
       "      <td>34.148010</td>\n",
       "      <td>70.738480</td>\n",
       "      <td>74.236641</td>\n",
       "      <td>46.504772</td>\n",
       "      <td>307.028870</td>\n",
       "      <td>1381.364014</td>\n",
       "      <td>96.113159</td>\n",
       "    </tr>\n",
       "    <tr>\n",
       "      <th>2018-08-16 03:00:00</th>\n",
       "      <th>03:00:00</th>\n",
       "      <td>0.532740</td>\n",
       "      <td>13.443664</td>\n",
       "      <td>759.993347</td>\n",
       "      <td>83.618591</td>\n",
       "      <td>83.950287</td>\n",
       "      <td>168.628265</td>\n",
       "      <td>127.136993</td>\n",
       "      <td>22.304523</td>\n",
       "      <td>350.304291</td>\n",
       "      <td>85.164139</td>\n",
       "      <td>...</td>\n",
       "      <td>23.006880</td>\n",
       "      <td>76.759766</td>\n",
       "      <td>42.757172</td>\n",
       "      <td>33.967159</td>\n",
       "      <td>70.592285</td>\n",
       "      <td>74.064438</td>\n",
       "      <td>46.162468</td>\n",
       "      <td>308.572327</td>\n",
       "      <td>1385.243042</td>\n",
       "      <td>95.938889</td>\n",
       "    </tr>\n",
       "    <tr>\n",
       "      <th>2018-08-16 04:00:00</th>\n",
       "      <th>04:00:00</th>\n",
       "      <td>0.584378</td>\n",
       "      <td>12.676052</td>\n",
       "      <td>760.262573</td>\n",
       "      <td>82.454002</td>\n",
       "      <td>82.755478</td>\n",
       "      <td>168.529510</td>\n",
       "      <td>126.012871</td>\n",
       "      <td>22.126286</td>\n",
       "      <td>350.265015</td>\n",
       "      <td>84.979736</td>\n",
       "      <td>...</td>\n",
       "      <td>22.874638</td>\n",
       "      <td>77.681564</td>\n",
       "      <td>43.185646</td>\n",
       "      <td>35.361031</td>\n",
       "      <td>70.485199</td>\n",
       "      <td>73.977112</td>\n",
       "      <td>45.805019</td>\n",
       "      <td>310.387726</td>\n",
       "      <td>1389.648071</td>\n",
       "      <td>95.648880</td>\n",
       "    </tr>\n",
       "    <tr>\n",
       "      <th>...</th>\n",
       "      <th>...</th>\n",
       "      <td>...</td>\n",
       "      <td>...</td>\n",
       "      <td>...</td>\n",
       "      <td>...</td>\n",
       "      <td>...</td>\n",
       "      <td>...</td>\n",
       "      <td>...</td>\n",
       "      <td>...</td>\n",
       "      <td>...</td>\n",
       "      <td>...</td>\n",
       "      <td>...</td>\n",
       "      <td>...</td>\n",
       "      <td>...</td>\n",
       "      <td>...</td>\n",
       "      <td>...</td>\n",
       "      <td>...</td>\n",
       "      <td>...</td>\n",
       "      <td>...</td>\n",
       "      <td>...</td>\n",
       "      <td>...</td>\n",
       "      <td>...</td>\n",
       "    </tr>\n",
       "    <tr>\n",
       "      <th>2018-08-24 01:00:00</th>\n",
       "      <th>01:00:00</th>\n",
       "      <td>0.473993</td>\n",
       "      <td>11.786310</td>\n",
       "      <td>760.520081</td>\n",
       "      <td>77.178696</td>\n",
       "      <td>77.820496</td>\n",
       "      <td>166.596039</td>\n",
       "      <td>123.442291</td>\n",
       "      <td>20.819235</td>\n",
       "      <td>348.574005</td>\n",
       "      <td>83.701340</td>\n",
       "      <td>...</td>\n",
       "      <td>22.990658</td>\n",
       "      <td>77.625931</td>\n",
       "      <td>40.363670</td>\n",
       "      <td>33.927650</td>\n",
       "      <td>70.351501</td>\n",
       "      <td>73.794785</td>\n",
       "      <td>45.797623</td>\n",
       "      <td>309.746033</td>\n",
       "      <td>1388.534424</td>\n",
       "      <td>95.493912</td>\n",
       "    </tr>\n",
       "    <tr>\n",
       "      <th>2018-08-24 02:00:00</th>\n",
       "      <th>02:00:00</th>\n",
       "      <td>0.467463</td>\n",
       "      <td>11.900259</td>\n",
       "      <td>760.181030</td>\n",
       "      <td>77.017929</td>\n",
       "      <td>77.817200</td>\n",
       "      <td>166.178986</td>\n",
       "      <td>123.550011</td>\n",
       "      <td>20.495556</td>\n",
       "      <td>348.061554</td>\n",
       "      <td>83.390305</td>\n",
       "      <td>...</td>\n",
       "      <td>22.288027</td>\n",
       "      <td>78.207901</td>\n",
       "      <td>41.000538</td>\n",
       "      <td>33.817520</td>\n",
       "      <td>70.213913</td>\n",
       "      <td>73.605209</td>\n",
       "      <td>45.528351</td>\n",
       "      <td>310.769257</td>\n",
       "      <td>1390.792725</td>\n",
       "      <td>95.407166</td>\n",
       "    </tr>\n",
       "    <tr>\n",
       "      <th>2018-08-24 03:00:00</th>\n",
       "      <th>03:00:00</th>\n",
       "      <td>0.464840</td>\n",
       "      <td>11.657276</td>\n",
       "      <td>760.728271</td>\n",
       "      <td>76.772148</td>\n",
       "      <td>77.409386</td>\n",
       "      <td>166.037354</td>\n",
       "      <td>123.248230</td>\n",
       "      <td>20.243111</td>\n",
       "      <td>348.021545</td>\n",
       "      <td>83.107590</td>\n",
       "      <td>...</td>\n",
       "      <td>21.714409</td>\n",
       "      <td>78.645752</td>\n",
       "      <td>42.541042</td>\n",
       "      <td>33.271301</td>\n",
       "      <td>70.082870</td>\n",
       "      <td>73.389854</td>\n",
       "      <td>45.104935</td>\n",
       "      <td>312.714050</td>\n",
       "      <td>1395.204346</td>\n",
       "      <td>95.123466</td>\n",
       "    </tr>\n",
       "    <tr>\n",
       "      <th>2018-08-24 04:00:00</th>\n",
       "      <th>04:00:00</th>\n",
       "      <td>0.467145</td>\n",
       "      <td>11.132824</td>\n",
       "      <td>760.498901</td>\n",
       "      <td>75.521309</td>\n",
       "      <td>76.357529</td>\n",
       "      <td>165.655212</td>\n",
       "      <td>122.510582</td>\n",
       "      <td>19.950104</td>\n",
       "      <td>347.567444</td>\n",
       "      <td>82.829147</td>\n",
       "      <td>...</td>\n",
       "      <td>22.560356</td>\n",
       "      <td>78.643066</td>\n",
       "      <td>43.564651</td>\n",
       "      <td>32.213875</td>\n",
       "      <td>70.060699</td>\n",
       "      <td>73.233437</td>\n",
       "      <td>44.747948</td>\n",
       "      <td>314.445190</td>\n",
       "      <td>1399.405029</td>\n",
       "      <td>94.838837</td>\n",
       "    </tr>\n",
       "    <tr>\n",
       "      <th>2018-08-24 05:00:00</th>\n",
       "      <th>05:00:00</th>\n",
       "      <td>0.468127</td>\n",
       "      <td>10.911824</td>\n",
       "      <td>760.193115</td>\n",
       "      <td>75.030769</td>\n",
       "      <td>75.882812</td>\n",
       "      <td>165.509659</td>\n",
       "      <td>122.077087</td>\n",
       "      <td>19.870119</td>\n",
       "      <td>347.370697</td>\n",
       "      <td>82.747231</td>\n",
       "      <td>...</td>\n",
       "      <td>22.755892</td>\n",
       "      <td>78.610199</td>\n",
       "      <td>43.956718</td>\n",
       "      <td>31.639442</td>\n",
       "      <td>70.037277</td>\n",
       "      <td>73.157028</td>\n",
       "      <td>44.601780</td>\n",
       "      <td>315.065063</td>\n",
       "      <td>1401.377930</td>\n",
       "      <td>94.677277</td>\n",
       "    </tr>\n",
       "  </tbody>\n",
       "</table>\n",
       "<p>192 rows × 109 columns</p>\n",
       "</div>"
      ],
      "text/plain": [
       "                              58PDI1202.PV  58TI3246.PV  58PIC3226A.PV  \\\n",
       "Date                Time                                                 \n",
       "2018-08-16 00:00:00 00:00:00      0.485438    13.704390     759.735596   \n",
       "2018-08-16 01:00:00 01:00:00      0.486443    14.682747     758.939575   \n",
       "2018-08-16 02:00:00 02:00:00      0.496587    14.022818     761.087402   \n",
       "2018-08-16 03:00:00 03:00:00      0.532740    13.443664     759.993347   \n",
       "2018-08-16 04:00:00 04:00:00      0.584378    12.676052     760.262573   \n",
       "...                                    ...          ...            ...   \n",
       "2018-08-24 01:00:00 01:00:00      0.473993    11.786310     760.520081   \n",
       "2018-08-24 02:00:00 02:00:00      0.467463    11.900259     760.181030   \n",
       "2018-08-24 03:00:00 03:00:00      0.464840    11.657276     760.728271   \n",
       "2018-08-24 04:00:00 04:00:00      0.467145    11.132824     760.498901   \n",
       "2018-08-24 05:00:00 05:00:00      0.468127    10.911824     760.193115   \n",
       "\n",
       "                              58HIC3225.MV  58ZI3225.PV  58PI3239.PV  \\\n",
       "Date                Time                                               \n",
       "2018-08-16 00:00:00 00:00:00     82.490387    82.814613   168.270096   \n",
       "2018-08-16 01:00:00 01:00:00     84.825310    85.061035   168.685211   \n",
       "2018-08-16 02:00:00 02:00:00     84.914108    85.217781   169.251389   \n",
       "2018-08-16 03:00:00 03:00:00     83.618591    83.950287   168.628265   \n",
       "2018-08-16 04:00:00 04:00:00     82.454002    82.755478   168.529510   \n",
       "...                                    ...          ...          ...   \n",
       "2018-08-24 01:00:00 01:00:00     77.178696    77.820496   166.596039   \n",
       "2018-08-24 02:00:00 02:00:00     77.017929    77.817200   166.178986   \n",
       "2018-08-24 03:00:00 03:00:00     76.772148    77.409386   166.037354   \n",
       "2018-08-24 04:00:00 04:00:00     75.521309    76.357529   165.655212   \n",
       "2018-08-24 05:00:00 05:00:00     75.030769    75.882812   165.509659   \n",
       "\n",
       "                              58TI3230.PV  58TI3231.PV  58PI3209.PV  \\\n",
       "Date                Time                                              \n",
       "2018-08-16 00:00:00 00:00:00   127.014091    22.268492   349.978271   \n",
       "2018-08-16 01:00:00 01:00:00   128.635193    22.674412   350.204132   \n",
       "2018-08-16 02:00:00 02:00:00   128.156845    22.561634   351.214966   \n",
       "2018-08-16 03:00:00 03:00:00   127.136993    22.304523   350.304291   \n",
       "2018-08-16 04:00:00 04:00:00   126.012871    22.126286   350.265015   \n",
       "...                                   ...          ...          ...   \n",
       "2018-08-24 01:00:00 01:00:00   123.442291    20.819235   348.574005   \n",
       "2018-08-24 02:00:00 02:00:00   123.550011    20.495556   348.061554   \n",
       "2018-08-24 03:00:00 03:00:00   123.248230    20.243111   348.021545   \n",
       "2018-08-24 04:00:00 04:00:00   122.510582    19.950104   347.567444   \n",
       "2018-08-24 05:00:00 05:00:00   122.077087    19.870119   347.370697   \n",
       "\n",
       "                              58TI3208.PV  ...  58VI3118B.PV  58TI3113.PV  \\\n",
       "Date                Time                   ...                              \n",
       "2018-08-16 00:00:00 00:00:00    85.172089  ...     23.487450    76.504044   \n",
       "2018-08-16 01:00:00 01:00:00    85.504578  ...     23.633106    76.478264   \n",
       "2018-08-16 02:00:00 02:00:00    85.411736  ...     23.810165    76.530525   \n",
       "2018-08-16 03:00:00 03:00:00    85.164139  ...     23.006880    76.759766   \n",
       "2018-08-16 04:00:00 04:00:00    84.979736  ...     22.874638    77.681564   \n",
       "...                                   ...  ...           ...          ...   \n",
       "2018-08-24 01:00:00 01:00:00    83.701340  ...     22.990658    77.625931   \n",
       "2018-08-24 02:00:00 02:00:00    83.390305  ...     22.288027    78.207901   \n",
       "2018-08-24 03:00:00 03:00:00    83.107590  ...     21.714409    78.645752   \n",
       "2018-08-24 04:00:00 04:00:00    82.829147  ...     22.560356    78.643066   \n",
       "2018-08-24 05:00:00 05:00:00    82.747231  ...     22.755892    78.610199   \n",
       "\n",
       "                              58VI3233A.PV  58VI3233B.PV  58TI3232.PV  \\\n",
       "Date                Time                                                \n",
       "2018-08-16 00:00:00 00:00:00     41.856094     33.768810    70.640869   \n",
       "2018-08-16 01:00:00 01:00:00     41.984322     33.921059    70.738480   \n",
       "2018-08-16 02:00:00 02:00:00     41.715927     34.148010    70.738480   \n",
       "2018-08-16 03:00:00 03:00:00     42.757172     33.967159    70.592285   \n",
       "2018-08-16 04:00:00 04:00:00     43.185646     35.361031    70.485199   \n",
       "...                                    ...           ...          ...   \n",
       "2018-08-24 01:00:00 01:00:00     40.363670     33.927650    70.351501   \n",
       "2018-08-24 02:00:00 02:00:00     41.000538     33.817520    70.213913   \n",
       "2018-08-24 03:00:00 03:00:00     42.541042     33.271301    70.082870   \n",
       "2018-08-24 04:00:00 04:00:00     43.564651     32.213875    70.060699   \n",
       "2018-08-24 05:00:00 05:00:00     43.956718     31.639442    70.037277   \n",
       "\n",
       "                              58TI3234.PV  58TI3414.PV  58PI3314.PV  \\\n",
       "Date                Time                                              \n",
       "2018-08-16 00:00:00 00:00:00    74.101479    46.227104   308.491455   \n",
       "2018-08-16 01:00:00 01:00:00    74.173584    46.416500   307.626678   \n",
       "2018-08-16 02:00:00 02:00:00    74.236641    46.504772   307.028870   \n",
       "2018-08-16 03:00:00 03:00:00    74.064438    46.162468   308.572327   \n",
       "2018-08-16 04:00:00 04:00:00    73.977112    45.805019   310.387726   \n",
       "...                                   ...          ...          ...   \n",
       "2018-08-24 01:00:00 01:00:00    73.794785    45.797623   309.746033   \n",
       "2018-08-24 02:00:00 02:00:00    73.605209    45.528351   310.769257   \n",
       "2018-08-24 03:00:00 03:00:00    73.389854    45.104935   312.714050   \n",
       "2018-08-24 04:00:00 04:00:00    73.233437    44.747948   314.445190   \n",
       "2018-08-24 05:00:00 05:00:00    73.157028    44.601780   315.065063   \n",
       "\n",
       "                              58PI3107.PV  58LI3403.PV  \n",
       "Date                Time                                \n",
       "2018-08-16 00:00:00 00:00:00  1386.177490    96.028496  \n",
       "2018-08-16 01:00:00 01:00:00  1383.323853    96.039764  \n",
       "2018-08-16 02:00:00 02:00:00  1381.364014    96.113159  \n",
       "2018-08-16 03:00:00 03:00:00  1385.243042    95.938889  \n",
       "2018-08-16 04:00:00 04:00:00  1389.648071    95.648880  \n",
       "...                                   ...          ...  \n",
       "2018-08-24 01:00:00 01:00:00  1388.534424    95.493912  \n",
       "2018-08-24 02:00:00 02:00:00  1390.792725    95.407166  \n",
       "2018-08-24 03:00:00 03:00:00  1395.204346    95.123466  \n",
       "2018-08-24 04:00:00 04:00:00  1399.405029    94.838837  \n",
       "2018-08-24 05:00:00 05:00:00  1401.377930    94.677277  \n",
       "\n",
       "[192 rows x 109 columns]"
      ]
     },
     "execution_count": 144,
     "metadata": {},
     "output_type": "execute_result"
    }
   ],
   "source": [
    "df"
   ]
  },
  {
   "cell_type": "code",
   "execution_count": 157,
   "metadata": {},
   "outputs": [
    {
     "data": {
      "text/plain": [
       "array([[-8.31806505e-01, -1.40966627e+00, -6.49151324e-01, ...,\n",
       "        -5.80109356e-16,  9.21325459e-16,  3.41520554e-17],\n",
       "       [ 1.30884821e+00, -1.20207359e+00, -1.12462955e+00, ...,\n",
       "        -5.91031701e-16, -4.37558952e-16,  3.53253782e-17],\n",
       "       [ 6.95630517e-01, -1.76299865e+00, -3.78923278e+00, ...,\n",
       "        -6.13415663e-16, -8.46475386e-16, -1.79077137e-16],\n",
       "       ...,\n",
       "       [-8.42694845e+00, -4.70692831e+00, -1.58974193e+00, ...,\n",
       "        -2.10281797e-16,  5.64172095e-16, -5.59056281e-17],\n",
       "       [-1.00180269e+01, -4.78739601e+00,  6.11660842e-02, ...,\n",
       "        -2.58847182e-16,  3.43175171e-16,  5.63126733e-17],\n",
       "       [-1.08495555e+01, -4.72785982e+00,  1.34036068e+00, ...,\n",
       "        -7.35501329e-17,  5.10366129e-16,  8.98002610e-17]])"
      ]
     },
     "execution_count": 157,
     "metadata": {},
     "output_type": "execute_result"
    }
   ],
   "source": [
    "# scaling the data\n",
    "from sklearn import preprocessing\n",
    "import pandas as pd\n",
    "import numpy as np\n",
    "# scaling the data\n",
    "from sklearn import preprocessing\n",
    "import sklearn\n",
    "pca = sklearn.decomposition.PCA()\n",
    "scaled_d = preprocessing.scale(df)\n",
    "scaled_d.size\n",
    "pca.fit(scaled_d)\n",
    "pca_data = pca.transform(scaled_d)\n",
    "pca_data"
   ]
  },
  {
   "cell_type": "code",
   "execution_count": 166,
   "metadata": {},
   "outputs": [
    {
     "data": {
      "text/plain": [
       "array([5.14369538e+01, 1.66706427e+01, 6.63492639e+00, 5.95885332e+00,\n",
       "       3.86918212e+00, 2.69278842e+00, 2.04733095e+00, 1.47414857e+00,\n",
       "       1.26961273e+00, 1.04905313e+00, 8.82003626e-01, 6.99801902e-01,\n",
       "       6.48030503e-01, 5.99626645e-01, 4.69670401e-01, 4.41996749e-01,\n",
       "       4.00468931e-01, 3.93048456e-01, 2.92599192e-01, 2.51842653e-01,\n",
       "       2.16098905e-01, 1.93949736e-01, 1.63947061e-01, 1.46189667e-01,\n",
       "       1.17776510e-01, 9.93228690e-02, 9.12268854e-02, 8.80813803e-02,\n",
       "       7.08775148e-02, 6.86689048e-02, 6.25737554e-02, 5.63273406e-02,\n",
       "       5.13317824e-02, 4.23066482e-02, 3.69410061e-02, 3.30950065e-02,\n",
       "       3.24732576e-02, 2.65530996e-02, 2.33117812e-02, 1.89215381e-02,\n",
       "       1.79322842e-02, 1.57244142e-02, 1.32882978e-02, 1.23051115e-02,\n",
       "       1.12494449e-02, 1.07821127e-02, 9.38374307e-03, 8.51156135e-03,\n",
       "       7.76606533e-03, 6.93175820e-03, 6.76146967e-03, 6.29991796e-03,\n",
       "       5.17118337e-03, 4.51710540e-03, 4.06368212e-03, 3.70172456e-03,\n",
       "       3.46564915e-03, 3.14107227e-03, 2.82756928e-03, 2.58034539e-03,\n",
       "       2.20825908e-03, 1.99729374e-03, 1.83152378e-03, 1.65808780e-03,\n",
       "       1.33470750e-03, 1.28610192e-03, 1.13992668e-03, 1.00990480e-03,\n",
       "       8.72622373e-04, 7.49426766e-04, 7.36933703e-04, 5.96297741e-04,\n",
       "       5.54285527e-04, 5.37525867e-04, 4.88539448e-04, 4.19442434e-04,\n",
       "       4.03716308e-04, 3.88259713e-04, 3.56113452e-04, 3.04723011e-04,\n",
       "       2.64079364e-04, 2.56864262e-04, 2.26320743e-04, 1.78214977e-04,\n",
       "       1.74477694e-04, 1.44358076e-04, 1.35782760e-04, 1.11830914e-04,\n",
       "       1.08198916e-04, 1.04139694e-04, 8.82652047e-05, 7.96829226e-05,\n",
       "       6.03605676e-05, 5.59976358e-05, 5.46181148e-05, 3.40767782e-05,\n",
       "       2.51454220e-05, 1.92998952e-05, 1.67826731e-05, 1.41004599e-05,\n",
       "       7.25450951e-06, 3.70952266e-06, 2.38439217e-06, 3.71194704e-08,\n",
       "       2.08394620e-08, 6.42277174e-09, 2.00122827e-31, 2.00122827e-31,\n",
       "       2.00122827e-31])"
      ]
     },
     "execution_count": 166,
     "metadata": {},
     "output_type": "execute_result"
    }
   ],
   "source": [
    "per_ver = pca.explained_variance_ratio_*100 \n",
    "per_ver\n"
   ]
  },
  {
   "cell_type": "code",
   "execution_count": 165,
   "metadata": {},
   "outputs": [
    {
     "data": {
      "application/vnd.plotly.v1+json": {
       "config": {
        "plotlyServerURL": "https://plot.ly"
       },
       "data": [
        {
         "alignmentgroup": "True",
         "hovertemplate": "variable=0<br>index=%{x}<br>value=%{y}<extra></extra>",
         "legendgroup": "0",
         "marker": {
          "color": "#636efa",
          "pattern": {
           "shape": ""
          }
         },
         "name": "0",
         "offsetgroup": "0",
         "orientation": "v",
         "showlegend": true,
         "textposition": "auto",
         "type": "bar",
         "x": [
          0,
          1,
          2,
          3,
          4,
          5,
          6,
          7,
          8,
          9,
          10,
          11,
          12,
          13,
          14,
          15,
          16,
          17,
          18,
          19,
          20,
          21,
          22,
          23,
          24,
          25,
          26,
          27,
          28,
          29,
          30,
          31,
          32,
          33,
          34,
          35,
          36,
          37,
          38,
          39,
          40,
          41,
          42,
          43,
          44,
          45,
          46,
          47,
          48,
          49,
          50,
          51,
          52,
          53,
          54,
          55,
          56,
          57,
          58,
          59,
          60,
          61,
          62,
          63,
          64,
          65,
          66,
          67,
          68,
          69,
          70,
          71,
          72,
          73,
          74,
          75,
          76,
          77,
          78,
          79,
          80,
          81,
          82,
          83,
          84,
          85,
          86,
          87,
          88,
          89,
          90,
          91,
          92,
          93,
          94,
          95,
          96,
          97,
          98,
          99,
          100,
          101,
          102,
          103,
          104,
          105,
          106,
          107,
          108
         ],
         "xaxis": "x",
         "y": [
          51.43695378191532,
          16.67064266547295,
          6.6349263875323405,
          5.958853322028673,
          3.869182121829385,
          2.692788418346431,
          2.047330953329847,
          1.4741485739583968,
          1.2696127297064606,
          1.0490531254524906,
          0.8820036261006298,
          0.6998019015543305,
          0.6480305033886593,
          0.5996266453767295,
          0.46967040144942046,
          0.44199674852369986,
          0.4004689307773746,
          0.39304845646896786,
          0.29259919170537557,
          0.2518426529667505,
          0.21609890507952081,
          0.19394973550653308,
          0.16394706148813748,
          0.1461896665883916,
          0.11777650951674919,
          0.09932286899977441,
          0.09122688537678454,
          0.08808138034859912,
          0.07087751475278464,
          0.06866890476464128,
          0.06257375544217429,
          0.05632734057073822,
          0.051331782420606854,
          0.04230664822280686,
          0.03694100611826512,
          0.033095006469342984,
          0.03247325756029485,
          0.026553099632627728,
          0.023311781234396877,
          0.01892153807799925,
          0.017932284218596082,
          0.015724414211821608,
          0.01328829777129186,
          0.012305111490756759,
          0.011249444864190574,
          0.010782112740687223,
          0.009383743072328001,
          0.008511561351158997,
          0.007766065333563832,
          0.00693175819651366,
          0.006761469666872564,
          0.006299917959553356,
          0.005171183368467776,
          0.0045171053992954634,
          0.004063682121027097,
          0.0037017245603022555,
          0.003465649145688774,
          0.0031410722733845454,
          0.0028275692805885895,
          0.0025803453893584,
          0.002208259081841085,
          0.0019972937392111977,
          0.0018315237803451932,
          0.0016580877976851364,
          0.0013347075032519953,
          0.001286101922941981,
          0.0011399266833264227,
          0.0010099047997800474,
          0.0008726223725834102,
          0.0007494267659459772,
          0.0007369337027109578,
          0.0005962977413514583,
          0.0005542855270408755,
          0.0005375258672462313,
          0.0004885394479160023,
          0.0004194424336743664,
          0.00040371630765837104,
          0.0003882597130142156,
          0.0003561134522265608,
          0.0003047230105436483,
          0.0002640793640892738,
          0.0002568642615481312,
          0.0002263207425223044,
          0.0001782149768352611,
          0.000174477693814737,
          0.00014435807567560912,
          0.00013578276039318612,
          0.00011183091395233374,
          0.00010819891586604403,
          0.00010413969413179187,
          0.0000882652046705747,
          0.00007968292261917794,
          0.00006036056759277509,
          0.00005599763581207468,
          0.000054618114839056,
          0.000034076778235986054,
          0.00002514542195491836,
          0.000019299895238568518,
          0.000016782673090950112,
          0.000014100459928309427,
          0.000007254509512081241,
          0.0000037095226603604357,
          0.0000023843921671935344,
          3.7119470356059095e-8,
          2.0839462009925112e-8,
          6.42277174111353e-9,
          2.0012282697622774e-31,
          2.0012282697622774e-31,
          2.0012282697622774e-31
         ],
         "yaxis": "y"
        }
       ],
       "layout": {
        "barmode": "relative",
        "legend": {
         "title": {
          "text": "variable"
         },
         "tracegroupgap": 0
        },
        "margin": {
         "t": 60
        },
        "template": {
         "data": {
          "bar": [
           {
            "error_x": {
             "color": "#2a3f5f"
            },
            "error_y": {
             "color": "#2a3f5f"
            },
            "marker": {
             "line": {
              "color": "#E5ECF6",
              "width": 0.5
             },
             "pattern": {
              "fillmode": "overlay",
              "size": 10,
              "solidity": 0.2
             }
            },
            "type": "bar"
           }
          ],
          "barpolar": [
           {
            "marker": {
             "line": {
              "color": "#E5ECF6",
              "width": 0.5
             },
             "pattern": {
              "fillmode": "overlay",
              "size": 10,
              "solidity": 0.2
             }
            },
            "type": "barpolar"
           }
          ],
          "carpet": [
           {
            "aaxis": {
             "endlinecolor": "#2a3f5f",
             "gridcolor": "white",
             "linecolor": "white",
             "minorgridcolor": "white",
             "startlinecolor": "#2a3f5f"
            },
            "baxis": {
             "endlinecolor": "#2a3f5f",
             "gridcolor": "white",
             "linecolor": "white",
             "minorgridcolor": "white",
             "startlinecolor": "#2a3f5f"
            },
            "type": "carpet"
           }
          ],
          "choropleth": [
           {
            "colorbar": {
             "outlinewidth": 0,
             "ticks": ""
            },
            "type": "choropleth"
           }
          ],
          "contour": [
           {
            "colorbar": {
             "outlinewidth": 0,
             "ticks": ""
            },
            "colorscale": [
             [
              0,
              "#0d0887"
             ],
             [
              0.1111111111111111,
              "#46039f"
             ],
             [
              0.2222222222222222,
              "#7201a8"
             ],
             [
              0.3333333333333333,
              "#9c179e"
             ],
             [
              0.4444444444444444,
              "#bd3786"
             ],
             [
              0.5555555555555556,
              "#d8576b"
             ],
             [
              0.6666666666666666,
              "#ed7953"
             ],
             [
              0.7777777777777778,
              "#fb9f3a"
             ],
             [
              0.8888888888888888,
              "#fdca26"
             ],
             [
              1,
              "#f0f921"
             ]
            ],
            "type": "contour"
           }
          ],
          "contourcarpet": [
           {
            "colorbar": {
             "outlinewidth": 0,
             "ticks": ""
            },
            "type": "contourcarpet"
           }
          ],
          "heatmap": [
           {
            "colorbar": {
             "outlinewidth": 0,
             "ticks": ""
            },
            "colorscale": [
             [
              0,
              "#0d0887"
             ],
             [
              0.1111111111111111,
              "#46039f"
             ],
             [
              0.2222222222222222,
              "#7201a8"
             ],
             [
              0.3333333333333333,
              "#9c179e"
             ],
             [
              0.4444444444444444,
              "#bd3786"
             ],
             [
              0.5555555555555556,
              "#d8576b"
             ],
             [
              0.6666666666666666,
              "#ed7953"
             ],
             [
              0.7777777777777778,
              "#fb9f3a"
             ],
             [
              0.8888888888888888,
              "#fdca26"
             ],
             [
              1,
              "#f0f921"
             ]
            ],
            "type": "heatmap"
           }
          ],
          "heatmapgl": [
           {
            "colorbar": {
             "outlinewidth": 0,
             "ticks": ""
            },
            "colorscale": [
             [
              0,
              "#0d0887"
             ],
             [
              0.1111111111111111,
              "#46039f"
             ],
             [
              0.2222222222222222,
              "#7201a8"
             ],
             [
              0.3333333333333333,
              "#9c179e"
             ],
             [
              0.4444444444444444,
              "#bd3786"
             ],
             [
              0.5555555555555556,
              "#d8576b"
             ],
             [
              0.6666666666666666,
              "#ed7953"
             ],
             [
              0.7777777777777778,
              "#fb9f3a"
             ],
             [
              0.8888888888888888,
              "#fdca26"
             ],
             [
              1,
              "#f0f921"
             ]
            ],
            "type": "heatmapgl"
           }
          ],
          "histogram": [
           {
            "marker": {
             "pattern": {
              "fillmode": "overlay",
              "size": 10,
              "solidity": 0.2
             }
            },
            "type": "histogram"
           }
          ],
          "histogram2d": [
           {
            "colorbar": {
             "outlinewidth": 0,
             "ticks": ""
            },
            "colorscale": [
             [
              0,
              "#0d0887"
             ],
             [
              0.1111111111111111,
              "#46039f"
             ],
             [
              0.2222222222222222,
              "#7201a8"
             ],
             [
              0.3333333333333333,
              "#9c179e"
             ],
             [
              0.4444444444444444,
              "#bd3786"
             ],
             [
              0.5555555555555556,
              "#d8576b"
             ],
             [
              0.6666666666666666,
              "#ed7953"
             ],
             [
              0.7777777777777778,
              "#fb9f3a"
             ],
             [
              0.8888888888888888,
              "#fdca26"
             ],
             [
              1,
              "#f0f921"
             ]
            ],
            "type": "histogram2d"
           }
          ],
          "histogram2dcontour": [
           {
            "colorbar": {
             "outlinewidth": 0,
             "ticks": ""
            },
            "colorscale": [
             [
              0,
              "#0d0887"
             ],
             [
              0.1111111111111111,
              "#46039f"
             ],
             [
              0.2222222222222222,
              "#7201a8"
             ],
             [
              0.3333333333333333,
              "#9c179e"
             ],
             [
              0.4444444444444444,
              "#bd3786"
             ],
             [
              0.5555555555555556,
              "#d8576b"
             ],
             [
              0.6666666666666666,
              "#ed7953"
             ],
             [
              0.7777777777777778,
              "#fb9f3a"
             ],
             [
              0.8888888888888888,
              "#fdca26"
             ],
             [
              1,
              "#f0f921"
             ]
            ],
            "type": "histogram2dcontour"
           }
          ],
          "mesh3d": [
           {
            "colorbar": {
             "outlinewidth": 0,
             "ticks": ""
            },
            "type": "mesh3d"
           }
          ],
          "parcoords": [
           {
            "line": {
             "colorbar": {
              "outlinewidth": 0,
              "ticks": ""
             }
            },
            "type": "parcoords"
           }
          ],
          "pie": [
           {
            "automargin": true,
            "type": "pie"
           }
          ],
          "scatter": [
           {
            "fillpattern": {
             "fillmode": "overlay",
             "size": 10,
             "solidity": 0.2
            },
            "type": "scatter"
           }
          ],
          "scatter3d": [
           {
            "line": {
             "colorbar": {
              "outlinewidth": 0,
              "ticks": ""
             }
            },
            "marker": {
             "colorbar": {
              "outlinewidth": 0,
              "ticks": ""
             }
            },
            "type": "scatter3d"
           }
          ],
          "scattercarpet": [
           {
            "marker": {
             "colorbar": {
              "outlinewidth": 0,
              "ticks": ""
             }
            },
            "type": "scattercarpet"
           }
          ],
          "scattergeo": [
           {
            "marker": {
             "colorbar": {
              "outlinewidth": 0,
              "ticks": ""
             }
            },
            "type": "scattergeo"
           }
          ],
          "scattergl": [
           {
            "marker": {
             "colorbar": {
              "outlinewidth": 0,
              "ticks": ""
             }
            },
            "type": "scattergl"
           }
          ],
          "scattermapbox": [
           {
            "marker": {
             "colorbar": {
              "outlinewidth": 0,
              "ticks": ""
             }
            },
            "type": "scattermapbox"
           }
          ],
          "scatterpolar": [
           {
            "marker": {
             "colorbar": {
              "outlinewidth": 0,
              "ticks": ""
             }
            },
            "type": "scatterpolar"
           }
          ],
          "scatterpolargl": [
           {
            "marker": {
             "colorbar": {
              "outlinewidth": 0,
              "ticks": ""
             }
            },
            "type": "scatterpolargl"
           }
          ],
          "scatterternary": [
           {
            "marker": {
             "colorbar": {
              "outlinewidth": 0,
              "ticks": ""
             }
            },
            "type": "scatterternary"
           }
          ],
          "surface": [
           {
            "colorbar": {
             "outlinewidth": 0,
             "ticks": ""
            },
            "colorscale": [
             [
              0,
              "#0d0887"
             ],
             [
              0.1111111111111111,
              "#46039f"
             ],
             [
              0.2222222222222222,
              "#7201a8"
             ],
             [
              0.3333333333333333,
              "#9c179e"
             ],
             [
              0.4444444444444444,
              "#bd3786"
             ],
             [
              0.5555555555555556,
              "#d8576b"
             ],
             [
              0.6666666666666666,
              "#ed7953"
             ],
             [
              0.7777777777777778,
              "#fb9f3a"
             ],
             [
              0.8888888888888888,
              "#fdca26"
             ],
             [
              1,
              "#f0f921"
             ]
            ],
            "type": "surface"
           }
          ],
          "table": [
           {
            "cells": {
             "fill": {
              "color": "#EBF0F8"
             },
             "line": {
              "color": "white"
             }
            },
            "header": {
             "fill": {
              "color": "#C8D4E3"
             },
             "line": {
              "color": "white"
             }
            },
            "type": "table"
           }
          ]
         },
         "layout": {
          "annotationdefaults": {
           "arrowcolor": "#2a3f5f",
           "arrowhead": 0,
           "arrowwidth": 1
          },
          "autotypenumbers": "strict",
          "coloraxis": {
           "colorbar": {
            "outlinewidth": 0,
            "ticks": ""
           }
          },
          "colorscale": {
           "diverging": [
            [
             0,
             "#8e0152"
            ],
            [
             0.1,
             "#c51b7d"
            ],
            [
             0.2,
             "#de77ae"
            ],
            [
             0.3,
             "#f1b6da"
            ],
            [
             0.4,
             "#fde0ef"
            ],
            [
             0.5,
             "#f7f7f7"
            ],
            [
             0.6,
             "#e6f5d0"
            ],
            [
             0.7,
             "#b8e186"
            ],
            [
             0.8,
             "#7fbc41"
            ],
            [
             0.9,
             "#4d9221"
            ],
            [
             1,
             "#276419"
            ]
           ],
           "sequential": [
            [
             0,
             "#0d0887"
            ],
            [
             0.1111111111111111,
             "#46039f"
            ],
            [
             0.2222222222222222,
             "#7201a8"
            ],
            [
             0.3333333333333333,
             "#9c179e"
            ],
            [
             0.4444444444444444,
             "#bd3786"
            ],
            [
             0.5555555555555556,
             "#d8576b"
            ],
            [
             0.6666666666666666,
             "#ed7953"
            ],
            [
             0.7777777777777778,
             "#fb9f3a"
            ],
            [
             0.8888888888888888,
             "#fdca26"
            ],
            [
             1,
             "#f0f921"
            ]
           ],
           "sequentialminus": [
            [
             0,
             "#0d0887"
            ],
            [
             0.1111111111111111,
             "#46039f"
            ],
            [
             0.2222222222222222,
             "#7201a8"
            ],
            [
             0.3333333333333333,
             "#9c179e"
            ],
            [
             0.4444444444444444,
             "#bd3786"
            ],
            [
             0.5555555555555556,
             "#d8576b"
            ],
            [
             0.6666666666666666,
             "#ed7953"
            ],
            [
             0.7777777777777778,
             "#fb9f3a"
            ],
            [
             0.8888888888888888,
             "#fdca26"
            ],
            [
             1,
             "#f0f921"
            ]
           ]
          },
          "colorway": [
           "#636efa",
           "#EF553B",
           "#00cc96",
           "#ab63fa",
           "#FFA15A",
           "#19d3f3",
           "#FF6692",
           "#B6E880",
           "#FF97FF",
           "#FECB52"
          ],
          "font": {
           "color": "#2a3f5f"
          },
          "geo": {
           "bgcolor": "white",
           "lakecolor": "white",
           "landcolor": "#E5ECF6",
           "showlakes": true,
           "showland": true,
           "subunitcolor": "white"
          },
          "hoverlabel": {
           "align": "left"
          },
          "hovermode": "closest",
          "mapbox": {
           "style": "light"
          },
          "paper_bgcolor": "white",
          "plot_bgcolor": "#E5ECF6",
          "polar": {
           "angularaxis": {
            "gridcolor": "white",
            "linecolor": "white",
            "ticks": ""
           },
           "bgcolor": "#E5ECF6",
           "radialaxis": {
            "gridcolor": "white",
            "linecolor": "white",
            "ticks": ""
           }
          },
          "scene": {
           "xaxis": {
            "backgroundcolor": "#E5ECF6",
            "gridcolor": "white",
            "gridwidth": 2,
            "linecolor": "white",
            "showbackground": true,
            "ticks": "",
            "zerolinecolor": "white"
           },
           "yaxis": {
            "backgroundcolor": "#E5ECF6",
            "gridcolor": "white",
            "gridwidth": 2,
            "linecolor": "white",
            "showbackground": true,
            "ticks": "",
            "zerolinecolor": "white"
           },
           "zaxis": {
            "backgroundcolor": "#E5ECF6",
            "gridcolor": "white",
            "gridwidth": 2,
            "linecolor": "white",
            "showbackground": true,
            "ticks": "",
            "zerolinecolor": "white"
           }
          },
          "shapedefaults": {
           "line": {
            "color": "#2a3f5f"
           }
          },
          "ternary": {
           "aaxis": {
            "gridcolor": "white",
            "linecolor": "white",
            "ticks": ""
           },
           "baxis": {
            "gridcolor": "white",
            "linecolor": "white",
            "ticks": ""
           },
           "bgcolor": "#E5ECF6",
           "caxis": {
            "gridcolor": "white",
            "linecolor": "white",
            "ticks": ""
           }
          },
          "title": {
           "x": 0.05
          },
          "xaxis": {
           "automargin": true,
           "gridcolor": "white",
           "linecolor": "white",
           "ticks": "",
           "title": {
            "standoff": 15
           },
           "zerolinecolor": "white",
           "zerolinewidth": 2
          },
          "yaxis": {
           "automargin": true,
           "gridcolor": "white",
           "linecolor": "white",
           "ticks": "",
           "title": {
            "standoff": 15
           },
           "zerolinecolor": "white",
           "zerolinewidth": 2
          }
         }
        },
        "xaxis": {
         "anchor": "y",
         "domain": [
          0,
          1
         ],
         "title": {
          "text": "index"
         }
        },
        "yaxis": {
         "anchor": "x",
         "domain": [
          0,
          1
         ],
         "title": {
          "text": "value"
         }
        }
       }
      }
     },
     "metadata": {},
     "output_type": "display_data"
    }
   ],
   "source": [
    "import plotly.express as px\n",
    "\n",
    "fig = px.bar(per_ver)\n",
    "fig.show()"
   ]
  },
  {
   "cell_type": "code",
   "execution_count": 196,
   "metadata": {},
   "outputs": [
    {
     "data": {
      "application/vnd.plotly.v1+json": {
       "config": {
        "plotlyServerURL": "https://plot.ly"
       },
       "data": [
        {
         "hovertemplate": "0=%{x}<br>1=%{y}<extra></extra>",
         "legendgroup": "",
         "marker": {
          "color": "#636efa",
          "symbol": "circle"
         },
         "mode": "markers",
         "name": "",
         "orientation": "v",
         "showlegend": false,
         "type": "scatter",
         "x": [
          -0.8318065049949498,
          1.3088482127515053,
          0.6956305174981583,
          -0.2680761475758278,
          -1.737865781782244,
          -0.3587312343358301,
          -0.2796242839092597,
          -1.6276457362368808,
          -2.50901810765547,
          -1.074846689191911,
          0.8069096294348224,
          2.7940537949978523,
          4.291075859691247,
          5.062257539392688,
          6.0312816262383215,
          5.983605706209238,
          5.8693631410674625,
          4.903208992909154,
          5.664060101531918,
          5.451188390750775,
          5.140048124439768,
          5.4704230746439455,
          5.53975727196165,
          5.108802110306889,
          -2.290739330640794,
          -3.482891284882328,
          -4.048864274017702,
          -4.190480231390941,
          -2.992475352187245,
          -1.7717824543715068,
          -2.12343954247392,
          -1.5786666284635307,
          0.5533086642864485,
          1.4382932487574571,
          1.5133587108508635,
          0.8847365581475622,
          -0.7916928141493865,
          -2.06726705565437,
          -3.225304702835851,
          -4.073522825047304,
          -4.7320619437938625,
          -6.844639341935551,
          -9.240705942607,
          -10.125044008470239,
          -11.396938397146261,
          -11.832900544805282,
          -11.91156962049594,
          -12.931937841792884,
          -14.159378361588528,
          -14.83477688324312,
          -14.82004527626506,
          -12.531220285566338,
          -8.814175953431137,
          -5.461054644121396,
          -3.7625798647619195,
          -3.002636121030801,
          -1.4650387835965508,
          0.1594274118039339,
          0.8565976509183635,
          1.506168203172381,
          1.1446910100815924,
          0.0520420796223812,
          -0.8172073481850939,
          -3.5397501004717684,
          -4.862514367732577,
          -5.905309735622602,
          -6.231141159311795,
          -6.32857474306207,
          -6.196946430969019,
          -6.17483092614425,
          -7.464732929932243,
          -7.1286097588518595,
          -7.13663889605511,
          -6.863519716122566,
          -6.584612210309935,
          -5.447860047849312,
          -1.3500223550868147,
          2.635838917396884,
          4.294533889715414,
          5.541606331276902,
          7.466184311040054,
          10.481715069997346,
          12.941115526191005,
          12.133886502976631,
          9.658164980100056,
          8.052286906421205,
          7.759719640119965,
          7.40693726166003,
          6.850980163014696,
          6.243688905449906,
          6.3628703365782195,
          5.887642082111461,
          6.855901178511744,
          6.604289049213147,
          5.86018190036766,
          5.35209823170477,
          6.274769336600268,
          6.13751893156642,
          5.707421900437132,
          7.346966492465243,
          9.596132048674047,
          12.741998655772143,
          14.87957723195172,
          14.479424035326963,
          13.363868518349799,
          13.582969971097674,
          14.759947037192834,
          14.282220570283593,
          12.093983544740265,
          11.936728001417903,
          12.886216965663646,
          13.103048156033964,
          12.812136684555785,
          10.618632452104347,
          9.617116720273362,
          8.676687801227605,
          8.322526484733984,
          6.702289674626786,
          6.602864029537121,
          7.017130713452774,
          7.930007551817618,
          6.185695938336907,
          8.160169216142872,
          9.167654476681511,
          10.794863476049416,
          12.105844906362327,
          10.479708932196512,
          10.30932160619631,
          9.830660188471672,
          8.96377392885005,
          8.093942538088138,
          5.975568527843539,
          4.20773589809227,
          2.695444939261645,
          2.4128471190866154,
          0.8136781642074437,
          -1.601124095675097,
          -3.5678313370008223,
          -4.271889441339336,
          -4.157564775429362,
          -6.343183805030841,
          -7.520961446923707,
          -7.950340698985781,
          -9.122873815119497,
          -10.502004955883107,
          -10.813733323200042,
          -11.422491248877092,
          -9.60077220780794,
          -6.535872407346477,
          -4.149576972436325,
          -2.607488589256059,
          -1.369962999114089,
          -0.9477672672825175,
          -0.6431296822420792,
          0.3049148985600172,
          0.5794542416985587,
          -0.49942182979684147,
          -2.330095238358276,
          -3.827239050976283,
          -4.052351771695506,
          -4.698711719883644,
          -5.787004721522874,
          -7.121307679386378,
          -8.046592587662433,
          -9.63722502407362,
          -11.549678110798077,
          -12.549529029324603,
          -13.076840015495234,
          -13.212309157795223,
          -13.766214233851773,
          -13.15996669573187,
          -11.781060125146062,
          -8.3483361950278,
          -5.597956848470314,
          -3.8373706073663256,
          -1.6985682062081158,
          0.382021835213993,
          2.1059497211334626,
          1.9410227042850554,
          2.1538878044766885,
          1.861802538617476,
          1.0370065134429034,
          -1.0878407761783246,
          -2.9391612543947354,
          -4.398557111384082,
          -4.933746562553201,
          -5.352191072104558,
          -5.321523851052211,
          -6.396317500054076,
          -8.426948447612556,
          -10.018026936159176,
          -10.84955548734137
         ],
         "xaxis": "x",
         "y": [
          -1.409666269690036,
          -1.2020735900848323,
          -1.7629986452329653,
          -1.3984774038874601,
          -1.1204522371820733,
          -1.4902990682998836,
          -2.317362127944297,
          -2.4629819194360993,
          -2.072404960165308,
          -1.5784368441232612,
          -2.0949349497805607,
          -1.5501160388375934,
          -0.22900683916431938,
          -0.5119278816649314,
          -0.42566098708286954,
          -0.9139568493675788,
          -0.29260690220330154,
          -0.8043077611454384,
          -0.3941787768196016,
          -0.7653224605024654,
          -1.6572989706294123,
          -1.1449735521781905,
          -0.8825636784472168,
          0.1378430568016825,
          -0.9015220885158375,
          -0.39273276073874364,
          -1.0111617083331477,
          0.07922374914000435,
          0.45987014146483896,
          1.7912554203814983,
          9.045817557580927,
          10.74509433798293,
          8.475424073925836,
          6.258796200108149,
          4.610907060706461,
          3.867569489236036,
          3.194261731333762,
          3.5354424233559194,
          4.287195114299254,
          4.520247403519817,
          4.8089403022444985,
          5.050887493018378,
          4.691957200162104,
          4.03210298222504,
          4.239471727596819,
          3.8599262564829395,
          3.5065429387933427,
          3.761401202237325,
          3.838518209788853,
          4.617358868225799,
          5.249898536764192,
          6.23200409101945,
          6.722006942160812,
          6.601362517148477,
          6.469512699201447,
          6.433167943256227,
          6.584823253859347,
          6.085167011233641,
          5.48402515337886,
          4.194370815523318,
          3.4468380610259777,
          4.03710008138742,
          4.00218535391143,
          5.07587343392678,
          5.787457594842822,
          5.784598839678017,
          5.4247621249170015,
          4.484707068709866,
          4.204573593916759,
          4.859198402047991,
          5.467100560286087,
          5.3396572095719055,
          5.31249694828261,
          4.883703581666715,
          5.289118509845209,
          5.333684043429206,
          5.236689439772079,
          4.481729408887394,
          4.027343741793511,
          4.743474875648184,
          4.24675072662712,
          3.5231938219346945,
          3.7874891568612874,
          3.177344820577122,
          2.182988148229523,
          2.3984939701012187,
          3.0281624883285625,
          2.162714449991149,
          1.5129821129089303,
          2.3304486890572873,
          2.5733235709743014,
          2.1544695603502846,
          2.9596475963777737,
          3.2401334547270375,
          2.9662403734198057,
          3.199533193318688,
          3.43432711080593,
          3.705220764268609,
          3.4785419261595685,
          4.364087596244671,
          4.611072716718794,
          4.6539986463914005,
          8.118036640446071,
          6.299454659076488,
          3.7747602278314742,
          3.258467576444815,
          4.424105367845846,
          4.480723016325301,
          3.5612429423198466,
          0.4145239745596777,
          -3.328407304582062,
          -4.746930838047944,
          -4.4905590253306125,
          -4.6628590583658625,
          -3.662141292131855,
          -2.663382866590255,
          -2.939590703191407,
          -3.362596840970726,
          -3.8282393889889543,
          -4.40599666033796,
          -4.25370701513511,
          -5.421831074194536,
          -4.387292691654543,
          -5.212261049802514,
          -4.689293199930146,
          -4.6670525756092704,
          -5.644657008075601,
          -5.4028299918372715,
          -5.396804459264282,
          -5.789905282223065,
          -5.3569372835487945,
          -5.051880993495037,
          -4.642749159743584,
          -4.334029111123671,
          -4.139243330739489,
          -4.106270578859137,
          -3.017630599857856,
          -2.67226446212501,
          -2.577758171034313,
          -2.2963415676529473,
          -2.2188076963971755,
          -2.4281962101239825,
          -1.526262918550144,
          -1.392691467774208,
          -1.5683674696092023,
          -1.6628152871167714,
          -1.146249975835986,
          -0.9577558470115901,
          -1.0808184889731585,
          -1.2127027686706204,
          -1.2578557324297504,
          -1.3798197852709908,
          -1.7778876479456005,
          -2.192578342485872,
          -2.612745459024043,
          -3.2830681268876236,
          -3.791816342842469,
          -3.5937106618684,
          -3.0843205584912,
          -3.0189119571465874,
          -3.467457510980858,
          -3.708489899998541,
          -4.019040577833141,
          -4.279099193976922,
          -4.363813962688905,
          -4.274324876468924,
          -4.65659338282762,
          -4.455961903987406,
          -3.8928382195365225,
          -4.143637826760189,
          -5.036129356753952,
          -5.414323826002696,
          -5.277303755160781,
          -5.907654484122599,
          -6.866212582039417,
          -6.752885763194658,
          -6.032210252322804,
          -5.34979540509618,
          -6.071280107204173,
          -6.300501004356793,
          -6.5133577435515475,
          -6.160649431364228,
          -5.614666998273267,
          -4.914026134043776,
          -5.468376438486476,
          -5.881560692834755,
          -6.353540206831795,
          -5.488164432340101,
          -4.70483436716591,
          -4.706928308317051,
          -4.787396011071151,
          -4.727859820978507
         ],
         "yaxis": "y"
        }
       ],
       "layout": {
        "legend": {
         "tracegroupgap": 0
        },
        "margin": {
         "t": 60
        },
        "template": {
         "data": {
          "bar": [
           {
            "error_x": {
             "color": "#2a3f5f"
            },
            "error_y": {
             "color": "#2a3f5f"
            },
            "marker": {
             "line": {
              "color": "#E5ECF6",
              "width": 0.5
             },
             "pattern": {
              "fillmode": "overlay",
              "size": 10,
              "solidity": 0.2
             }
            },
            "type": "bar"
           }
          ],
          "barpolar": [
           {
            "marker": {
             "line": {
              "color": "#E5ECF6",
              "width": 0.5
             },
             "pattern": {
              "fillmode": "overlay",
              "size": 10,
              "solidity": 0.2
             }
            },
            "type": "barpolar"
           }
          ],
          "carpet": [
           {
            "aaxis": {
             "endlinecolor": "#2a3f5f",
             "gridcolor": "white",
             "linecolor": "white",
             "minorgridcolor": "white",
             "startlinecolor": "#2a3f5f"
            },
            "baxis": {
             "endlinecolor": "#2a3f5f",
             "gridcolor": "white",
             "linecolor": "white",
             "minorgridcolor": "white",
             "startlinecolor": "#2a3f5f"
            },
            "type": "carpet"
           }
          ],
          "choropleth": [
           {
            "colorbar": {
             "outlinewidth": 0,
             "ticks": ""
            },
            "type": "choropleth"
           }
          ],
          "contour": [
           {
            "colorbar": {
             "outlinewidth": 0,
             "ticks": ""
            },
            "colorscale": [
             [
              0,
              "#0d0887"
             ],
             [
              0.1111111111111111,
              "#46039f"
             ],
             [
              0.2222222222222222,
              "#7201a8"
             ],
             [
              0.3333333333333333,
              "#9c179e"
             ],
             [
              0.4444444444444444,
              "#bd3786"
             ],
             [
              0.5555555555555556,
              "#d8576b"
             ],
             [
              0.6666666666666666,
              "#ed7953"
             ],
             [
              0.7777777777777778,
              "#fb9f3a"
             ],
             [
              0.8888888888888888,
              "#fdca26"
             ],
             [
              1,
              "#f0f921"
             ]
            ],
            "type": "contour"
           }
          ],
          "contourcarpet": [
           {
            "colorbar": {
             "outlinewidth": 0,
             "ticks": ""
            },
            "type": "contourcarpet"
           }
          ],
          "heatmap": [
           {
            "colorbar": {
             "outlinewidth": 0,
             "ticks": ""
            },
            "colorscale": [
             [
              0,
              "#0d0887"
             ],
             [
              0.1111111111111111,
              "#46039f"
             ],
             [
              0.2222222222222222,
              "#7201a8"
             ],
             [
              0.3333333333333333,
              "#9c179e"
             ],
             [
              0.4444444444444444,
              "#bd3786"
             ],
             [
              0.5555555555555556,
              "#d8576b"
             ],
             [
              0.6666666666666666,
              "#ed7953"
             ],
             [
              0.7777777777777778,
              "#fb9f3a"
             ],
             [
              0.8888888888888888,
              "#fdca26"
             ],
             [
              1,
              "#f0f921"
             ]
            ],
            "type": "heatmap"
           }
          ],
          "heatmapgl": [
           {
            "colorbar": {
             "outlinewidth": 0,
             "ticks": ""
            },
            "colorscale": [
             [
              0,
              "#0d0887"
             ],
             [
              0.1111111111111111,
              "#46039f"
             ],
             [
              0.2222222222222222,
              "#7201a8"
             ],
             [
              0.3333333333333333,
              "#9c179e"
             ],
             [
              0.4444444444444444,
              "#bd3786"
             ],
             [
              0.5555555555555556,
              "#d8576b"
             ],
             [
              0.6666666666666666,
              "#ed7953"
             ],
             [
              0.7777777777777778,
              "#fb9f3a"
             ],
             [
              0.8888888888888888,
              "#fdca26"
             ],
             [
              1,
              "#f0f921"
             ]
            ],
            "type": "heatmapgl"
           }
          ],
          "histogram": [
           {
            "marker": {
             "pattern": {
              "fillmode": "overlay",
              "size": 10,
              "solidity": 0.2
             }
            },
            "type": "histogram"
           }
          ],
          "histogram2d": [
           {
            "colorbar": {
             "outlinewidth": 0,
             "ticks": ""
            },
            "colorscale": [
             [
              0,
              "#0d0887"
             ],
             [
              0.1111111111111111,
              "#46039f"
             ],
             [
              0.2222222222222222,
              "#7201a8"
             ],
             [
              0.3333333333333333,
              "#9c179e"
             ],
             [
              0.4444444444444444,
              "#bd3786"
             ],
             [
              0.5555555555555556,
              "#d8576b"
             ],
             [
              0.6666666666666666,
              "#ed7953"
             ],
             [
              0.7777777777777778,
              "#fb9f3a"
             ],
             [
              0.8888888888888888,
              "#fdca26"
             ],
             [
              1,
              "#f0f921"
             ]
            ],
            "type": "histogram2d"
           }
          ],
          "histogram2dcontour": [
           {
            "colorbar": {
             "outlinewidth": 0,
             "ticks": ""
            },
            "colorscale": [
             [
              0,
              "#0d0887"
             ],
             [
              0.1111111111111111,
              "#46039f"
             ],
             [
              0.2222222222222222,
              "#7201a8"
             ],
             [
              0.3333333333333333,
              "#9c179e"
             ],
             [
              0.4444444444444444,
              "#bd3786"
             ],
             [
              0.5555555555555556,
              "#d8576b"
             ],
             [
              0.6666666666666666,
              "#ed7953"
             ],
             [
              0.7777777777777778,
              "#fb9f3a"
             ],
             [
              0.8888888888888888,
              "#fdca26"
             ],
             [
              1,
              "#f0f921"
             ]
            ],
            "type": "histogram2dcontour"
           }
          ],
          "mesh3d": [
           {
            "colorbar": {
             "outlinewidth": 0,
             "ticks": ""
            },
            "type": "mesh3d"
           }
          ],
          "parcoords": [
           {
            "line": {
             "colorbar": {
              "outlinewidth": 0,
              "ticks": ""
             }
            },
            "type": "parcoords"
           }
          ],
          "pie": [
           {
            "automargin": true,
            "type": "pie"
           }
          ],
          "scatter": [
           {
            "fillpattern": {
             "fillmode": "overlay",
             "size": 10,
             "solidity": 0.2
            },
            "type": "scatter"
           }
          ],
          "scatter3d": [
           {
            "line": {
             "colorbar": {
              "outlinewidth": 0,
              "ticks": ""
             }
            },
            "marker": {
             "colorbar": {
              "outlinewidth": 0,
              "ticks": ""
             }
            },
            "type": "scatter3d"
           }
          ],
          "scattercarpet": [
           {
            "marker": {
             "colorbar": {
              "outlinewidth": 0,
              "ticks": ""
             }
            },
            "type": "scattercarpet"
           }
          ],
          "scattergeo": [
           {
            "marker": {
             "colorbar": {
              "outlinewidth": 0,
              "ticks": ""
             }
            },
            "type": "scattergeo"
           }
          ],
          "scattergl": [
           {
            "marker": {
             "colorbar": {
              "outlinewidth": 0,
              "ticks": ""
             }
            },
            "type": "scattergl"
           }
          ],
          "scattermapbox": [
           {
            "marker": {
             "colorbar": {
              "outlinewidth": 0,
              "ticks": ""
             }
            },
            "type": "scattermapbox"
           }
          ],
          "scatterpolar": [
           {
            "marker": {
             "colorbar": {
              "outlinewidth": 0,
              "ticks": ""
             }
            },
            "type": "scatterpolar"
           }
          ],
          "scatterpolargl": [
           {
            "marker": {
             "colorbar": {
              "outlinewidth": 0,
              "ticks": ""
             }
            },
            "type": "scatterpolargl"
           }
          ],
          "scatterternary": [
           {
            "marker": {
             "colorbar": {
              "outlinewidth": 0,
              "ticks": ""
             }
            },
            "type": "scatterternary"
           }
          ],
          "surface": [
           {
            "colorbar": {
             "outlinewidth": 0,
             "ticks": ""
            },
            "colorscale": [
             [
              0,
              "#0d0887"
             ],
             [
              0.1111111111111111,
              "#46039f"
             ],
             [
              0.2222222222222222,
              "#7201a8"
             ],
             [
              0.3333333333333333,
              "#9c179e"
             ],
             [
              0.4444444444444444,
              "#bd3786"
             ],
             [
              0.5555555555555556,
              "#d8576b"
             ],
             [
              0.6666666666666666,
              "#ed7953"
             ],
             [
              0.7777777777777778,
              "#fb9f3a"
             ],
             [
              0.8888888888888888,
              "#fdca26"
             ],
             [
              1,
              "#f0f921"
             ]
            ],
            "type": "surface"
           }
          ],
          "table": [
           {
            "cells": {
             "fill": {
              "color": "#EBF0F8"
             },
             "line": {
              "color": "white"
             }
            },
            "header": {
             "fill": {
              "color": "#C8D4E3"
             },
             "line": {
              "color": "white"
             }
            },
            "type": "table"
           }
          ]
         },
         "layout": {
          "annotationdefaults": {
           "arrowcolor": "#2a3f5f",
           "arrowhead": 0,
           "arrowwidth": 1
          },
          "autotypenumbers": "strict",
          "coloraxis": {
           "colorbar": {
            "outlinewidth": 0,
            "ticks": ""
           }
          },
          "colorscale": {
           "diverging": [
            [
             0,
             "#8e0152"
            ],
            [
             0.1,
             "#c51b7d"
            ],
            [
             0.2,
             "#de77ae"
            ],
            [
             0.3,
             "#f1b6da"
            ],
            [
             0.4,
             "#fde0ef"
            ],
            [
             0.5,
             "#f7f7f7"
            ],
            [
             0.6,
             "#e6f5d0"
            ],
            [
             0.7,
             "#b8e186"
            ],
            [
             0.8,
             "#7fbc41"
            ],
            [
             0.9,
             "#4d9221"
            ],
            [
             1,
             "#276419"
            ]
           ],
           "sequential": [
            [
             0,
             "#0d0887"
            ],
            [
             0.1111111111111111,
             "#46039f"
            ],
            [
             0.2222222222222222,
             "#7201a8"
            ],
            [
             0.3333333333333333,
             "#9c179e"
            ],
            [
             0.4444444444444444,
             "#bd3786"
            ],
            [
             0.5555555555555556,
             "#d8576b"
            ],
            [
             0.6666666666666666,
             "#ed7953"
            ],
            [
             0.7777777777777778,
             "#fb9f3a"
            ],
            [
             0.8888888888888888,
             "#fdca26"
            ],
            [
             1,
             "#f0f921"
            ]
           ],
           "sequentialminus": [
            [
             0,
             "#0d0887"
            ],
            [
             0.1111111111111111,
             "#46039f"
            ],
            [
             0.2222222222222222,
             "#7201a8"
            ],
            [
             0.3333333333333333,
             "#9c179e"
            ],
            [
             0.4444444444444444,
             "#bd3786"
            ],
            [
             0.5555555555555556,
             "#d8576b"
            ],
            [
             0.6666666666666666,
             "#ed7953"
            ],
            [
             0.7777777777777778,
             "#fb9f3a"
            ],
            [
             0.8888888888888888,
             "#fdca26"
            ],
            [
             1,
             "#f0f921"
            ]
           ]
          },
          "colorway": [
           "#636efa",
           "#EF553B",
           "#00cc96",
           "#ab63fa",
           "#FFA15A",
           "#19d3f3",
           "#FF6692",
           "#B6E880",
           "#FF97FF",
           "#FECB52"
          ],
          "font": {
           "color": "#2a3f5f"
          },
          "geo": {
           "bgcolor": "white",
           "lakecolor": "white",
           "landcolor": "#E5ECF6",
           "showlakes": true,
           "showland": true,
           "subunitcolor": "white"
          },
          "hoverlabel": {
           "align": "left"
          },
          "hovermode": "closest",
          "mapbox": {
           "style": "light"
          },
          "paper_bgcolor": "white",
          "plot_bgcolor": "#E5ECF6",
          "polar": {
           "angularaxis": {
            "gridcolor": "white",
            "linecolor": "white",
            "ticks": ""
           },
           "bgcolor": "#E5ECF6",
           "radialaxis": {
            "gridcolor": "white",
            "linecolor": "white",
            "ticks": ""
           }
          },
          "scene": {
           "xaxis": {
            "backgroundcolor": "#E5ECF6",
            "gridcolor": "white",
            "gridwidth": 2,
            "linecolor": "white",
            "showbackground": true,
            "ticks": "",
            "zerolinecolor": "white"
           },
           "yaxis": {
            "backgroundcolor": "#E5ECF6",
            "gridcolor": "white",
            "gridwidth": 2,
            "linecolor": "white",
            "showbackground": true,
            "ticks": "",
            "zerolinecolor": "white"
           },
           "zaxis": {
            "backgroundcolor": "#E5ECF6",
            "gridcolor": "white",
            "gridwidth": 2,
            "linecolor": "white",
            "showbackground": true,
            "ticks": "",
            "zerolinecolor": "white"
           }
          },
          "shapedefaults": {
           "line": {
            "color": "#2a3f5f"
           }
          },
          "ternary": {
           "aaxis": {
            "gridcolor": "white",
            "linecolor": "white",
            "ticks": ""
           },
           "baxis": {
            "gridcolor": "white",
            "linecolor": "white",
            "ticks": ""
           },
           "bgcolor": "#E5ECF6",
           "caxis": {
            "gridcolor": "white",
            "linecolor": "white",
            "ticks": ""
           }
          },
          "title": {
           "x": 0.05
          },
          "xaxis": {
           "automargin": true,
           "gridcolor": "white",
           "linecolor": "white",
           "ticks": "",
           "title": {
            "standoff": 15
           },
           "zerolinecolor": "white",
           "zerolinewidth": 2
          },
          "yaxis": {
           "automargin": true,
           "gridcolor": "white",
           "linecolor": "white",
           "ticks": "",
           "title": {
            "standoff": 15
           },
           "zerolinecolor": "white",
           "zerolinewidth": 2
          }
         }
        },
        "title": {
         "text": "Plot Title"
        },
        "xaxis": {
         "anchor": "y",
         "domain": [
          0,
          1
         ],
         "title": {
          "text": "PC1"
         }
        },
        "yaxis": {
         "anchor": "x",
         "domain": [
          0,
          1
         ],
         "title": {
          "text": "PC2"
         }
        }
       }
      }
     },
     "metadata": {},
     "output_type": "display_data"
    }
   ],
   "source": [
    "pca_df = pd.DataFrame(pca_data)\n",
    "fig = px.scatter(pca_df,x = 0,y = 1)\n",
    "newnames = {'0':'PC1', '1': 'PC2'}\n",
    "fig.update_layout(\n",
    "    title=\"Plot Title\",\n",
    "    xaxis_title=\"PC1\",\n",
    "    yaxis_title=\"PC2\",\n",
    "  \n",
    ")\n",
    "\n",
    "fig.show()"
   ]
  },
  {
   "cell_type": "code",
   "execution_count": 207,
   "metadata": {},
   "outputs": [
    {
     "data": {
      "text/plain": [
       "67     0.132622\n",
       "105    0.132567\n",
       "92     0.132557\n",
       "62     0.132443\n",
       "57     0.132089\n",
       "72     0.131885\n",
       "69     0.131865\n",
       "88     0.131847\n",
       "85     0.131772\n",
       "4      0.131671\n",
       "dtype: float64"
      ]
     },
     "execution_count": 207,
     "metadata": {},
     "output_type": "execute_result"
    }
   ],
   "source": [
    "loading_ss = pd.Series(pca.components_[0])\n",
    "sorted  = loading_ss.abs().sort_values(ascending = False)\n",
    "sorted.head(10)"
   ]
  },
  {
   "cell_type": "code",
   "execution_count": 211,
   "metadata": {},
   "outputs": [
    {
     "name": "stdout",
     "output_type": "stream",
     "text": [
      "Collecting xlrd\n",
      "  Downloading xlrd-2.0.1-py2.py3-none-any.whl (96 kB)\n",
      "     ---------------------------------------- 96.5/96.5 KB 5.4 MB/s eta 0:00:00\n",
      "Installing collected packages: xlrd\n",
      "Successfully installed xlrd-2.0.1\n"
     ]
    },
    {
     "name": "stderr",
     "output_type": "stream",
     "text": [
      "WARNING: You are using pip version 22.0.4; however, version 22.1.2 is available.\n",
      "You should consider upgrading via the 'C:\\Users\\jvish\\AppData\\Local\\Microsoft\\WindowsApps\\PythonSoftwareFoundation.Python.3.10_qbz5n2kfra8p0\\python.exe -m pip install --upgrade pip' command.\n"
     ]
    }
   ],
   "source": [
    "! pip install xlrd"
   ]
  },
  {
   "cell_type": "code",
   "execution_count": 238,
   "metadata": {},
   "outputs": [
    {
     "data": {
      "text/html": [
       "<div>\n",
       "<style scoped>\n",
       "    .dataframe tbody tr th:only-of-type {\n",
       "        vertical-align: middle;\n",
       "    }\n",
       "\n",
       "    .dataframe tbody tr th {\n",
       "        vertical-align: top;\n",
       "    }\n",
       "\n",
       "    .dataframe thead th {\n",
       "        text-align: right;\n",
       "    }\n",
       "</style>\n",
       "<table border=\"1\" class=\"dataframe\">\n",
       "  <thead>\n",
       "    <tr style=\"text-align: right;\">\n",
       "      <th></th>\n",
       "      <th>58PDI1202.PV</th>\n",
       "      <th>58TI3246.PV</th>\n",
       "      <th>58PIC3226A.PV</th>\n",
       "      <th>58HIC3225.MV</th>\n",
       "      <th>58ZI3225.PV</th>\n",
       "      <th>58PI3239.PV</th>\n",
       "      <th>58TI3230.PV</th>\n",
       "      <th>58TI3231.PV</th>\n",
       "      <th>58PI3209.PV</th>\n",
       "      <th>58TI3208.PV</th>\n",
       "      <th>...</th>\n",
       "      <th>58VI3118B.PV</th>\n",
       "      <th>58TI3113.PV</th>\n",
       "      <th>58VI3233A.PV</th>\n",
       "      <th>58VI3233B.PV</th>\n",
       "      <th>58TI3232.PV</th>\n",
       "      <th>58TI3234.PV</th>\n",
       "      <th>58TI3414.PV</th>\n",
       "      <th>58PI3314.PV</th>\n",
       "      <th>58PI3107.PV</th>\n",
       "      <th>58LI3403.PV</th>\n",
       "    </tr>\n",
       "    <tr>\n",
       "      <th>DataSet</th>\n",
       "      <th></th>\n",
       "      <th></th>\n",
       "      <th></th>\n",
       "      <th></th>\n",
       "      <th></th>\n",
       "      <th></th>\n",
       "      <th></th>\n",
       "      <th></th>\n",
       "      <th></th>\n",
       "      <th></th>\n",
       "      <th></th>\n",
       "      <th></th>\n",
       "      <th></th>\n",
       "      <th></th>\n",
       "      <th></th>\n",
       "      <th></th>\n",
       "      <th></th>\n",
       "      <th></th>\n",
       "      <th></th>\n",
       "      <th></th>\n",
       "      <th></th>\n",
       "    </tr>\n",
       "  </thead>\n",
       "  <tbody>\n",
       "    <tr>\n",
       "      <th>357</th>\n",
       "      <td>0.417900</td>\n",
       "      <td>21.906485</td>\n",
       "      <td>742.446617</td>\n",
       "      <td>100.000000</td>\n",
       "      <td>98.135582</td>\n",
       "      <td>172.167233</td>\n",
       "      <td>141.893776</td>\n",
       "      <td>26.631714</td>\n",
       "      <td>350.079197</td>\n",
       "      <td>89.481161</td>\n",
       "      <td>...</td>\n",
       "      <td>21.617612</td>\n",
       "      <td>77.977305</td>\n",
       "      <td>32.956683</td>\n",
       "      <td>23.374474</td>\n",
       "      <td>72.428706</td>\n",
       "      <td>75.527024</td>\n",
       "      <td>48.825922</td>\n",
       "      <td>308.377885</td>\n",
       "      <td>1376.262293</td>\n",
       "      <td>97.599915</td>\n",
       "    </tr>\n",
       "    <tr>\n",
       "      <th>358</th>\n",
       "      <td>0.413038</td>\n",
       "      <td>21.810886</td>\n",
       "      <td>744.036934</td>\n",
       "      <td>98.532622</td>\n",
       "      <td>96.568374</td>\n",
       "      <td>170.543044</td>\n",
       "      <td>140.923352</td>\n",
       "      <td>25.753180</td>\n",
       "      <td>350.534565</td>\n",
       "      <td>88.437523</td>\n",
       "      <td>...</td>\n",
       "      <td>21.612922</td>\n",
       "      <td>78.115580</td>\n",
       "      <td>32.534028</td>\n",
       "      <td>23.066221</td>\n",
       "      <td>72.323298</td>\n",
       "      <td>75.503428</td>\n",
       "      <td>48.740631</td>\n",
       "      <td>308.447259</td>\n",
       "      <td>1376.815791</td>\n",
       "      <td>97.612499</td>\n",
       "    </tr>\n",
       "    <tr>\n",
       "      <th>359</th>\n",
       "      <td>0.412242</td>\n",
       "      <td>22.447401</td>\n",
       "      <td>742.658379</td>\n",
       "      <td>98.102481</td>\n",
       "      <td>96.058097</td>\n",
       "      <td>170.685373</td>\n",
       "      <td>141.362452</td>\n",
       "      <td>26.542145</td>\n",
       "      <td>349.689487</td>\n",
       "      <td>89.512813</td>\n",
       "      <td>...</td>\n",
       "      <td>20.940189</td>\n",
       "      <td>78.215232</td>\n",
       "      <td>31.742753</td>\n",
       "      <td>23.535592</td>\n",
       "      <td>72.422764</td>\n",
       "      <td>75.652748</td>\n",
       "      <td>49.022467</td>\n",
       "      <td>307.543480</td>\n",
       "      <td>1374.631409</td>\n",
       "      <td>97.794789</td>\n",
       "    </tr>\n",
       "    <tr>\n",
       "      <th>360</th>\n",
       "      <td>0.404231</td>\n",
       "      <td>25.431213</td>\n",
       "      <td>737.865039</td>\n",
       "      <td>98.092545</td>\n",
       "      <td>95.937002</td>\n",
       "      <td>169.017293</td>\n",
       "      <td>144.363678</td>\n",
       "      <td>28.250509</td>\n",
       "      <td>346.329617</td>\n",
       "      <td>91.387617</td>\n",
       "      <td>...</td>\n",
       "      <td>19.476514</td>\n",
       "      <td>78.419660</td>\n",
       "      <td>28.084825</td>\n",
       "      <td>22.591800</td>\n",
       "      <td>72.659777</td>\n",
       "      <td>76.013900</td>\n",
       "      <td>49.750210</td>\n",
       "      <td>305.545286</td>\n",
       "      <td>1369.404714</td>\n",
       "      <td>98.201110</td>\n",
       "    </tr>\n",
       "    <tr>\n",
       "      <th>361</th>\n",
       "      <td>NaN</td>\n",
       "      <td>NaN</td>\n",
       "      <td>NaN</td>\n",
       "      <td>NaN</td>\n",
       "      <td>NaN</td>\n",
       "      <td>NaN</td>\n",
       "      <td>NaN</td>\n",
       "      <td>NaN</td>\n",
       "      <td>NaN</td>\n",
       "      <td>NaN</td>\n",
       "      <td>...</td>\n",
       "      <td>NaN</td>\n",
       "      <td>NaN</td>\n",
       "      <td>NaN</td>\n",
       "      <td>NaN</td>\n",
       "      <td>NaN</td>\n",
       "      <td>NaN</td>\n",
       "      <td>NaN</td>\n",
       "      <td>NaN</td>\n",
       "      <td>NaN</td>\n",
       "      <td>NaN</td>\n",
       "    </tr>\n",
       "  </tbody>\n",
       "</table>\n",
       "<p>5 rows × 109 columns</p>\n",
       "</div>"
      ],
      "text/plain": [
       "         58PDI1202.PV  58TI3246.PV  58PIC3226A.PV  58HIC3225.MV  58ZI3225.PV  \\\n",
       "DataSet                                                                        \n",
       "357          0.417900    21.906485     742.446617    100.000000    98.135582   \n",
       "358          0.413038    21.810886     744.036934     98.532622    96.568374   \n",
       "359          0.412242    22.447401     742.658379     98.102481    96.058097   \n",
       "360          0.404231    25.431213     737.865039     98.092545    95.937002   \n",
       "361               NaN          NaN            NaN           NaN          NaN   \n",
       "\n",
       "         58PI3239.PV  58TI3230.PV  58TI3231.PV  58PI3209.PV  58TI3208.PV  ...  \\\n",
       "DataSet                                                                   ...   \n",
       "357       172.167233   141.893776    26.631714   350.079197    89.481161  ...   \n",
       "358       170.543044   140.923352    25.753180   350.534565    88.437523  ...   \n",
       "359       170.685373   141.362452    26.542145   349.689487    89.512813  ...   \n",
       "360       169.017293   144.363678    28.250509   346.329617    91.387617  ...   \n",
       "361              NaN          NaN          NaN          NaN          NaN  ...   \n",
       "\n",
       "         58VI3118B.PV  58TI3113.PV  58VI3233A.PV  58VI3233B.PV  58TI3232.PV  \\\n",
       "DataSet                                                                       \n",
       "357         21.617612    77.977305     32.956683     23.374474    72.428706   \n",
       "358         21.612922    78.115580     32.534028     23.066221    72.323298   \n",
       "359         20.940189    78.215232     31.742753     23.535592    72.422764   \n",
       "360         19.476514    78.419660     28.084825     22.591800    72.659777   \n",
       "361               NaN          NaN           NaN           NaN          NaN   \n",
       "\n",
       "         58TI3234.PV  58TI3414.PV  58PI3314.PV  58PI3107.PV  58LI3403.PV  \n",
       "DataSet                                                                   \n",
       "357        75.527024    48.825922   308.377885  1376.262293    97.599915  \n",
       "358        75.503428    48.740631   308.447259  1376.815791    97.612499  \n",
       "359        75.652748    49.022467   307.543480  1374.631409    97.794789  \n",
       "360        76.013900    49.750210   305.545286  1369.404714    98.201110  \n",
       "361              NaN          NaN          NaN          NaN          NaN  \n",
       "\n",
       "[5 rows x 109 columns]"
      ]
     },
     "execution_count": 238,
     "metadata": {},
     "output_type": "execute_result"
    }
   ],
   "source": [
    "a = pd.read_excel('PCA Analysis 1.xlsm',1)\n",
    "dff = pd.DataFrame(a, index = a['DataSet'])\n",
    "dff = dff.drop(['DataSet'], axis = 1)\n",
    "dff.tail()"
   ]
  },
  {
   "cell_type": "code",
   "execution_count": 250,
   "metadata": {},
   "outputs": [
    {
     "data": {
      "text/plain": [
       "58PDI1202.PV     0\n",
       "58TI3246.PV      0\n",
       "58PIC3226A.PV    0\n",
       "58HIC3225.MV     0\n",
       "58ZI3225.PV      0\n",
       "                ..\n",
       "58TI3234.PV      0\n",
       "58TI3414.PV      0\n",
       "58PI3314.PV      0\n",
       "58PI3107.PV      0\n",
       "58LI3403.PV      0\n",
       "Length: 109, dtype: int64"
      ]
     },
     "execution_count": 250,
     "metadata": {},
     "output_type": "execute_result"
    }
   ],
   "source": [
    "dff \n",
    "dff.isna().sum()"
   ]
  },
  {
   "cell_type": "code",
   "execution_count": 281,
   "metadata": {},
   "outputs": [
    {
     "data": {
      "text/plain": [
       "array([[-3.45139878e+00, -1.45593427e+00, -1.82379495e-01, ...,\n",
       "         2.39508912e-07,  1.50113905e-17, -9.58343848e-16],\n",
       "       [-3.54072157e+00, -2.21109696e+00,  2.11840400e-01, ...,\n",
       "         1.12340087e-07,  4.35356085e-17, -7.97188025e-16],\n",
       "       [-3.72816726e+00, -2.68869712e+00,  4.52038971e-01, ...,\n",
       "         4.38609076e-08,  9.97118255e-17,  2.13894873e-16],\n",
       "       ...,\n",
       "       [-3.16639815e+00, -1.45104217e+00, -2.74056899e-01, ...,\n",
       "        -8.37990444e-08,  9.91681398e-17,  2.33496613e-16],\n",
       "       [-3.13117165e+00, -1.47160343e+00, -1.38855652e-01, ...,\n",
       "         1.15615616e-07,  1.60220589e-16,  2.19008987e-16],\n",
       "       [-3.05256196e+00, -1.67139598e+00,  4.18146996e-01, ...,\n",
       "        -2.00665853e-07,  1.01059679e-16,  2.32454276e-16]])"
      ]
     },
     "execution_count": 281,
     "metadata": {},
     "output_type": "execute_result"
    }
   ],
   "source": [
    "# scaling the data\n",
    "from sklearn import preprocessing\n",
    "import pandas as pd\n",
    "import numpy as np\n",
    "# scaling the data\n",
    "from sklearn import preprocessing\n",
    "import sklearn\n",
    "pca = sklearn.decomposition.PCA()\n",
    "scaled_d = preprocessing.scale(dff)\n",
    "pca.fit(scaled_d)\n",
    "pca_data = pca.transform(scaled_d)\n",
    "pca_data"
   ]
  },
  {
   "cell_type": "code",
   "execution_count": 265,
   "metadata": {},
   "outputs": [
    {
     "data": {
      "text/plain": [
       "<AxesSubplot:>"
      ]
     },
     "execution_count": 265,
     "metadata": {},
     "output_type": "execute_result"
    },
    {
     "data": {
      "image/png": "[encoded data removed]",
      "text/plain": [
       "<Figure size 1440x1440 with 2 Axes>"
      ]
     },
     "metadata": {},
     "output_type": "display_data"
    }
   ],
   "source": [
    "a = np.cov(dff)\n",
    "sns.heatmap(a)"
   ]
  },
  {
   "cell_type": "code",
   "execution_count": 282,
   "metadata": {},
   "outputs": [
    {
     "data": {
      "application/vnd.plotly.v1+json": {
       "config": {
        "plotlyServerURL": "https://plot.ly"
       },
       "data": [
        {
         "alignmentgroup": "True",
         "hovertemplate": "variable=0<br>index=%{x}<br>value=%{y}<extra></extra>",
         "legendgroup": "0",
         "marker": {
          "color": "#636efa",
          "pattern": {
           "shape": ""
          }
         },
         "name": "0",
         "offsetgroup": "0",
         "orientation": "v",
         "showlegend": true,
         "textposition": "auto",
         "type": "bar",
         "x": [
          0,
          1,
          2,
          3,
          4,
          5,
          6,
          7,
          8,
          9,
          10,
          11,
          12,
          13,
          14,
          15,
          16,
          17,
          18,
          19,
          20,
          21,
          22,
          23,
          24,
          25,
          26,
          27,
          28,
          29,
          30,
          31,
          32,
          33,
          34,
          35,
          36,
          37,
          38,
          39,
          40,
          41,
          42,
          43,
          44,
          45,
          46,
          47,
          48,
          49,
          50,
          51,
          52,
          53,
          54,
          55,
          56,
          57,
          58,
          59,
          60,
          61,
          62,
          63,
          64,
          65,
          66,
          67,
          68,
          69,
          70,
          71,
          72,
          73,
          74,
          75,
          76,
          77,
          78,
          79,
          80,
          81,
          82,
          83,
          84,
          85,
          86,
          87,
          88,
          89,
          90,
          91,
          92,
          93,
          94,
          95,
          96,
          97,
          98,
          99,
          100,
          101,
          102,
          103,
          104,
          105,
          106,
          107,
          108
         ],
         "xaxis": "x",
         "y": [
          80.25574409661529,
          4.438200536744477,
          3.397198763228473,
          2.4026738718286067,
          2.088601190030234,
          1.5149635508674841,
          1.280476531723917,
          0.7731984654288957,
          0.6999738899446001,
          0.49055076276974363,
          0.363085282512087,
          0.3444907554476476,
          0.30057827913701346,
          0.21656468959858824,
          0.16904576415291794,
          0.15463566414936564,
          0.13512841348245005,
          0.11321468844103037,
          0.1042904253028918,
          0.08781691020689984,
          0.08282467305723952,
          0.06682860014344584,
          0.06269324982761366,
          0.043547740692493876,
          0.03858924993100949,
          0.03768687705223422,
          0.031710087236996407,
          0.028049754630967844,
          0.023331955698047798,
          0.02141118323882914,
          0.02012398556782564,
          0.019288761446377093,
          0.01822416402877875,
          0.01732025762597668,
          0.01620220250491284,
          0.014421013404303573,
          0.013181767346825843,
          0.012175964385493912,
          0.009843982359920159,
          0.00953036323316203,
          0.00837770774374963,
          0.00732371783318401,
          0.00651804837586098,
          0.006227184178115902,
          0.005517007731736609,
          0.005186716245328716,
          0.004238288735312134,
          0.004098502430391649,
          0.0035714376852450515,
          0.003145531110545972,
          0.0029487965954657237,
          0.0028103169742239873,
          0.00259465041902821,
          0.002062566981915705,
          0.0019304020396929392,
          0.001752046785704343,
          0.0013764240197192985,
          0.0013236929579558065,
          0.001219842944653486,
          0.001061674834932808,
          0.0009810412465253377,
          0.000881647823081737,
          0.0008603027923189287,
          0.0007117079740074512,
          0.0006619123807497822,
          0.0005606828679756722,
          0.0004967626719116563,
          0.000487650682610441,
          0.0004329394125143206,
          0.000348813907643264,
          0.00032103892994607305,
          0.00027673335878532,
          0.00025342328666199196,
          0.00021320196011906522,
          0.0001944287972786561,
          0.00018190604276165095,
          0.00015527551578603283,
          0.00014116960290816942,
          0.00012642590103658,
          0.00012453377113068824,
          0.00010533602054560924,
          0.00009835637283447792,
          0.0000840558601213975,
          0.00007374034283505015,
          0.00006660822244774547,
          0.00006276971812742623,
          0.0000550368269886909,
          0.000041664943826437225,
          0.00004099890681189067,
          0.000037601485813348956,
          0.00003519570797569536,
          0.00003394718532225697,
          0.000031163194102382624,
          0.000022141532322200097,
          0.000021061924956684166,
          0.00001754516548745467,
          0.000015041297303769897,
          0.000013525167244375765,
          0.000011178245593170685,
          0.000005920965137714008,
          0.000004483739362163376,
          0.0000035071940870596886,
          0.0000032649256296380055,
          0.0000013344705313668813,
          1.0764224949303265e-11,
          1.394928054781925e-13,
          9.468555569509114e-14,
          7.16513896689899e-31,
          7.165138966898979e-31
         ],
         "yaxis": "y"
        }
       ],
       "layout": {
        "barmode": "relative",
        "legend": {
         "title": {
          "text": "variable"
         },
         "tracegroupgap": 0
        },
        "margin": {
         "t": 60
        },
        "template": {
         "data": {
          "bar": [
           {
            "error_x": {
             "color": "#2a3f5f"
            },
            "error_y": {
             "color": "#2a3f5f"
            },
            "marker": {
             "line": {
              "color": "#E5ECF6",
              "width": 0.5
             },
             "pattern": {
              "fillmode": "overlay",
              "size": 10,
              "solidity": 0.2
             }
            },
            "type": "bar"
           }
          ],
          "barpolar": [
           {
            "marker": {
             "line": {
              "color": "#E5ECF6",
              "width": 0.5
             },
             "pattern": {
              "fillmode": "overlay",
              "size": 10,
              "solidity": 0.2
             }
            },
            "type": "barpolar"
           }
          ],
          "carpet": [
           {
            "aaxis": {
             "endlinecolor": "#2a3f5f",
             "gridcolor": "white",
             "linecolor": "white",
             "minorgridcolor": "white",
             "startlinecolor": "#2a3f5f"
            },
            "baxis": {
             "endlinecolor": "#2a3f5f",
             "gridcolor": "white",
             "linecolor": "white",
             "minorgridcolor": "white",
             "startlinecolor": "#2a3f5f"
            },
            "type": "carpet"
           }
          ],
          "choropleth": [
           {
            "colorbar": {
             "outlinewidth": 0,
             "ticks": ""
            },
            "type": "choropleth"
           }
          ],
          "contour": [
           {
            "colorbar": {
             "outlinewidth": 0,
             "ticks": ""
            },
            "colorscale": [
             [
              0,
              "#0d0887"
             ],
             [
              0.1111111111111111,
              "#46039f"
             ],
             [
              0.2222222222222222,
              "#7201a8"
             ],
             [
              0.3333333333333333,
              "#9c179e"
             ],
             [
              0.4444444444444444,
              "#bd3786"
             ],
             [
              0.5555555555555556,
              "#d8576b"
             ],
             [
              0.6666666666666666,
              "#ed7953"
             ],
             [
              0.7777777777777778,
              "#fb9f3a"
             ],
             [
              0.8888888888888888,
              "#fdca26"
             ],
             [
              1,
              "#f0f921"
             ]
            ],
            "type": "contour"
           }
          ],
          "contourcarpet": [
           {
            "colorbar": {
             "outlinewidth": 0,
             "ticks": ""
            },
            "type": "contourcarpet"
           }
          ],
          "heatmap": [
           {
            "colorbar": {
             "outlinewidth": 0,
             "ticks": ""
            },
            "colorscale": [
             [
              0,
              "#0d0887"
             ],
             [
              0.1111111111111111,
              "#46039f"
             ],
             [
              0.2222222222222222,
              "#7201a8"
             ],
             [
              0.3333333333333333,
              "#9c179e"
             ],
             [
              0.4444444444444444,
              "#bd3786"
             ],
             [
              0.5555555555555556,
              "#d8576b"
             ],
             [
              0.6666666666666666,
              "#ed7953"
             ],
             [
              0.7777777777777778,
              "#fb9f3a"
             ],
             [
              0.8888888888888888,
              "#fdca26"
             ],
             [
              1,
              "#f0f921"
             ]
            ],
            "type": "heatmap"
           }
          ],
          "heatmapgl": [
           {
            "colorbar": {
             "outlinewidth": 0,
             "ticks": ""
            },
            "colorscale": [
             [
              0,
              "#0d0887"
             ],
             [
              0.1111111111111111,
              "#46039f"
             ],
             [
              0.2222222222222222,
              "#7201a8"
             ],
             [
              0.3333333333333333,
              "#9c179e"
             ],
             [
              0.4444444444444444,
              "#bd3786"
             ],
             [
              0.5555555555555556,
              "#d8576b"
             ],
             [
              0.6666666666666666,
              "#ed7953"
             ],
             [
              0.7777777777777778,
              "#fb9f3a"
             ],
             [
              0.8888888888888888,
              "#fdca26"
             ],
             [
              1,
              "#f0f921"
             ]
            ],
            "type": "heatmapgl"
           }
          ],
          "histogram": [
           {
            "marker": {
             "pattern": {
              "fillmode": "overlay",
              "size": 10,
              "solidity": 0.2
             }
            },
            "type": "histogram"
           }
          ],
          "histogram2d": [
           {
            "colorbar": {
             "outlinewidth": 0,
             "ticks": ""
            },
            "colorscale": [
             [
              0,
              "#0d0887"
             ],
             [
              0.1111111111111111,
              "#46039f"
             ],
             [
              0.2222222222222222,
              "#7201a8"
             ],
             [
              0.3333333333333333,
              "#9c179e"
             ],
             [
              0.4444444444444444,
              "#bd3786"
             ],
             [
              0.5555555555555556,
              "#d8576b"
             ],
             [
              0.6666666666666666,
              "#ed7953"
             ],
             [
              0.7777777777777778,
              "#fb9f3a"
             ],
             [
              0.8888888888888888,
              "#fdca26"
             ],
             [
              1,
              "#f0f921"
             ]
            ],
            "type": "histogram2d"
           }
          ],
          "histogram2dcontour": [
           {
            "colorbar": {
             "outlinewidth": 0,
             "ticks": ""
            },
            "colorscale": [
             [
              0,
              "#0d0887"
             ],
             [
              0.1111111111111111,
              "#46039f"
             ],
             [
              0.2222222222222222,
              "#7201a8"
             ],
             [
              0.3333333333333333,
              "#9c179e"
             ],
             [
              0.4444444444444444,
              "#bd3786"
             ],
             [
              0.5555555555555556,
              "#d8576b"
             ],
             [
              0.6666666666666666,
              "#ed7953"
             ],
             [
              0.7777777777777778,
              "#fb9f3a"
             ],
             [
              0.8888888888888888,
              "#fdca26"
             ],
             [
              1,
              "#f0f921"
             ]
            ],
            "type": "histogram2dcontour"
           }
          ],
          "mesh3d": [
           {
            "colorbar": {
             "outlinewidth": 0,
             "ticks": ""
            },
            "type": "mesh3d"
           }
          ],
          "parcoords": [
           {
            "line": {
             "colorbar": {
              "outlinewidth": 0,
              "ticks": ""
             }
            },
            "type": "parcoords"
           }
          ],
          "pie": [
           {
            "automargin": true,
            "type": "pie"
           }
          ],
          "scatter": [
           {
            "fillpattern": {
             "fillmode": "overlay",
             "size": 10,
             "solidity": 0.2
            },
            "type": "scatter"
           }
          ],
          "scatter3d": [
           {
            "line": {
             "colorbar": {
              "outlinewidth": 0,
              "ticks": ""
             }
            },
            "marker": {
             "colorbar": {
              "outlinewidth": 0,
              "ticks": ""
             }
            },
            "type": "scatter3d"
           }
          ],
          "scattercarpet": [
           {
            "marker": {
             "colorbar": {
              "outlinewidth": 0,
              "ticks": ""
             }
            },
            "type": "scattercarpet"
           }
          ],
          "scattergeo": [
           {
            "marker": {
             "colorbar": {
              "outlinewidth": 0,
              "ticks": ""
             }
            },
            "type": "scattergeo"
           }
          ],
          "scattergl": [
           {
            "marker": {
             "colorbar": {
              "outlinewidth": 0,
              "ticks": ""
             }
            },
            "type": "scattergl"
           }
          ],
          "scattermapbox": [
           {
            "marker": {
             "colorbar": {
              "outlinewidth": 0,
              "ticks": ""
             }
            },
            "type": "scattermapbox"
           }
          ],
          "scatterpolar": [
           {
            "marker": {
             "colorbar": {
              "outlinewidth": 0,
              "ticks": ""
             }
            },
            "type": "scatterpolar"
           }
          ],
          "scatterpolargl": [
           {
            "marker": {
             "colorbar": {
              "outlinewidth": 0,
              "ticks": ""
             }
            },
            "type": "scatterpolargl"
           }
          ],
          "scatterternary": [
           {
            "marker": {
             "colorbar": {
              "outlinewidth": 0,
              "ticks": ""
             }
            },
            "type": "scatterternary"
           }
          ],
          "surface": [
           {
            "colorbar": {
             "outlinewidth": 0,
             "ticks": ""
            },
            "colorscale": [
             [
              0,
              "#0d0887"
             ],
             [
              0.1111111111111111,
              "#46039f"
             ],
             [
              0.2222222222222222,
              "#7201a8"
             ],
             [
              0.3333333333333333,
              "#9c179e"
             ],
             [
              0.4444444444444444,
              "#bd3786"
             ],
             [
              0.5555555555555556,
              "#d8576b"
             ],
             [
              0.6666666666666666,
              "#ed7953"
             ],
             [
              0.7777777777777778,
              "#fb9f3a"
             ],
             [
              0.8888888888888888,
              "#fdca26"
             ],
             [
              1,
              "#f0f921"
             ]
            ],
            "type": "surface"
           }
          ],
          "table": [
           {
            "cells": {
             "fill": {
              "color": "#EBF0F8"
             },
             "line": {
              "color": "white"
             }
            },
            "header": {
             "fill": {
              "color": "#C8D4E3"
             },
             "line": {
              "color": "white"
             }
            },
            "type": "table"
           }
          ]
         },
         "layout": {
          "annotationdefaults": {
           "arrowcolor": "#2a3f5f",
           "arrowhead": 0,
           "arrowwidth": 1
          },
          "autotypenumbers": "strict",
          "coloraxis": {
           "colorbar": {
            "outlinewidth": 0,
            "ticks": ""
           }
          },
          "colorscale": {
           "diverging": [
            [
             0,
             "#8e0152"
            ],
            [
             0.1,
             "#c51b7d"
            ],
            [
             0.2,
             "#de77ae"
            ],
            [
             0.3,
             "#f1b6da"
            ],
            [
             0.4,
             "#fde0ef"
            ],
            [
             0.5,
             "#f7f7f7"
            ],
            [
             0.6,
             "#e6f5d0"
            ],
            [
             0.7,
             "#b8e186"
            ],
            [
             0.8,
             "#7fbc41"
            ],
            [
             0.9,
             "#4d9221"
            ],
            [
             1,
             "#276419"
            ]
           ],
           "sequential": [
            [
             0,
             "#0d0887"
            ],
            [
             0.1111111111111111,
             "#46039f"
            ],
            [
             0.2222222222222222,
             "#7201a8"
            ],
            [
             0.3333333333333333,
             "#9c179e"
            ],
            [
             0.4444444444444444,
             "#bd3786"
            ],
            [
             0.5555555555555556,
             "#d8576b"
            ],
            [
             0.6666666666666666,
             "#ed7953"
            ],
            [
             0.7777777777777778,
             "#fb9f3a"
            ],
            [
             0.8888888888888888,
             "#fdca26"
            ],
            [
             1,
             "#f0f921"
            ]
           ],
           "sequentialminus": [
            [
             0,
             "#0d0887"
            ],
            [
             0.1111111111111111,
             "#46039f"
            ],
            [
             0.2222222222222222,
             "#7201a8"
            ],
            [
             0.3333333333333333,
             "#9c179e"
            ],
            [
             0.4444444444444444,
             "#bd3786"
            ],
            [
             0.5555555555555556,
             "#d8576b"
            ],
            [
             0.6666666666666666,
             "#ed7953"
            ],
            [
             0.7777777777777778,
             "#fb9f3a"
            ],
            [
             0.8888888888888888,
             "#fdca26"
            ],
            [
             1,
             "#f0f921"
            ]
           ]
          },
          "colorway": [
           "#636efa",
           "#EF553B",
           "#00cc96",
           "#ab63fa",
           "#FFA15A",
           "#19d3f3",
           "#FF6692",
           "#B6E880",
           "#FF97FF",
           "#FECB52"
          ],
          "font": {
           "color": "#2a3f5f"
          },
          "geo": {
           "bgcolor": "white",
           "lakecolor": "white",
           "landcolor": "#E5ECF6",
           "showlakes": true,
           "showland": true,
           "subunitcolor": "white"
          },
          "hoverlabel": {
           "align": "left"
          },
          "hovermode": "closest",
          "mapbox": {
           "style": "light"
          },
          "paper_bgcolor": "white",
          "plot_bgcolor": "#E5ECF6",
          "polar": {
           "angularaxis": {
            "gridcolor": "white",
            "linecolor": "white",
            "ticks": ""
           },
           "bgcolor": "#E5ECF6",
           "radialaxis": {
            "gridcolor": "white",
            "linecolor": "white",
            "ticks": ""
           }
          },
          "scene": {
           "xaxis": {
            "backgroundcolor": "#E5ECF6",
            "gridcolor": "white",
            "gridwidth": 2,
            "linecolor": "white",
            "showbackground": true,
            "ticks": "",
            "zerolinecolor": "white"
           },
           "yaxis": {
            "backgroundcolor": "#E5ECF6",
            "gridcolor": "white",
            "gridwidth": 2,
            "linecolor": "white",
            "showbackground": true,
            "ticks": "",
            "zerolinecolor": "white"
           },
           "zaxis": {
            "backgroundcolor": "#E5ECF6",
            "gridcolor": "white",
            "gridwidth": 2,
            "linecolor": "white",
            "showbackground": true,
            "ticks": "",
            "zerolinecolor": "white"
           }
          },
          "shapedefaults": {
           "line": {
            "color": "#2a3f5f"
           }
          },
          "ternary": {
           "aaxis": {
            "gridcolor": "white",
            "linecolor": "white",
            "ticks": ""
           },
           "baxis": {
            "gridcolor": "white",
            "linecolor": "white",
            "ticks": ""
           },
           "bgcolor": "#E5ECF6",
           "caxis": {
            "gridcolor": "white",
            "linecolor": "white",
            "ticks": ""
           }
          },
          "title": {
           "x": 0.05
          },
          "xaxis": {
           "automargin": true,
           "gridcolor": "white",
           "linecolor": "white",
           "ticks": "",
           "title": {
            "standoff": 15
           },
           "zerolinecolor": "white",
           "zerolinewidth": 2
          },
          "yaxis": {
           "automargin": true,
           "gridcolor": "white",
           "linecolor": "white",
           "ticks": "",
           "title": {
            "standoff": 15
           },
           "zerolinecolor": "white",
           "zerolinewidth": 2
          }
         }
        },
        "title": {
         "text": "Screeplot "
        },
        "xaxis": {
         "anchor": "y",
         "domain": [
          0,
          1
         ],
         "title": {
          "text": "Number of Components"
         }
        },
        "yaxis": {
         "anchor": "x",
         "domain": [
          0,
          1
         ],
         "title": {
          "text": "Variation Obsereved"
         }
        }
       }
      }
     },
     "metadata": {},
     "output_type": "display_data"
    }
   ],
   "source": [
    "per_ver = pca.explained_variance_ratio_*100\n",
    "per_ver\n",
    "\n",
    "fig  = px.bar(per_ver)\n",
    "fig.update_layout(\n",
    "\n",
    "    title=\"Screeplot \",\n",
    "    xaxis_title=\"Number of Components\",\n",
    "    yaxis_title=\"Variation Obsereved\",\n",
    "    \n",
    "\n",
    ")"
   ]
  },
  {
   "cell_type": "code",
   "execution_count": 262,
   "metadata": {},
   "outputs": [
    {
     "data": {
      "application/vnd.plotly.v1+json": {
       "config": {
        "plotlyServerURL": "https://plot.ly"
       },
       "data": [
        {
         "hovertemplate": "0=%{x}<br>1=%{y}<extra></extra>",
         "legendgroup": "",
         "marker": {
          "color": "#636efa",
          "symbol": "circle"
         },
         "mode": "markers",
         "name": "",
         "orientation": "v",
         "showlegend": false,
         "type": "scatter",
         "x": [
          -3.4513987849075116,
          -3.540721574037955,
          -3.72816726004155,
          -3.792528119877054,
          -3.8741505747495126,
          -3.494073504442239,
          -3.293063751845434,
          -3.292679659493016,
          -3.4457109502992735,
          -3.282549444650844,
          -3.6386350677514563,
          -3.467026464564269,
          -2.47731864143191,
          -0.9069408424686978,
          -3.0762299057456928,
          -3.334513773308108,
          -2.9630290377733095,
          -3.248162226774523,
          -2.951388635701826,
          -1.9262963317373023,
          -2.799144514443181,
          -3.158787490941674,
          -2.9994339612342067,
          -3.084223512259534,
          -3.14172022100329,
          -3.332639937913498,
          -3.769252386765909,
          -1.7243857174542538,
          -1.94400857721217,
          -3.7159779021255384,
          -3.2471174566478433,
          -3.397117872741042,
          -3.551248320661877,
          -2.901433866358886,
          -3.3274689580077164,
          -3.21369984103752,
          -3.3617425755371255,
          -3.3453910994731118,
          -3.104221198311087,
          -2.96915008548365,
          -3.1980334434391913,
          -3.320541555461209,
          -3.3073296297052606,
          -3.1413940260982667,
          -3.3492300901048617,
          -3.2974722379457675,
          -3.341498439940615,
          -3.325138056309246,
          -3.371316029740792,
          -3.462498151883167,
          -3.6883455614690415,
          -3.2574590093039606,
          11.430581490333793,
          16.72285113079078,
          -2.9849515403990377,
          -3.1070877473554015,
          -3.510459130195667,
          -3.4094572198149895,
          -3.4407781555406363,
          -3.4840202280736716,
          -3.862158788984671,
          -3.838036344685012,
          -3.369701386148943,
          -3.675896097139113,
          -3.8384063140072064,
          -3.6677909731912797,
          -3.517430888234256,
          -3.5946828218880618,
          -3.2313201863077925,
          -2.897649542064819,
          -3.408723321144954,
          -3.6252211153822365,
          -3.4556210681234,
          -3.2808007537359676,
          -3.2809578455329116,
          -3.2437286938160117,
          -3.3184527165659063,
          -3.065605743325627,
          -3.1383131693425153,
          -3.2927853718377467,
          -3.439128615702473,
          -3.5408259938013598,
          -3.4821924208294037,
          -3.4642153147648123,
          -3.258492844709166,
          -3.0583882152588084,
          -3.169455119300714,
          -2.9513072421094346,
          -2.86186453326771,
          -3.0298124063155965,
          -3.176847439592627,
          10.072605178061806,
          27.005498666534255,
          33.10257024512032,
          33.776842146585686,
          16.64437309889375,
          6.066651861590323,
          -3.355964980185337,
          -3.156149064397832,
          -2.8523543994892293,
          -3.0011280366357647,
          -3.019287595957092,
          -2.929080362454596,
          -2.964700898773255,
          -2.9801122902513,
          -3.0098409826190835,
          -3.0399751145360283,
          -3.01097493727329,
          -2.9191088929732305,
          -2.8100000315850466,
          -2.7054832417512786,
          -3.1559997498406656,
          -3.0625104219174317,
          -2.944051593367923,
          -0.09757110006578039,
          21.979037621997538,
          1.5856699383790722,
          1.5430976724355852,
          -3.294891586765695,
          -3.4554650434862664,
          -3.574512078730185,
          -3.741666748996511,
          -3.7759947806762595,
          -3.7929332549135792,
          -3.7996549058259945,
          -3.555989652532389,
          -3.105324977336755,
          -2.900354696905101,
          -2.9473496079117987,
          -3.0245471597921654,
          -3.2788165894405714,
          -3.3052072896352787,
          -3.39062144315751,
          -3.261057204455614,
          -3.0736049918645896,
          -3.143001127966061,
          -3.1187327942570118,
          -3.0760023430259427,
          -2.997705463828518,
          -3.0093587289213546,
          -3.043021313360838,
          -3.361993736523034,
          -3.082344311568033,
          -3.215592810645591,
          -3.1460057927986163,
          -2.5117411818642417,
          -1.970761604227485,
          -2.0624060872218974,
          -2.396042459922078,
          -3.3006531364182585,
          -3.1882065952647243,
          -2.5143029028958814,
          33.172885511705296,
          -1.7410069200179545,
          -1.6430489779662982,
          -1.3914410188789845,
          -1.2789267856584796,
          -1.67650158456715,
          -1.0452944955704884,
          -0.8030624245202533,
          -0.8946808860286922,
          -1.3470954485478075,
          -0.9306058991545995,
          -0.7037402171298746,
          -0.6772199978048906,
          -0.6769854163444884,
          -0.8152579291913945,
          -0.9505800031534041,
          -0.8411494374229839,
          -0.6982606753940637,
          -0.6877180738142644,
          -0.8073165481314407,
          -0.8648463397161129,
          -1.0115053269147902,
          -1.368951269600353,
          -1.633010243908632,
          -1.88449621902077,
          -2.089047920413268,
          -1.9424069088878655,
          -1.907395352379873,
          -2.1817621740482487,
          -1.3815663760395844,
          -1.2071654114629553,
          -1.9420866981517002,
          -2.077015319250997,
          -2.0378618632520245,
          7.544808098816281,
          27.810734378607805,
          34.87169983601133,
          35.4270939683935,
          35.75680733277272,
          36.237975608692544,
          36.07962252857928,
          33.64107240854051,
          6.84155562418671,
          -1.7278778056334219,
          -1.052090269801015,
          -1.0252567792091234,
          -0.9409802924217401,
          -1.0037947466447308,
          -1.129152409825115,
          -1.1368135908106265,
          -1.3815764568765878,
          -2.035565378999212,
          -1.8060582148676292,
          -1.5501531232402959,
          0.09478588487073872,
          23.349908137272173,
          31.328014296349377,
          36.081900471030906,
          36.811143748921005,
          36.96702900288043,
          36.98818424418919,
          36.61332018647432,
          36.71598835104057,
          36.472008787032074,
          36.609740556464054,
          25.3775563144941,
          11.090318291215345,
          2.361307999713863,
          -3.787032820511496,
          -3.3636115097740475,
          -3.375153625281918,
          -3.5167925273643137,
          -3.2637489743818655,
          -3.357077573567773,
          -3.5432218435838942,
          -3.6145388937392178,
          -3.599440725653969,
          -3.755947213748684,
          -3.7811840954447553,
          -3.790574912778707,
          -3.765319102574039,
          -3.768311435127039,
          -3.9077491021297956,
          -3.8696840669953794,
          -3.8733460561110484,
          -3.958445683037116,
          -3.9578339492379317,
          -3.7427835994045844,
          -3.604793250827651,
          6.164168673585522,
          6.127044883647084,
          28.361841919978545,
          28.549684437216843,
          8.650733331578706,
          -3.110253173913879,
          -3.5413378807144182,
          -3.8276628835320836,
          -3.563410051291147,
          -3.4576858382460647,
          -3.349842200651347,
          -2.9213141668387017,
          -2.3905544086533292,
          -3.2008442310531335,
          -3.5804003403829445,
          -3.6515352450247778,
          -3.7291806525336155,
          -4.038676375629913,
          -4.081320380148941,
          -4.026722722700616,
          -3.6447646780552208,
          -3.3292971952324972,
          -3.296459743972728,
          -3.253097276204727,
          -3.2499132137573197,
          -3.241455187733493,
          -2.763642851756053,
          -2.8609841980930972,
          -3.2502365202255357,
          -3.2696057305940456,
          -3.3402914334491425,
          -3.1352718404277065,
          -2.8648758340485188,
          -2.2624528726161257,
          -2.7317168187458702,
          -2.669036550097523,
          -2.809828208320625,
          -2.9815058449723466,
          -2.8860025271126593,
          -3.0233651666907173,
          -3.1777427346176292,
          -3.6457810793183585,
          -3.561569712862276,
          -3.4222480228924352,
          -3.187627742338425,
          -3.426947465398634,
          -3.4387408773967354,
          -3.530091946053801,
          -3.574306062865546,
          -4.019042304848444,
          -4.195910285103723,
          -3.975668640073182,
          -4.185664997282847,
          -3.7570384670441626,
          -2.589264673943907,
          -2.631074378806099,
          -2.7700394029505007,
          -2.658333726047358,
          -2.834160948512338,
          -2.710050685817406,
          -2.458108059516843,
          -2.638412545990547,
          -2.6095438815922045,
          -2.448605536699956,
          -2.461678856151183,
          -2.321636953195918,
          -2.5456087321845713,
          -2.725063910428586,
          -2.887074970851718,
          -2.779513122856945,
          -2.9123270478428074,
          -2.922114241495268,
          -2.756848039950697,
          -2.633665112514228,
          -2.8468160145686485,
          -3.067734317722336,
          -2.7831448114472126,
          -2.7391062359993383,
          -2.5924774609724017,
          -2.533929992238586,
          -2.5307734734468386,
          -2.520347915602552,
          -2.5185731910901468,
          -2.6247038311096924,
          -2.6401770694102846,
          -2.6346828503402735,
          -2.5684717961849928,
          -2.554339953368559,
          -2.6424769909028445,
          -3.1846198832191046,
          -3.121514831520368,
          -3.077345487586236,
          -3.2492587508327873,
          -3.167397115143141,
          -3.424561947285901,
          -2.9127305934114407,
          -2.0139943406602665,
          -2.8244103287359072,
          -2.9897709078772015,
          -3.177299816992078,
          -3.5871552247038245,
          -3.3109995505387637,
          -3.135687132052098,
          -2.9856949870937934,
          -2.9226702301768634,
          -2.9687014794022963,
          -2.9911343745224155,
          -2.9888630233636655,
          -2.9943372184687336,
          -3.0522895930759093,
          -3.1964347244636953,
          -3.2024013261881596,
          -3.1441918090507763,
          -3.1078631495449964,
          -3.3300587259274095,
          -3.232738357736277,
          -3.1663981522820612,
          -3.1311716520533532,
          -3.0525619615380637
         ],
         "xaxis": "x",
         "y": [
          -1.4559342708535372,
          -2.211096957078045,
          -2.688697121743214,
          -2.4420911286057008,
          -1.8338974329338873,
          -0.9576279337770541,
          -1.0286857639760394,
          -1.5368424030836043,
          -2.177456044933981,
          -2.350671835927543,
          -2.5570533290755137,
          -1.5691964946282204,
          -0.4485256635645099,
          -1.5003853495221664,
          -2.000550070981124,
          -1.488681481763337,
          -0.7661688510060903,
          -1.432311230937518,
          0.8336422988943312,
          4.198790651678687,
          -0.8741789054098419,
          -1.055758486054919,
          -0.4324250891371119,
          -1.0462222455215655,
          -1.9510807377873947,
          -2.4825854061968005,
          -2.6163458950145055,
          -1.981865188079928,
          -2.033837722332573,
          -1.2348405570003216,
          -0.9847709246446815,
          -1.7275683092424423,
          -2.387199009332113,
          -0.45297301654339933,
          -1.6667149326518418,
          -1.5727220090596052,
          -1.7905970138862592,
          -1.861712162763328,
          -0.6461875618817146,
          -0.036276504143632975,
          -1.0863709295597068,
          -1.9582965877310783,
          -2.0944468598673347,
          -2.2277439210956906,
          -2.515128233400751,
          -2.4649082035926706,
          -1.7998390886874864,
          -1.9049032025762487,
          -2.2784094872771097,
          -2.5897844836584794,
          -1.982728767883848,
          -0.4332694300265903,
          1.2883056552589005,
          0.392195175409137,
          -1.7847985129579444,
          -2.176167351171039,
          -1.9674123028048778,
          -1.6014366515993912,
          -1.9653562597961964,
          -2.779604221873172,
          -2.742688327068012,
          -2.843024768393819,
          -2.3218771592238627,
          -2.95154810360964,
          -3.020677925409639,
          -2.56653847387931,
          -2.4299948691038025,
          -1.919669636195004,
          -1.7458583686132545,
          -1.0085680389152474,
          -1.7391381821843983,
          -2.15117757726002,
          -1.5544384048994118,
          -1.142450188138791,
          -1.0468620668301643,
          -1.151389266100059,
          -1.0925248337085072,
          -0.03523162446854007,
          -0.5608535030450273,
          -1.137205405204765,
          -1.794998799986253,
          -2.008480015722758,
          -1.8555449384311724,
          -1.9022743968189249,
          -1.2396031201571747,
          -0.5076114233652914,
          -0.9276521786490437,
          -0.40134609325842363,
          -0.6826831693830692,
          -1.0975027857417872,
          -1.2423038886050224,
          -3.2158454692578076,
          -3.373565827165837,
          -4.28916833212484,
          -4.171611442095091,
          1.1164628868615756,
          0.8554326266055263,
          0.8007603333771302,
          1.3631378065159938,
          1.1989143087340066,
          1.0171542316133346,
          0.8672346499252918,
          0.433014289056287,
          -0.1061215513256255,
          -0.0014750887149378687,
          0.5825731670046741,
          0.2267328885370609,
          0.5114842116119807,
          0.10398551265478481,
          -0.1259868998831738,
          -0.48270543270000016,
          -0.5141811286522864,
          -0.06734645446798591,
          0.7828679312371648,
          1.0938849812462033,
          -1.2826290623529322,
          1.566331216906154,
          0.9370431044909163,
          -0.23748872509606986,
          0.06742614872867148,
          -0.05719637260073008,
          -0.8542657169438791,
          -1.1217351022266993,
          -1.0430795262169517,
          -0.7374307719105216,
          -0.782977067305484,
          -0.8698604875681402,
          -0.4772942055344875,
          0.6504612438623523,
          0.7485182611655571,
          0.770510895304655,
          0.515044173949977,
          -0.08855569067441564,
          -0.3328515664795802,
          -0.14485809096358515,
          0.4663992734769649,
          0.0855827775597337,
          -0.5324923329197451,
          1.0885657991707065,
          0.672471241951127,
          1.2372374187791053,
          0.5414061705555342,
          0.31597711646948123,
          0.6698336552881982,
          0.5625187781212496,
          2.6923237602711603,
          3.580008368408777,
          3.1432021335813536,
          2.254648138749637,
          0.7904690944762771,
          1.0488095674744982,
          3.243266001949757,
          3.261467775968055,
          4.612681846604801,
          4.949123871815911,
          5.318303719256594,
          5.705632877130135,
          5.118972534038394,
          5.625002648133976,
          6.099730428771321,
          6.1222798345278155,
          5.356662470234764,
          5.668346396010971,
          6.5396948791750145,
          6.523046599024429,
          6.4440307975690825,
          6.325396244243849,
          5.98134347905274,
          5.852617495547404,
          5.645405233128613,
          5.608163507619408,
          5.681171297650881,
          5.939380267905009,
          5.690723217946818,
          4.885686994461303,
          4.1345728883030715,
          3.7840584561918145,
          2.907447568871665,
          3.4280404890542777,
          3.7809944520700274,
          3.360279777888687,
          4.643211602102181,
          4.6800930463968,
          3.725847755263572,
          2.559964422279674,
          3.2891815247607745,
          1.7742853955070992,
          0.5917654439202064,
          -1.0039511322949424,
          -1.1637325791523563,
          -1.097300604287543,
          -0.7777589078983445,
          -1.0151400782772289,
          -1.3383025356707652,
          3.849350339041327,
          3.919459722778978,
          4.896232919345085,
          4.921664250825808,
          3.941926432941815,
          3.7526714238250274,
          3.8607348917867017,
          4.264179013385106,
          3.8354632188637527,
          2.5193384514828954,
          3.2020804710943738,
          3.472379921203545,
          3.7700121590179863,
          1.621854409380916,
          1.1302494791464135,
          0.727501405942585,
          0.8582170498197954,
          0.49195658452023805,
          0.24707630934033917,
          -0.5520188837295678,
          -0.3697618193955309,
          -0.6320530816988015,
          -0.2738791271633799,
          1.9960591897765254,
          0.24894642348200707,
          1.5608247416971783,
          -0.822236998128888,
          -0.11047359788442841,
          -0.036657186021851675,
          -0.23041157185496344,
          -0.023362446933534075,
          0.26664498087912136,
          -0.24794598069176893,
          -0.5023598082357623,
          -0.2650972394197423,
          -0.16412126573681296,
          -0.6239209769533474,
          -0.24640159181171922,
          -0.5518484605684636,
          -0.7093147195124171,
          -0.7988112187334591,
          -0.9474033655176317,
          -0.9370117277669149,
          -1.0308062754371716,
          -0.855374738686281,
          -0.44040190085820285,
          0.11665890669993555,
          0.6599654175158283,
          1.2230144519670965,
          -2.4740815302643706,
          -4.834844479162871,
          2.9714050872270312,
          0.5338791198753682,
          -0.25372082191382406,
          -0.47242706876603746,
          -0.10639742905147628,
          0.020970202866268686,
          0.2422473492330374,
          1.14520006624442,
          1.2680175539397083,
          -0.491877950868539,
          -0.7669964689867503,
          -0.9176732526625904,
          -0.501186760472221,
          -1.0843520775515454,
          -1.0517622681153147,
          -1.0244745080698916,
          -0.5233028683409187,
          -0.254860515408128,
          0.2265492982961286,
          0.1968116184425556,
          0.006079626416978017,
          0.38618458760398316,
          1.899516615195792,
          1.3068024368389672,
          0.03875267557320577,
          -0.2588882222560838,
          -0.33629167233523666,
          0.39500417088574086,
          1.0225296075399506,
          1.4136950864911693,
          0.666645824650603,
          0.993779758653277,
          0.7621549549491143,
          0.15935365201274393,
          0.6723371993406799,
          0.2420411992026754,
          -0.7425536597126335,
          -1.1755916061490523,
          -0.8115056003312376,
          -0.6842634501950816,
          -0.5629590033609428,
          -0.6630813784468131,
          -0.60687588312982,
          -1.5135290122296599,
          -1.6287852182784912,
          -1.8052159956898943,
          -1.689005626236252,
          -1.2752545717118404,
          -1.5635429961784066,
          -0.9074213523738688,
          -0.33281109338755815,
          -0.6839168679272938,
          -0.6951874913724706,
          -0.6196406651831884,
          -1.2908371989009357,
          -1.3742405083069014,
          -1.0299814489689836,
          -1.0845003264208484,
          -1.3152890403307014,
          -1.2214765655016167,
          -1.3150098767532923,
          -1.2717709936161485,
          -1.5731623541712887,
          -1.6242517296184245,
          -1.637122283445481,
          -1.547059665245666,
          -1.5659164955300853,
          -1.2431820289266966,
          -1.025373876434518,
          -1.1629561230527707,
          -1.818459450733773,
          -1.3829544950761639,
          -1.1503071107048948,
          -1.182090375723477,
          -0.7868791921489342,
          -0.5099332905083106,
          -0.41472473136653737,
          -0.6615250698696382,
          -0.8502007901108262,
          -0.9210078622305822,
          -0.9309359201817143,
          -0.8822959029345661,
          -0.3192449977225454,
          -0.13546737841706033,
          -0.3485569400948066,
          -1.2616823927669998,
          -1.7351930616712263,
          -1.846951438500409,
          -1.5359428564004352,
          -1.558508715020914,
          -1.6443982015503615,
          -0.5900193747041894,
          0.8060677355960479,
          -1.4385582757042845,
          -1.7533806869648954,
          -1.9361079360151046,
          -1.708488171989856,
          -1.016512552276873,
          -1.0185031144364596,
          -1.1121785252652856,
          -1.160262699791769,
          -0.7320224936930156,
          -0.7951659902345007,
          -0.972442006537278,
          -1.2127787845893685,
          -1.742197652367389,
          -1.9599800479916778,
          -1.8763145979030385,
          -1.834507939614686,
          -1.912942295965379,
          -1.929461435914751,
          -1.4975477250936882,
          -1.4510421707063308,
          -1.471603426223524,
          -1.671395984607205
         ],
         "yaxis": "y"
        }
       ],
       "layout": {
        "legend": {
         "tracegroupgap": 0
        },
        "margin": {
         "t": 60
        },
        "template": {
         "data": {
          "bar": [
           {
            "error_x": {
             "color": "#2a3f5f"
            },
            "error_y": {
             "color": "#2a3f5f"
            },
            "marker": {
             "line": {
              "color": "#E5ECF6",
              "width": 0.5
             },
             "pattern": {
              "fillmode": "overlay",
              "size": 10,
              "solidity": 0.2
             }
            },
            "type": "bar"
           }
          ],
          "barpolar": [
           {
            "marker": {
             "line": {
              "color": "#E5ECF6",
              "width": 0.5
             },
             "pattern": {
              "fillmode": "overlay",
              "size": 10,
              "solidity": 0.2
             }
            },
            "type": "barpolar"
           }
          ],
          "carpet": [
           {
            "aaxis": {
             "endlinecolor": "#2a3f5f",
             "gridcolor": "white",
             "linecolor": "white",
             "minorgridcolor": "white",
             "startlinecolor": "#2a3f5f"
            },
            "baxis": {
             "endlinecolor": "#2a3f5f",
             "gridcolor": "white",
             "linecolor": "white",
             "minorgridcolor": "white",
             "startlinecolor": "#2a3f5f"
            },
            "type": "carpet"
           }
          ],
          "choropleth": [
           {
            "colorbar": {
             "outlinewidth": 0,
             "ticks": ""
            },
            "type": "choropleth"
           }
          ],
          "contour": [
           {
            "colorbar": {
             "outlinewidth": 0,
             "ticks": ""
            },
            "colorscale": [
             [
              0,
              "#0d0887"
             ],
             [
              0.1111111111111111,
              "#46039f"
             ],
             [
              0.2222222222222222,
              "#7201a8"
             ],
             [
              0.3333333333333333,
              "#9c179e"
             ],
             [
              0.4444444444444444,
              "#bd3786"
             ],
             [
              0.5555555555555556,
              "#d8576b"
             ],
             [
              0.6666666666666666,
              "#ed7953"
             ],
             [
              0.7777777777777778,
              "#fb9f3a"
             ],
             [
              0.8888888888888888,
              "#fdca26"
             ],
             [
              1,
              "#f0f921"
             ]
            ],
            "type": "contour"
           }
          ],
          "contourcarpet": [
           {
            "colorbar": {
             "outlinewidth": 0,
             "ticks": ""
            },
            "type": "contourcarpet"
           }
          ],
          "heatmap": [
           {
            "colorbar": {
             "outlinewidth": 0,
             "ticks": ""
            },
            "colorscale": [
             [
              0,
              "#0d0887"
             ],
             [
              0.1111111111111111,
              "#46039f"
             ],
             [
              0.2222222222222222,
              "#7201a8"
             ],
             [
              0.3333333333333333,
              "#9c179e"
             ],
             [
              0.4444444444444444,
              "#bd3786"
             ],
             [
              0.5555555555555556,
              "#d8576b"
             ],
             [
              0.6666666666666666,
              "#ed7953"
             ],
             [
              0.7777777777777778,
              "#fb9f3a"
             ],
             [
              0.8888888888888888,
              "#fdca26"
             ],
             [
              1,
              "#f0f921"
             ]
            ],
            "type": "heatmap"
           }
          ],
          "heatmapgl": [
           {
            "colorbar": {
             "outlinewidth": 0,
             "ticks": ""
            },
            "colorscale": [
             [
              0,
              "#0d0887"
             ],
             [
              0.1111111111111111,
              "#46039f"
             ],
             [
              0.2222222222222222,
              "#7201a8"
             ],
             [
              0.3333333333333333,
              "#9c179e"
             ],
             [
              0.4444444444444444,
              "#bd3786"
             ],
             [
              0.5555555555555556,
              "#d8576b"
             ],
             [
              0.6666666666666666,
              "#ed7953"
             ],
             [
              0.7777777777777778,
              "#fb9f3a"
             ],
             [
              0.8888888888888888,
              "#fdca26"
             ],
             [
              1,
              "#f0f921"
             ]
            ],
            "type": "heatmapgl"
           }
          ],
          "histogram": [
           {
            "marker": {
             "pattern": {
              "fillmode": "overlay",
              "size": 10,
              "solidity": 0.2
             }
            },
            "type": "histogram"
           }
          ],
          "histogram2d": [
           {
            "colorbar": {
             "outlinewidth": 0,
             "ticks": ""
            },
            "colorscale": [
             [
              0,
              "#0d0887"
             ],
             [
              0.1111111111111111,
              "#46039f"
             ],
             [
              0.2222222222222222,
              "#7201a8"
             ],
             [
              0.3333333333333333,
              "#9c179e"
             ],
             [
              0.4444444444444444,
              "#bd3786"
             ],
             [
              0.5555555555555556,
              "#d8576b"
             ],
             [
              0.6666666666666666,
              "#ed7953"
             ],
             [
              0.7777777777777778,
              "#fb9f3a"
             ],
             [
              0.8888888888888888,
              "#fdca26"
             ],
             [
              1,
              "#f0f921"
             ]
            ],
            "type": "histogram2d"
           }
          ],
          "histogram2dcontour": [
           {
            "colorbar": {
             "outlinewidth": 0,
             "ticks": ""
            },
            "colorscale": [
             [
              0,
              "#0d0887"
             ],
             [
              0.1111111111111111,
              "#46039f"
             ],
             [
              0.2222222222222222,
              "#7201a8"
             ],
             [
              0.3333333333333333,
              "#9c179e"
             ],
             [
              0.4444444444444444,
              "#bd3786"
             ],
             [
              0.5555555555555556,
              "#d8576b"
             ],
             [
              0.6666666666666666,
              "#ed7953"
             ],
             [
              0.7777777777777778,
              "#fb9f3a"
             ],
             [
              0.8888888888888888,
              "#fdca26"
             ],
             [
              1,
              "#f0f921"
             ]
            ],
            "type": "histogram2dcontour"
           }
          ],
          "mesh3d": [
           {
            "colorbar": {
             "outlinewidth": 0,
             "ticks": ""
            },
            "type": "mesh3d"
           }
          ],
          "parcoords": [
           {
            "line": {
             "colorbar": {
              "outlinewidth": 0,
              "ticks": ""
             }
            },
            "type": "parcoords"
           }
          ],
          "pie": [
           {
            "automargin": true,
            "type": "pie"
           }
          ],
          "scatter": [
           {
            "fillpattern": {
             "fillmode": "overlay",
             "size": 10,
             "solidity": 0.2
            },
            "type": "scatter"
           }
          ],
          "scatter3d": [
           {
            "line": {
             "colorbar": {
              "outlinewidth": 0,
              "ticks": ""
             }
            },
            "marker": {
             "colorbar": {
              "outlinewidth": 0,
              "ticks": ""
             }
            },
            "type": "scatter3d"
           }
          ],
          "scattercarpet": [
           {
            "marker": {
             "colorbar": {
              "outlinewidth": 0,
              "ticks": ""
             }
            },
            "type": "scattercarpet"
           }
          ],
          "scattergeo": [
           {
            "marker": {
             "colorbar": {
              "outlinewidth": 0,
              "ticks": ""
             }
            },
            "type": "scattergeo"
           }
          ],
          "scattergl": [
           {
            "marker": {
             "colorbar": {
              "outlinewidth": 0,
              "ticks": ""
             }
            },
            "type": "scattergl"
           }
          ],
          "scattermapbox": [
           {
            "marker": {
             "colorbar": {
              "outlinewidth": 0,
              "ticks": ""
             }
            },
            "type": "scattermapbox"
           }
          ],
          "scatterpolar": [
           {
            "marker": {
             "colorbar": {
              "outlinewidth": 0,
              "ticks": ""
             }
            },
            "type": "scatterpolar"
           }
          ],
          "scatterpolargl": [
           {
            "marker": {
             "colorbar": {
              "outlinewidth": 0,
              "ticks": ""
             }
            },
            "type": "scatterpolargl"
           }
          ],
          "scatterternary": [
           {
            "marker": {
             "colorbar": {
              "outlinewidth": 0,
              "ticks": ""
             }
            },
            "type": "scatterternary"
           }
          ],
          "surface": [
           {
            "colorbar": {
             "outlinewidth": 0,
             "ticks": ""
            },
            "colorscale": [
             [
              0,
              "#0d0887"
             ],
             [
              0.1111111111111111,
              "#46039f"
             ],
             [
              0.2222222222222222,
              "#7201a8"
             ],
             [
              0.3333333333333333,
              "#9c179e"
             ],
             [
              0.4444444444444444,
              "#bd3786"
             ],
             [
              0.5555555555555556,
              "#d8576b"
             ],
             [
              0.6666666666666666,
              "#ed7953"
             ],
             [
              0.7777777777777778,
              "#fb9f3a"
             ],
             [
              0.8888888888888888,
              "#fdca26"
             ],
             [
              1,
              "#f0f921"
             ]
            ],
            "type": "surface"
           }
          ],
          "table": [
           {
            "cells": {
             "fill": {
              "color": "#EBF0F8"
             },
             "line": {
              "color": "white"
             }
            },
            "header": {
             "fill": {
              "color": "#C8D4E3"
             },
             "line": {
              "color": "white"
             }
            },
            "type": "table"
           }
          ]
         },
         "layout": {
          "annotationdefaults": {
           "arrowcolor": "#2a3f5f",
           "arrowhead": 0,
           "arrowwidth": 1
          },
          "autotypenumbers": "strict",
          "coloraxis": {
           "colorbar": {
            "outlinewidth": 0,
            "ticks": ""
           }
          },
          "colorscale": {
           "diverging": [
            [
             0,
             "#8e0152"
            ],
            [
             0.1,
             "#c51b7d"
            ],
            [
             0.2,
             "#de77ae"
            ],
            [
             0.3,
             "#f1b6da"
            ],
            [
             0.4,
             "#fde0ef"
            ],
            [
             0.5,
             "#f7f7f7"
            ],
            [
             0.6,
             "#e6f5d0"
            ],
            [
             0.7,
             "#b8e186"
            ],
            [
             0.8,
             "#7fbc41"
            ],
            [
             0.9,
             "#4d9221"
            ],
            [
             1,
             "#276419"
            ]
           ],
           "sequential": [
            [
             0,
             "#0d0887"
            ],
            [
             0.1111111111111111,
             "#46039f"
            ],
            [
             0.2222222222222222,
             "#7201a8"
            ],
            [
             0.3333333333333333,
             "#9c179e"
            ],
            [
             0.4444444444444444,
             "#bd3786"
            ],
            [
             0.5555555555555556,
             "#d8576b"
            ],
            [
             0.6666666666666666,
             "#ed7953"
            ],
            [
             0.7777777777777778,
             "#fb9f3a"
            ],
            [
             0.8888888888888888,
             "#fdca26"
            ],
            [
             1,
             "#f0f921"
            ]
           ],
           "sequentialminus": [
            [
             0,
             "#0d0887"
            ],
            [
             0.1111111111111111,
             "#46039f"
            ],
            [
             0.2222222222222222,
             "#7201a8"
            ],
            [
             0.3333333333333333,
             "#9c179e"
            ],
            [
             0.4444444444444444,
             "#bd3786"
            ],
            [
             0.5555555555555556,
             "#d8576b"
            ],
            [
             0.6666666666666666,
             "#ed7953"
            ],
            [
             0.7777777777777778,
             "#fb9f3a"
            ],
            [
             0.8888888888888888,
             "#fdca26"
            ],
            [
             1,
             "#f0f921"
            ]
           ]
          },
          "colorway": [
           "#636efa",
           "#EF553B",
           "#00cc96",
           "#ab63fa",
           "#FFA15A",
           "#19d3f3",
           "#FF6692",
           "#B6E880",
           "#FF97FF",
           "#FECB52"
          ],
          "font": {
           "color": "#2a3f5f"
          },
          "geo": {
           "bgcolor": "white",
           "lakecolor": "white",
           "landcolor": "#E5ECF6",
           "showlakes": true,
           "showland": true,
           "subunitcolor": "white"
          },
          "hoverlabel": {
           "align": "left"
          },
          "hovermode": "closest",
          "mapbox": {
           "style": "light"
          },
          "paper_bgcolor": "white",
          "plot_bgcolor": "#E5ECF6",
          "polar": {
           "angularaxis": {
            "gridcolor": "white",
            "linecolor": "white",
            "ticks": ""
           },
           "bgcolor": "#E5ECF6",
           "radialaxis": {
            "gridcolor": "white",
            "linecolor": "white",
            "ticks": ""
           }
          },
          "scene": {
           "xaxis": {
            "backgroundcolor": "#E5ECF6",
            "gridcolor": "white",
            "gridwidth": 2,
            "linecolor": "white",
            "showbackground": true,
            "ticks": "",
            "zerolinecolor": "white"
           },
           "yaxis": {
            "backgroundcolor": "#E5ECF6",
            "gridcolor": "white",
            "gridwidth": 2,
            "linecolor": "white",
            "showbackground": true,
            "ticks": "",
            "zerolinecolor": "white"
           },
           "zaxis": {
            "backgroundcolor": "#E5ECF6",
            "gridcolor": "white",
            "gridwidth": 2,
            "linecolor": "white",
            "showbackground": true,
            "ticks": "",
            "zerolinecolor": "white"
           }
          },
          "shapedefaults": {
           "line": {
            "color": "#2a3f5f"
           }
          },
          "ternary": {
           "aaxis": {
            "gridcolor": "white",
            "linecolor": "white",
            "ticks": ""
           },
           "baxis": {
            "gridcolor": "white",
            "linecolor": "white",
            "ticks": ""
           },
           "bgcolor": "#E5ECF6",
           "caxis": {
            "gridcolor": "white",
            "linecolor": "white",
            "ticks": ""
           }
          },
          "title": {
           "x": 0.05
          },
          "xaxis": {
           "automargin": true,
           "gridcolor": "white",
           "linecolor": "white",
           "ticks": "",
           "title": {
            "standoff": 15
           },
           "zerolinecolor": "white",
           "zerolinewidth": 2
          },
          "yaxis": {
           "automargin": true,
           "gridcolor": "white",
           "linecolor": "white",
           "ticks": "",
           "title": {
            "standoff": 15
           },
           "zerolinecolor": "white",
           "zerolinewidth": 2
          }
         }
        },
        "title": {
         "text": "Plot Title"
        },
        "xaxis": {
         "anchor": "y",
         "domain": [
          0,
          1
         ],
         "title": {
          "text": "PC1 - 80.26%"
         }
        },
        "yaxis": {
         "anchor": "x",
         "domain": [
          0,
          1
         ],
         "title": {
          "text": "PC2 - 4.44%"
         }
        }
       }
      }
     },
     "metadata": {},
     "output_type": "display_data"
    }
   ],
   "source": [
    "pca_df = pd.DataFrame(pca_data)\n",
    "fig = px.scatter(pca_df,x = 0,y = 1)\n",
    "newnames = {'0':'PC1', '1': 'PC2'}\n",
    "fig.update_layout(\n",
    "    title=\"Plot Title\",\n",
    "    xaxis_title=\"PC1 - {0}%\".format(np.round(per_ver[0],decimals=2)),\n",
    "    yaxis_title=\"PC2 - {0}%\".format(np.round(per_ver[1],decimals=2)),\n",
    "  \n",
    ")\n",
    "\n",
    "fig.show()"
   ]
  },
  {
   "cell_type": "code",
   "execution_count": 258,
   "metadata": {},
   "outputs": [
    {
     "data": {
      "text/plain": [
       "58TI3123.PV     0.106406\n",
       "58TI3151B.PV    0.106355\n",
       "58TI4206.PV     0.106321\n",
       "58TI3140A.PV    0.106305\n",
       "58TI3137.PV     0.106256\n",
       "58TI3140B.PV    0.106233\n",
       "58VI3301B.PV    0.106208\n",
       "58VI3301A.PV    0.106167\n",
       "58TI3151A.PV    0.106115\n",
       "58TI3213.PV     0.106058\n",
       "dtype: float64"
      ]
     },
     "execution_count": 258,
     "metadata": {},
     "output_type": "execute_result"
    }
   ],
   "source": [
    "loading_ss = pd.Series(pca.components_[0],index=dff.columns.values)\n",
    "sorted  = loading_ss.abs().sort_values(ascending = False)\n",
    "sorted.head(10)"
   ]
  },
  {
   "cell_type": "code",
   "execution_count": null,
   "metadata": {},
   "outputs": [],
   "source": []
  }
 ],
 "metadata": {
  "interpreter": {
   "hash": "405429bf2dc0097573c7842462781fb679be7cfecf039cc5f97d0f179dc3da2b"
  },
  "kernelspec": {
   "display_name": "Python 3.10.4 64-bit (windows store)",
   "language": "python",
   "name": "python3"
  },
  "language_info": {
   "codemirror_mode": {
    "name": "ipython",
    "version": 3
   },
   "file_extension": ".py",
   "mimetype": "text/x-python",
   "name": "python",
   "nbconvert_exporter": "python",
   "pygments_lexer": "ipython3",
   "version": "3.10.5"
  },
  "orig_nbformat": 4
 },
 "nbformat": 4,
 "nbformat_minor": 2
}

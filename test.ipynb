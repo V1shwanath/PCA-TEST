{
 "cells": [
  {
   "cell_type": "code",
   "execution_count": 2,
   "metadata": {},
   "outputs": [],
   "source": [
    "import pandas as pd"
   ]
  },
  {
   "cell_type": "code",
   "execution_count": 3,
   "metadata": {},
   "outputs": [
    {
     "data": {
      "text/html": [
       "<div>\n",
       "<style scoped>\n",
       "    .dataframe tbody tr th:only-of-type {\n",
       "        vertical-align: middle;\n",
       "    }\n",
       "\n",
       "    .dataframe tbody tr th {\n",
       "        vertical-align: top;\n",
       "    }\n",
       "\n",
       "    .dataframe thead th {\n",
       "        text-align: right;\n",
       "    }\n",
       "</style>\n",
       "<table border=\"1\" class=\"dataframe\">\n",
       "  <thead>\n",
       "    <tr style=\"text-align: right;\">\n",
       "      <th></th>\n",
       "      <th></th>\n",
       "      <th>58PDI1202.PV</th>\n",
       "      <th>58TI3246.PV</th>\n",
       "      <th>58PIC3226A.PV</th>\n",
       "      <th>58HIC3225.MV</th>\n",
       "      <th>58ZI3225.PV</th>\n",
       "      <th>58PI3239.PV</th>\n",
       "      <th>58TI3230.PV</th>\n",
       "      <th>58TI3231.PV</th>\n",
       "      <th>58PI3209.PV</th>\n",
       "      <th>58TI3208.PV</th>\n",
       "      <th>...</th>\n",
       "      <th>58VI3118B.PV</th>\n",
       "      <th>58TI3113.PV</th>\n",
       "      <th>58VI3233A.PV</th>\n",
       "      <th>58VI3233B.PV</th>\n",
       "      <th>58TI3232.PV</th>\n",
       "      <th>58TI3234.PV</th>\n",
       "      <th>58TI3414.PV</th>\n",
       "      <th>58PI3314.PV</th>\n",
       "      <th>58PI3107.PV</th>\n",
       "      <th>58LI3403.PV</th>\n",
       "    </tr>\n",
       "    <tr>\n",
       "      <th>Date</th>\n",
       "      <th>Time</th>\n",
       "      <th></th>\n",
       "      <th></th>\n",
       "      <th></th>\n",
       "      <th></th>\n",
       "      <th></th>\n",
       "      <th></th>\n",
       "      <th></th>\n",
       "      <th></th>\n",
       "      <th></th>\n",
       "      <th></th>\n",
       "      <th></th>\n",
       "      <th></th>\n",
       "      <th></th>\n",
       "      <th></th>\n",
       "      <th></th>\n",
       "      <th></th>\n",
       "      <th></th>\n",
       "      <th></th>\n",
       "      <th></th>\n",
       "      <th></th>\n",
       "      <th></th>\n",
       "    </tr>\n",
       "  </thead>\n",
       "  <tbody>\n",
       "    <tr>\n",
       "      <th>2018-08-16 00:00:00</th>\n",
       "      <th>00:00:00</th>\n",
       "      <td>0.485438</td>\n",
       "      <td>13.704390</td>\n",
       "      <td>759.735596</td>\n",
       "      <td>82.490387</td>\n",
       "      <td>82.814613</td>\n",
       "      <td>168.270096</td>\n",
       "      <td>127.014091</td>\n",
       "      <td>22.268492</td>\n",
       "      <td>349.978271</td>\n",
       "      <td>85.172089</td>\n",
       "      <td>...</td>\n",
       "      <td>23.487450</td>\n",
       "      <td>76.504044</td>\n",
       "      <td>41.856094</td>\n",
       "      <td>33.768810</td>\n",
       "      <td>70.640869</td>\n",
       "      <td>74.101479</td>\n",
       "      <td>46.227104</td>\n",
       "      <td>308.491455</td>\n",
       "      <td>1386.177490</td>\n",
       "      <td>96.028496</td>\n",
       "    </tr>\n",
       "    <tr>\n",
       "      <th>2018-08-16 01:00:00</th>\n",
       "      <th>01:00:00</th>\n",
       "      <td>0.486443</td>\n",
       "      <td>14.682747</td>\n",
       "      <td>758.939575</td>\n",
       "      <td>84.825310</td>\n",
       "      <td>85.061035</td>\n",
       "      <td>168.685211</td>\n",
       "      <td>128.635193</td>\n",
       "      <td>22.674412</td>\n",
       "      <td>350.204132</td>\n",
       "      <td>85.504578</td>\n",
       "      <td>...</td>\n",
       "      <td>23.633106</td>\n",
       "      <td>76.478264</td>\n",
       "      <td>41.984322</td>\n",
       "      <td>33.921059</td>\n",
       "      <td>70.738480</td>\n",
       "      <td>74.173584</td>\n",
       "      <td>46.416500</td>\n",
       "      <td>307.626678</td>\n",
       "      <td>1383.323853</td>\n",
       "      <td>96.039764</td>\n",
       "    </tr>\n",
       "    <tr>\n",
       "      <th>2018-08-16 02:00:00</th>\n",
       "      <th>02:00:00</th>\n",
       "      <td>0.496587</td>\n",
       "      <td>14.022818</td>\n",
       "      <td>761.087402</td>\n",
       "      <td>84.914108</td>\n",
       "      <td>85.217781</td>\n",
       "      <td>169.251389</td>\n",
       "      <td>128.156845</td>\n",
       "      <td>22.561634</td>\n",
       "      <td>351.214966</td>\n",
       "      <td>85.411736</td>\n",
       "      <td>...</td>\n",
       "      <td>23.810165</td>\n",
       "      <td>76.530525</td>\n",
       "      <td>41.715927</td>\n",
       "      <td>34.148010</td>\n",
       "      <td>70.738480</td>\n",
       "      <td>74.236641</td>\n",
       "      <td>46.504772</td>\n",
       "      <td>307.028870</td>\n",
       "      <td>1381.364014</td>\n",
       "      <td>96.113159</td>\n",
       "    </tr>\n",
       "    <tr>\n",
       "      <th>2018-08-16 03:00:00</th>\n",
       "      <th>03:00:00</th>\n",
       "      <td>0.532740</td>\n",
       "      <td>13.443664</td>\n",
       "      <td>759.993347</td>\n",
       "      <td>83.618591</td>\n",
       "      <td>83.950287</td>\n",
       "      <td>168.628265</td>\n",
       "      <td>127.136993</td>\n",
       "      <td>22.304523</td>\n",
       "      <td>350.304291</td>\n",
       "      <td>85.164139</td>\n",
       "      <td>...</td>\n",
       "      <td>23.006880</td>\n",
       "      <td>76.759766</td>\n",
       "      <td>42.757172</td>\n",
       "      <td>33.967159</td>\n",
       "      <td>70.592285</td>\n",
       "      <td>74.064438</td>\n",
       "      <td>46.162468</td>\n",
       "      <td>308.572327</td>\n",
       "      <td>1385.243042</td>\n",
       "      <td>95.938889</td>\n",
       "    </tr>\n",
       "    <tr>\n",
       "      <th>2018-08-16 04:00:00</th>\n",
       "      <th>04:00:00</th>\n",
       "      <td>0.584378</td>\n",
       "      <td>12.676052</td>\n",
       "      <td>760.262573</td>\n",
       "      <td>82.454002</td>\n",
       "      <td>82.755478</td>\n",
       "      <td>168.529510</td>\n",
       "      <td>126.012871</td>\n",
       "      <td>22.126286</td>\n",
       "      <td>350.265015</td>\n",
       "      <td>84.979736</td>\n",
       "      <td>...</td>\n",
       "      <td>22.874638</td>\n",
       "      <td>77.681564</td>\n",
       "      <td>43.185646</td>\n",
       "      <td>35.361031</td>\n",
       "      <td>70.485199</td>\n",
       "      <td>73.977112</td>\n",
       "      <td>45.805019</td>\n",
       "      <td>310.387726</td>\n",
       "      <td>1389.648071</td>\n",
       "      <td>95.648880</td>\n",
       "    </tr>\n",
       "  </tbody>\n",
       "</table>\n",
       "<p>5 rows × 109 columns</p>\n",
       "</div>"
      ],
      "text/plain": [
       "                              58PDI1202.PV  58TI3246.PV  58PIC3226A.PV  \\\n",
       "Date                Time                                                 \n",
       "2018-08-16 00:00:00 00:00:00      0.485438    13.704390     759.735596   \n",
       "2018-08-16 01:00:00 01:00:00      0.486443    14.682747     758.939575   \n",
       "2018-08-16 02:00:00 02:00:00      0.496587    14.022818     761.087402   \n",
       "2018-08-16 03:00:00 03:00:00      0.532740    13.443664     759.993347   \n",
       "2018-08-16 04:00:00 04:00:00      0.584378    12.676052     760.262573   \n",
       "\n",
       "                              58HIC3225.MV  58ZI3225.PV  58PI3239.PV  \\\n",
       "Date                Time                                               \n",
       "2018-08-16 00:00:00 00:00:00     82.490387    82.814613   168.270096   \n",
       "2018-08-16 01:00:00 01:00:00     84.825310    85.061035   168.685211   \n",
       "2018-08-16 02:00:00 02:00:00     84.914108    85.217781   169.251389   \n",
       "2018-08-16 03:00:00 03:00:00     83.618591    83.950287   168.628265   \n",
       "2018-08-16 04:00:00 04:00:00     82.454002    82.755478   168.529510   \n",
       "\n",
       "                              58TI3230.PV  58TI3231.PV  58PI3209.PV  \\\n",
       "Date                Time                                              \n",
       "2018-08-16 00:00:00 00:00:00   127.014091    22.268492   349.978271   \n",
       "2018-08-16 01:00:00 01:00:00   128.635193    22.674412   350.204132   \n",
       "2018-08-16 02:00:00 02:00:00   128.156845    22.561634   351.214966   \n",
       "2018-08-16 03:00:00 03:00:00   127.136993    22.304523   350.304291   \n",
       "2018-08-16 04:00:00 04:00:00   126.012871    22.126286   350.265015   \n",
       "\n",
       "                              58TI3208.PV  ...  58VI3118B.PV  58TI3113.PV  \\\n",
       "Date                Time                   ...                              \n",
       "2018-08-16 00:00:00 00:00:00    85.172089  ...     23.487450    76.504044   \n",
       "2018-08-16 01:00:00 01:00:00    85.504578  ...     23.633106    76.478264   \n",
       "2018-08-16 02:00:00 02:00:00    85.411736  ...     23.810165    76.530525   \n",
       "2018-08-16 03:00:00 03:00:00    85.164139  ...     23.006880    76.759766   \n",
       "2018-08-16 04:00:00 04:00:00    84.979736  ...     22.874638    77.681564   \n",
       "\n",
       "                              58VI3233A.PV  58VI3233B.PV  58TI3232.PV  \\\n",
       "Date                Time                                                \n",
       "2018-08-16 00:00:00 00:00:00     41.856094     33.768810    70.640869   \n",
       "2018-08-16 01:00:00 01:00:00     41.984322     33.921059    70.738480   \n",
       "2018-08-16 02:00:00 02:00:00     41.715927     34.148010    70.738480   \n",
       "2018-08-16 03:00:00 03:00:00     42.757172     33.967159    70.592285   \n",
       "2018-08-16 04:00:00 04:00:00     43.185646     35.361031    70.485199   \n",
       "\n",
       "                              58TI3234.PV  58TI3414.PV  58PI3314.PV  \\\n",
       "Date                Time                                              \n",
       "2018-08-16 00:00:00 00:00:00    74.101479    46.227104   308.491455   \n",
       "2018-08-16 01:00:00 01:00:00    74.173584    46.416500   307.626678   \n",
       "2018-08-16 02:00:00 02:00:00    74.236641    46.504772   307.028870   \n",
       "2018-08-16 03:00:00 03:00:00    74.064438    46.162468   308.572327   \n",
       "2018-08-16 04:00:00 04:00:00    73.977112    45.805019   310.387726   \n",
       "\n",
       "                              58PI3107.PV  58LI3403.PV  \n",
       "Date                Time                                \n",
       "2018-08-16 00:00:00 00:00:00  1386.177490    96.028496  \n",
       "2018-08-16 01:00:00 01:00:00  1383.323853    96.039764  \n",
       "2018-08-16 02:00:00 02:00:00  1381.364014    96.113159  \n",
       "2018-08-16 03:00:00 03:00:00  1385.243042    95.938889  \n",
       "2018-08-16 04:00:00 04:00:00  1389.648071    95.648880  \n",
       "\n",
       "[5 rows x 109 columns]"
      ]
     },
     "execution_count": 3,
     "metadata": {},
     "output_type": "execute_result"
    }
   ],
   "source": [
    "df = pd.read_excel('Book1.xlsx', index_col= [0,1])\n",
    "df.head()"
   ]
  },
  {
   "cell_type": "code",
   "execution_count": 4,
   "metadata": {},
   "outputs": [],
   "source": [
    "from sklearn.datasets import load_iris\n",
    "data = load_iris"
   ]
  },
  {
   "cell_type": "code",
   "execution_count": 5,
   "metadata": {},
   "outputs": [
    {
     "data": {
      "text/html": [
       "<div>\n",
       "<style scoped>\n",
       "    .dataframe tbody tr th:only-of-type {\n",
       "        vertical-align: middle;\n",
       "    }\n",
       "\n",
       "    .dataframe tbody tr th {\n",
       "        vertical-align: top;\n",
       "    }\n",
       "\n",
       "    .dataframe thead th {\n",
       "        text-align: right;\n",
       "    }\n",
       "</style>\n",
       "<table border=\"1\" class=\"dataframe\">\n",
       "  <thead>\n",
       "    <tr style=\"text-align: right;\">\n",
       "      <th></th>\n",
       "      <th></th>\n",
       "      <th>58PDI1202.PV</th>\n",
       "      <th>58TI3246.PV</th>\n",
       "      <th>58PIC3226A.PV</th>\n",
       "      <th>58HIC3225.MV</th>\n",
       "      <th>58ZI3225.PV</th>\n",
       "      <th>58PI3239.PV</th>\n",
       "      <th>58TI3230.PV</th>\n",
       "      <th>58TI3231.PV</th>\n",
       "      <th>58PI3209.PV</th>\n",
       "      <th>58TI3208.PV</th>\n",
       "      <th>...</th>\n",
       "      <th>58VI3118B.PV</th>\n",
       "      <th>58TI3113.PV</th>\n",
       "      <th>58VI3233A.PV</th>\n",
       "      <th>58VI3233B.PV</th>\n",
       "      <th>58TI3232.PV</th>\n",
       "      <th>58TI3234.PV</th>\n",
       "      <th>58TI3414.PV</th>\n",
       "      <th>58PI3314.PV</th>\n",
       "      <th>58PI3107.PV</th>\n",
       "      <th>58LI3403.PV</th>\n",
       "    </tr>\n",
       "    <tr>\n",
       "      <th>Date</th>\n",
       "      <th>Time</th>\n",
       "      <th></th>\n",
       "      <th></th>\n",
       "      <th></th>\n",
       "      <th></th>\n",
       "      <th></th>\n",
       "      <th></th>\n",
       "      <th></th>\n",
       "      <th></th>\n",
       "      <th></th>\n",
       "      <th></th>\n",
       "      <th></th>\n",
       "      <th></th>\n",
       "      <th></th>\n",
       "      <th></th>\n",
       "      <th></th>\n",
       "      <th></th>\n",
       "      <th></th>\n",
       "      <th></th>\n",
       "      <th></th>\n",
       "      <th></th>\n",
       "      <th></th>\n",
       "    </tr>\n",
       "  </thead>\n",
       "  <tbody>\n",
       "    <tr>\n",
       "      <th>2018-08-16 00:00:00</th>\n",
       "      <th>00:00:00</th>\n",
       "      <td>0.485438</td>\n",
       "      <td>13.704390</td>\n",
       "      <td>759.735596</td>\n",
       "      <td>82.490387</td>\n",
       "      <td>82.814613</td>\n",
       "      <td>168.270096</td>\n",
       "      <td>127.014091</td>\n",
       "      <td>22.268492</td>\n",
       "      <td>349.978271</td>\n",
       "      <td>85.172089</td>\n",
       "      <td>...</td>\n",
       "      <td>23.487450</td>\n",
       "      <td>76.504044</td>\n",
       "      <td>41.856094</td>\n",
       "      <td>33.768810</td>\n",
       "      <td>70.640869</td>\n",
       "      <td>74.101479</td>\n",
       "      <td>46.227104</td>\n",
       "      <td>308.491455</td>\n",
       "      <td>1386.177490</td>\n",
       "      <td>96.028496</td>\n",
       "    </tr>\n",
       "    <tr>\n",
       "      <th>2018-08-16 01:00:00</th>\n",
       "      <th>01:00:00</th>\n",
       "      <td>0.486443</td>\n",
       "      <td>14.682747</td>\n",
       "      <td>758.939575</td>\n",
       "      <td>84.825310</td>\n",
       "      <td>85.061035</td>\n",
       "      <td>168.685211</td>\n",
       "      <td>128.635193</td>\n",
       "      <td>22.674412</td>\n",
       "      <td>350.204132</td>\n",
       "      <td>85.504578</td>\n",
       "      <td>...</td>\n",
       "      <td>23.633106</td>\n",
       "      <td>76.478264</td>\n",
       "      <td>41.984322</td>\n",
       "      <td>33.921059</td>\n",
       "      <td>70.738480</td>\n",
       "      <td>74.173584</td>\n",
       "      <td>46.416500</td>\n",
       "      <td>307.626678</td>\n",
       "      <td>1383.323853</td>\n",
       "      <td>96.039764</td>\n",
       "    </tr>\n",
       "    <tr>\n",
       "      <th>2018-08-16 02:00:00</th>\n",
       "      <th>02:00:00</th>\n",
       "      <td>0.496587</td>\n",
       "      <td>14.022818</td>\n",
       "      <td>761.087402</td>\n",
       "      <td>84.914108</td>\n",
       "      <td>85.217781</td>\n",
       "      <td>169.251389</td>\n",
       "      <td>128.156845</td>\n",
       "      <td>22.561634</td>\n",
       "      <td>351.214966</td>\n",
       "      <td>85.411736</td>\n",
       "      <td>...</td>\n",
       "      <td>23.810165</td>\n",
       "      <td>76.530525</td>\n",
       "      <td>41.715927</td>\n",
       "      <td>34.148010</td>\n",
       "      <td>70.738480</td>\n",
       "      <td>74.236641</td>\n",
       "      <td>46.504772</td>\n",
       "      <td>307.028870</td>\n",
       "      <td>1381.364014</td>\n",
       "      <td>96.113159</td>\n",
       "    </tr>\n",
       "    <tr>\n",
       "      <th>2018-08-16 03:00:00</th>\n",
       "      <th>03:00:00</th>\n",
       "      <td>0.532740</td>\n",
       "      <td>13.443664</td>\n",
       "      <td>759.993347</td>\n",
       "      <td>83.618591</td>\n",
       "      <td>83.950287</td>\n",
       "      <td>168.628265</td>\n",
       "      <td>127.136993</td>\n",
       "      <td>22.304523</td>\n",
       "      <td>350.304291</td>\n",
       "      <td>85.164139</td>\n",
       "      <td>...</td>\n",
       "      <td>23.006880</td>\n",
       "      <td>76.759766</td>\n",
       "      <td>42.757172</td>\n",
       "      <td>33.967159</td>\n",
       "      <td>70.592285</td>\n",
       "      <td>74.064438</td>\n",
       "      <td>46.162468</td>\n",
       "      <td>308.572327</td>\n",
       "      <td>1385.243042</td>\n",
       "      <td>95.938889</td>\n",
       "    </tr>\n",
       "    <tr>\n",
       "      <th>2018-08-16 04:00:00</th>\n",
       "      <th>04:00:00</th>\n",
       "      <td>0.584378</td>\n",
       "      <td>12.676052</td>\n",
       "      <td>760.262573</td>\n",
       "      <td>82.454002</td>\n",
       "      <td>82.755478</td>\n",
       "      <td>168.529510</td>\n",
       "      <td>126.012871</td>\n",
       "      <td>22.126286</td>\n",
       "      <td>350.265015</td>\n",
       "      <td>84.979736</td>\n",
       "      <td>...</td>\n",
       "      <td>22.874638</td>\n",
       "      <td>77.681564</td>\n",
       "      <td>43.185646</td>\n",
       "      <td>35.361031</td>\n",
       "      <td>70.485199</td>\n",
       "      <td>73.977112</td>\n",
       "      <td>45.805019</td>\n",
       "      <td>310.387726</td>\n",
       "      <td>1389.648071</td>\n",
       "      <td>95.648880</td>\n",
       "    </tr>\n",
       "    <tr>\n",
       "      <th>...</th>\n",
       "      <th>...</th>\n",
       "      <td>...</td>\n",
       "      <td>...</td>\n",
       "      <td>...</td>\n",
       "      <td>...</td>\n",
       "      <td>...</td>\n",
       "      <td>...</td>\n",
       "      <td>...</td>\n",
       "      <td>...</td>\n",
       "      <td>...</td>\n",
       "      <td>...</td>\n",
       "      <td>...</td>\n",
       "      <td>...</td>\n",
       "      <td>...</td>\n",
       "      <td>...</td>\n",
       "      <td>...</td>\n",
       "      <td>...</td>\n",
       "      <td>...</td>\n",
       "      <td>...</td>\n",
       "      <td>...</td>\n",
       "      <td>...</td>\n",
       "      <td>...</td>\n",
       "    </tr>\n",
       "    <tr>\n",
       "      <th>2018-08-24 01:00:00</th>\n",
       "      <th>01:00:00</th>\n",
       "      <td>0.473993</td>\n",
       "      <td>11.786310</td>\n",
       "      <td>760.520081</td>\n",
       "      <td>77.178696</td>\n",
       "      <td>77.820496</td>\n",
       "      <td>166.596039</td>\n",
       "      <td>123.442291</td>\n",
       "      <td>20.819235</td>\n",
       "      <td>348.574005</td>\n",
       "      <td>83.701340</td>\n",
       "      <td>...</td>\n",
       "      <td>22.990658</td>\n",
       "      <td>77.625931</td>\n",
       "      <td>40.363670</td>\n",
       "      <td>33.927650</td>\n",
       "      <td>70.351501</td>\n",
       "      <td>73.794785</td>\n",
       "      <td>45.797623</td>\n",
       "      <td>309.746033</td>\n",
       "      <td>1388.534424</td>\n",
       "      <td>95.493912</td>\n",
       "    </tr>\n",
       "    <tr>\n",
       "      <th>2018-08-24 02:00:00</th>\n",
       "      <th>02:00:00</th>\n",
       "      <td>0.467463</td>\n",
       "      <td>11.900259</td>\n",
       "      <td>760.181030</td>\n",
       "      <td>77.017929</td>\n",
       "      <td>77.817200</td>\n",
       "      <td>166.178986</td>\n",
       "      <td>123.550011</td>\n",
       "      <td>20.495556</td>\n",
       "      <td>348.061554</td>\n",
       "      <td>83.390305</td>\n",
       "      <td>...</td>\n",
       "      <td>22.288027</td>\n",
       "      <td>78.207901</td>\n",
       "      <td>41.000538</td>\n",
       "      <td>33.817520</td>\n",
       "      <td>70.213913</td>\n",
       "      <td>73.605209</td>\n",
       "      <td>45.528351</td>\n",
       "      <td>310.769257</td>\n",
       "      <td>1390.792725</td>\n",
       "      <td>95.407166</td>\n",
       "    </tr>\n",
       "    <tr>\n",
       "      <th>2018-08-24 03:00:00</th>\n",
       "      <th>03:00:00</th>\n",
       "      <td>0.464840</td>\n",
       "      <td>11.657276</td>\n",
       "      <td>760.728271</td>\n",
       "      <td>76.772148</td>\n",
       "      <td>77.409386</td>\n",
       "      <td>166.037354</td>\n",
       "      <td>123.248230</td>\n",
       "      <td>20.243111</td>\n",
       "      <td>348.021545</td>\n",
       "      <td>83.107590</td>\n",
       "      <td>...</td>\n",
       "      <td>21.714409</td>\n",
       "      <td>78.645752</td>\n",
       "      <td>42.541042</td>\n",
       "      <td>33.271301</td>\n",
       "      <td>70.082870</td>\n",
       "      <td>73.389854</td>\n",
       "      <td>45.104935</td>\n",
       "      <td>312.714050</td>\n",
       "      <td>1395.204346</td>\n",
       "      <td>95.123466</td>\n",
       "    </tr>\n",
       "    <tr>\n",
       "      <th>2018-08-24 04:00:00</th>\n",
       "      <th>04:00:00</th>\n",
       "      <td>0.467145</td>\n",
       "      <td>11.132824</td>\n",
       "      <td>760.498901</td>\n",
       "      <td>75.521309</td>\n",
       "      <td>76.357529</td>\n",
       "      <td>165.655212</td>\n",
       "      <td>122.510582</td>\n",
       "      <td>19.950104</td>\n",
       "      <td>347.567444</td>\n",
       "      <td>82.829147</td>\n",
       "      <td>...</td>\n",
       "      <td>22.560356</td>\n",
       "      <td>78.643066</td>\n",
       "      <td>43.564651</td>\n",
       "      <td>32.213875</td>\n",
       "      <td>70.060699</td>\n",
       "      <td>73.233437</td>\n",
       "      <td>44.747948</td>\n",
       "      <td>314.445190</td>\n",
       "      <td>1399.405029</td>\n",
       "      <td>94.838837</td>\n",
       "    </tr>\n",
       "    <tr>\n",
       "      <th>2018-08-24 05:00:00</th>\n",
       "      <th>05:00:00</th>\n",
       "      <td>0.468127</td>\n",
       "      <td>10.911824</td>\n",
       "      <td>760.193115</td>\n",
       "      <td>75.030769</td>\n",
       "      <td>75.882812</td>\n",
       "      <td>165.509659</td>\n",
       "      <td>122.077087</td>\n",
       "      <td>19.870119</td>\n",
       "      <td>347.370697</td>\n",
       "      <td>82.747231</td>\n",
       "      <td>...</td>\n",
       "      <td>22.755892</td>\n",
       "      <td>78.610199</td>\n",
       "      <td>43.956718</td>\n",
       "      <td>31.639442</td>\n",
       "      <td>70.037277</td>\n",
       "      <td>73.157028</td>\n",
       "      <td>44.601780</td>\n",
       "      <td>315.065063</td>\n",
       "      <td>1401.377930</td>\n",
       "      <td>94.677277</td>\n",
       "    </tr>\n",
       "  </tbody>\n",
       "</table>\n",
       "<p>192 rows × 109 columns</p>\n",
       "</div>"
      ],
      "text/plain": [
       "                              58PDI1202.PV  58TI3246.PV  58PIC3226A.PV  \\\n",
       "Date                Time                                                 \n",
       "2018-08-16 00:00:00 00:00:00      0.485438    13.704390     759.735596   \n",
       "2018-08-16 01:00:00 01:00:00      0.486443    14.682747     758.939575   \n",
       "2018-08-16 02:00:00 02:00:00      0.496587    14.022818     761.087402   \n",
       "2018-08-16 03:00:00 03:00:00      0.532740    13.443664     759.993347   \n",
       "2018-08-16 04:00:00 04:00:00      0.584378    12.676052     760.262573   \n",
       "...                                    ...          ...            ...   \n",
       "2018-08-24 01:00:00 01:00:00      0.473993    11.786310     760.520081   \n",
       "2018-08-24 02:00:00 02:00:00      0.467463    11.900259     760.181030   \n",
       "2018-08-24 03:00:00 03:00:00      0.464840    11.657276     760.728271   \n",
       "2018-08-24 04:00:00 04:00:00      0.467145    11.132824     760.498901   \n",
       "2018-08-24 05:00:00 05:00:00      0.468127    10.911824     760.193115   \n",
       "\n",
       "                              58HIC3225.MV  58ZI3225.PV  58PI3239.PV  \\\n",
       "Date                Time                                               \n",
       "2018-08-16 00:00:00 00:00:00     82.490387    82.814613   168.270096   \n",
       "2018-08-16 01:00:00 01:00:00     84.825310    85.061035   168.685211   \n",
       "2018-08-16 02:00:00 02:00:00     84.914108    85.217781   169.251389   \n",
       "2018-08-16 03:00:00 03:00:00     83.618591    83.950287   168.628265   \n",
       "2018-08-16 04:00:00 04:00:00     82.454002    82.755478   168.529510   \n",
       "...                                    ...          ...          ...   \n",
       "2018-08-24 01:00:00 01:00:00     77.178696    77.820496   166.596039   \n",
       "2018-08-24 02:00:00 02:00:00     77.017929    77.817200   166.178986   \n",
       "2018-08-24 03:00:00 03:00:00     76.772148    77.409386   166.037354   \n",
       "2018-08-24 04:00:00 04:00:00     75.521309    76.357529   165.655212   \n",
       "2018-08-24 05:00:00 05:00:00     75.030769    75.882812   165.509659   \n",
       "\n",
       "                              58TI3230.PV  58TI3231.PV  58PI3209.PV  \\\n",
       "Date                Time                                              \n",
       "2018-08-16 00:00:00 00:00:00   127.014091    22.268492   349.978271   \n",
       "2018-08-16 01:00:00 01:00:00   128.635193    22.674412   350.204132   \n",
       "2018-08-16 02:00:00 02:00:00   128.156845    22.561634   351.214966   \n",
       "2018-08-16 03:00:00 03:00:00   127.136993    22.304523   350.304291   \n",
       "2018-08-16 04:00:00 04:00:00   126.012871    22.126286   350.265015   \n",
       "...                                   ...          ...          ...   \n",
       "2018-08-24 01:00:00 01:00:00   123.442291    20.819235   348.574005   \n",
       "2018-08-24 02:00:00 02:00:00   123.550011    20.495556   348.061554   \n",
       "2018-08-24 03:00:00 03:00:00   123.248230    20.243111   348.021545   \n",
       "2018-08-24 04:00:00 04:00:00   122.510582    19.950104   347.567444   \n",
       "2018-08-24 05:00:00 05:00:00   122.077087    19.870119   347.370697   \n",
       "\n",
       "                              58TI3208.PV  ...  58VI3118B.PV  58TI3113.PV  \\\n",
       "Date                Time                   ...                              \n",
       "2018-08-16 00:00:00 00:00:00    85.172089  ...     23.487450    76.504044   \n",
       "2018-08-16 01:00:00 01:00:00    85.504578  ...     23.633106    76.478264   \n",
       "2018-08-16 02:00:00 02:00:00    85.411736  ...     23.810165    76.530525   \n",
       "2018-08-16 03:00:00 03:00:00    85.164139  ...     23.006880    76.759766   \n",
       "2018-08-16 04:00:00 04:00:00    84.979736  ...     22.874638    77.681564   \n",
       "...                                   ...  ...           ...          ...   \n",
       "2018-08-24 01:00:00 01:00:00    83.701340  ...     22.990658    77.625931   \n",
       "2018-08-24 02:00:00 02:00:00    83.390305  ...     22.288027    78.207901   \n",
       "2018-08-24 03:00:00 03:00:00    83.107590  ...     21.714409    78.645752   \n",
       "2018-08-24 04:00:00 04:00:00    82.829147  ...     22.560356    78.643066   \n",
       "2018-08-24 05:00:00 05:00:00    82.747231  ...     22.755892    78.610199   \n",
       "\n",
       "                              58VI3233A.PV  58VI3233B.PV  58TI3232.PV  \\\n",
       "Date                Time                                                \n",
       "2018-08-16 00:00:00 00:00:00     41.856094     33.768810    70.640869   \n",
       "2018-08-16 01:00:00 01:00:00     41.984322     33.921059    70.738480   \n",
       "2018-08-16 02:00:00 02:00:00     41.715927     34.148010    70.738480   \n",
       "2018-08-16 03:00:00 03:00:00     42.757172     33.967159    70.592285   \n",
       "2018-08-16 04:00:00 04:00:00     43.185646     35.361031    70.485199   \n",
       "...                                    ...           ...          ...   \n",
       "2018-08-24 01:00:00 01:00:00     40.363670     33.927650    70.351501   \n",
       "2018-08-24 02:00:00 02:00:00     41.000538     33.817520    70.213913   \n",
       "2018-08-24 03:00:00 03:00:00     42.541042     33.271301    70.082870   \n",
       "2018-08-24 04:00:00 04:00:00     43.564651     32.213875    70.060699   \n",
       "2018-08-24 05:00:00 05:00:00     43.956718     31.639442    70.037277   \n",
       "\n",
       "                              58TI3234.PV  58TI3414.PV  58PI3314.PV  \\\n",
       "Date                Time                                              \n",
       "2018-08-16 00:00:00 00:00:00    74.101479    46.227104   308.491455   \n",
       "2018-08-16 01:00:00 01:00:00    74.173584    46.416500   307.626678   \n",
       "2018-08-16 02:00:00 02:00:00    74.236641    46.504772   307.028870   \n",
       "2018-08-16 03:00:00 03:00:00    74.064438    46.162468   308.572327   \n",
       "2018-08-16 04:00:00 04:00:00    73.977112    45.805019   310.387726   \n",
       "...                                   ...          ...          ...   \n",
       "2018-08-24 01:00:00 01:00:00    73.794785    45.797623   309.746033   \n",
       "2018-08-24 02:00:00 02:00:00    73.605209    45.528351   310.769257   \n",
       "2018-08-24 03:00:00 03:00:00    73.389854    45.104935   312.714050   \n",
       "2018-08-24 04:00:00 04:00:00    73.233437    44.747948   314.445190   \n",
       "2018-08-24 05:00:00 05:00:00    73.157028    44.601780   315.065063   \n",
       "\n",
       "                              58PI3107.PV  58LI3403.PV  \n",
       "Date                Time                                \n",
       "2018-08-16 00:00:00 00:00:00  1386.177490    96.028496  \n",
       "2018-08-16 01:00:00 01:00:00  1383.323853    96.039764  \n",
       "2018-08-16 02:00:00 02:00:00  1381.364014    96.113159  \n",
       "2018-08-16 03:00:00 03:00:00  1385.243042    95.938889  \n",
       "2018-08-16 04:00:00 04:00:00  1389.648071    95.648880  \n",
       "...                                   ...          ...  \n",
       "2018-08-24 01:00:00 01:00:00  1388.534424    95.493912  \n",
       "2018-08-24 02:00:00 02:00:00  1390.792725    95.407166  \n",
       "2018-08-24 03:00:00 03:00:00  1395.204346    95.123466  \n",
       "2018-08-24 04:00:00 04:00:00  1399.405029    94.838837  \n",
       "2018-08-24 05:00:00 05:00:00  1401.377930    94.677277  \n",
       "\n",
       "[192 rows x 109 columns]"
      ]
     },
     "execution_count": 5,
     "metadata": {},
     "output_type": "execute_result"
    }
   ],
   "source": [
    "df"
   ]
  },
  {
   "cell_type": "code",
   "execution_count": 6,
   "metadata": {},
   "outputs": [
    {
     "data": {
      "text/html": [
       "<div>\n",
       "<style scoped>\n",
       "    .dataframe tbody tr th:only-of-type {\n",
       "        vertical-align: middle;\n",
       "    }\n",
       "\n",
       "    .dataframe tbody tr th {\n",
       "        vertical-align: top;\n",
       "    }\n",
       "\n",
       "    .dataframe thead th {\n",
       "        text-align: right;\n",
       "    }\n",
       "</style>\n",
       "<table border=\"1\" class=\"dataframe\">\n",
       "  <thead>\n",
       "    <tr style=\"text-align: right;\">\n",
       "      <th></th>\n",
       "      <th>sepal_length</th>\n",
       "      <th>sepal_width</th>\n",
       "      <th>petal_length</th>\n",
       "      <th>petal_width</th>\n",
       "      <th>species</th>\n",
       "    </tr>\n",
       "  </thead>\n",
       "  <tbody>\n",
       "    <tr>\n",
       "      <th>0</th>\n",
       "      <td>5.1</td>\n",
       "      <td>3.5</td>\n",
       "      <td>1.4</td>\n",
       "      <td>0.2</td>\n",
       "      <td>setosa</td>\n",
       "    </tr>\n",
       "    <tr>\n",
       "      <th>1</th>\n",
       "      <td>4.9</td>\n",
       "      <td>3.0</td>\n",
       "      <td>1.4</td>\n",
       "      <td>0.2</td>\n",
       "      <td>setosa</td>\n",
       "    </tr>\n",
       "    <tr>\n",
       "      <th>2</th>\n",
       "      <td>4.7</td>\n",
       "      <td>3.2</td>\n",
       "      <td>1.3</td>\n",
       "      <td>0.2</td>\n",
       "      <td>setosa</td>\n",
       "    </tr>\n",
       "    <tr>\n",
       "      <th>3</th>\n",
       "      <td>4.6</td>\n",
       "      <td>3.1</td>\n",
       "      <td>1.5</td>\n",
       "      <td>0.2</td>\n",
       "      <td>setosa</td>\n",
       "    </tr>\n",
       "    <tr>\n",
       "      <th>4</th>\n",
       "      <td>5.0</td>\n",
       "      <td>3.6</td>\n",
       "      <td>1.4</td>\n",
       "      <td>0.2</td>\n",
       "      <td>setosa</td>\n",
       "    </tr>\n",
       "  </tbody>\n",
       "</table>\n",
       "</div>"
      ],
      "text/plain": [
       "   sepal_length  sepal_width  petal_length  petal_width species\n",
       "0           5.1          3.5           1.4          0.2  setosa\n",
       "1           4.9          3.0           1.4          0.2  setosa\n",
       "2           4.7          3.2           1.3          0.2  setosa\n",
       "3           4.6          3.1           1.5          0.2  setosa\n",
       "4           5.0          3.6           1.4          0.2  setosa"
      ]
     },
     "execution_count": 6,
     "metadata": {},
     "output_type": "execute_result"
    }
   ],
   "source": [
    "import seaborn as sns\n",
    "iris = sns.load_dataset('iris')\n",
    "iris.head()"
   ]
  },
  {
   "cell_type": "code",
   "execution_count": 7,
   "metadata": {},
   "outputs": [],
   "source": [
    "from sklearn.preprocessing import scale\n",
    "from sklearn import decomposition\n",
    "X = scale(df)"
   ]
  },
  {
   "cell_type": "code",
   "execution_count": 8,
   "metadata": {},
   "outputs": [
    {
     "data": {
      "text/html": [
       "<style>#sk-container-id-1 {color: black;background-color: white;}#sk-container-id-1 pre{padding: 0;}#sk-container-id-1 div.sk-toggleable {background-color: white;}#sk-container-id-1 label.sk-toggleable__label {cursor: pointer;display: block;width: 100%;margin-bottom: 0;padding: 0.3em;box-sizing: border-box;text-align: center;}#sk-container-id-1 label.sk-toggleable__label-arrow:before {content: \"▸\";float: left;margin-right: 0.25em;color: #696969;}#sk-container-id-1 label.sk-toggleable__label-arrow:hover:before {color: black;}#sk-container-id-1 div.sk-estimator:hover label.sk-toggleable__label-arrow:before {color: black;}#sk-container-id-1 div.sk-toggleable__content {max-height: 0;max-width: 0;overflow: hidden;text-align: left;background-color: #f0f8ff;}#sk-container-id-1 div.sk-toggleable__content pre {margin: 0.2em;color: black;border-radius: 0.25em;background-color: #f0f8ff;}#sk-container-id-1 input.sk-toggleable__control:checked~div.sk-toggleable__content {max-height: 200px;max-width: 100%;overflow: auto;}#sk-container-id-1 input.sk-toggleable__control:checked~label.sk-toggleable__label-arrow:before {content: \"▾\";}#sk-container-id-1 div.sk-estimator input.sk-toggleable__control:checked~label.sk-toggleable__label {background-color: #d4ebff;}#sk-container-id-1 div.sk-label input.sk-toggleable__control:checked~label.sk-toggleable__label {background-color: #d4ebff;}#sk-container-id-1 input.sk-hidden--visually {border: 0;clip: rect(1px 1px 1px 1px);clip: rect(1px, 1px, 1px, 1px);height: 1px;margin: -1px;overflow: hidden;padding: 0;position: absolute;width: 1px;}#sk-container-id-1 div.sk-estimator {font-family: monospace;background-color: #f0f8ff;border: 1px dotted black;border-radius: 0.25em;box-sizing: border-box;margin-bottom: 0.5em;}#sk-container-id-1 div.sk-estimator:hover {background-color: #d4ebff;}#sk-container-id-1 div.sk-parallel-item::after {content: \"\";width: 100%;border-bottom: 1px solid gray;flex-grow: 1;}#sk-container-id-1 div.sk-label:hover label.sk-toggleable__label {background-color: #d4ebff;}#sk-container-id-1 div.sk-serial::before {content: \"\";position: absolute;border-left: 1px solid gray;box-sizing: border-box;top: 0;bottom: 0;left: 50%;z-index: 0;}#sk-container-id-1 div.sk-serial {display: flex;flex-direction: column;align-items: center;background-color: white;padding-right: 0.2em;padding-left: 0.2em;position: relative;}#sk-container-id-1 div.sk-item {position: relative;z-index: 1;}#sk-container-id-1 div.sk-parallel {display: flex;align-items: stretch;justify-content: center;background-color: white;position: relative;}#sk-container-id-1 div.sk-item::before, #sk-container-id-1 div.sk-parallel-item::before {content: \"\";position: absolute;border-left: 1px solid gray;box-sizing: border-box;top: 0;bottom: 0;left: 50%;z-index: -1;}#sk-container-id-1 div.sk-parallel-item {display: flex;flex-direction: column;z-index: 1;position: relative;background-color: white;}#sk-container-id-1 div.sk-parallel-item:first-child::after {align-self: flex-end;width: 50%;}#sk-container-id-1 div.sk-parallel-item:last-child::after {align-self: flex-start;width: 50%;}#sk-container-id-1 div.sk-parallel-item:only-child::after {width: 0;}#sk-container-id-1 div.sk-dashed-wrapped {border: 1px dashed gray;margin: 0 0.4em 0.5em 0.4em;box-sizing: border-box;padding-bottom: 0.4em;background-color: white;}#sk-container-id-1 div.sk-label label {font-family: monospace;font-weight: bold;display: inline-block;line-height: 1.2em;}#sk-container-id-1 div.sk-label-container {text-align: center;}#sk-container-id-1 div.sk-container {/* jupyter's `normalize.less` sets `[hidden] { display: none; }` but bootstrap.min.css set `[hidden] { display: none !important; }` so we also need the `!important` here to be able to override the default hidden behavior on the sphinx rendered scikit-learn.org. See: https://github.com/scikit-learn/scikit-learn/issues/21755 */display: inline-block !important;position: relative;}#sk-container-id-1 div.sk-text-repr-fallback {display: none;}</style><div id=\"sk-container-id-1\" class=\"sk-top-container\"><div class=\"sk-text-repr-fallback\"><pre>PCA(n_components=3)</pre><b>In a Jupyter environment, please rerun this cell to show the HTML representation or trust the notebook. <br />On GitHub, the HTML representation is unable to render, please try loading this page with nbviewer.org.</b></div><div class=\"sk-container\" hidden><div class=\"sk-item\"><div class=\"sk-estimator sk-toggleable\"><input class=\"sk-toggleable__control sk-hidden--visually\" id=\"sk-estimator-id-1\" type=\"checkbox\" checked><label for=\"sk-estimator-id-1\" class=\"sk-toggleable__label sk-toggleable__label-arrow\">PCA</label><div class=\"sk-toggleable__content\"><pre>PCA(n_components=3)</pre></div></div></div></div></div>"
      ],
      "text/plain": [
       "PCA(n_components=3)"
      ]
     },
     "execution_count": 8,
     "metadata": {},
     "output_type": "execute_result"
    }
   ],
   "source": [
    "pca = decomposition.PCA(n_components=3)\n",
    "pca.fit(X)"
   ]
  },
  {
   "cell_type": "code",
   "execution_count": 9,
   "metadata": {},
   "outputs": [
    {
     "data": {
      "text/html": [
       "<div>\n",
       "<style scoped>\n",
       "    .dataframe tbody tr th:only-of-type {\n",
       "        vertical-align: middle;\n",
       "    }\n",
       "\n",
       "    .dataframe tbody tr th {\n",
       "        vertical-align: top;\n",
       "    }\n",
       "\n",
       "    .dataframe thead th {\n",
       "        text-align: right;\n",
       "    }\n",
       "</style>\n",
       "<table border=\"1\" class=\"dataframe\">\n",
       "  <thead>\n",
       "    <tr style=\"text-align: right;\">\n",
       "      <th></th>\n",
       "      <th>PC1</th>\n",
       "      <th>PC2</th>\n",
       "      <th>PC3</th>\n",
       "    </tr>\n",
       "  </thead>\n",
       "  <tbody>\n",
       "    <tr>\n",
       "      <th>0</th>\n",
       "      <td>-0.831807</td>\n",
       "      <td>-1.409666</td>\n",
       "      <td>-0.649151</td>\n",
       "    </tr>\n",
       "    <tr>\n",
       "      <th>1</th>\n",
       "      <td>1.308848</td>\n",
       "      <td>-1.202074</td>\n",
       "      <td>-1.124630</td>\n",
       "    </tr>\n",
       "    <tr>\n",
       "      <th>2</th>\n",
       "      <td>0.695631</td>\n",
       "      <td>-1.762999</td>\n",
       "      <td>-3.789233</td>\n",
       "    </tr>\n",
       "    <tr>\n",
       "      <th>3</th>\n",
       "      <td>-0.268076</td>\n",
       "      <td>-1.398477</td>\n",
       "      <td>-2.022174</td>\n",
       "    </tr>\n",
       "    <tr>\n",
       "      <th>4</th>\n",
       "      <td>-1.737866</td>\n",
       "      <td>-1.120452</td>\n",
       "      <td>-0.998125</td>\n",
       "    </tr>\n",
       "    <tr>\n",
       "      <th>...</th>\n",
       "      <td>...</td>\n",
       "      <td>...</td>\n",
       "      <td>...</td>\n",
       "    </tr>\n",
       "    <tr>\n",
       "      <th>187</th>\n",
       "      <td>-5.321524</td>\n",
       "      <td>-5.488164</td>\n",
       "      <td>-2.428397</td>\n",
       "    </tr>\n",
       "    <tr>\n",
       "      <th>188</th>\n",
       "      <td>-6.396318</td>\n",
       "      <td>-4.704834</td>\n",
       "      <td>-2.129935</td>\n",
       "    </tr>\n",
       "    <tr>\n",
       "      <th>189</th>\n",
       "      <td>-8.426948</td>\n",
       "      <td>-4.706928</td>\n",
       "      <td>-1.589742</td>\n",
       "    </tr>\n",
       "    <tr>\n",
       "      <th>190</th>\n",
       "      <td>-10.018027</td>\n",
       "      <td>-4.787396</td>\n",
       "      <td>0.061166</td>\n",
       "    </tr>\n",
       "    <tr>\n",
       "      <th>191</th>\n",
       "      <td>-10.849555</td>\n",
       "      <td>-4.727860</td>\n",
       "      <td>1.340361</td>\n",
       "    </tr>\n",
       "  </tbody>\n",
       "</table>\n",
       "<p>192 rows × 3 columns</p>\n",
       "</div>"
      ],
      "text/plain": [
       "           PC1       PC2       PC3\n",
       "0    -0.831807 -1.409666 -0.649151\n",
       "1     1.308848 -1.202074 -1.124630\n",
       "2     0.695631 -1.762999 -3.789233\n",
       "3    -0.268076 -1.398477 -2.022174\n",
       "4    -1.737866 -1.120452 -0.998125\n",
       "..         ...       ...       ...\n",
       "187  -5.321524 -5.488164 -2.428397\n",
       "188  -6.396318 -4.704834 -2.129935\n",
       "189  -8.426948 -4.706928 -1.589742\n",
       "190 -10.018027 -4.787396  0.061166\n",
       "191 -10.849555 -4.727860  1.340361\n",
       "\n",
       "[192 rows x 3 columns]"
      ]
     },
     "execution_count": 9,
     "metadata": {},
     "output_type": "execute_result"
    }
   ],
   "source": [
    "scores = pca.transform(X)\n",
    "scores_df = pd.DataFrame(scores,columns=['PC1','PC2','PC3'])\n",
    "scores_df"
   ]
  },
  {
   "cell_type": "code",
   "execution_count": 10,
   "metadata": {},
   "outputs": [
    {
     "data": {
      "text/html": [
       "<div>\n",
       "<style scoped>\n",
       "    .dataframe tbody tr th:only-of-type {\n",
       "        vertical-align: middle;\n",
       "    }\n",
       "\n",
       "    .dataframe tbody tr th {\n",
       "        vertical-align: top;\n",
       "    }\n",
       "\n",
       "    .dataframe thead th {\n",
       "        text-align: right;\n",
       "    }\n",
       "</style>\n",
       "<table border=\"1\" class=\"dataframe\">\n",
       "  <thead>\n",
       "    <tr style=\"text-align: right;\">\n",
       "      <th></th>\n",
       "      <th>PC1</th>\n",
       "      <th>PC2</th>\n",
       "      <th>PC3</th>\n",
       "    </tr>\n",
       "  </thead>\n",
       "  <tbody>\n",
       "    <tr>\n",
       "      <th>58TI3414.PV</th>\n",
       "      <td>0.132567</td>\n",
       "      <td>-0.008799</td>\n",
       "      <td>-0.033748</td>\n",
       "    </tr>\n",
       "    <tr>\n",
       "      <th>58TI3117.PV</th>\n",
       "      <td>0.132557</td>\n",
       "      <td>-0.013824</td>\n",
       "      <td>-0.015572</td>\n",
       "    </tr>\n",
       "    <tr>\n",
       "      <th>58TI3224.PV</th>\n",
       "      <td>0.132089</td>\n",
       "      <td>0.005279</td>\n",
       "      <td>-0.035718</td>\n",
       "    </tr>\n",
       "    <tr>\n",
       "      <th>58TI3211.PV</th>\n",
       "      <td>0.131885</td>\n",
       "      <td>0.013248</td>\n",
       "      <td>-0.048472</td>\n",
       "    </tr>\n",
       "    <tr>\n",
       "      <th>58TI3222.PV</th>\n",
       "      <td>0.131865</td>\n",
       "      <td>0.003477</td>\n",
       "      <td>-0.028778</td>\n",
       "    </tr>\n",
       "    <tr>\n",
       "      <th>...</th>\n",
       "      <td>...</td>\n",
       "      <td>...</td>\n",
       "      <td>...</td>\n",
       "    </tr>\n",
       "    <tr>\n",
       "      <th>58VI3203A.PV</th>\n",
       "      <td>-0.129657</td>\n",
       "      <td>0.014903</td>\n",
       "      <td>-0.022427</td>\n",
       "    </tr>\n",
       "    <tr>\n",
       "      <th>58VI3268A.PV</th>\n",
       "      <td>-0.131580</td>\n",
       "      <td>0.009735</td>\n",
       "      <td>0.025539</td>\n",
       "    </tr>\n",
       "    <tr>\n",
       "      <th>58VI3210B.PV</th>\n",
       "      <td>-0.131626</td>\n",
       "      <td>0.001642</td>\n",
       "      <td>0.020905</td>\n",
       "    </tr>\n",
       "    <tr>\n",
       "      <th>58VI3268B.PV</th>\n",
       "      <td>-0.132443</td>\n",
       "      <td>0.004710</td>\n",
       "      <td>0.030358</td>\n",
       "    </tr>\n",
       "    <tr>\n",
       "      <th>58VI3228A.PV</th>\n",
       "      <td>-0.132622</td>\n",
       "      <td>-0.001925</td>\n",
       "      <td>0.028098</td>\n",
       "    </tr>\n",
       "  </tbody>\n",
       "</table>\n",
       "<p>109 rows × 3 columns</p>\n",
       "</div>"
      ],
      "text/plain": [
       "                   PC1       PC2       PC3\n",
       "58TI3414.PV   0.132567 -0.008799 -0.033748\n",
       "58TI3117.PV   0.132557 -0.013824 -0.015572\n",
       "58TI3224.PV   0.132089  0.005279 -0.035718\n",
       "58TI3211.PV   0.131885  0.013248 -0.048472\n",
       "58TI3222.PV   0.131865  0.003477 -0.028778\n",
       "...                ...       ...       ...\n",
       "58VI3203A.PV -0.129657  0.014903 -0.022427\n",
       "58VI3268A.PV -0.131580  0.009735  0.025539\n",
       "58VI3210B.PV -0.131626  0.001642  0.020905\n",
       "58VI3268B.PV -0.132443  0.004710  0.030358\n",
       "58VI3228A.PV -0.132622 -0.001925  0.028098\n",
       "\n",
       "[109 rows x 3 columns]"
      ]
     },
     "execution_count": 10,
     "metadata": {},
     "output_type": "execute_result"
    }
   ],
   "source": [
    "loadings = pca.components_.T\n",
    "loadings.shape\n",
    "index = df.columns.to_list()\n",
    "len(index)\n",
    "df_loadings = pd.DataFrame(loadings,columns=['PC1','PC2','PC3'],index=index)\n",
    "df_loadings.sort_values(by = 'PC1',ascending=False)"
   ]
  },
  {
   "cell_type": "code",
   "execution_count": 11,
   "metadata": {},
   "outputs": [
    {
     "data": {
      "text/plain": [
       "array([0.51436954, 0.16670643, 0.06634926])"
      ]
     },
     "execution_count": 11,
     "metadata": {},
     "output_type": "execute_result"
    }
   ],
   "source": [
    "explained_var = pca.explained_variance_ratio_\n",
    "explained_var"
   ]
  },
  {
   "cell_type": "code",
   "execution_count": 12,
   "metadata": {},
   "outputs": [
    {
     "data": {
      "application/vnd.plotly.v1+json": {
       "config": {
        "plotlyServerURL": "https://plot.ly"
       },
       "data": [
        {
         "dimensions": [
          {
           "axis": {
            "matches": true
           },
           "label": "PC1",
           "values": [
            0.008821353993050274,
            0.12005225658754115,
            -0.05422087353916549,
            0.13166881699588573,
            0.13167086498987643,
            0.12497948339736387,
            0.12762666589479502,
            0.13139051286807796,
            0.11537250721016654,
            0.13165781218821465,
            0.13132966751831324,
            -0.05421612557452735,
            0.13126686955438144,
            0.054425728027060215,
            -0.12079208447924453,
            -0.10843396023032059,
            0.046460787021829084,
            -0.012459330891429693,
            0.031526334046569224,
            0.111654814542644,
            -0.04802257853683654,
            0.003019924442080038,
            -0.032669386040681286,
            0.11381223580615145,
            0.11616117167754578,
            0.10828786860998489,
            -0.054673905547414726,
            -0.029418286319834452,
            -0.08353424494787919,
            -0.07340337821067532,
            0.01238713952387451,
            -0.0841273159027902,
            -0.06141621798231358,
            -0.05090902807348965,
            -0.053470704154840516,
            -0.03463822208221063,
            0.018873858338139746,
            -0.09027010455779451,
            -0.025624457171803512,
            0.0062129705012774206,
            -0.06633365440180782,
            -0.01863466992200004,
            0.020859345327314694,
            0.043717575825416674,
            0.11432317725343212,
            0.11495625388607332,
            0.12032510045662546,
            0.01103296834260978,
            0,
            0.01604394353179924,
            0.009675264580570104,
            -0.021458258206931317,
            -0.0756681126276638,
            -0.05104509481318495,
            -0.029418286319834452,
            0.09427769659851677,
            -0.12837257389220594,
            0.1320887442631662,
            -0.10722060160558822,
            -0.12854520759379315,
            0.1312200862647014,
            -0.13158000881203663,
            -0.13244348849831653,
            -0.09159961760062127,
            -0.11749656398045952,
            -0.13162565455214414,
            0.10940751888422308,
            -0.13262180280174865,
            -0.12468071441491566,
            0.13186499957928363,
            -0.12965692776081214,
            -0.11130934224694285,
            0.13188542859240046,
            0.11417241101358507,
            -0.04845624089828855,
            0.06353317703190366,
            0.12513609436394105,
            -0.05427811023213793,
            -0.0914322681402893,
            0.12959617002798673,
            -0.129469955526281,
            -0.12737474724224185,
            -0.003780969571828427,
            -0.12205415266503104,
            0.05975687420003986,
            0.13177188577797025,
            0.09618751757189369,
            0.11169970644820294,
            0.1318466110346826,
            -0.029418286319834452,
            -0.0789936245460348,
            -0.0055604973237302294,
            0.132556868117253,
            0.1294823635757815,
            0.08776749520836875,
            0.08412142013495218,
            0.03167706200042544,
            -0.09863525446639482,
            0.032414573851596185,
            0.09503830854216888,
            -0.11440631949713338,
            0.08050680856515492,
            -0.06880727899972817,
            0.1263299262766102,
            0.125492984453579,
            0.1325665235644179,
            -0.1293311849608289,
            -0.12796044580016366,
            0.12869736910381316
           ]
          },
          {
           "axis": {
            "matches": true
           },
           "label": "PC2",
           "values": [
            -0.07131576968821367,
            0.04885910895556145,
            -0.07183738972061954,
            0.017879390905923498,
            0.016878263062339083,
            -0.03608367559766307,
            0.036023952098245035,
            -0.0295651202858202,
            -0.045893827717704214,
            -0.027612219579608164,
            -0.027655208813493273,
            -0.07183192165766826,
            -0.029622276552994518,
            0.0717787633243287,
            -0.009621654944358538,
            -0.00850893618604138,
            0.037895348215246955,
            0.031052382777799144,
            0.016662200139934465,
            -0.0008519593350467564,
            -0.054012411357164426,
            0.15878300840645734,
            -0.07358178185786234,
            -0.004423752821349933,
            0.0036673889820230177,
            0.0064491497803390386,
            -0.07899231572222737,
            0.012762212717409342,
            0.013673881750917698,
            0.046221400612611416,
            0.00380028421957896,
            0.010390497408027999,
            0.021471445967428397,
            -0.2018675162290633,
            -0.18893105339853258,
            -0.21708439593207357,
            -0.21414549326826512,
            0.10991928089298164,
            -0.22539279851990326,
            -0.22599739463715357,
            0.15772133885191703,
            -0.22821402614839237,
            -0.22603080282587337,
            -0.21320724264704474,
            -0.06582058555037629,
            -0.00039178500597253986,
            0.058162510676701994,
            0.22935705604017223,
            0,
            0.1945441900958456,
            0.226241965997503,
            -0.22787662472703743,
            -0.19039251557936485,
            -0.1634297857099215,
            0.012762212717409339,
            -0.06473110978697132,
            0.0039587092997856186,
            0.005278834758289825,
            0.03669374548831562,
            0.022619754775338508,
            -0.001508057996594127,
            0.009735013354316008,
            0.004710391742306765,
            -0.00583206060381094,
            -0.0017652182162944028,
            0.0016424363266028493,
            0.01006025172693046,
            -0.001925218273887544,
            0.039852365605731,
            0.0034766834399359904,
            0.01490303901368278,
            -0.013690538348002948,
            0.013247982883586798,
            -0.09289422649652793,
            0.13978609217078575,
            0.06895285289468128,
            -0.027913466390377763,
            -0.09802157650199038,
            -0.10051672259594444,
            -0.02033744456926708,
            -0.009050196580639078,
            0.010339942925550242,
            -0.22509412501305961,
            0.04096506653060006,
            0.026635322208155055,
            0.0023354611722636504,
            -0.07781008085989005,
            -0.0037390761703386343,
            0.006720840116987754,
            0.012762212717409339,
            -0.09986863553652993,
            -0.016419561063469233,
            -0.013824235847082726,
            -0.02641527023223452,
            -0.13825404647938336,
            0.02570989575199484,
            0.01917128536812893,
            -0.1549744279352574,
            -0.10163636888877765,
            -0.0680124623985146,
            0.001181680779424521,
            -0.021881817653132397,
            0.08044406936834429,
            -0.03795201460657171,
            -0.008889259401523403,
            -0.00879886710277535,
            -0.001963575407491845,
            -0.019219512624671947,
            0.018264473951994795
           ]
          },
          {
           "axis": {
            "matches": true
           },
           "label": "PC3",
           "values": [
            -0.017548334632435523,
            -0.024466712083971213,
            -0.2245819446100552,
            -0.022134239385200268,
            -0.021430348437226437,
            -0.04503602229394546,
            -0.019063876878906927,
            0.006855563778888629,
            -0.09848679194761412,
            0.006410884620755938,
            0.009346526271550018,
            -0.22459324141314543,
            0.0107140898095643,
            0.2245399285809732,
            0.0718556664321713,
            -0.1499230338695,
            -0.18350850678926534,
            -0.1155794505321267,
            0.006328013047560097,
            -0.019517638050967196,
            -0.2358537017146133,
            -0.19274974546229284,
            -0.20299324358085194,
            -0.027726721278900517,
            -0.057276758816155314,
            -0.04265343887514483,
            -0.025793306594881164,
            0.11916123262932264,
            -0.17693511243561313,
            -0.21298498782995426,
            0.024471753064257112,
            -0.17233736232904248,
            -0.20080319913375083,
            -0.10473277567783071,
            -0.1386748700185104,
            -0.04881580153625995,
            -0.06416921598693334,
            0.05729375088715198,
            -0.022333780852719896,
            -0.04837571596345091,
            0.0842571211697698,
            0.007051691670207253,
            0.02029855436687426,
            0.03759291577178623,
            0.056382868693580404,
            0.07483383435388974,
            -0.022374454699148186,
            -0.025841646168963603,
            0,
            -0.07919935222935472,
            -0.027343926131896294,
            0.004032708855720797,
            0.012367209296456806,
            -0.059546639062412365,
            0.11916123262932264,
            -0.07639422783596794,
            -0.012609954368950042,
            -0.03571810454303012,
            -0.05741537613229815,
            -0.023252456355303906,
            -0.02927999847369205,
            0.025539035804893452,
            0.03035793216027069,
            0.07833459630106877,
            0.017637234654628596,
            0.02090466630179272,
            0.000006871315065698477,
            0.028098024363968646,
            0.04685717092061177,
            -0.028778340115923107,
            -0.022427435042910608,
            -0.06290890965197482,
            -0.04847171816141564,
            0.010059149006608394,
            -0.16076438441629404,
            -0.05448544000810908,
            -0.04949440038662338,
            0.07826816228409936,
            0.06851805730581469,
            -0.03051432566978572,
            0.04847013099596667,
            0.030004520798974404,
            0.028958638763332687,
            0.0469675344309427,
            0.09837619448578179,
            -0.03579442144752176,
            -0.11771376973853682,
            -0.10168123374604805,
            -0.041856834769471433,
            0.11916123262932264,
            0.1453327426191006,
            0.18899365741349725,
            -0.015571566788656174,
            0.00591775274925158,
            0.05608321486196386,
            0.16783546305174316,
            0.17850990874848083,
            0.039330191892400904,
            0.19636793594102234,
            0.10977910135191514,
            0.08241476970624297,
            0.18474197798943096,
            -0.07416278886254768,
            0.03475560883358937,
            0.04830054755235559,
            -0.03374752135059339,
            0.07153594248666184,
            0.07693412688279246,
            -0.06727000707767465
           ]
          }
         ],
         "hovertemplate": "%{xaxis.title.text}=%{x}<br>%{yaxis.title.text}=%{y}<extra></extra>",
         "legendgroup": "",
         "marker": {
          "color": "#636efa",
          "symbol": "circle"
         },
         "name": "",
         "showlegend": false,
         "type": "splom"
        }
       ],
       "layout": {
        "dragmode": "select",
        "legend": {
         "tracegroupgap": 0
        },
        "margin": {
         "t": 60
        },
        "template": {
         "data": {
          "bar": [
           {
            "error_x": {
             "color": "#2a3f5f"
            },
            "error_y": {
             "color": "#2a3f5f"
            },
            "marker": {
             "line": {
              "color": "#E5ECF6",
              "width": 0.5
             },
             "pattern": {
              "fillmode": "overlay",
              "size": 10,
              "solidity": 0.2
             }
            },
            "type": "bar"
           }
          ],
          "barpolar": [
           {
            "marker": {
             "line": {
              "color": "#E5ECF6",
              "width": 0.5
             },
             "pattern": {
              "fillmode": "overlay",
              "size": 10,
              "solidity": 0.2
             }
            },
            "type": "barpolar"
           }
          ],
          "carpet": [
           {
            "aaxis": {
             "endlinecolor": "#2a3f5f",
             "gridcolor": "white",
             "linecolor": "white",
             "minorgridcolor": "white",
             "startlinecolor": "#2a3f5f"
            },
            "baxis": {
             "endlinecolor": "#2a3f5f",
             "gridcolor": "white",
             "linecolor": "white",
             "minorgridcolor": "white",
             "startlinecolor": "#2a3f5f"
            },
            "type": "carpet"
           }
          ],
          "choropleth": [
           {
            "colorbar": {
             "outlinewidth": 0,
             "ticks": ""
            },
            "type": "choropleth"
           }
          ],
          "contour": [
           {
            "colorbar": {
             "outlinewidth": 0,
             "ticks": ""
            },
            "colorscale": [
             [
              0,
              "#0d0887"
             ],
             [
              0.1111111111111111,
              "#46039f"
             ],
             [
              0.2222222222222222,
              "#7201a8"
             ],
             [
              0.3333333333333333,
              "#9c179e"
             ],
             [
              0.4444444444444444,
              "#bd3786"
             ],
             [
              0.5555555555555556,
              "#d8576b"
             ],
             [
              0.6666666666666666,
              "#ed7953"
             ],
             [
              0.7777777777777778,
              "#fb9f3a"
             ],
             [
              0.8888888888888888,
              "#fdca26"
             ],
             [
              1,
              "#f0f921"
             ]
            ],
            "type": "contour"
           }
          ],
          "contourcarpet": [
           {
            "colorbar": {
             "outlinewidth": 0,
             "ticks": ""
            },
            "type": "contourcarpet"
           }
          ],
          "heatmap": [
           {
            "colorbar": {
             "outlinewidth": 0,
             "ticks": ""
            },
            "colorscale": [
             [
              0,
              "#0d0887"
             ],
             [
              0.1111111111111111,
              "#46039f"
             ],
             [
              0.2222222222222222,
              "#7201a8"
             ],
             [
              0.3333333333333333,
              "#9c179e"
             ],
             [
              0.4444444444444444,
              "#bd3786"
             ],
             [
              0.5555555555555556,
              "#d8576b"
             ],
             [
              0.6666666666666666,
              "#ed7953"
             ],
             [
              0.7777777777777778,
              "#fb9f3a"
             ],
             [
              0.8888888888888888,
              "#fdca26"
             ],
             [
              1,
              "#f0f921"
             ]
            ],
            "type": "heatmap"
           }
          ],
          "heatmapgl": [
           {
            "colorbar": {
             "outlinewidth": 0,
             "ticks": ""
            },
            "colorscale": [
             [
              0,
              "#0d0887"
             ],
             [
              0.1111111111111111,
              "#46039f"
             ],
             [
              0.2222222222222222,
              "#7201a8"
             ],
             [
              0.3333333333333333,
              "#9c179e"
             ],
             [
              0.4444444444444444,
              "#bd3786"
             ],
             [
              0.5555555555555556,
              "#d8576b"
             ],
             [
              0.6666666666666666,
              "#ed7953"
             ],
             [
              0.7777777777777778,
              "#fb9f3a"
             ],
             [
              0.8888888888888888,
              "#fdca26"
             ],
             [
              1,
              "#f0f921"
             ]
            ],
            "type": "heatmapgl"
           }
          ],
          "histogram": [
           {
            "marker": {
             "pattern": {
              "fillmode": "overlay",
              "size": 10,
              "solidity": 0.2
             }
            },
            "type": "histogram"
           }
          ],
          "histogram2d": [
           {
            "colorbar": {
             "outlinewidth": 0,
             "ticks": ""
            },
            "colorscale": [
             [
              0,
              "#0d0887"
             ],
             [
              0.1111111111111111,
              "#46039f"
             ],
             [
              0.2222222222222222,
              "#7201a8"
             ],
             [
              0.3333333333333333,
              "#9c179e"
             ],
             [
              0.4444444444444444,
              "#bd3786"
             ],
             [
              0.5555555555555556,
              "#d8576b"
             ],
             [
              0.6666666666666666,
              "#ed7953"
             ],
             [
              0.7777777777777778,
              "#fb9f3a"
             ],
             [
              0.8888888888888888,
              "#fdca26"
             ],
             [
              1,
              "#f0f921"
             ]
            ],
            "type": "histogram2d"
           }
          ],
          "histogram2dcontour": [
           {
            "colorbar": {
             "outlinewidth": 0,
             "ticks": ""
            },
            "colorscale": [
             [
              0,
              "#0d0887"
             ],
             [
              0.1111111111111111,
              "#46039f"
             ],
             [
              0.2222222222222222,
              "#7201a8"
             ],
             [
              0.3333333333333333,
              "#9c179e"
             ],
             [
              0.4444444444444444,
              "#bd3786"
             ],
             [
              0.5555555555555556,
              "#d8576b"
             ],
             [
              0.6666666666666666,
              "#ed7953"
             ],
             [
              0.7777777777777778,
              "#fb9f3a"
             ],
             [
              0.8888888888888888,
              "#fdca26"
             ],
             [
              1,
              "#f0f921"
             ]
            ],
            "type": "histogram2dcontour"
           }
          ],
          "mesh3d": [
           {
            "colorbar": {
             "outlinewidth": 0,
             "ticks": ""
            },
            "type": "mesh3d"
           }
          ],
          "parcoords": [
           {
            "line": {
             "colorbar": {
              "outlinewidth": 0,
              "ticks": ""
             }
            },
            "type": "parcoords"
           }
          ],
          "pie": [
           {
            "automargin": true,
            "type": "pie"
           }
          ],
          "scatter": [
           {
            "fillpattern": {
             "fillmode": "overlay",
             "size": 10,
             "solidity": 0.2
            },
            "type": "scatter"
           }
          ],
          "scatter3d": [
           {
            "line": {
             "colorbar": {
              "outlinewidth": 0,
              "ticks": ""
             }
            },
            "marker": {
             "colorbar": {
              "outlinewidth": 0,
              "ticks": ""
             }
            },
            "type": "scatter3d"
           }
          ],
          "scattercarpet": [
           {
            "marker": {
             "colorbar": {
              "outlinewidth": 0,
              "ticks": ""
             }
            },
            "type": "scattercarpet"
           }
          ],
          "scattergeo": [
           {
            "marker": {
             "colorbar": {
              "outlinewidth": 0,
              "ticks": ""
             }
            },
            "type": "scattergeo"
           }
          ],
          "scattergl": [
           {
            "marker": {
             "colorbar": {
              "outlinewidth": 0,
              "ticks": ""
             }
            },
            "type": "scattergl"
           }
          ],
          "scattermapbox": [
           {
            "marker": {
             "colorbar": {
              "outlinewidth": 0,
              "ticks": ""
             }
            },
            "type": "scattermapbox"
           }
          ],
          "scatterpolar": [
           {
            "marker": {
             "colorbar": {
              "outlinewidth": 0,
              "ticks": ""
             }
            },
            "type": "scatterpolar"
           }
          ],
          "scatterpolargl": [
           {
            "marker": {
             "colorbar": {
              "outlinewidth": 0,
              "ticks": ""
             }
            },
            "type": "scatterpolargl"
           }
          ],
          "scatterternary": [
           {
            "marker": {
             "colorbar": {
              "outlinewidth": 0,
              "ticks": ""
             }
            },
            "type": "scatterternary"
           }
          ],
          "surface": [
           {
            "colorbar": {
             "outlinewidth": 0,
             "ticks": ""
            },
            "colorscale": [
             [
              0,
              "#0d0887"
             ],
             [
              0.1111111111111111,
              "#46039f"
             ],
             [
              0.2222222222222222,
              "#7201a8"
             ],
             [
              0.3333333333333333,
              "#9c179e"
             ],
             [
              0.4444444444444444,
              "#bd3786"
             ],
             [
              0.5555555555555556,
              "#d8576b"
             ],
             [
              0.6666666666666666,
              "#ed7953"
             ],
             [
              0.7777777777777778,
              "#fb9f3a"
             ],
             [
              0.8888888888888888,
              "#fdca26"
             ],
             [
              1,
              "#f0f921"
             ]
            ],
            "type": "surface"
           }
          ],
          "table": [
           {
            "cells": {
             "fill": {
              "color": "#EBF0F8"
             },
             "line": {
              "color": "white"
             }
            },
            "header": {
             "fill": {
              "color": "#C8D4E3"
             },
             "line": {
              "color": "white"
             }
            },
            "type": "table"
           }
          ]
         },
         "layout": {
          "annotationdefaults": {
           "arrowcolor": "#2a3f5f",
           "arrowhead": 0,
           "arrowwidth": 1
          },
          "autotypenumbers": "strict",
          "coloraxis": {
           "colorbar": {
            "outlinewidth": 0,
            "ticks": ""
           }
          },
          "colorscale": {
           "diverging": [
            [
             0,
             "#8e0152"
            ],
            [
             0.1,
             "#c51b7d"
            ],
            [
             0.2,
             "#de77ae"
            ],
            [
             0.3,
             "#f1b6da"
            ],
            [
             0.4,
             "#fde0ef"
            ],
            [
             0.5,
             "#f7f7f7"
            ],
            [
             0.6,
             "#e6f5d0"
            ],
            [
             0.7,
             "#b8e186"
            ],
            [
             0.8,
             "#7fbc41"
            ],
            [
             0.9,
             "#4d9221"
            ],
            [
             1,
             "#276419"
            ]
           ],
           "sequential": [
            [
             0,
             "#0d0887"
            ],
            [
             0.1111111111111111,
             "#46039f"
            ],
            [
             0.2222222222222222,
             "#7201a8"
            ],
            [
             0.3333333333333333,
             "#9c179e"
            ],
            [
             0.4444444444444444,
             "#bd3786"
            ],
            [
             0.5555555555555556,
             "#d8576b"
            ],
            [
             0.6666666666666666,
             "#ed7953"
            ],
            [
             0.7777777777777778,
             "#fb9f3a"
            ],
            [
             0.8888888888888888,
             "#fdca26"
            ],
            [
             1,
             "#f0f921"
            ]
           ],
           "sequentialminus": [
            [
             0,
             "#0d0887"
            ],
            [
             0.1111111111111111,
             "#46039f"
            ],
            [
             0.2222222222222222,
             "#7201a8"
            ],
            [
             0.3333333333333333,
             "#9c179e"
            ],
            [
             0.4444444444444444,
             "#bd3786"
            ],
            [
             0.5555555555555556,
             "#d8576b"
            ],
            [
             0.6666666666666666,
             "#ed7953"
            ],
            [
             0.7777777777777778,
             "#fb9f3a"
            ],
            [
             0.8888888888888888,
             "#fdca26"
            ],
            [
             1,
             "#f0f921"
            ]
           ]
          },
          "colorway": [
           "#636efa",
           "#EF553B",
           "#00cc96",
           "#ab63fa",
           "#FFA15A",
           "#19d3f3",
           "#FF6692",
           "#B6E880",
           "#FF97FF",
           "#FECB52"
          ],
          "font": {
           "color": "#2a3f5f"
          },
          "geo": {
           "bgcolor": "white",
           "lakecolor": "white",
           "landcolor": "#E5ECF6",
           "showlakes": true,
           "showland": true,
           "subunitcolor": "white"
          },
          "hoverlabel": {
           "align": "left"
          },
          "hovermode": "closest",
          "mapbox": {
           "style": "light"
          },
          "paper_bgcolor": "white",
          "plot_bgcolor": "#E5ECF6",
          "polar": {
           "angularaxis": {
            "gridcolor": "white",
            "linecolor": "white",
            "ticks": ""
           },
           "bgcolor": "#E5ECF6",
           "radialaxis": {
            "gridcolor": "white",
            "linecolor": "white",
            "ticks": ""
           }
          },
          "scene": {
           "xaxis": {
            "backgroundcolor": "#E5ECF6",
            "gridcolor": "white",
            "gridwidth": 2,
            "linecolor": "white",
            "showbackground": true,
            "ticks": "",
            "zerolinecolor": "white"
           },
           "yaxis": {
            "backgroundcolor": "#E5ECF6",
            "gridcolor": "white",
            "gridwidth": 2,
            "linecolor": "white",
            "showbackground": true,
            "ticks": "",
            "zerolinecolor": "white"
           },
           "zaxis": {
            "backgroundcolor": "#E5ECF6",
            "gridcolor": "white",
            "gridwidth": 2,
            "linecolor": "white",
            "showbackground": true,
            "ticks": "",
            "zerolinecolor": "white"
           }
          },
          "shapedefaults": {
           "line": {
            "color": "#2a3f5f"
           }
          },
          "ternary": {
           "aaxis": {
            "gridcolor": "white",
            "linecolor": "white",
            "ticks": ""
           },
           "baxis": {
            "gridcolor": "white",
            "linecolor": "white",
            "ticks": ""
           },
           "bgcolor": "#E5ECF6",
           "caxis": {
            "gridcolor": "white",
            "linecolor": "white",
            "ticks": ""
           }
          },
          "title": {
           "x": 0.05
          },
          "xaxis": {
           "automargin": true,
           "gridcolor": "white",
           "linecolor": "white",
           "ticks": "",
           "title": {
            "standoff": 15
           },
           "zerolinecolor": "white",
           "zerolinewidth": 2
          },
          "yaxis": {
           "automargin": true,
           "gridcolor": "white",
           "linecolor": "white",
           "ticks": "",
           "title": {
            "standoff": 15
           },
           "zerolinecolor": "white",
           "zerolinewidth": 2
          }
         }
        }
       }
      }
     },
     "metadata": {},
     "output_type": "display_data"
    }
   ],
   "source": [
    "\n",
    "import plotly.express as px\n",
    "labels = {\n",
    "    str(i): f\"PC {i+1} ({var:.1f}%)\"\n",
    "    for i, var in enumerate(pca.explained_variance_ratio_ * 100)\n",
    "}\n",
    "fig = px.scatter_matrix(\n",
    "    df_loadings,\n",
    "    labels=labels\n",
    "\n",
    ")\n",
    "fig"
   ]
  },
  {
   "cell_type": "code",
   "execution_count": 13,
   "metadata": {},
   "outputs": [
    {
     "data": {
      "image/png": "[encoded data removed]",
      "text/plain": [
       "<Figure size 432x288 with 2 Axes>"
      ]
     },
     "metadata": {
      "needs_background": "light"
     },
     "output_type": "display_data"
    }
   ],
   "source": [
    "ax = sns.heatmap(df_loadings, annot=True, cmap='Spectral',)\n",
    "\n",
    "sns.set(rc = {'figure.figsize':(20,20)})\n"
   ]
  },
  {
   "cell_type": "code",
   "execution_count": 14,
   "metadata": {},
   "outputs": [
    {
     "data": {
      "application/vnd.plotly.v1+json": {
       "config": {
        "plotlyServerURL": "https://plot.ly"
       },
       "data": [
        {
         "alignmentgroup": "True",
         "hovertemplate": "variable=0<br>index=%{x}<br>value=%{y}<br>text=%{text}<extra></extra>",
         "legendgroup": "0",
         "marker": {
          "color": "#636efa",
          "pattern": {
           "shape": ""
          }
         },
         "name": "0",
         "offsetgroup": "0",
         "orientation": "v",
         "showlegend": true,
         "text": [
          "PC1",
          "PC2",
          "PC3"
         ],
         "textposition": "auto",
         "type": "bar",
         "x": [
          0,
          1,
          2
         ],
         "xaxis": "x",
         "y": [
          55.84275778124591,
          18.098557398494627,
          7.203237359783808
         ],
         "yaxis": "y"
        }
       ],
       "layout": {
        "barmode": "relative",
        "legend": {
         "title": {
          "text": "variable"
         },
         "tracegroupgap": 0
        },
        "margin": {
         "t": 60
        },
        "template": {
         "data": {
          "bar": [
           {
            "error_x": {
             "color": "#2a3f5f"
            },
            "error_y": {
             "color": "#2a3f5f"
            },
            "marker": {
             "line": {
              "color": "#E5ECF6",
              "width": 0.5
             },
             "pattern": {
              "fillmode": "overlay",
              "size": 10,
              "solidity": 0.2
             }
            },
            "type": "bar"
           }
          ],
          "barpolar": [
           {
            "marker": {
             "line": {
              "color": "#E5ECF6",
              "width": 0.5
             },
             "pattern": {
              "fillmode": "overlay",
              "size": 10,
              "solidity": 0.2
             }
            },
            "type": "barpolar"
           }
          ],
          "carpet": [
           {
            "aaxis": {
             "endlinecolor": "#2a3f5f",
             "gridcolor": "white",
             "linecolor": "white",
             "minorgridcolor": "white",
             "startlinecolor": "#2a3f5f"
            },
            "baxis": {
             "endlinecolor": "#2a3f5f",
             "gridcolor": "white",
             "linecolor": "white",
             "minorgridcolor": "white",
             "startlinecolor": "#2a3f5f"
            },
            "type": "carpet"
           }
          ],
          "choropleth": [
           {
            "colorbar": {
             "outlinewidth": 0,
             "ticks": ""
            },
            "type": "choropleth"
           }
          ],
          "contour": [
           {
            "colorbar": {
             "outlinewidth": 0,
             "ticks": ""
            },
            "colorscale": [
             [
              0,
              "#0d0887"
             ],
             [
              0.1111111111111111,
              "#46039f"
             ],
             [
              0.2222222222222222,
              "#7201a8"
             ],
             [
              0.3333333333333333,
              "#9c179e"
             ],
             [
              0.4444444444444444,
              "#bd3786"
             ],
             [
              0.5555555555555556,
              "#d8576b"
             ],
             [
              0.6666666666666666,
              "#ed7953"
             ],
             [
              0.7777777777777778,
              "#fb9f3a"
             ],
             [
              0.8888888888888888,
              "#fdca26"
             ],
             [
              1,
              "#f0f921"
             ]
            ],
            "type": "contour"
           }
          ],
          "contourcarpet": [
           {
            "colorbar": {
             "outlinewidth": 0,
             "ticks": ""
            },
            "type": "contourcarpet"
           }
          ],
          "heatmap": [
           {
            "colorbar": {
             "outlinewidth": 0,
             "ticks": ""
            },
            "colorscale": [
             [
              0,
              "#0d0887"
             ],
             [
              0.1111111111111111,
              "#46039f"
             ],
             [
              0.2222222222222222,
              "#7201a8"
             ],
             [
              0.3333333333333333,
              "#9c179e"
             ],
             [
              0.4444444444444444,
              "#bd3786"
             ],
             [
              0.5555555555555556,
              "#d8576b"
             ],
             [
              0.6666666666666666,
              "#ed7953"
             ],
             [
              0.7777777777777778,
              "#fb9f3a"
             ],
             [
              0.8888888888888888,
              "#fdca26"
             ],
             [
              1,
              "#f0f921"
             ]
            ],
            "type": "heatmap"
           }
          ],
          "heatmapgl": [
           {
            "colorbar": {
             "outlinewidth": 0,
             "ticks": ""
            },
            "colorscale": [
             [
              0,
              "#0d0887"
             ],
             [
              0.1111111111111111,
              "#46039f"
             ],
             [
              0.2222222222222222,
              "#7201a8"
             ],
             [
              0.3333333333333333,
              "#9c179e"
             ],
             [
              0.4444444444444444,
              "#bd3786"
             ],
             [
              0.5555555555555556,
              "#d8576b"
             ],
             [
              0.6666666666666666,
              "#ed7953"
             ],
             [
              0.7777777777777778,
              "#fb9f3a"
             ],
             [
              0.8888888888888888,
              "#fdca26"
             ],
             [
              1,
              "#f0f921"
             ]
            ],
            "type": "heatmapgl"
           }
          ],
          "histogram": [
           {
            "marker": {
             "pattern": {
              "fillmode": "overlay",
              "size": 10,
              "solidity": 0.2
             }
            },
            "type": "histogram"
           }
          ],
          "histogram2d": [
           {
            "colorbar": {
             "outlinewidth": 0,
             "ticks": ""
            },
            "colorscale": [
             [
              0,
              "#0d0887"
             ],
             [
              0.1111111111111111,
              "#46039f"
             ],
             [
              0.2222222222222222,
              "#7201a8"
             ],
             [
              0.3333333333333333,
              "#9c179e"
             ],
             [
              0.4444444444444444,
              "#bd3786"
             ],
             [
              0.5555555555555556,
              "#d8576b"
             ],
             [
              0.6666666666666666,
              "#ed7953"
             ],
             [
              0.7777777777777778,
              "#fb9f3a"
             ],
             [
              0.8888888888888888,
              "#fdca26"
             ],
             [
              1,
              "#f0f921"
             ]
            ],
            "type": "histogram2d"
           }
          ],
          "histogram2dcontour": [
           {
            "colorbar": {
             "outlinewidth": 0,
             "ticks": ""
            },
            "colorscale": [
             [
              0,
              "#0d0887"
             ],
             [
              0.1111111111111111,
              "#46039f"
             ],
             [
              0.2222222222222222,
              "#7201a8"
             ],
             [
              0.3333333333333333,
              "#9c179e"
             ],
             [
              0.4444444444444444,
              "#bd3786"
             ],
             [
              0.5555555555555556,
              "#d8576b"
             ],
             [
              0.6666666666666666,
              "#ed7953"
             ],
             [
              0.7777777777777778,
              "#fb9f3a"
             ],
             [
              0.8888888888888888,
              "#fdca26"
             ],
             [
              1,
              "#f0f921"
             ]
            ],
            "type": "histogram2dcontour"
           }
          ],
          "mesh3d": [
           {
            "colorbar": {
             "outlinewidth": 0,
             "ticks": ""
            },
            "type": "mesh3d"
           }
          ],
          "parcoords": [
           {
            "line": {
             "colorbar": {
              "outlinewidth": 0,
              "ticks": ""
             }
            },
            "type": "parcoords"
           }
          ],
          "pie": [
           {
            "automargin": true,
            "type": "pie"
           }
          ],
          "scatter": [
           {
            "fillpattern": {
             "fillmode": "overlay",
             "size": 10,
             "solidity": 0.2
            },
            "type": "scatter"
           }
          ],
          "scatter3d": [
           {
            "line": {
             "colorbar": {
              "outlinewidth": 0,
              "ticks": ""
             }
            },
            "marker": {
             "colorbar": {
              "outlinewidth": 0,
              "ticks": ""
             }
            },
            "type": "scatter3d"
           }
          ],
          "scattercarpet": [
           {
            "marker": {
             "colorbar": {
              "outlinewidth": 0,
              "ticks": ""
             }
            },
            "type": "scattercarpet"
           }
          ],
          "scattergeo": [
           {
            "marker": {
             "colorbar": {
              "outlinewidth": 0,
              "ticks": ""
             }
            },
            "type": "scattergeo"
           }
          ],
          "scattergl": [
           {
            "marker": {
             "colorbar": {
              "outlinewidth": 0,
              "ticks": ""
             }
            },
            "type": "scattergl"
           }
          ],
          "scattermapbox": [
           {
            "marker": {
             "colorbar": {
              "outlinewidth": 0,
              "ticks": ""
             }
            },
            "type": "scattermapbox"
           }
          ],
          "scatterpolar": [
           {
            "marker": {
             "colorbar": {
              "outlinewidth": 0,
              "ticks": ""
             }
            },
            "type": "scatterpolar"
           }
          ],
          "scatterpolargl": [
           {
            "marker": {
             "colorbar": {
              "outlinewidth": 0,
              "ticks": ""
             }
            },
            "type": "scatterpolargl"
           }
          ],
          "scatterternary": [
           {
            "marker": {
             "colorbar": {
              "outlinewidth": 0,
              "ticks": ""
             }
            },
            "type": "scatterternary"
           }
          ],
          "surface": [
           {
            "colorbar": {
             "outlinewidth": 0,
             "ticks": ""
            },
            "colorscale": [
             [
              0,
              "#0d0887"
             ],
             [
              0.1111111111111111,
              "#46039f"
             ],
             [
              0.2222222222222222,
              "#7201a8"
             ],
             [
              0.3333333333333333,
              "#9c179e"
             ],
             [
              0.4444444444444444,
              "#bd3786"
             ],
             [
              0.5555555555555556,
              "#d8576b"
             ],
             [
              0.6666666666666666,
              "#ed7953"
             ],
             [
              0.7777777777777778,
              "#fb9f3a"
             ],
             [
              0.8888888888888888,
              "#fdca26"
             ],
             [
              1,
              "#f0f921"
             ]
            ],
            "type": "surface"
           }
          ],
          "table": [
           {
            "cells": {
             "fill": {
              "color": "#EBF0F8"
             },
             "line": {
              "color": "white"
             }
            },
            "header": {
             "fill": {
              "color": "#C8D4E3"
             },
             "line": {
              "color": "white"
             }
            },
            "type": "table"
           }
          ]
         },
         "layout": {
          "annotationdefaults": {
           "arrowcolor": "#2a3f5f",
           "arrowhead": 0,
           "arrowwidth": 1
          },
          "autotypenumbers": "strict",
          "coloraxis": {
           "colorbar": {
            "outlinewidth": 0,
            "ticks": ""
           }
          },
          "colorscale": {
           "diverging": [
            [
             0,
             "#8e0152"
            ],
            [
             0.1,
             "#c51b7d"
            ],
            [
             0.2,
             "#de77ae"
            ],
            [
             0.3,
             "#f1b6da"
            ],
            [
             0.4,
             "#fde0ef"
            ],
            [
             0.5,
             "#f7f7f7"
            ],
            [
             0.6,
             "#e6f5d0"
            ],
            [
             0.7,
             "#b8e186"
            ],
            [
             0.8,
             "#7fbc41"
            ],
            [
             0.9,
             "#4d9221"
            ],
            [
             1,
             "#276419"
            ]
           ],
           "sequential": [
            [
             0,
             "#0d0887"
            ],
            [
             0.1111111111111111,
             "#46039f"
            ],
            [
             0.2222222222222222,
             "#7201a8"
            ],
            [
             0.3333333333333333,
             "#9c179e"
            ],
            [
             0.4444444444444444,
             "#bd3786"
            ],
            [
             0.5555555555555556,
             "#d8576b"
            ],
            [
             0.6666666666666666,
             "#ed7953"
            ],
            [
             0.7777777777777778,
             "#fb9f3a"
            ],
            [
             0.8888888888888888,
             "#fdca26"
            ],
            [
             1,
             "#f0f921"
            ]
           ],
           "sequentialminus": [
            [
             0,
             "#0d0887"
            ],
            [
             0.1111111111111111,
             "#46039f"
            ],
            [
             0.2222222222222222,
             "#7201a8"
            ],
            [
             0.3333333333333333,
             "#9c179e"
            ],
            [
             0.4444444444444444,
             "#bd3786"
            ],
            [
             0.5555555555555556,
             "#d8576b"
            ],
            [
             0.6666666666666666,
             "#ed7953"
            ],
            [
             0.7777777777777778,
             "#fb9f3a"
            ],
            [
             0.8888888888888888,
             "#fdca26"
            ],
            [
             1,
             "#f0f921"
            ]
           ]
          },
          "colorway": [
           "#636efa",
           "#EF553B",
           "#00cc96",
           "#ab63fa",
           "#FFA15A",
           "#19d3f3",
           "#FF6692",
           "#B6E880",
           "#FF97FF",
           "#FECB52"
          ],
          "font": {
           "color": "#2a3f5f"
          },
          "geo": {
           "bgcolor": "white",
           "lakecolor": "white",
           "landcolor": "#E5ECF6",
           "showlakes": true,
           "showland": true,
           "subunitcolor": "white"
          },
          "hoverlabel": {
           "align": "left"
          },
          "hovermode": "closest",
          "mapbox": {
           "style": "light"
          },
          "paper_bgcolor": "white",
          "plot_bgcolor": "#E5ECF6",
          "polar": {
           "angularaxis": {
            "gridcolor": "white",
            "linecolor": "white",
            "ticks": ""
           },
           "bgcolor": "#E5ECF6",
           "radialaxis": {
            "gridcolor": "white",
            "linecolor": "white",
            "ticks": ""
           }
          },
          "scene": {
           "xaxis": {
            "backgroundcolor": "#E5ECF6",
            "gridcolor": "white",
            "gridwidth": 2,
            "linecolor": "white",
            "showbackground": true,
            "ticks": "",
            "zerolinecolor": "white"
           },
           "yaxis": {
            "backgroundcolor": "#E5ECF6",
            "gridcolor": "white",
            "gridwidth": 2,
            "linecolor": "white",
            "showbackground": true,
            "ticks": "",
            "zerolinecolor": "white"
           },
           "zaxis": {
            "backgroundcolor": "#E5ECF6",
            "gridcolor": "white",
            "gridwidth": 2,
            "linecolor": "white",
            "showbackground": true,
            "ticks": "",
            "zerolinecolor": "white"
           }
          },
          "shapedefaults": {
           "line": {
            "color": "#2a3f5f"
           }
          },
          "ternary": {
           "aaxis": {
            "gridcolor": "white",
            "linecolor": "white",
            "ticks": ""
           },
           "baxis": {
            "gridcolor": "white",
            "linecolor": "white",
            "ticks": ""
           },
           "bgcolor": "#E5ECF6",
           "caxis": {
            "gridcolor": "white",
            "linecolor": "white",
            "ticks": ""
           }
          },
          "title": {
           "x": 0.05
          },
          "xaxis": {
           "automargin": true,
           "gridcolor": "white",
           "linecolor": "white",
           "ticks": "",
           "title": {
            "standoff": 15
           },
           "zerolinecolor": "white",
           "zerolinewidth": 2
          },
          "yaxis": {
           "automargin": true,
           "gridcolor": "white",
           "linecolor": "white",
           "ticks": "",
           "title": {
            "standoff": 15
           },
           "zerolinecolor": "white",
           "zerolinewidth": 2
          }
         }
        },
        "xaxis": {
         "anchor": "y",
         "domain": [
          0,
          1
         ],
         "title": {
          "text": "index"
         }
        },
        "yaxis": {
         "anchor": "x",
         "domain": [
          0,
          1
         ],
         "title": {
          "text": "value"
         }
        }
       }
      }
     },
     "metadata": {},
     "output_type": "display_data"
    }
   ],
   "source": [
    "px.bar(pca.explained_variance_, text=['PC1','PC2','PC3'])\n"
   ]
  },
  {
   "cell_type": "code",
   "execution_count": 15,
   "metadata": {},
   "outputs": [],
   "source": [
    "from bioinfokit.visuz import cluster"
   ]
  },
  {
   "cell_type": "code",
   "execution_count": 16,
   "metadata": {},
   "outputs": [],
   "source": [
    "loadings = pca.components_\n",
    "loadings[0]\n",
    "loadings[1]\n",
    "\n",
    "cluster.pcaplot(x=loadings[0], y=loadings[1], labels=df.columns.values, \n",
    "    var1=round(pca.explained_variance_ratio_[0]*100, 2),\n",
    "    var2=round(pca.explained_variance_ratio_[1]*100, 2))"
   ]
  },
  {
   "cell_type": "code",
   "execution_count": 17,
   "metadata": {},
   "outputs": [],
   "source": [
    "cluster.biplot(cscore=scores, loadings=loadings, labels=df.columns.values, var1=round(pca.explained_variance_ratio_[0]*100, 2),\n",
    "    var2=round(pca.explained_variance_ratio_[1]*100, 2))\n"
   ]
  },
  {
   "cell_type": "code",
   "execution_count": 18,
   "metadata": {},
   "outputs": [],
   "source": [
    "cluster.pcaplot(x=loadings[0], y=loadings[1], z = loadings[2],labels=df.columns.values, \n",
    "    var1=round(pca.explained_variance_ratio_[0]*100, 2),\n",
    "    var2=round(pca.explained_variance_ratio_[1]*100, 2),\n",
    "    var3=round(pca.explained_variance_ratio_[2]*100, 2))"
   ]
  },
  {
   "cell_type": "code",
   "execution_count": 19,
   "metadata": {},
   "outputs": [
    {
     "data": {
      "application/vnd.plotly.v1+json": {
       "config": {
        "plotlyServerURL": "https://plot.ly"
       },
       "data": [
        {
         "hovertemplate": "PC1=%{x}<br>PC2=%{y}<br>PC3=%{z}<extra></extra>",
         "legendgroup": "",
         "marker": {
          "color": "#636efa",
          "symbol": "circle"
         },
         "mode": "markers",
         "name": "",
         "scene": "scene",
         "showlegend": false,
         "type": "scatter3d",
         "x": [
          -0.8318065049949498,
          1.3088482127515053,
          0.6956305174981583,
          -0.2680761475758278,
          -1.737865781782244,
          -0.3587312343358301,
          -0.2796242839092597,
          -1.6276457362368808,
          -2.50901810765547,
          -1.074846689191911,
          0.8069096294348224,
          2.7940537949978523,
          4.291075859691247,
          5.062257539392688,
          6.0312816262383215,
          5.983605706209238,
          5.8693631410674625,
          4.903208992909154,
          5.664060101531918,
          5.451188390750775,
          5.140048124439768,
          5.4704230746439455,
          5.53975727196165,
          5.108802110306889,
          -2.290739330640794,
          -3.482891284882328,
          -4.048864274017702,
          -4.190480231390941,
          -2.992475352187245,
          -1.7717824543715068,
          -2.12343954247392,
          -1.5786666284635307,
          0.5533086642864485,
          1.4382932487574571,
          1.5133587108508635,
          0.8847365581475622,
          -0.7916928141493865,
          -2.06726705565437,
          -3.225304702835851,
          -4.073522825047304,
          -4.7320619437938625,
          -6.844639341935551,
          -9.240705942607,
          -10.125044008470239,
          -11.396938397146261,
          -11.832900544805282,
          -11.91156962049594,
          -12.931937841792884,
          -14.159378361588528,
          -14.83477688324312,
          -14.82004527626506,
          -12.531220285566338,
          -8.814175953431137,
          -5.461054644121396,
          -3.7625798647619195,
          -3.002636121030801,
          -1.4650387835965508,
          0.1594274118039339,
          0.8565976509183635,
          1.506168203172381,
          1.1446910100815924,
          0.0520420796223812,
          -0.8172073481850939,
          -3.5397501004717684,
          -4.862514367732577,
          -5.905309735622602,
          -6.231141159311795,
          -6.32857474306207,
          -6.196946430969019,
          -6.17483092614425,
          -7.464732929932243,
          -7.1286097588518595,
          -7.13663889605511,
          -6.863519716122566,
          -6.584612210309935,
          -5.447860047849312,
          -1.3500223550868147,
          2.635838917396884,
          4.294533889715414,
          5.541606331276902,
          7.466184311040054,
          10.481715069997346,
          12.941115526191005,
          12.133886502976631,
          9.658164980100056,
          8.052286906421205,
          7.759719640119965,
          7.40693726166003,
          6.850980163014696,
          6.243688905449906,
          6.3628703365782195,
          5.887642082111461,
          6.855901178511744,
          6.604289049213147,
          5.86018190036766,
          5.35209823170477,
          6.274769336600268,
          6.13751893156642,
          5.707421900437132,
          7.346966492465243,
          9.596132048674047,
          12.741998655772143,
          14.87957723195172,
          14.479424035326963,
          13.363868518349799,
          13.582969971097674,
          14.759947037192834,
          14.282220570283593,
          12.093983544740265,
          11.936728001417903,
          12.886216965663646,
          13.103048156033964,
          12.812136684555785,
          10.618632452104347,
          9.617116720273362,
          8.676687801227605,
          8.322526484733984,
          6.702289674626786,
          6.602864029537121,
          7.017130713452774,
          7.930007551817618,
          6.185695938336907,
          8.160169216142872,
          9.167654476681511,
          10.794863476049416,
          12.105844906362327,
          10.479708932196512,
          10.30932160619631,
          9.830660188471672,
          8.96377392885005,
          8.093942538088138,
          5.975568527843539,
          4.20773589809227,
          2.695444939261645,
          2.4128471190866154,
          0.8136781642074437,
          -1.601124095675097,
          -3.5678313370008223,
          -4.271889441339336,
          -4.157564775429362,
          -6.343183805030841,
          -7.520961446923707,
          -7.950340698985781,
          -9.122873815119497,
          -10.502004955883107,
          -10.813733323200042,
          -11.422491248877092,
          -9.60077220780794,
          -6.535872407346477,
          -4.149576972436325,
          -2.607488589256059,
          -1.369962999114089,
          -0.9477672672825175,
          -0.6431296822420792,
          0.3049148985600172,
          0.5794542416985587,
          -0.49942182979684147,
          -2.330095238358276,
          -3.827239050976283,
          -4.052351771695506,
          -4.698711719883644,
          -5.787004721522874,
          -7.121307679386378,
          -8.046592587662433,
          -9.63722502407362,
          -11.549678110798077,
          -12.549529029324603,
          -13.076840015495234,
          -13.212309157795223,
          -13.766214233851773,
          -13.15996669573187,
          -11.781060125146062,
          -8.3483361950278,
          -5.597956848470314,
          -3.8373706073663256,
          -1.6985682062081158,
          0.382021835213993,
          2.1059497211334626,
          1.9410227042850554,
          2.1538878044766885,
          1.861802538617476,
          1.0370065134429034,
          -1.0878407761783246,
          -2.9391612543947354,
          -4.398557111384082,
          -4.933746562553201,
          -5.352191072104558,
          -5.321523851052211,
          -6.396317500054076,
          -8.426948447612556,
          -10.018026936159176,
          -10.84955548734137
         ],
         "y": [
          -1.409666269690036,
          -1.2020735900848323,
          -1.7629986452329653,
          -1.3984774038874601,
          -1.1204522371820733,
          -1.4902990682998836,
          -2.317362127944297,
          -2.4629819194360993,
          -2.072404960165308,
          -1.5784368441232612,
          -2.0949349497805607,
          -1.5501160388375934,
          -0.22900683916431938,
          -0.5119278816649314,
          -0.42566098708286954,
          -0.9139568493675788,
          -0.29260690220330154,
          -0.8043077611454384,
          -0.3941787768196016,
          -0.7653224605024654,
          -1.6572989706294123,
          -1.1449735521781905,
          -0.8825636784472168,
          0.1378430568016825,
          -0.9015220885158375,
          -0.39273276073874364,
          -1.0111617083331477,
          0.07922374914000435,
          0.45987014146483896,
          1.7912554203814983,
          9.045817557580927,
          10.74509433798293,
          8.475424073925836,
          6.258796200108149,
          4.610907060706461,
          3.867569489236036,
          3.194261731333762,
          3.5354424233559194,
          4.287195114299254,
          4.520247403519817,
          4.8089403022444985,
          5.050887493018378,
          4.691957200162104,
          4.03210298222504,
          4.239471727596819,
          3.8599262564829395,
          3.5065429387933427,
          3.761401202237325,
          3.838518209788853,
          4.617358868225799,
          5.249898536764192,
          6.23200409101945,
          6.722006942160812,
          6.601362517148477,
          6.469512699201447,
          6.433167943256227,
          6.584823253859347,
          6.085167011233641,
          5.48402515337886,
          4.194370815523318,
          3.4468380610259777,
          4.03710008138742,
          4.00218535391143,
          5.07587343392678,
          5.787457594842822,
          5.784598839678017,
          5.4247621249170015,
          4.484707068709866,
          4.204573593916759,
          4.859198402047991,
          5.467100560286087,
          5.3396572095719055,
          5.31249694828261,
          4.883703581666715,
          5.289118509845209,
          5.333684043429206,
          5.236689439772079,
          4.481729408887394,
          4.027343741793511,
          4.743474875648184,
          4.24675072662712,
          3.5231938219346945,
          3.7874891568612874,
          3.177344820577122,
          2.182988148229523,
          2.3984939701012187,
          3.0281624883285625,
          2.162714449991149,
          1.5129821129089303,
          2.3304486890572873,
          2.5733235709743014,
          2.1544695603502846,
          2.9596475963777737,
          3.2401334547270375,
          2.9662403734198057,
          3.199533193318688,
          3.43432711080593,
          3.705220764268609,
          3.4785419261595685,
          4.364087596244671,
          4.611072716718794,
          4.6539986463914005,
          8.118036640446071,
          6.299454659076488,
          3.7747602278314742,
          3.258467576444815,
          4.424105367845846,
          4.480723016325301,
          3.5612429423198466,
          0.4145239745596777,
          -3.328407304582062,
          -4.746930838047944,
          -4.4905590253306125,
          -4.6628590583658625,
          -3.662141292131855,
          -2.663382866590255,
          -2.939590703191407,
          -3.362596840970726,
          -3.8282393889889543,
          -4.40599666033796,
          -4.25370701513511,
          -5.421831074194536,
          -4.387292691654543,
          -5.212261049802514,
          -4.689293199930146,
          -4.6670525756092704,
          -5.644657008075601,
          -5.4028299918372715,
          -5.396804459264282,
          -5.789905282223065,
          -5.3569372835487945,
          -5.051880993495037,
          -4.642749159743584,
          -4.334029111123671,
          -4.139243330739489,
          -4.106270578859137,
          -3.017630599857856,
          -2.67226446212501,
          -2.577758171034313,
          -2.2963415676529473,
          -2.2188076963971755,
          -2.4281962101239825,
          -1.526262918550144,
          -1.392691467774208,
          -1.5683674696092023,
          -1.6628152871167714,
          -1.146249975835986,
          -0.9577558470115901,
          -1.0808184889731585,
          -1.2127027686706204,
          -1.2578557324297504,
          -1.3798197852709908,
          -1.7778876479456005,
          -2.192578342485872,
          -2.612745459024043,
          -3.2830681268876236,
          -3.791816342842469,
          -3.5937106618684,
          -3.0843205584912,
          -3.0189119571465874,
          -3.467457510980858,
          -3.708489899998541,
          -4.019040577833141,
          -4.279099193976922,
          -4.363813962688905,
          -4.274324876468924,
          -4.65659338282762,
          -4.455961903987406,
          -3.8928382195365225,
          -4.143637826760189,
          -5.036129356753952,
          -5.414323826002696,
          -5.277303755160781,
          -5.907654484122599,
          -6.866212582039417,
          -6.752885763194658,
          -6.032210252322804,
          -5.34979540509618,
          -6.071280107204173,
          -6.300501004356793,
          -6.5133577435515475,
          -6.160649431364228,
          -5.614666998273267,
          -4.914026134043776,
          -5.468376438486476,
          -5.881560692834755,
          -6.353540206831795,
          -5.488164432340101,
          -4.70483436716591,
          -4.706928308317051,
          -4.787396011071151,
          -4.727859820978507
         ],
         "z": [
          -0.6491513235200257,
          -1.124629547506206,
          -3.7892327751790833,
          -2.0221742997215166,
          -0.9981250122440364,
          -1.4375300420591808,
          -2.8193209880778896,
          -2.5236538037530045,
          -1.8174900395687883,
          0.3903399571151481,
          -0.5998089616362515,
          -0.4371952635517581,
          -0.7509614676008619,
          -2.6095135845913573,
          -3.075232491701191,
          -4.253462954603648,
          -3.3506679509939343,
          -3.850585520889297,
          -2.4774237402359516,
          -3.506791867163945,
          -4.430033663612933,
          -2.874587703667399,
          -3.850807110662174,
          -2.9470954289656746,
          -1.1914723442878898,
          0.5348062963036349,
          -0.03403027758512417,
          2.52578864091988,
          3.153405596235353,
          1.2458513012653054,
          -0.32447546603487587,
          -1.7817990887108974,
          -2.1151315532050177,
          -2.8551903056237156,
          -4.1800980324881545,
          -4.605011053081044,
          -5.62954091237404,
          -4.908091215147173,
          -3.9291087297705913,
          -4.036587150659695,
          -2.909824120423388,
          -0.8253184210563734,
          0.8525941608457521,
          2.506906662175015,
          2.8160047469339666,
          2.3593775330095816,
          1.7252564978702185,
          1.8398964986107493,
          2.116064701699264,
          3.1742488631807526,
          3.752303410839348,
          4.746225356188123,
          3.1983672356320447,
          1.5184200329195332,
          -0.9503886756737799,
          -1.760187901275234,
          -1.2233146223482123,
          -1.75212146056235,
          -3.0731906368873663,
          -3.7151011997916474,
          -3.9889307257071094,
          -2.976003266623913,
          -2.763024656267337,
          -2.9350557914878515,
          -1.0429079083449933,
          0.10357123215963315,
          0.4305761530077075,
          -0.6024523998988328,
          -1.2005289249421154,
          -1.4411225942635653,
          -0.8411687807151684,
          -0.2098145067680606,
          -0.47609478302529834,
          -2.1109910115347477,
          -1.153864848898463,
          -0.6109366498827028,
          0.11608505356423587,
          -1.511843691508077,
          -3.0758561041290835,
          -1.7432799776270416,
          -2.0328190883939836,
          -0.47100717959310356,
          1.371388559175877,
          -0.12004326404568541,
          -3.6717828050095678,
          -2.0119543667896633,
          0.10389516195614532,
          -0.17922745442858212,
          -0.5845152927771258,
          -0.07385820280195288,
          -0.10859190720779205,
          -0.4604726504222959,
          0.06860901450231985,
          -0.002815620722728385,
          -1.3349209650060159,
          0.06624661642002846,
          0.509520227271076,
          -0.9858370727025966,
          -0.910146757537926,
          1.530802735764215,
          2.7003946980334383,
          5.929427177729358,
          13.515336348210617,
          8.056899747230583,
          3.255391006442293,
          3.7668212422651344,
          7.066412639338782,
          5.8069035376665425,
          3.5571965736977913,
          2.205201062435628,
          1.8220643867479005,
          0.34057583301194794,
          1.4689005252104954,
          1.1862530463659706,
          1.8246288393667731,
          2.2527646194166846,
          1.584016135363964,
          2.0022493932245493,
          3.134009354271407,
          2.7598992541310143,
          3.129156163013111,
          -0.45652641798604376,
          2.6561957052576104,
          1.505510248441726,
          2.760784542777139,
          2.238653786214518,
          -0.4475972353760762,
          0.9642603617422774,
          0.40923273368752444,
          0.6707236388139256,
          1.105572692007928,
          2.8617570364073655,
          0.012017527374664412,
          0.7213071338361832,
          1.578449959912579,
          -0.02294243836629156,
          -0.4644164131823933,
          1.6598880293909606,
          1.903221179475135,
          2.125351333013746,
          1.4151721999071734,
          1.371157976111124,
          1.779868057413602,
          1.1312609286752215,
          2.3767181824101113,
          2.5166196476550047,
          3.4296300217744156,
          4.719443249705581,
          3.7050740600299186,
          2.4297914111150907,
          0.18467765720039672,
          -0.7178608343355816,
          -0.9164650322973102,
          -0.7067873873998053,
          -1.1666233221675022,
          -1.1992955684984417,
          -2.2827098242081583,
          -1.5951770020293072,
          -2.1220177000054097,
          -1.3289457036321914,
          -1.7732658742353917,
          -1.5805419348307475,
          -0.2383178809479227,
          0.8649149730259127,
          1.5250992209202323,
          1.826112126583413,
          2.708760807361186,
          3.0286018064646765,
          3.580586152332698,
          3.812044051193087,
          4.12279320746446,
          4.0685800840762605,
          4.087565073631319,
          1.3606201945746272,
          0.30498593273862706,
          -0.8409878215908232,
          -1.050771402744181,
          -1.7555741197274959,
          -3.3470561146506355,
          -3.519364818338498,
          -3.7611996857983705,
          -3.9481178915413695,
          -3.5639224851961853,
          -2.5495870620609606,
          -1.265600270132635,
          -0.6808142223360163,
          -1.967694857966453,
          -2.4283968280931187,
          -2.1299354863183417,
          -1.589741926613896,
          0.06116608415068596,
          1.3403606765566218
         ]
        }
       ],
       "layout": {
        "legend": {
         "tracegroupgap": 0
        },
        "margin": {
         "t": 60
        },
        "scene": {
         "domain": {
          "x": [
           0,
           1
          ],
          "y": [
           0,
           1
          ]
         },
         "xaxis": {
          "title": {
           "text": "PC1"
          }
         },
         "yaxis": {
          "title": {
           "text": "PC2"
          }
         },
         "zaxis": {
          "title": {
           "text": "PC3"
          }
         }
        },
        "template": {
         "data": {
          "bar": [
           {
            "error_x": {
             "color": "#2a3f5f"
            },
            "error_y": {
             "color": "#2a3f5f"
            },
            "marker": {
             "line": {
              "color": "#E5ECF6",
              "width": 0.5
             },
             "pattern": {
              "fillmode": "overlay",
              "size": 10,
              "solidity": 0.2
             }
            },
            "type": "bar"
           }
          ],
          "barpolar": [
           {
            "marker": {
             "line": {
              "color": "#E5ECF6",
              "width": 0.5
             },
             "pattern": {
              "fillmode": "overlay",
              "size": 10,
              "solidity": 0.2
             }
            },
            "type": "barpolar"
           }
          ],
          "carpet": [
           {
            "aaxis": {
             "endlinecolor": "#2a3f5f",
             "gridcolor": "white",
             "linecolor": "white",
             "minorgridcolor": "white",
             "startlinecolor": "#2a3f5f"
            },
            "baxis": {
             "endlinecolor": "#2a3f5f",
             "gridcolor": "white",
             "linecolor": "white",
             "minorgridcolor": "white",
             "startlinecolor": "#2a3f5f"
            },
            "type": "carpet"
           }
          ],
          "choropleth": [
           {
            "colorbar": {
             "outlinewidth": 0,
             "ticks": ""
            },
            "type": "choropleth"
           }
          ],
          "contour": [
           {
            "colorbar": {
             "outlinewidth": 0,
             "ticks": ""
            },
            "colorscale": [
             [
              0,
              "#0d0887"
             ],
             [
              0.1111111111111111,
              "#46039f"
             ],
             [
              0.2222222222222222,
              "#7201a8"
             ],
             [
              0.3333333333333333,
              "#9c179e"
             ],
             [
              0.4444444444444444,
              "#bd3786"
             ],
             [
              0.5555555555555556,
              "#d8576b"
             ],
             [
              0.6666666666666666,
              "#ed7953"
             ],
             [
              0.7777777777777778,
              "#fb9f3a"
             ],
             [
              0.8888888888888888,
              "#fdca26"
             ],
             [
              1,
              "#f0f921"
             ]
            ],
            "type": "contour"
           }
          ],
          "contourcarpet": [
           {
            "colorbar": {
             "outlinewidth": 0,
             "ticks": ""
            },
            "type": "contourcarpet"
           }
          ],
          "heatmap": [
           {
            "colorbar": {
             "outlinewidth": 0,
             "ticks": ""
            },
            "colorscale": [
             [
              0,
              "#0d0887"
             ],
             [
              0.1111111111111111,
              "#46039f"
             ],
             [
              0.2222222222222222,
              "#7201a8"
             ],
             [
              0.3333333333333333,
              "#9c179e"
             ],
             [
              0.4444444444444444,
              "#bd3786"
             ],
             [
              0.5555555555555556,
              "#d8576b"
             ],
             [
              0.6666666666666666,
              "#ed7953"
             ],
             [
              0.7777777777777778,
              "#fb9f3a"
             ],
             [
              0.8888888888888888,
              "#fdca26"
             ],
             [
              1,
              "#f0f921"
             ]
            ],
            "type": "heatmap"
           }
          ],
          "heatmapgl": [
           {
            "colorbar": {
             "outlinewidth": 0,
             "ticks": ""
            },
            "colorscale": [
             [
              0,
              "#0d0887"
             ],
             [
              0.1111111111111111,
              "#46039f"
             ],
             [
              0.2222222222222222,
              "#7201a8"
             ],
             [
              0.3333333333333333,
              "#9c179e"
             ],
             [
              0.4444444444444444,
              "#bd3786"
             ],
             [
              0.5555555555555556,
              "#d8576b"
             ],
             [
              0.6666666666666666,
              "#ed7953"
             ],
             [
              0.7777777777777778,
              "#fb9f3a"
             ],
             [
              0.8888888888888888,
              "#fdca26"
             ],
             [
              1,
              "#f0f921"
             ]
            ],
            "type": "heatmapgl"
           }
          ],
          "histogram": [
           {
            "marker": {
             "pattern": {
              "fillmode": "overlay",
              "size": 10,
              "solidity": 0.2
             }
            },
            "type": "histogram"
           }
          ],
          "histogram2d": [
           {
            "colorbar": {
             "outlinewidth": 0,
             "ticks": ""
            },
            "colorscale": [
             [
              0,
              "#0d0887"
             ],
             [
              0.1111111111111111,
              "#46039f"
             ],
             [
              0.2222222222222222,
              "#7201a8"
             ],
             [
              0.3333333333333333,
              "#9c179e"
             ],
             [
              0.4444444444444444,
              "#bd3786"
             ],
             [
              0.5555555555555556,
              "#d8576b"
             ],
             [
              0.6666666666666666,
              "#ed7953"
             ],
             [
              0.7777777777777778,
              "#fb9f3a"
             ],
             [
              0.8888888888888888,
              "#fdca26"
             ],
             [
              1,
              "#f0f921"
             ]
            ],
            "type": "histogram2d"
           }
          ],
          "histogram2dcontour": [
           {
            "colorbar": {
             "outlinewidth": 0,
             "ticks": ""
            },
            "colorscale": [
             [
              0,
              "#0d0887"
             ],
             [
              0.1111111111111111,
              "#46039f"
             ],
             [
              0.2222222222222222,
              "#7201a8"
             ],
             [
              0.3333333333333333,
              "#9c179e"
             ],
             [
              0.4444444444444444,
              "#bd3786"
             ],
             [
              0.5555555555555556,
              "#d8576b"
             ],
             [
              0.6666666666666666,
              "#ed7953"
             ],
             [
              0.7777777777777778,
              "#fb9f3a"
             ],
             [
              0.8888888888888888,
              "#fdca26"
             ],
             [
              1,
              "#f0f921"
             ]
            ],
            "type": "histogram2dcontour"
           }
          ],
          "mesh3d": [
           {
            "colorbar": {
             "outlinewidth": 0,
             "ticks": ""
            },
            "type": "mesh3d"
           }
          ],
          "parcoords": [
           {
            "line": {
             "colorbar": {
              "outlinewidth": 0,
              "ticks": ""
             }
            },
            "type": "parcoords"
           }
          ],
          "pie": [
           {
            "automargin": true,
            "type": "pie"
           }
          ],
          "scatter": [
           {
            "fillpattern": {
             "fillmode": "overlay",
             "size": 10,
             "solidity": 0.2
            },
            "type": "scatter"
           }
          ],
          "scatter3d": [
           {
            "line": {
             "colorbar": {
              "outlinewidth": 0,
              "ticks": ""
             }
            },
            "marker": {
             "colorbar": {
              "outlinewidth": 0,
              "ticks": ""
             }
            },
            "type": "scatter3d"
           }
          ],
          "scattercarpet": [
           {
            "marker": {
             "colorbar": {
              "outlinewidth": 0,
              "ticks": ""
             }
            },
            "type": "scattercarpet"
           }
          ],
          "scattergeo": [
           {
            "marker": {
             "colorbar": {
              "outlinewidth": 0,
              "ticks": ""
             }
            },
            "type": "scattergeo"
           }
          ],
          "scattergl": [
           {
            "marker": {
             "colorbar": {
              "outlinewidth": 0,
              "ticks": ""
             }
            },
            "type": "scattergl"
           }
          ],
          "scattermapbox": [
           {
            "marker": {
             "colorbar": {
              "outlinewidth": 0,
              "ticks": ""
             }
            },
            "type": "scattermapbox"
           }
          ],
          "scatterpolar": [
           {
            "marker": {
             "colorbar": {
              "outlinewidth": 0,
              "ticks": ""
             }
            },
            "type": "scatterpolar"
           }
          ],
          "scatterpolargl": [
           {
            "marker": {
             "colorbar": {
              "outlinewidth": 0,
              "ticks": ""
             }
            },
            "type": "scatterpolargl"
           }
          ],
          "scatterternary": [
           {
            "marker": {
             "colorbar": {
              "outlinewidth": 0,
              "ticks": ""
             }
            },
            "type": "scatterternary"
           }
          ],
          "surface": [
           {
            "colorbar": {
             "outlinewidth": 0,
             "ticks": ""
            },
            "colorscale": [
             [
              0,
              "#0d0887"
             ],
             [
              0.1111111111111111,
              "#46039f"
             ],
             [
              0.2222222222222222,
              "#7201a8"
             ],
             [
              0.3333333333333333,
              "#9c179e"
             ],
             [
              0.4444444444444444,
              "#bd3786"
             ],
             [
              0.5555555555555556,
              "#d8576b"
             ],
             [
              0.6666666666666666,
              "#ed7953"
             ],
             [
              0.7777777777777778,
              "#fb9f3a"
             ],
             [
              0.8888888888888888,
              "#fdca26"
             ],
             [
              1,
              "#f0f921"
             ]
            ],
            "type": "surface"
           }
          ],
          "table": [
           {
            "cells": {
             "fill": {
              "color": "#EBF0F8"
             },
             "line": {
              "color": "white"
             }
            },
            "header": {
             "fill": {
              "color": "#C8D4E3"
             },
             "line": {
              "color": "white"
             }
            },
            "type": "table"
           }
          ]
         },
         "layout": {
          "annotationdefaults": {
           "arrowcolor": "#2a3f5f",
           "arrowhead": 0,
           "arrowwidth": 1
          },
          "autotypenumbers": "strict",
          "coloraxis": {
           "colorbar": {
            "outlinewidth": 0,
            "ticks": ""
           }
          },
          "colorscale": {
           "diverging": [
            [
             0,
             "#8e0152"
            ],
            [
             0.1,
             "#c51b7d"
            ],
            [
             0.2,
             "#de77ae"
            ],
            [
             0.3,
             "#f1b6da"
            ],
            [
             0.4,
             "#fde0ef"
            ],
            [
             0.5,
             "#f7f7f7"
            ],
            [
             0.6,
             "#e6f5d0"
            ],
            [
             0.7,
             "#b8e186"
            ],
            [
             0.8,
             "#7fbc41"
            ],
            [
             0.9,
             "#4d9221"
            ],
            [
             1,
             "#276419"
            ]
           ],
           "sequential": [
            [
             0,
             "#0d0887"
            ],
            [
             0.1111111111111111,
             "#46039f"
            ],
            [
             0.2222222222222222,
             "#7201a8"
            ],
            [
             0.3333333333333333,
             "#9c179e"
            ],
            [
             0.4444444444444444,
             "#bd3786"
            ],
            [
             0.5555555555555556,
             "#d8576b"
            ],
            [
             0.6666666666666666,
             "#ed7953"
            ],
            [
             0.7777777777777778,
             "#fb9f3a"
            ],
            [
             0.8888888888888888,
             "#fdca26"
            ],
            [
             1,
             "#f0f921"
            ]
           ],
           "sequentialminus": [
            [
             0,
             "#0d0887"
            ],
            [
             0.1111111111111111,
             "#46039f"
            ],
            [
             0.2222222222222222,
             "#7201a8"
            ],
            [
             0.3333333333333333,
             "#9c179e"
            ],
            [
             0.4444444444444444,
             "#bd3786"
            ],
            [
             0.5555555555555556,
             "#d8576b"
            ],
            [
             0.6666666666666666,
             "#ed7953"
            ],
            [
             0.7777777777777778,
             "#fb9f3a"
            ],
            [
             0.8888888888888888,
             "#fdca26"
            ],
            [
             1,
             "#f0f921"
            ]
           ]
          },
          "colorway": [
           "#636efa",
           "#EF553B",
           "#00cc96",
           "#ab63fa",
           "#FFA15A",
           "#19d3f3",
           "#FF6692",
           "#B6E880",
           "#FF97FF",
           "#FECB52"
          ],
          "font": {
           "color": "#2a3f5f"
          },
          "geo": {
           "bgcolor": "white",
           "lakecolor": "white",
           "landcolor": "#E5ECF6",
           "showlakes": true,
           "showland": true,
           "subunitcolor": "white"
          },
          "hoverlabel": {
           "align": "left"
          },
          "hovermode": "closest",
          "mapbox": {
           "style": "light"
          },
          "paper_bgcolor": "white",
          "plot_bgcolor": "#E5ECF6",
          "polar": {
           "angularaxis": {
            "gridcolor": "white",
            "linecolor": "white",
            "ticks": ""
           },
           "bgcolor": "#E5ECF6",
           "radialaxis": {
            "gridcolor": "white",
            "linecolor": "white",
            "ticks": ""
           }
          },
          "scene": {
           "xaxis": {
            "backgroundcolor": "#E5ECF6",
            "gridcolor": "white",
            "gridwidth": 2,
            "linecolor": "white",
            "showbackground": true,
            "ticks": "",
            "zerolinecolor": "white"
           },
           "yaxis": {
            "backgroundcolor": "#E5ECF6",
            "gridcolor": "white",
            "gridwidth": 2,
            "linecolor": "white",
            "showbackground": true,
            "ticks": "",
            "zerolinecolor": "white"
           },
           "zaxis": {
            "backgroundcolor": "#E5ECF6",
            "gridcolor": "white",
            "gridwidth": 2,
            "linecolor": "white",
            "showbackground": true,
            "ticks": "",
            "zerolinecolor": "white"
           }
          },
          "shapedefaults": {
           "line": {
            "color": "#2a3f5f"
           }
          },
          "ternary": {
           "aaxis": {
            "gridcolor": "white",
            "linecolor": "white",
            "ticks": ""
           },
           "baxis": {
            "gridcolor": "white",
            "linecolor": "white",
            "ticks": ""
           },
           "bgcolor": "#E5ECF6",
           "caxis": {
            "gridcolor": "white",
            "linecolor": "white",
            "ticks": ""
           }
          },
          "title": {
           "x": 0.05
          },
          "xaxis": {
           "automargin": true,
           "gridcolor": "white",
           "linecolor": "white",
           "ticks": "",
           "title": {
            "standoff": 15
           },
           "zerolinecolor": "white",
           "zerolinewidth": 2
          },
          "yaxis": {
           "automargin": true,
           "gridcolor": "white",
           "linecolor": "white",
           "ticks": "",
           "title": {
            "standoff": 15
           },
           "zerolinecolor": "white",
           "zerolinewidth": 2
          }
         }
        }
       }
      }
     },
     "metadata": {},
     "output_type": "display_data"
    }
   ],
   "source": [
    "px.scatter_3d(scores_df,x='PC1',y='PC2',z='PC3')"
   ]
  },
  {
   "cell_type": "code",
   "execution_count": 20,
   "metadata": {},
   "outputs": [
    {
     "data": {
      "text/html": [
       "<div>\n",
       "<style scoped>\n",
       "    .dataframe tbody tr th:only-of-type {\n",
       "        vertical-align: middle;\n",
       "    }\n",
       "\n",
       "    .dataframe tbody tr th {\n",
       "        vertical-align: top;\n",
       "    }\n",
       "\n",
       "    .dataframe thead th {\n",
       "        text-align: right;\n",
       "    }\n",
       "</style>\n",
       "<table border=\"1\" class=\"dataframe\">\n",
       "  <thead>\n",
       "    <tr style=\"text-align: right;\">\n",
       "      <th></th>\n",
       "      <th></th>\n",
       "      <th>58PDI1202.PV</th>\n",
       "      <th>58TI3246.PV</th>\n",
       "      <th>58PIC3226A.PV</th>\n",
       "      <th>58HIC3225.MV</th>\n",
       "      <th>58ZI3225.PV</th>\n",
       "      <th>58PI3239.PV</th>\n",
       "      <th>58TI3230.PV</th>\n",
       "      <th>58TI3231.PV</th>\n",
       "      <th>58PI3209.PV</th>\n",
       "      <th>58TI3208.PV</th>\n",
       "      <th>...</th>\n",
       "      <th>58VI3118B.PV</th>\n",
       "      <th>58TI3113.PV</th>\n",
       "      <th>58VI3233A.PV</th>\n",
       "      <th>58VI3233B.PV</th>\n",
       "      <th>58TI3232.PV</th>\n",
       "      <th>58TI3234.PV</th>\n",
       "      <th>58TI3414.PV</th>\n",
       "      <th>58PI3314.PV</th>\n",
       "      <th>58PI3107.PV</th>\n",
       "      <th>58LI3403.PV</th>\n",
       "    </tr>\n",
       "    <tr>\n",
       "      <th>Date</th>\n",
       "      <th>Time</th>\n",
       "      <th></th>\n",
       "      <th></th>\n",
       "      <th></th>\n",
       "      <th></th>\n",
       "      <th></th>\n",
       "      <th></th>\n",
       "      <th></th>\n",
       "      <th></th>\n",
       "      <th></th>\n",
       "      <th></th>\n",
       "      <th></th>\n",
       "      <th></th>\n",
       "      <th></th>\n",
       "      <th></th>\n",
       "      <th></th>\n",
       "      <th></th>\n",
       "      <th></th>\n",
       "      <th></th>\n",
       "      <th></th>\n",
       "      <th></th>\n",
       "      <th></th>\n",
       "    </tr>\n",
       "  </thead>\n",
       "  <tbody>\n",
       "    <tr>\n",
       "      <th>2018-08-16 00:00:00</th>\n",
       "      <th>00:00:00</th>\n",
       "      <td>0.485438</td>\n",
       "      <td>13.704390</td>\n",
       "      <td>759.735596</td>\n",
       "      <td>82.490387</td>\n",
       "      <td>82.814613</td>\n",
       "      <td>168.270096</td>\n",
       "      <td>127.014091</td>\n",
       "      <td>22.268492</td>\n",
       "      <td>349.978271</td>\n",
       "      <td>85.172089</td>\n",
       "      <td>...</td>\n",
       "      <td>23.487450</td>\n",
       "      <td>76.504044</td>\n",
       "      <td>41.856094</td>\n",
       "      <td>33.768810</td>\n",
       "      <td>70.640869</td>\n",
       "      <td>74.101479</td>\n",
       "      <td>46.227104</td>\n",
       "      <td>308.491455</td>\n",
       "      <td>1386.177490</td>\n",
       "      <td>96.028496</td>\n",
       "    </tr>\n",
       "    <tr>\n",
       "      <th>2018-08-16 01:00:00</th>\n",
       "      <th>01:00:00</th>\n",
       "      <td>0.486443</td>\n",
       "      <td>14.682747</td>\n",
       "      <td>758.939575</td>\n",
       "      <td>84.825310</td>\n",
       "      <td>85.061035</td>\n",
       "      <td>168.685211</td>\n",
       "      <td>128.635193</td>\n",
       "      <td>22.674412</td>\n",
       "      <td>350.204132</td>\n",
       "      <td>85.504578</td>\n",
       "      <td>...</td>\n",
       "      <td>23.633106</td>\n",
       "      <td>76.478264</td>\n",
       "      <td>41.984322</td>\n",
       "      <td>33.921059</td>\n",
       "      <td>70.738480</td>\n",
       "      <td>74.173584</td>\n",
       "      <td>46.416500</td>\n",
       "      <td>307.626678</td>\n",
       "      <td>1383.323853</td>\n",
       "      <td>96.039764</td>\n",
       "    </tr>\n",
       "    <tr>\n",
       "      <th>2018-08-16 02:00:00</th>\n",
       "      <th>02:00:00</th>\n",
       "      <td>0.496587</td>\n",
       "      <td>14.022818</td>\n",
       "      <td>761.087402</td>\n",
       "      <td>84.914108</td>\n",
       "      <td>85.217781</td>\n",
       "      <td>169.251389</td>\n",
       "      <td>128.156845</td>\n",
       "      <td>22.561634</td>\n",
       "      <td>351.214966</td>\n",
       "      <td>85.411736</td>\n",
       "      <td>...</td>\n",
       "      <td>23.810165</td>\n",
       "      <td>76.530525</td>\n",
       "      <td>41.715927</td>\n",
       "      <td>34.148010</td>\n",
       "      <td>70.738480</td>\n",
       "      <td>74.236641</td>\n",
       "      <td>46.504772</td>\n",
       "      <td>307.028870</td>\n",
       "      <td>1381.364014</td>\n",
       "      <td>96.113159</td>\n",
       "    </tr>\n",
       "    <tr>\n",
       "      <th>2018-08-16 03:00:00</th>\n",
       "      <th>03:00:00</th>\n",
       "      <td>0.532740</td>\n",
       "      <td>13.443664</td>\n",
       "      <td>759.993347</td>\n",
       "      <td>83.618591</td>\n",
       "      <td>83.950287</td>\n",
       "      <td>168.628265</td>\n",
       "      <td>127.136993</td>\n",
       "      <td>22.304523</td>\n",
       "      <td>350.304291</td>\n",
       "      <td>85.164139</td>\n",
       "      <td>...</td>\n",
       "      <td>23.006880</td>\n",
       "      <td>76.759766</td>\n",
       "      <td>42.757172</td>\n",
       "      <td>33.967159</td>\n",
       "      <td>70.592285</td>\n",
       "      <td>74.064438</td>\n",
       "      <td>46.162468</td>\n",
       "      <td>308.572327</td>\n",
       "      <td>1385.243042</td>\n",
       "      <td>95.938889</td>\n",
       "    </tr>\n",
       "    <tr>\n",
       "      <th>2018-08-16 04:00:00</th>\n",
       "      <th>04:00:00</th>\n",
       "      <td>0.584378</td>\n",
       "      <td>12.676052</td>\n",
       "      <td>760.262573</td>\n",
       "      <td>82.454002</td>\n",
       "      <td>82.755478</td>\n",
       "      <td>168.529510</td>\n",
       "      <td>126.012871</td>\n",
       "      <td>22.126286</td>\n",
       "      <td>350.265015</td>\n",
       "      <td>84.979736</td>\n",
       "      <td>...</td>\n",
       "      <td>22.874638</td>\n",
       "      <td>77.681564</td>\n",
       "      <td>43.185646</td>\n",
       "      <td>35.361031</td>\n",
       "      <td>70.485199</td>\n",
       "      <td>73.977112</td>\n",
       "      <td>45.805019</td>\n",
       "      <td>310.387726</td>\n",
       "      <td>1389.648071</td>\n",
       "      <td>95.648880</td>\n",
       "    </tr>\n",
       "    <tr>\n",
       "      <th>...</th>\n",
       "      <th>...</th>\n",
       "      <td>...</td>\n",
       "      <td>...</td>\n",
       "      <td>...</td>\n",
       "      <td>...</td>\n",
       "      <td>...</td>\n",
       "      <td>...</td>\n",
       "      <td>...</td>\n",
       "      <td>...</td>\n",
       "      <td>...</td>\n",
       "      <td>...</td>\n",
       "      <td>...</td>\n",
       "      <td>...</td>\n",
       "      <td>...</td>\n",
       "      <td>...</td>\n",
       "      <td>...</td>\n",
       "      <td>...</td>\n",
       "      <td>...</td>\n",
       "      <td>...</td>\n",
       "      <td>...</td>\n",
       "      <td>...</td>\n",
       "      <td>...</td>\n",
       "    </tr>\n",
       "    <tr>\n",
       "      <th>2018-08-24 01:00:00</th>\n",
       "      <th>01:00:00</th>\n",
       "      <td>0.473993</td>\n",
       "      <td>11.786310</td>\n",
       "      <td>760.520081</td>\n",
       "      <td>77.178696</td>\n",
       "      <td>77.820496</td>\n",
       "      <td>166.596039</td>\n",
       "      <td>123.442291</td>\n",
       "      <td>20.819235</td>\n",
       "      <td>348.574005</td>\n",
       "      <td>83.701340</td>\n",
       "      <td>...</td>\n",
       "      <td>22.990658</td>\n",
       "      <td>77.625931</td>\n",
       "      <td>40.363670</td>\n",
       "      <td>33.927650</td>\n",
       "      <td>70.351501</td>\n",
       "      <td>73.794785</td>\n",
       "      <td>45.797623</td>\n",
       "      <td>309.746033</td>\n",
       "      <td>1388.534424</td>\n",
       "      <td>95.493912</td>\n",
       "    </tr>\n",
       "    <tr>\n",
       "      <th>2018-08-24 02:00:00</th>\n",
       "      <th>02:00:00</th>\n",
       "      <td>0.467463</td>\n",
       "      <td>11.900259</td>\n",
       "      <td>760.181030</td>\n",
       "      <td>77.017929</td>\n",
       "      <td>77.817200</td>\n",
       "      <td>166.178986</td>\n",
       "      <td>123.550011</td>\n",
       "      <td>20.495556</td>\n",
       "      <td>348.061554</td>\n",
       "      <td>83.390305</td>\n",
       "      <td>...</td>\n",
       "      <td>22.288027</td>\n",
       "      <td>78.207901</td>\n",
       "      <td>41.000538</td>\n",
       "      <td>33.817520</td>\n",
       "      <td>70.213913</td>\n",
       "      <td>73.605209</td>\n",
       "      <td>45.528351</td>\n",
       "      <td>310.769257</td>\n",
       "      <td>1390.792725</td>\n",
       "      <td>95.407166</td>\n",
       "    </tr>\n",
       "    <tr>\n",
       "      <th>2018-08-24 03:00:00</th>\n",
       "      <th>03:00:00</th>\n",
       "      <td>0.464840</td>\n",
       "      <td>11.657276</td>\n",
       "      <td>760.728271</td>\n",
       "      <td>76.772148</td>\n",
       "      <td>77.409386</td>\n",
       "      <td>166.037354</td>\n",
       "      <td>123.248230</td>\n",
       "      <td>20.243111</td>\n",
       "      <td>348.021545</td>\n",
       "      <td>83.107590</td>\n",
       "      <td>...</td>\n",
       "      <td>21.714409</td>\n",
       "      <td>78.645752</td>\n",
       "      <td>42.541042</td>\n",
       "      <td>33.271301</td>\n",
       "      <td>70.082870</td>\n",
       "      <td>73.389854</td>\n",
       "      <td>45.104935</td>\n",
       "      <td>312.714050</td>\n",
       "      <td>1395.204346</td>\n",
       "      <td>95.123466</td>\n",
       "    </tr>\n",
       "    <tr>\n",
       "      <th>2018-08-24 04:00:00</th>\n",
       "      <th>04:00:00</th>\n",
       "      <td>0.467145</td>\n",
       "      <td>11.132824</td>\n",
       "      <td>760.498901</td>\n",
       "      <td>75.521309</td>\n",
       "      <td>76.357529</td>\n",
       "      <td>165.655212</td>\n",
       "      <td>122.510582</td>\n",
       "      <td>19.950104</td>\n",
       "      <td>347.567444</td>\n",
       "      <td>82.829147</td>\n",
       "      <td>...</td>\n",
       "      <td>22.560356</td>\n",
       "      <td>78.643066</td>\n",
       "      <td>43.564651</td>\n",
       "      <td>32.213875</td>\n",
       "      <td>70.060699</td>\n",
       "      <td>73.233437</td>\n",
       "      <td>44.747948</td>\n",
       "      <td>314.445190</td>\n",
       "      <td>1399.405029</td>\n",
       "      <td>94.838837</td>\n",
       "    </tr>\n",
       "    <tr>\n",
       "      <th>2018-08-24 05:00:00</th>\n",
       "      <th>05:00:00</th>\n",
       "      <td>0.468127</td>\n",
       "      <td>10.911824</td>\n",
       "      <td>760.193115</td>\n",
       "      <td>75.030769</td>\n",
       "      <td>75.882812</td>\n",
       "      <td>165.509659</td>\n",
       "      <td>122.077087</td>\n",
       "      <td>19.870119</td>\n",
       "      <td>347.370697</td>\n",
       "      <td>82.747231</td>\n",
       "      <td>...</td>\n",
       "      <td>22.755892</td>\n",
       "      <td>78.610199</td>\n",
       "      <td>43.956718</td>\n",
       "      <td>31.639442</td>\n",
       "      <td>70.037277</td>\n",
       "      <td>73.157028</td>\n",
       "      <td>44.601780</td>\n",
       "      <td>315.065063</td>\n",
       "      <td>1401.377930</td>\n",
       "      <td>94.677277</td>\n",
       "    </tr>\n",
       "  </tbody>\n",
       "</table>\n",
       "<p>192 rows × 109 columns</p>\n",
       "</div>"
      ],
      "text/plain": [
       "                              58PDI1202.PV  58TI3246.PV  58PIC3226A.PV  \\\n",
       "Date                Time                                                 \n",
       "2018-08-16 00:00:00 00:00:00      0.485438    13.704390     759.735596   \n",
       "2018-08-16 01:00:00 01:00:00      0.486443    14.682747     758.939575   \n",
       "2018-08-16 02:00:00 02:00:00      0.496587    14.022818     761.087402   \n",
       "2018-08-16 03:00:00 03:00:00      0.532740    13.443664     759.993347   \n",
       "2018-08-16 04:00:00 04:00:00      0.584378    12.676052     760.262573   \n",
       "...                                    ...          ...            ...   \n",
       "2018-08-24 01:00:00 01:00:00      0.473993    11.786310     760.520081   \n",
       "2018-08-24 02:00:00 02:00:00      0.467463    11.900259     760.181030   \n",
       "2018-08-24 03:00:00 03:00:00      0.464840    11.657276     760.728271   \n",
       "2018-08-24 04:00:00 04:00:00      0.467145    11.132824     760.498901   \n",
       "2018-08-24 05:00:00 05:00:00      0.468127    10.911824     760.193115   \n",
       "\n",
       "                              58HIC3225.MV  58ZI3225.PV  58PI3239.PV  \\\n",
       "Date                Time                                               \n",
       "2018-08-16 00:00:00 00:00:00     82.490387    82.814613   168.270096   \n",
       "2018-08-16 01:00:00 01:00:00     84.825310    85.061035   168.685211   \n",
       "2018-08-16 02:00:00 02:00:00     84.914108    85.217781   169.251389   \n",
       "2018-08-16 03:00:00 03:00:00     83.618591    83.950287   168.628265   \n",
       "2018-08-16 04:00:00 04:00:00     82.454002    82.755478   168.529510   \n",
       "...                                    ...          ...          ...   \n",
       "2018-08-24 01:00:00 01:00:00     77.178696    77.820496   166.596039   \n",
       "2018-08-24 02:00:00 02:00:00     77.017929    77.817200   166.178986   \n",
       "2018-08-24 03:00:00 03:00:00     76.772148    77.409386   166.037354   \n",
       "2018-08-24 04:00:00 04:00:00     75.521309    76.357529   165.655212   \n",
       "2018-08-24 05:00:00 05:00:00     75.030769    75.882812   165.509659   \n",
       "\n",
       "                              58TI3230.PV  58TI3231.PV  58PI3209.PV  \\\n",
       "Date                Time                                              \n",
       "2018-08-16 00:00:00 00:00:00   127.014091    22.268492   349.978271   \n",
       "2018-08-16 01:00:00 01:00:00   128.635193    22.674412   350.204132   \n",
       "2018-08-16 02:00:00 02:00:00   128.156845    22.561634   351.214966   \n",
       "2018-08-16 03:00:00 03:00:00   127.136993    22.304523   350.304291   \n",
       "2018-08-16 04:00:00 04:00:00   126.012871    22.126286   350.265015   \n",
       "...                                   ...          ...          ...   \n",
       "2018-08-24 01:00:00 01:00:00   123.442291    20.819235   348.574005   \n",
       "2018-08-24 02:00:00 02:00:00   123.550011    20.495556   348.061554   \n",
       "2018-08-24 03:00:00 03:00:00   123.248230    20.243111   348.021545   \n",
       "2018-08-24 04:00:00 04:00:00   122.510582    19.950104   347.567444   \n",
       "2018-08-24 05:00:00 05:00:00   122.077087    19.870119   347.370697   \n",
       "\n",
       "                              58TI3208.PV  ...  58VI3118B.PV  58TI3113.PV  \\\n",
       "Date                Time                   ...                              \n",
       "2018-08-16 00:00:00 00:00:00    85.172089  ...     23.487450    76.504044   \n",
       "2018-08-16 01:00:00 01:00:00    85.504578  ...     23.633106    76.478264   \n",
       "2018-08-16 02:00:00 02:00:00    85.411736  ...     23.810165    76.530525   \n",
       "2018-08-16 03:00:00 03:00:00    85.164139  ...     23.006880    76.759766   \n",
       "2018-08-16 04:00:00 04:00:00    84.979736  ...     22.874638    77.681564   \n",
       "...                                   ...  ...           ...          ...   \n",
       "2018-08-24 01:00:00 01:00:00    83.701340  ...     22.990658    77.625931   \n",
       "2018-08-24 02:00:00 02:00:00    83.390305  ...     22.288027    78.207901   \n",
       "2018-08-24 03:00:00 03:00:00    83.107590  ...     21.714409    78.645752   \n",
       "2018-08-24 04:00:00 04:00:00    82.829147  ...     22.560356    78.643066   \n",
       "2018-08-24 05:00:00 05:00:00    82.747231  ...     22.755892    78.610199   \n",
       "\n",
       "                              58VI3233A.PV  58VI3233B.PV  58TI3232.PV  \\\n",
       "Date                Time                                                \n",
       "2018-08-16 00:00:00 00:00:00     41.856094     33.768810    70.640869   \n",
       "2018-08-16 01:00:00 01:00:00     41.984322     33.921059    70.738480   \n",
       "2018-08-16 02:00:00 02:00:00     41.715927     34.148010    70.738480   \n",
       "2018-08-16 03:00:00 03:00:00     42.757172     33.967159    70.592285   \n",
       "2018-08-16 04:00:00 04:00:00     43.185646     35.361031    70.485199   \n",
       "...                                    ...           ...          ...   \n",
       "2018-08-24 01:00:00 01:00:00     40.363670     33.927650    70.351501   \n",
       "2018-08-24 02:00:00 02:00:00     41.000538     33.817520    70.213913   \n",
       "2018-08-24 03:00:00 03:00:00     42.541042     33.271301    70.082870   \n",
       "2018-08-24 04:00:00 04:00:00     43.564651     32.213875    70.060699   \n",
       "2018-08-24 05:00:00 05:00:00     43.956718     31.639442    70.037277   \n",
       "\n",
       "                              58TI3234.PV  58TI3414.PV  58PI3314.PV  \\\n",
       "Date                Time                                              \n",
       "2018-08-16 00:00:00 00:00:00    74.101479    46.227104   308.491455   \n",
       "2018-08-16 01:00:00 01:00:00    74.173584    46.416500   307.626678   \n",
       "2018-08-16 02:00:00 02:00:00    74.236641    46.504772   307.028870   \n",
       "2018-08-16 03:00:00 03:00:00    74.064438    46.162468   308.572327   \n",
       "2018-08-16 04:00:00 04:00:00    73.977112    45.805019   310.387726   \n",
       "...                                   ...          ...          ...   \n",
       "2018-08-24 01:00:00 01:00:00    73.794785    45.797623   309.746033   \n",
       "2018-08-24 02:00:00 02:00:00    73.605209    45.528351   310.769257   \n",
       "2018-08-24 03:00:00 03:00:00    73.389854    45.104935   312.714050   \n",
       "2018-08-24 04:00:00 04:00:00    73.233437    44.747948   314.445190   \n",
       "2018-08-24 05:00:00 05:00:00    73.157028    44.601780   315.065063   \n",
       "\n",
       "                              58PI3107.PV  58LI3403.PV  \n",
       "Date                Time                                \n",
       "2018-08-16 00:00:00 00:00:00  1386.177490    96.028496  \n",
       "2018-08-16 01:00:00 01:00:00  1383.323853    96.039764  \n",
       "2018-08-16 02:00:00 02:00:00  1381.364014    96.113159  \n",
       "2018-08-16 03:00:00 03:00:00  1385.243042    95.938889  \n",
       "2018-08-16 04:00:00 04:00:00  1389.648071    95.648880  \n",
       "...                                   ...          ...  \n",
       "2018-08-24 01:00:00 01:00:00  1388.534424    95.493912  \n",
       "2018-08-24 02:00:00 02:00:00  1390.792725    95.407166  \n",
       "2018-08-24 03:00:00 03:00:00  1395.204346    95.123466  \n",
       "2018-08-24 04:00:00 04:00:00  1399.405029    94.838837  \n",
       "2018-08-24 05:00:00 05:00:00  1401.377930    94.677277  \n",
       "\n",
       "[192 rows x 109 columns]"
      ]
     },
     "execution_count": 20,
     "metadata": {},
     "output_type": "execute_result"
    }
   ],
   "source": [
    "df"
   ]
  },
  {
   "cell_type": "code",
   "execution_count": 21,
   "metadata": {},
   "outputs": [
    {
     "data": {
      "text/plain": [
       "array([[-8.31806505e-01, -1.40966627e+00, -6.49151324e-01, ...,\n",
       "        -5.80109356e-16,  9.21325459e-16,  3.41520554e-17],\n",
       "       [ 1.30884821e+00, -1.20207359e+00, -1.12462955e+00, ...,\n",
       "        -5.91031701e-16, -4.37558952e-16,  3.53253782e-17],\n",
       "       [ 6.95630517e-01, -1.76299865e+00, -3.78923278e+00, ...,\n",
       "        -6.13415663e-16, -8.46475386e-16, -1.79077137e-16],\n",
       "       ...,\n",
       "       [-8.42694845e+00, -4.70692831e+00, -1.58974193e+00, ...,\n",
       "        -2.10281797e-16,  5.64172095e-16, -5.59056281e-17],\n",
       "       [-1.00180269e+01, -4.78739601e+00,  6.11660842e-02, ...,\n",
       "        -2.58847182e-16,  3.43175171e-16,  5.63126733e-17],\n",
       "       [-1.08495555e+01, -4.72785982e+00,  1.34036068e+00, ...,\n",
       "        -7.35501329e-17,  5.10366129e-16,  8.98002610e-17]])"
      ]
     },
     "execution_count": 21,
     "metadata": {},
     "output_type": "execute_result"
    }
   ],
   "source": [
    "# scaling the data\n",
    "from sklearn import preprocessing\n",
    "import pandas as pd\n",
    "import numpy as np\n",
    "# scaling the data\n",
    "from sklearn import preprocessing\n",
    "import sklearn\n",
    "pca = sklearn.decomposition.PCA()\n",
    "scaled_d = preprocessing.scale(df)\n",
    "scaled_d.size\n",
    "pca.fit(scaled_d)\n",
    "pca_data = pca.transform(scaled_d)\n",
    "pca_data"
   ]
  },
  {
   "cell_type": "code",
   "execution_count": 22,
   "metadata": {},
   "outputs": [
    {
     "data": {
      "text/plain": [
       "array([5.14369538e+01, 1.66706427e+01, 6.63492639e+00, 5.95885332e+00,\n",
       "       3.86918212e+00, 2.69278842e+00, 2.04733095e+00, 1.47414857e+00,\n",
       "       1.26961273e+00, 1.04905313e+00, 8.82003626e-01, 6.99801902e-01,\n",
       "       6.48030503e-01, 5.99626645e-01, 4.69670401e-01, 4.41996749e-01,\n",
       "       4.00468931e-01, 3.93048456e-01, 2.92599192e-01, 2.51842653e-01,\n",
       "       2.16098905e-01, 1.93949736e-01, 1.63947061e-01, 1.46189667e-01,\n",
       "       1.17776510e-01, 9.93228690e-02, 9.12268854e-02, 8.80813803e-02,\n",
       "       7.08775148e-02, 6.86689048e-02, 6.25737554e-02, 5.63273406e-02,\n",
       "       5.13317824e-02, 4.23066482e-02, 3.69410061e-02, 3.30950065e-02,\n",
       "       3.24732576e-02, 2.65530996e-02, 2.33117812e-02, 1.89215381e-02,\n",
       "       1.79322842e-02, 1.57244142e-02, 1.32882978e-02, 1.23051115e-02,\n",
       "       1.12494449e-02, 1.07821127e-02, 9.38374307e-03, 8.51156135e-03,\n",
       "       7.76606533e-03, 6.93175820e-03, 6.76146967e-03, 6.29991796e-03,\n",
       "       5.17118337e-03, 4.51710540e-03, 4.06368212e-03, 3.70172456e-03,\n",
       "       3.46564915e-03, 3.14107227e-03, 2.82756928e-03, 2.58034539e-03,\n",
       "       2.20825908e-03, 1.99729374e-03, 1.83152378e-03, 1.65808780e-03,\n",
       "       1.33470750e-03, 1.28610192e-03, 1.13992668e-03, 1.00990480e-03,\n",
       "       8.72622373e-04, 7.49426766e-04, 7.36933703e-04, 5.96297741e-04,\n",
       "       5.54285527e-04, 5.37525867e-04, 4.88539448e-04, 4.19442434e-04,\n",
       "       4.03716308e-04, 3.88259713e-04, 3.56113452e-04, 3.04723011e-04,\n",
       "       2.64079364e-04, 2.56864262e-04, 2.26320743e-04, 1.78214977e-04,\n",
       "       1.74477694e-04, 1.44358076e-04, 1.35782760e-04, 1.11830914e-04,\n",
       "       1.08198916e-04, 1.04139694e-04, 8.82652047e-05, 7.96829226e-05,\n",
       "       6.03605676e-05, 5.59976358e-05, 5.46181148e-05, 3.40767782e-05,\n",
       "       2.51454220e-05, 1.92998952e-05, 1.67826731e-05, 1.41004599e-05,\n",
       "       7.25450951e-06, 3.70952266e-06, 2.38439217e-06, 3.71194704e-08,\n",
       "       2.08394620e-08, 6.42277174e-09, 2.00122827e-31, 2.00122827e-31,\n",
       "       2.00122827e-31])"
      ]
     },
     "execution_count": 22,
     "metadata": {},
     "output_type": "execute_result"
    }
   ],
   "source": [
    "per_ver = pca.explained_variance_ratio_*100 \n",
    "per_ver\n"
   ]
  },
  {
   "cell_type": "code",
   "execution_count": 23,
   "metadata": {},
   "outputs": [
    {
     "data": {
      "application/vnd.plotly.v1+json": {
       "config": {
        "plotlyServerURL": "https://plot.ly"
       },
       "data": [
        {
         "alignmentgroup": "True",
         "hovertemplate": "variable=0<br>index=%{x}<br>value=%{y}<extra></extra>",
         "legendgroup": "0",
         "marker": {
          "color": "#636efa",
          "pattern": {
           "shape": ""
          }
         },
         "name": "0",
         "offsetgroup": "0",
         "orientation": "v",
         "showlegend": true,
         "textposition": "auto",
         "type": "bar",
         "x": [
          0,
          1,
          2,
          3,
          4,
          5,
          6,
          7,
          8,
          9,
          10,
          11,
          12,
          13,
          14,
          15,
          16,
          17,
          18,
          19,
          20,
          21,
          22,
          23,
          24,
          25,
          26,
          27,
          28,
          29,
          30,
          31,
          32,
          33,
          34,
          35,
          36,
          37,
          38,
          39,
          40,
          41,
          42,
          43,
          44,
          45,
          46,
          47,
          48,
          49,
          50,
          51,
          52,
          53,
          54,
          55,
          56,
          57,
          58,
          59,
          60,
          61,
          62,
          63,
          64,
          65,
          66,
          67,
          68,
          69,
          70,
          71,
          72,
          73,
          74,
          75,
          76,
          77,
          78,
          79,
          80,
          81,
          82,
          83,
          84,
          85,
          86,
          87,
          88,
          89,
          90,
          91,
          92,
          93,
          94,
          95,
          96,
          97,
          98,
          99,
          100,
          101,
          102,
          103,
          104,
          105,
          106,
          107,
          108
         ],
         "xaxis": "x",
         "y": [
          51.43695378191532,
          16.67064266547295,
          6.6349263875323405,
          5.958853322028673,
          3.869182121829385,
          2.692788418346431,
          2.047330953329847,
          1.4741485739583968,
          1.2696127297064606,
          1.0490531254524906,
          0.8820036261006298,
          0.6998019015543305,
          0.6480305033886593,
          0.5996266453767295,
          0.46967040144942046,
          0.44199674852369986,
          0.4004689307773746,
          0.39304845646896786,
          0.29259919170537557,
          0.2518426529667505,
          0.21609890507952081,
          0.19394973550653308,
          0.16394706148813748,
          0.1461896665883916,
          0.11777650951674919,
          0.09932286899977441,
          0.09122688537678454,
          0.08808138034859912,
          0.07087751475278464,
          0.06866890476464128,
          0.06257375544217429,
          0.05632734057073822,
          0.051331782420606854,
          0.04230664822280686,
          0.03694100611826512,
          0.033095006469342984,
          0.03247325756029485,
          0.026553099632627728,
          0.023311781234396877,
          0.01892153807799925,
          0.017932284218596082,
          0.015724414211821608,
          0.01328829777129186,
          0.012305111490756759,
          0.011249444864190574,
          0.010782112740687223,
          0.009383743072328001,
          0.008511561351158997,
          0.007766065333563832,
          0.00693175819651366,
          0.006761469666872564,
          0.006299917959553356,
          0.005171183368467776,
          0.0045171053992954634,
          0.004063682121027097,
          0.0037017245603022555,
          0.003465649145688774,
          0.0031410722733845454,
          0.0028275692805885895,
          0.0025803453893584,
          0.002208259081841085,
          0.0019972937392111977,
          0.0018315237803451932,
          0.0016580877976851364,
          0.0013347075032519953,
          0.001286101922941981,
          0.0011399266833264227,
          0.0010099047997800474,
          0.0008726223725834102,
          0.0007494267659459772,
          0.0007369337027109578,
          0.0005962977413514583,
          0.0005542855270408755,
          0.0005375258672462313,
          0.0004885394479160023,
          0.0004194424336743664,
          0.00040371630765837104,
          0.0003882597130142156,
          0.0003561134522265608,
          0.0003047230105436483,
          0.0002640793640892738,
          0.0002568642615481312,
          0.0002263207425223044,
          0.0001782149768352611,
          0.000174477693814737,
          0.00014435807567560912,
          0.00013578276039318612,
          0.00011183091395233374,
          0.00010819891586604403,
          0.00010413969413179187,
          0.0000882652046705747,
          0.00007968292261917794,
          0.00006036056759277509,
          0.00005599763581207468,
          0.000054618114839056,
          0.000034076778235986054,
          0.00002514542195491836,
          0.000019299895238568518,
          0.000016782673090950112,
          0.000014100459928309427,
          0.000007254509512081241,
          0.0000037095226603604357,
          0.0000023843921671935344,
          3.7119470356059095e-8,
          2.0839462009925112e-8,
          6.42277174111353e-9,
          2.0012282697622774e-31,
          2.0012282697622774e-31,
          2.0012282697622774e-31
         ],
         "yaxis": "y"
        }
       ],
       "layout": {
        "barmode": "relative",
        "legend": {
         "title": {
          "text": "variable"
         },
         "tracegroupgap": 0
        },
        "margin": {
         "t": 60
        },
        "template": {
         "data": {
          "bar": [
           {
            "error_x": {
             "color": "#2a3f5f"
            },
            "error_y": {
             "color": "#2a3f5f"
            },
            "marker": {
             "line": {
              "color": "#E5ECF6",
              "width": 0.5
             },
             "pattern": {
              "fillmode": "overlay",
              "size": 10,
              "solidity": 0.2
             }
            },
            "type": "bar"
           }
          ],
          "barpolar": [
           {
            "marker": {
             "line": {
              "color": "#E5ECF6",
              "width": 0.5
             },
             "pattern": {
              "fillmode": "overlay",
              "size": 10,
              "solidity": 0.2
             }
            },
            "type": "barpolar"
           }
          ],
          "carpet": [
           {
            "aaxis": {
             "endlinecolor": "#2a3f5f",
             "gridcolor": "white",
             "linecolor": "white",
             "minorgridcolor": "white",
             "startlinecolor": "#2a3f5f"
            },
            "baxis": {
             "endlinecolor": "#2a3f5f",
             "gridcolor": "white",
             "linecolor": "white",
             "minorgridcolor": "white",
             "startlinecolor": "#2a3f5f"
            },
            "type": "carpet"
           }
          ],
          "choropleth": [
           {
            "colorbar": {
             "outlinewidth": 0,
             "ticks": ""
            },
            "type": "choropleth"
           }
          ],
          "contour": [
           {
            "colorbar": {
             "outlinewidth": 0,
             "ticks": ""
            },
            "colorscale": [
             [
              0,
              "#0d0887"
             ],
             [
              0.1111111111111111,
              "#46039f"
             ],
             [
              0.2222222222222222,
              "#7201a8"
             ],
             [
              0.3333333333333333,
              "#9c179e"
             ],
             [
              0.4444444444444444,
              "#bd3786"
             ],
             [
              0.5555555555555556,
              "#d8576b"
             ],
             [
              0.6666666666666666,
              "#ed7953"
             ],
             [
              0.7777777777777778,
              "#fb9f3a"
             ],
             [
              0.8888888888888888,
              "#fdca26"
             ],
             [
              1,
              "#f0f921"
             ]
            ],
            "type": "contour"
           }
          ],
          "contourcarpet": [
           {
            "colorbar": {
             "outlinewidth": 0,
             "ticks": ""
            },
            "type": "contourcarpet"
           }
          ],
          "heatmap": [
           {
            "colorbar": {
             "outlinewidth": 0,
             "ticks": ""
            },
            "colorscale": [
             [
              0,
              "#0d0887"
             ],
             [
              0.1111111111111111,
              "#46039f"
             ],
             [
              0.2222222222222222,
              "#7201a8"
             ],
             [
              0.3333333333333333,
              "#9c179e"
             ],
             [
              0.4444444444444444,
              "#bd3786"
             ],
             [
              0.5555555555555556,
              "#d8576b"
             ],
             [
              0.6666666666666666,
              "#ed7953"
             ],
             [
              0.7777777777777778,
              "#fb9f3a"
             ],
             [
              0.8888888888888888,
              "#fdca26"
             ],
             [
              1,
              "#f0f921"
             ]
            ],
            "type": "heatmap"
           }
          ],
          "heatmapgl": [
           {
            "colorbar": {
             "outlinewidth": 0,
             "ticks": ""
            },
            "colorscale": [
             [
              0,
              "#0d0887"
             ],
             [
              0.1111111111111111,
              "#46039f"
             ],
             [
              0.2222222222222222,
              "#7201a8"
             ],
             [
              0.3333333333333333,
              "#9c179e"
             ],
             [
              0.4444444444444444,
              "#bd3786"
             ],
             [
              0.5555555555555556,
              "#d8576b"
             ],
             [
              0.6666666666666666,
              "#ed7953"
             ],
             [
              0.7777777777777778,
              "#fb9f3a"
             ],
             [
              0.8888888888888888,
              "#fdca26"
             ],
             [
              1,
              "#f0f921"
             ]
            ],
            "type": "heatmapgl"
           }
          ],
          "histogram": [
           {
            "marker": {
             "pattern": {
              "fillmode": "overlay",
              "size": 10,
              "solidity": 0.2
             }
            },
            "type": "histogram"
           }
          ],
          "histogram2d": [
           {
            "colorbar": {
             "outlinewidth": 0,
             "ticks": ""
            },
            "colorscale": [
             [
              0,
              "#0d0887"
             ],
             [
              0.1111111111111111,
              "#46039f"
             ],
             [
              0.2222222222222222,
              "#7201a8"
             ],
             [
              0.3333333333333333,
              "#9c179e"
             ],
             [
              0.4444444444444444,
              "#bd3786"
             ],
             [
              0.5555555555555556,
              "#d8576b"
             ],
             [
              0.6666666666666666,
              "#ed7953"
             ],
             [
              0.7777777777777778,
              "#fb9f3a"
             ],
             [
              0.8888888888888888,
              "#fdca26"
             ],
             [
              1,
              "#f0f921"
             ]
            ],
            "type": "histogram2d"
           }
          ],
          "histogram2dcontour": [
           {
            "colorbar": {
             "outlinewidth": 0,
             "ticks": ""
            },
            "colorscale": [
             [
              0,
              "#0d0887"
             ],
             [
              0.1111111111111111,
              "#46039f"
             ],
             [
              0.2222222222222222,
              "#7201a8"
             ],
             [
              0.3333333333333333,
              "#9c179e"
             ],
             [
              0.4444444444444444,
              "#bd3786"
             ],
             [
              0.5555555555555556,
              "#d8576b"
             ],
             [
              0.6666666666666666,
              "#ed7953"
             ],
             [
              0.7777777777777778,
              "#fb9f3a"
             ],
             [
              0.8888888888888888,
              "#fdca26"
             ],
             [
              1,
              "#f0f921"
             ]
            ],
            "type": "histogram2dcontour"
           }
          ],
          "mesh3d": [
           {
            "colorbar": {
             "outlinewidth": 0,
             "ticks": ""
            },
            "type": "mesh3d"
           }
          ],
          "parcoords": [
           {
            "line": {
             "colorbar": {
              "outlinewidth": 0,
              "ticks": ""
             }
            },
            "type": "parcoords"
           }
          ],
          "pie": [
           {
            "automargin": true,
            "type": "pie"
           }
          ],
          "scatter": [
           {
            "fillpattern": {
             "fillmode": "overlay",
             "size": 10,
             "solidity": 0.2
            },
            "type": "scatter"
           }
          ],
          "scatter3d": [
           {
            "line": {
             "colorbar": {
              "outlinewidth": 0,
              "ticks": ""
             }
            },
            "marker": {
             "colorbar": {
              "outlinewidth": 0,
              "ticks": ""
             }
            },
            "type": "scatter3d"
           }
          ],
          "scattercarpet": [
           {
            "marker": {
             "colorbar": {
              "outlinewidth": 0,
              "ticks": ""
             }
            },
            "type": "scattercarpet"
           }
          ],
          "scattergeo": [
           {
            "marker": {
             "colorbar": {
              "outlinewidth": 0,
              "ticks": ""
             }
            },
            "type": "scattergeo"
           }
          ],
          "scattergl": [
           {
            "marker": {
             "colorbar": {
              "outlinewidth": 0,
              "ticks": ""
             }
            },
            "type": "scattergl"
           }
          ],
          "scattermapbox": [
           {
            "marker": {
             "colorbar": {
              "outlinewidth": 0,
              "ticks": ""
             }
            },
            "type": "scattermapbox"
           }
          ],
          "scatterpolar": [
           {
            "marker": {
             "colorbar": {
              "outlinewidth": 0,
              "ticks": ""
             }
            },
            "type": "scatterpolar"
           }
          ],
          "scatterpolargl": [
           {
            "marker": {
             "colorbar": {
              "outlinewidth": 0,
              "ticks": ""
             }
            },
            "type": "scatterpolargl"
           }
          ],
          "scatterternary": [
           {
            "marker": {
             "colorbar": {
              "outlinewidth": 0,
              "ticks": ""
             }
            },
            "type": "scatterternary"
           }
          ],
          "surface": [
           {
            "colorbar": {
             "outlinewidth": 0,
             "ticks": ""
            },
            "colorscale": [
             [
              0,
              "#0d0887"
             ],
             [
              0.1111111111111111,
              "#46039f"
             ],
             [
              0.2222222222222222,
              "#7201a8"
             ],
             [
              0.3333333333333333,
              "#9c179e"
             ],
             [
              0.4444444444444444,
              "#bd3786"
             ],
             [
              0.5555555555555556,
              "#d8576b"
             ],
             [
              0.6666666666666666,
              "#ed7953"
             ],
             [
              0.7777777777777778,
              "#fb9f3a"
             ],
             [
              0.8888888888888888,
              "#fdca26"
             ],
             [
              1,
              "#f0f921"
             ]
            ],
            "type": "surface"
           }
          ],
          "table": [
           {
            "cells": {
             "fill": {
              "color": "#EBF0F8"
             },
             "line": {
              "color": "white"
             }
            },
            "header": {
             "fill": {
              "color": "#C8D4E3"
             },
             "line": {
              "color": "white"
             }
            },
            "type": "table"
           }
          ]
         },
         "layout": {
          "annotationdefaults": {
           "arrowcolor": "#2a3f5f",
           "arrowhead": 0,
           "arrowwidth": 1
          },
          "autotypenumbers": "strict",
          "coloraxis": {
           "colorbar": {
            "outlinewidth": 0,
            "ticks": ""
           }
          },
          "colorscale": {
           "diverging": [
            [
             0,
             "#8e0152"
            ],
            [
             0.1,
             "#c51b7d"
            ],
            [
             0.2,
             "#de77ae"
            ],
            [
             0.3,
             "#f1b6da"
            ],
            [
             0.4,
             "#fde0ef"
            ],
            [
             0.5,
             "#f7f7f7"
            ],
            [
             0.6,
             "#e6f5d0"
            ],
            [
             0.7,
             "#b8e186"
            ],
            [
             0.8,
             "#7fbc41"
            ],
            [
             0.9,
             "#4d9221"
            ],
            [
             1,
             "#276419"
            ]
           ],
           "sequential": [
            [
             0,
             "#0d0887"
            ],
            [
             0.1111111111111111,
             "#46039f"
            ],
            [
             0.2222222222222222,
             "#7201a8"
            ],
            [
             0.3333333333333333,
             "#9c179e"
            ],
            [
             0.4444444444444444,
             "#bd3786"
            ],
            [
             0.5555555555555556,
             "#d8576b"
            ],
            [
             0.6666666666666666,
             "#ed7953"
            ],
            [
             0.7777777777777778,
             "#fb9f3a"
            ],
            [
             0.8888888888888888,
             "#fdca26"
            ],
            [
             1,
             "#f0f921"
            ]
           ],
           "sequentialminus": [
            [
             0,
             "#0d0887"
            ],
            [
             0.1111111111111111,
             "#46039f"
            ],
            [
             0.2222222222222222,
             "#7201a8"
            ],
            [
             0.3333333333333333,
             "#9c179e"
            ],
            [
             0.4444444444444444,
             "#bd3786"
            ],
            [
             0.5555555555555556,
             "#d8576b"
            ],
            [
             0.6666666666666666,
             "#ed7953"
            ],
            [
             0.7777777777777778,
             "#fb9f3a"
            ],
            [
             0.8888888888888888,
             "#fdca26"
            ],
            [
             1,
             "#f0f921"
            ]
           ]
          },
          "colorway": [
           "#636efa",
           "#EF553B",
           "#00cc96",
           "#ab63fa",
           "#FFA15A",
           "#19d3f3",
           "#FF6692",
           "#B6E880",
           "#FF97FF",
           "#FECB52"
          ],
          "font": {
           "color": "#2a3f5f"
          },
          "geo": {
           "bgcolor": "white",
           "lakecolor": "white",
           "landcolor": "#E5ECF6",
           "showlakes": true,
           "showland": true,
           "subunitcolor": "white"
          },
          "hoverlabel": {
           "align": "left"
          },
          "hovermode": "closest",
          "mapbox": {
           "style": "light"
          },
          "paper_bgcolor": "white",
          "plot_bgcolor": "#E5ECF6",
          "polar": {
           "angularaxis": {
            "gridcolor": "white",
            "linecolor": "white",
            "ticks": ""
           },
           "bgcolor": "#E5ECF6",
           "radialaxis": {
            "gridcolor": "white",
            "linecolor": "white",
            "ticks": ""
           }
          },
          "scene": {
           "xaxis": {
            "backgroundcolor": "#E5ECF6",
            "gridcolor": "white",
            "gridwidth": 2,
            "linecolor": "white",
            "showbackground": true,
            "ticks": "",
            "zerolinecolor": "white"
           },
           "yaxis": {
            "backgroundcolor": "#E5ECF6",
            "gridcolor": "white",
            "gridwidth": 2,
            "linecolor": "white",
            "showbackground": true,
            "ticks": "",
            "zerolinecolor": "white"
           },
           "zaxis": {
            "backgroundcolor": "#E5ECF6",
            "gridcolor": "white",
            "gridwidth": 2,
            "linecolor": "white",
            "showbackground": true,
            "ticks": "",
            "zerolinecolor": "white"
           }
          },
          "shapedefaults": {
           "line": {
            "color": "#2a3f5f"
           }
          },
          "ternary": {
           "aaxis": {
            "gridcolor": "white",
            "linecolor": "white",
            "ticks": ""
           },
           "baxis": {
            "gridcolor": "white",
            "linecolor": "white",
            "ticks": ""
           },
           "bgcolor": "#E5ECF6",
           "caxis": {
            "gridcolor": "white",
            "linecolor": "white",
            "ticks": ""
           }
          },
          "title": {
           "x": 0.05
          },
          "xaxis": {
           "automargin": true,
           "gridcolor": "white",
           "linecolor": "white",
           "ticks": "",
           "title": {
            "standoff": 15
           },
           "zerolinecolor": "white",
           "zerolinewidth": 2
          },
          "yaxis": {
           "automargin": true,
           "gridcolor": "white",
           "linecolor": "white",
           "ticks": "",
           "title": {
            "standoff": 15
           },
           "zerolinecolor": "white",
           "zerolinewidth": 2
          }
         }
        },
        "xaxis": {
         "anchor": "y",
         "domain": [
          0,
          1
         ],
         "title": {
          "text": "index"
         }
        },
        "yaxis": {
         "anchor": "x",
         "domain": [
          0,
          1
         ],
         "title": {
          "text": "value"
         }
        }
       }
      }
     },
     "metadata": {},
     "output_type": "display_data"
    }
   ],
   "source": [
    "import plotly.express as px\n",
    "\n",
    "fig = px.bar(per_ver)\n",
    "fig.show()"
   ]
  },
  {
   "cell_type": "code",
   "execution_count": 24,
   "metadata": {},
   "outputs": [
    {
     "data": {
      "application/vnd.plotly.v1+json": {
       "config": {
        "plotlyServerURL": "https://plot.ly"
       },
       "data": [
        {
         "hovertemplate": "0=%{x}<br>1=%{y}<extra></extra>",
         "legendgroup": "",
         "marker": {
          "color": "#636efa",
          "symbol": "circle"
         },
         "mode": "markers",
         "name": "",
         "orientation": "v",
         "showlegend": false,
         "type": "scatter",
         "x": [
          -0.8318065049949498,
          1.3088482127515053,
          0.6956305174981583,
          -0.2680761475758278,
          -1.737865781782244,
          -0.3587312343358301,
          -0.2796242839092597,
          -1.6276457362368808,
          -2.50901810765547,
          -1.074846689191911,
          0.8069096294348224,
          2.7940537949978523,
          4.291075859691247,
          5.062257539392688,
          6.0312816262383215,
          5.983605706209238,
          5.8693631410674625,
          4.903208992909154,
          5.664060101531918,
          5.451188390750775,
          5.140048124439768,
          5.4704230746439455,
          5.53975727196165,
          5.108802110306889,
          -2.290739330640794,
          -3.482891284882328,
          -4.048864274017702,
          -4.190480231390941,
          -2.992475352187245,
          -1.7717824543715068,
          -2.12343954247392,
          -1.5786666284635307,
          0.5533086642864485,
          1.4382932487574571,
          1.5133587108508635,
          0.8847365581475622,
          -0.7916928141493865,
          -2.06726705565437,
          -3.225304702835851,
          -4.073522825047304,
          -4.7320619437938625,
          -6.844639341935551,
          -9.240705942607,
          -10.125044008470239,
          -11.396938397146261,
          -11.832900544805282,
          -11.91156962049594,
          -12.931937841792884,
          -14.159378361588528,
          -14.83477688324312,
          -14.82004527626506,
          -12.531220285566338,
          -8.814175953431137,
          -5.461054644121396,
          -3.7625798647619195,
          -3.002636121030801,
          -1.4650387835965508,
          0.1594274118039339,
          0.8565976509183635,
          1.506168203172381,
          1.1446910100815924,
          0.0520420796223812,
          -0.8172073481850939,
          -3.5397501004717684,
          -4.862514367732577,
          -5.905309735622602,
          -6.231141159311795,
          -6.32857474306207,
          -6.196946430969019,
          -6.17483092614425,
          -7.464732929932243,
          -7.1286097588518595,
          -7.13663889605511,
          -6.863519716122566,
          -6.584612210309935,
          -5.447860047849312,
          -1.3500223550868147,
          2.635838917396884,
          4.294533889715414,
          5.541606331276902,
          7.466184311040054,
          10.481715069997346,
          12.941115526191005,
          12.133886502976631,
          9.658164980100056,
          8.052286906421205,
          7.759719640119965,
          7.40693726166003,
          6.850980163014696,
          6.243688905449906,
          6.3628703365782195,
          5.887642082111461,
          6.855901178511744,
          6.604289049213147,
          5.86018190036766,
          5.35209823170477,
          6.274769336600268,
          6.13751893156642,
          5.707421900437132,
          7.346966492465243,
          9.596132048674047,
          12.741998655772143,
          14.87957723195172,
          14.479424035326963,
          13.363868518349799,
          13.582969971097674,
          14.759947037192834,
          14.282220570283593,
          12.093983544740265,
          11.936728001417903,
          12.886216965663646,
          13.103048156033964,
          12.812136684555785,
          10.618632452104347,
          9.617116720273362,
          8.676687801227605,
          8.322526484733984,
          6.702289674626786,
          6.602864029537121,
          7.017130713452774,
          7.930007551817618,
          6.185695938336907,
          8.160169216142872,
          9.167654476681511,
          10.794863476049416,
          12.105844906362327,
          10.479708932196512,
          10.30932160619631,
          9.830660188471672,
          8.96377392885005,
          8.093942538088138,
          5.975568527843539,
          4.20773589809227,
          2.695444939261645,
          2.4128471190866154,
          0.8136781642074437,
          -1.601124095675097,
          -3.5678313370008223,
          -4.271889441339336,
          -4.157564775429362,
          -6.343183805030841,
          -7.520961446923707,
          -7.950340698985781,
          -9.122873815119497,
          -10.502004955883107,
          -10.813733323200042,
          -11.422491248877092,
          -9.60077220780794,
          -6.535872407346477,
          -4.149576972436325,
          -2.607488589256059,
          -1.369962999114089,
          -0.9477672672825175,
          -0.6431296822420792,
          0.3049148985600172,
          0.5794542416985587,
          -0.49942182979684147,
          -2.330095238358276,
          -3.827239050976283,
          -4.052351771695506,
          -4.698711719883644,
          -5.787004721522874,
          -7.121307679386378,
          -8.046592587662433,
          -9.63722502407362,
          -11.549678110798077,
          -12.549529029324603,
          -13.076840015495234,
          -13.212309157795223,
          -13.766214233851773,
          -13.15996669573187,
          -11.781060125146062,
          -8.3483361950278,
          -5.597956848470314,
          -3.8373706073663256,
          -1.6985682062081158,
          0.382021835213993,
          2.1059497211334626,
          1.9410227042850554,
          2.1538878044766885,
          1.861802538617476,
          1.0370065134429034,
          -1.0878407761783246,
          -2.9391612543947354,
          -4.398557111384082,
          -4.933746562553201,
          -5.352191072104558,
          -5.321523851052211,
          -6.396317500054076,
          -8.426948447612556,
          -10.018026936159176,
          -10.84955548734137
         ],
         "xaxis": "x",
         "y": [
          -1.409666269690036,
          -1.2020735900848323,
          -1.7629986452329653,
          -1.3984774038874601,
          -1.1204522371820733,
          -1.4902990682998836,
          -2.317362127944297,
          -2.4629819194360993,
          -2.072404960165308,
          -1.5784368441232612,
          -2.0949349497805607,
          -1.5501160388375934,
          -0.22900683916431938,
          -0.5119278816649314,
          -0.42566098708286954,
          -0.9139568493675788,
          -0.29260690220330154,
          -0.8043077611454384,
          -0.3941787768196016,
          -0.7653224605024654,
          -1.6572989706294123,
          -1.1449735521781905,
          -0.8825636784472168,
          0.1378430568016825,
          -0.9015220885158375,
          -0.39273276073874364,
          -1.0111617083331477,
          0.07922374914000435,
          0.45987014146483896,
          1.7912554203814983,
          9.045817557580927,
          10.74509433798293,
          8.475424073925836,
          6.258796200108149,
          4.610907060706461,
          3.867569489236036,
          3.194261731333762,
          3.5354424233559194,
          4.287195114299254,
          4.520247403519817,
          4.8089403022444985,
          5.050887493018378,
          4.691957200162104,
          4.03210298222504,
          4.239471727596819,
          3.8599262564829395,
          3.5065429387933427,
          3.761401202237325,
          3.838518209788853,
          4.617358868225799,
          5.249898536764192,
          6.23200409101945,
          6.722006942160812,
          6.601362517148477,
          6.469512699201447,
          6.433167943256227,
          6.584823253859347,
          6.085167011233641,
          5.48402515337886,
          4.194370815523318,
          3.4468380610259777,
          4.03710008138742,
          4.00218535391143,
          5.07587343392678,
          5.787457594842822,
          5.784598839678017,
          5.4247621249170015,
          4.484707068709866,
          4.204573593916759,
          4.859198402047991,
          5.467100560286087,
          5.3396572095719055,
          5.31249694828261,
          4.883703581666715,
          5.289118509845209,
          5.333684043429206,
          5.236689439772079,
          4.481729408887394,
          4.027343741793511,
          4.743474875648184,
          4.24675072662712,
          3.5231938219346945,
          3.7874891568612874,
          3.177344820577122,
          2.182988148229523,
          2.3984939701012187,
          3.0281624883285625,
          2.162714449991149,
          1.5129821129089303,
          2.3304486890572873,
          2.5733235709743014,
          2.1544695603502846,
          2.9596475963777737,
          3.2401334547270375,
          2.9662403734198057,
          3.199533193318688,
          3.43432711080593,
          3.705220764268609,
          3.4785419261595685,
          4.364087596244671,
          4.611072716718794,
          4.6539986463914005,
          8.118036640446071,
          6.299454659076488,
          3.7747602278314742,
          3.258467576444815,
          4.424105367845846,
          4.480723016325301,
          3.5612429423198466,
          0.4145239745596777,
          -3.328407304582062,
          -4.746930838047944,
          -4.4905590253306125,
          -4.6628590583658625,
          -3.662141292131855,
          -2.663382866590255,
          -2.939590703191407,
          -3.362596840970726,
          -3.8282393889889543,
          -4.40599666033796,
          -4.25370701513511,
          -5.421831074194536,
          -4.387292691654543,
          -5.212261049802514,
          -4.689293199930146,
          -4.6670525756092704,
          -5.644657008075601,
          -5.4028299918372715,
          -5.396804459264282,
          -5.789905282223065,
          -5.3569372835487945,
          -5.051880993495037,
          -4.642749159743584,
          -4.334029111123671,
          -4.139243330739489,
          -4.106270578859137,
          -3.017630599857856,
          -2.67226446212501,
          -2.577758171034313,
          -2.2963415676529473,
          -2.2188076963971755,
          -2.4281962101239825,
          -1.526262918550144,
          -1.392691467774208,
          -1.5683674696092023,
          -1.6628152871167714,
          -1.146249975835986,
          -0.9577558470115901,
          -1.0808184889731585,
          -1.2127027686706204,
          -1.2578557324297504,
          -1.3798197852709908,
          -1.7778876479456005,
          -2.192578342485872,
          -2.612745459024043,
          -3.2830681268876236,
          -3.791816342842469,
          -3.5937106618684,
          -3.0843205584912,
          -3.0189119571465874,
          -3.467457510980858,
          -3.708489899998541,
          -4.019040577833141,
          -4.279099193976922,
          -4.363813962688905,
          -4.274324876468924,
          -4.65659338282762,
          -4.455961903987406,
          -3.8928382195365225,
          -4.143637826760189,
          -5.036129356753952,
          -5.414323826002696,
          -5.277303755160781,
          -5.907654484122599,
          -6.866212582039417,
          -6.752885763194658,
          -6.032210252322804,
          -5.34979540509618,
          -6.071280107204173,
          -6.300501004356793,
          -6.5133577435515475,
          -6.160649431364228,
          -5.614666998273267,
          -4.914026134043776,
          -5.468376438486476,
          -5.881560692834755,
          -6.353540206831795,
          -5.488164432340101,
          -4.70483436716591,
          -4.706928308317051,
          -4.787396011071151,
          -4.727859820978507
         ],
         "yaxis": "y"
        }
       ],
       "layout": {
        "legend": {
         "tracegroupgap": 0
        },
        "margin": {
         "t": 60
        },
        "template": {
         "data": {
          "bar": [
           {
            "error_x": {
             "color": "#2a3f5f"
            },
            "error_y": {
             "color": "#2a3f5f"
            },
            "marker": {
             "line": {
              "color": "#E5ECF6",
              "width": 0.5
             },
             "pattern": {
              "fillmode": "overlay",
              "size": 10,
              "solidity": 0.2
             }
            },
            "type": "bar"
           }
          ],
          "barpolar": [
           {
            "marker": {
             "line": {
              "color": "#E5ECF6",
              "width": 0.5
             },
             "pattern": {
              "fillmode": "overlay",
              "size": 10,
              "solidity": 0.2
             }
            },
            "type": "barpolar"
           }
          ],
          "carpet": [
           {
            "aaxis": {
             "endlinecolor": "#2a3f5f",
             "gridcolor": "white",
             "linecolor": "white",
             "minorgridcolor": "white",
             "startlinecolor": "#2a3f5f"
            },
            "baxis": {
             "endlinecolor": "#2a3f5f",
             "gridcolor": "white",
             "linecolor": "white",
             "minorgridcolor": "white",
             "startlinecolor": "#2a3f5f"
            },
            "type": "carpet"
           }
          ],
          "choropleth": [
           {
            "colorbar": {
             "outlinewidth": 0,
             "ticks": ""
            },
            "type": "choropleth"
           }
          ],
          "contour": [
           {
            "colorbar": {
             "outlinewidth": 0,
             "ticks": ""
            },
            "colorscale": [
             [
              0,
              "#0d0887"
             ],
             [
              0.1111111111111111,
              "#46039f"
             ],
             [
              0.2222222222222222,
              "#7201a8"
             ],
             [
              0.3333333333333333,
              "#9c179e"
             ],
             [
              0.4444444444444444,
              "#bd3786"
             ],
             [
              0.5555555555555556,
              "#d8576b"
             ],
             [
              0.6666666666666666,
              "#ed7953"
             ],
             [
              0.7777777777777778,
              "#fb9f3a"
             ],
             [
              0.8888888888888888,
              "#fdca26"
             ],
             [
              1,
              "#f0f921"
             ]
            ],
            "type": "contour"
           }
          ],
          "contourcarpet": [
           {
            "colorbar": {
             "outlinewidth": 0,
             "ticks": ""
            },
            "type": "contourcarpet"
           }
          ],
          "heatmap": [
           {
            "colorbar": {
             "outlinewidth": 0,
             "ticks": ""
            },
            "colorscale": [
             [
              0,
              "#0d0887"
             ],
             [
              0.1111111111111111,
              "#46039f"
             ],
             [
              0.2222222222222222,
              "#7201a8"
             ],
             [
              0.3333333333333333,
              "#9c179e"
             ],
             [
              0.4444444444444444,
              "#bd3786"
             ],
             [
              0.5555555555555556,
              "#d8576b"
             ],
             [
              0.6666666666666666,
              "#ed7953"
             ],
             [
              0.7777777777777778,
              "#fb9f3a"
             ],
             [
              0.8888888888888888,
              "#fdca26"
             ],
             [
              1,
              "#f0f921"
             ]
            ],
            "type": "heatmap"
           }
          ],
          "heatmapgl": [
           {
            "colorbar": {
             "outlinewidth": 0,
             "ticks": ""
            },
            "colorscale": [
             [
              0,
              "#0d0887"
             ],
             [
              0.1111111111111111,
              "#46039f"
             ],
             [
              0.2222222222222222,
              "#7201a8"
             ],
             [
              0.3333333333333333,
              "#9c179e"
             ],
             [
              0.4444444444444444,
              "#bd3786"
             ],
             [
              0.5555555555555556,
              "#d8576b"
             ],
             [
              0.6666666666666666,
              "#ed7953"
             ],
             [
              0.7777777777777778,
              "#fb9f3a"
             ],
             [
              0.8888888888888888,
              "#fdca26"
             ],
             [
              1,
              "#f0f921"
             ]
            ],
            "type": "heatmapgl"
           }
          ],
          "histogram": [
           {
            "marker": {
             "pattern": {
              "fillmode": "overlay",
              "size": 10,
              "solidity": 0.2
             }
            },
            "type": "histogram"
           }
          ],
          "histogram2d": [
           {
            "colorbar": {
             "outlinewidth": 0,
             "ticks": ""
            },
            "colorscale": [
             [
              0,
              "#0d0887"
             ],
             [
              0.1111111111111111,
              "#46039f"
             ],
             [
              0.2222222222222222,
              "#7201a8"
             ],
             [
              0.3333333333333333,
              "#9c179e"
             ],
             [
              0.4444444444444444,
              "#bd3786"
             ],
             [
              0.5555555555555556,
              "#d8576b"
             ],
             [
              0.6666666666666666,
              "#ed7953"
             ],
             [
              0.7777777777777778,
              "#fb9f3a"
             ],
             [
              0.8888888888888888,
              "#fdca26"
             ],
             [
              1,
              "#f0f921"
             ]
            ],
            "type": "histogram2d"
           }
          ],
          "histogram2dcontour": [
           {
            "colorbar": {
             "outlinewidth": 0,
             "ticks": ""
            },
            "colorscale": [
             [
              0,
              "#0d0887"
             ],
             [
              0.1111111111111111,
              "#46039f"
             ],
             [
              0.2222222222222222,
              "#7201a8"
             ],
             [
              0.3333333333333333,
              "#9c179e"
             ],
             [
              0.4444444444444444,
              "#bd3786"
             ],
             [
              0.5555555555555556,
              "#d8576b"
             ],
             [
              0.6666666666666666,
              "#ed7953"
             ],
             [
              0.7777777777777778,
              "#fb9f3a"
             ],
             [
              0.8888888888888888,
              "#fdca26"
             ],
             [
              1,
              "#f0f921"
             ]
            ],
            "type": "histogram2dcontour"
           }
          ],
          "mesh3d": [
           {
            "colorbar": {
             "outlinewidth": 0,
             "ticks": ""
            },
            "type": "mesh3d"
           }
          ],
          "parcoords": [
           {
            "line": {
             "colorbar": {
              "outlinewidth": 0,
              "ticks": ""
             }
            },
            "type": "parcoords"
           }
          ],
          "pie": [
           {
            "automargin": true,
            "type": "pie"
           }
          ],
          "scatter": [
           {
            "fillpattern": {
             "fillmode": "overlay",
             "size": 10,
             "solidity": 0.2
            },
            "type": "scatter"
           }
          ],
          "scatter3d": [
           {
            "line": {
             "colorbar": {
              "outlinewidth": 0,
              "ticks": ""
             }
            },
            "marker": {
             "colorbar": {
              "outlinewidth": 0,
              "ticks": ""
             }
            },
            "type": "scatter3d"
           }
          ],
          "scattercarpet": [
           {
            "marker": {
             "colorbar": {
              "outlinewidth": 0,
              "ticks": ""
             }
            },
            "type": "scattercarpet"
           }
          ],
          "scattergeo": [
           {
            "marker": {
             "colorbar": {
              "outlinewidth": 0,
              "ticks": ""
             }
            },
            "type": "scattergeo"
           }
          ],
          "scattergl": [
           {
            "marker": {
             "colorbar": {
              "outlinewidth": 0,
              "ticks": ""
             }
            },
            "type": "scattergl"
           }
          ],
          "scattermapbox": [
           {
            "marker": {
             "colorbar": {
              "outlinewidth": 0,
              "ticks": ""
             }
            },
            "type": "scattermapbox"
           }
          ],
          "scatterpolar": [
           {
            "marker": {
             "colorbar": {
              "outlinewidth": 0,
              "ticks": ""
             }
            },
            "type": "scatterpolar"
           }
          ],
          "scatterpolargl": [
           {
            "marker": {
             "colorbar": {
              "outlinewidth": 0,
              "ticks": ""
             }
            },
            "type": "scatterpolargl"
           }
          ],
          "scatterternary": [
           {
            "marker": {
             "colorbar": {
              "outlinewidth": 0,
              "ticks": ""
             }
            },
            "type": "scatterternary"
           }
          ],
          "surface": [
           {
            "colorbar": {
             "outlinewidth": 0,
             "ticks": ""
            },
            "colorscale": [
             [
              0,
              "#0d0887"
             ],
             [
              0.1111111111111111,
              "#46039f"
             ],
             [
              0.2222222222222222,
              "#7201a8"
             ],
             [
              0.3333333333333333,
              "#9c179e"
             ],
             [
              0.4444444444444444,
              "#bd3786"
             ],
             [
              0.5555555555555556,
              "#d8576b"
             ],
             [
              0.6666666666666666,
              "#ed7953"
             ],
             [
              0.7777777777777778,
              "#fb9f3a"
             ],
             [
              0.8888888888888888,
              "#fdca26"
             ],
             [
              1,
              "#f0f921"
             ]
            ],
            "type": "surface"
           }
          ],
          "table": [
           {
            "cells": {
             "fill": {
              "color": "#EBF0F8"
             },
             "line": {
              "color": "white"
             }
            },
            "header": {
             "fill": {
              "color": "#C8D4E3"
             },
             "line": {
              "color": "white"
             }
            },
            "type": "table"
           }
          ]
         },
         "layout": {
          "annotationdefaults": {
           "arrowcolor": "#2a3f5f",
           "arrowhead": 0,
           "arrowwidth": 1
          },
          "autotypenumbers": "strict",
          "coloraxis": {
           "colorbar": {
            "outlinewidth": 0,
            "ticks": ""
           }
          },
          "colorscale": {
           "diverging": [
            [
             0,
             "#8e0152"
            ],
            [
             0.1,
             "#c51b7d"
            ],
            [
             0.2,
             "#de77ae"
            ],
            [
             0.3,
             "#f1b6da"
            ],
            [
             0.4,
             "#fde0ef"
            ],
            [
             0.5,
             "#f7f7f7"
            ],
            [
             0.6,
             "#e6f5d0"
            ],
            [
             0.7,
             "#b8e186"
            ],
            [
             0.8,
             "#7fbc41"
            ],
            [
             0.9,
             "#4d9221"
            ],
            [
             1,
             "#276419"
            ]
           ],
           "sequential": [
            [
             0,
             "#0d0887"
            ],
            [
             0.1111111111111111,
             "#46039f"
            ],
            [
             0.2222222222222222,
             "#7201a8"
            ],
            [
             0.3333333333333333,
             "#9c179e"
            ],
            [
             0.4444444444444444,
             "#bd3786"
            ],
            [
             0.5555555555555556,
             "#d8576b"
            ],
            [
             0.6666666666666666,
             "#ed7953"
            ],
            [
             0.7777777777777778,
             "#fb9f3a"
            ],
            [
             0.8888888888888888,
             "#fdca26"
            ],
            [
             1,
             "#f0f921"
            ]
           ],
           "sequentialminus": [
            [
             0,
             "#0d0887"
            ],
            [
             0.1111111111111111,
             "#46039f"
            ],
            [
             0.2222222222222222,
             "#7201a8"
            ],
            [
             0.3333333333333333,
             "#9c179e"
            ],
            [
             0.4444444444444444,
             "#bd3786"
            ],
            [
             0.5555555555555556,
             "#d8576b"
            ],
            [
             0.6666666666666666,
             "#ed7953"
            ],
            [
             0.7777777777777778,
             "#fb9f3a"
            ],
            [
             0.8888888888888888,
             "#fdca26"
            ],
            [
             1,
             "#f0f921"
            ]
           ]
          },
          "colorway": [
           "#636efa",
           "#EF553B",
           "#00cc96",
           "#ab63fa",
           "#FFA15A",
           "#19d3f3",
           "#FF6692",
           "#B6E880",
           "#FF97FF",
           "#FECB52"
          ],
          "font": {
           "color": "#2a3f5f"
          },
          "geo": {
           "bgcolor": "white",
           "lakecolor": "white",
           "landcolor": "#E5ECF6",
           "showlakes": true,
           "showland": true,
           "subunitcolor": "white"
          },
          "hoverlabel": {
           "align": "left"
          },
          "hovermode": "closest",
          "mapbox": {
           "style": "light"
          },
          "paper_bgcolor": "white",
          "plot_bgcolor": "#E5ECF6",
          "polar": {
           "angularaxis": {
            "gridcolor": "white",
            "linecolor": "white",
            "ticks": ""
           },
           "bgcolor": "#E5ECF6",
           "radialaxis": {
            "gridcolor": "white",
            "linecolor": "white",
            "ticks": ""
           }
          },
          "scene": {
           "xaxis": {
            "backgroundcolor": "#E5ECF6",
            "gridcolor": "white",
            "gridwidth": 2,
            "linecolor": "white",
            "showbackground": true,
            "ticks": "",
            "zerolinecolor": "white"
           },
           "yaxis": {
            "backgroundcolor": "#E5ECF6",
            "gridcolor": "white",
            "gridwidth": 2,
            "linecolor": "white",
            "showbackground": true,
            "ticks": "",
            "zerolinecolor": "white"
           },
           "zaxis": {
            "backgroundcolor": "#E5ECF6",
            "gridcolor": "white",
            "gridwidth": 2,
            "linecolor": "white",
            "showbackground": true,
            "ticks": "",
            "zerolinecolor": "white"
           }
          },
          "shapedefaults": {
           "line": {
            "color": "#2a3f5f"
           }
          },
          "ternary": {
           "aaxis": {
            "gridcolor": "white",
            "linecolor": "white",
            "ticks": ""
           },
           "baxis": {
            "gridcolor": "white",
            "linecolor": "white",
            "ticks": ""
           },
           "bgcolor": "#E5ECF6",
           "caxis": {
            "gridcolor": "white",
            "linecolor": "white",
            "ticks": ""
           }
          },
          "title": {
           "x": 0.05
          },
          "xaxis": {
           "automargin": true,
           "gridcolor": "white",
           "linecolor": "white",
           "ticks": "",
           "title": {
            "standoff": 15
           },
           "zerolinecolor": "white",
           "zerolinewidth": 2
          },
          "yaxis": {
           "automargin": true,
           "gridcolor": "white",
           "linecolor": "white",
           "ticks": "",
           "title": {
            "standoff": 15
           },
           "zerolinecolor": "white",
           "zerolinewidth": 2
          }
         }
        },
        "title": {
         "text": "Plot Title"
        },
        "xaxis": {
         "anchor": "y",
         "domain": [
          0,
          1
         ],
         "title": {
          "text": "PC1"
         }
        },
        "yaxis": {
         "anchor": "x",
         "domain": [
          0,
          1
         ],
         "title": {
          "text": "PC2"
         }
        }
       }
      }
     },
     "metadata": {},
     "output_type": "display_data"
    }
   ],
   "source": [
    "pca_df = pd.DataFrame(pca_data)\n",
    "fig = px.scatter(pca_df,x = 0,y = 1)\n",
    "newnames = {'0':'PC1', '1': 'PC2'}\n",
    "fig.update_layout(\n",
    "    title=\"Plot Title\",\n",
    "    xaxis_title=\"PC1\",\n",
    "    yaxis_title=\"PC2\",\n",
    "  \n",
    ")\n",
    "\n",
    "fig.show()"
   ]
  },
  {
   "cell_type": "code",
   "execution_count": 25,
   "metadata": {},
   "outputs": [
    {
     "data": {
      "text/plain": [
       "67     0.132622\n",
       "105    0.132567\n",
       "92     0.132557\n",
       "62     0.132443\n",
       "57     0.132089\n",
       "72     0.131885\n",
       "69     0.131865\n",
       "88     0.131847\n",
       "85     0.131772\n",
       "4      0.131671\n",
       "dtype: float64"
      ]
     },
     "execution_count": 25,
     "metadata": {},
     "output_type": "execute_result"
    }
   ],
   "source": [
    "loading_ss = pd.Series(pca.components_[0])\n",
    "sorted  = loading_ss.abs().sort_values(ascending = False)\n",
    "sorted.head(10)"
   ]
  },
  {
   "cell_type": "code",
   "execution_count": 26,
   "metadata": {},
   "outputs": [
    {
     "name": "stdout",
     "output_type": "stream",
     "text": [
      "Requirement already satisfied: xlrd in c:\\users\\jvish\\appdata\\local\\packages\\pythonsoftwarefoundation.python.3.10_qbz5n2kfra8p0\\localcache\\local-packages\\python310\\site-packages (2.0.1)\n"
     ]
    }
   ],
   "source": [
    "! pip install xlrd"
   ]
  },
  {
   "cell_type": "code",
   "execution_count": 27,
   "metadata": {},
   "outputs": [
    {
     "data": {
      "text/html": [
       "<div>\n",
       "<style scoped>\n",
       "    .dataframe tbody tr th:only-of-type {\n",
       "        vertical-align: middle;\n",
       "    }\n",
       "\n",
       "    .dataframe tbody tr th {\n",
       "        vertical-align: top;\n",
       "    }\n",
       "\n",
       "    .dataframe thead th {\n",
       "        text-align: right;\n",
       "    }\n",
       "</style>\n",
       "<table border=\"1\" class=\"dataframe\">\n",
       "  <thead>\n",
       "    <tr style=\"text-align: right;\">\n",
       "      <th></th>\n",
       "      <th>58PDI1202.PV</th>\n",
       "      <th>58TI3246.PV</th>\n",
       "      <th>58PIC3226A.PV</th>\n",
       "      <th>58HIC3225.MV</th>\n",
       "      <th>58ZI3225.PV</th>\n",
       "      <th>58PI3239.PV</th>\n",
       "      <th>58TI3230.PV</th>\n",
       "      <th>58TI3231.PV</th>\n",
       "      <th>58PI3209.PV</th>\n",
       "      <th>58TI3208.PV</th>\n",
       "      <th>...</th>\n",
       "      <th>58VI3118B.PV</th>\n",
       "      <th>58TI3113.PV</th>\n",
       "      <th>58VI3233A.PV</th>\n",
       "      <th>58VI3233B.PV</th>\n",
       "      <th>58TI3232.PV</th>\n",
       "      <th>58TI3234.PV</th>\n",
       "      <th>58TI3414.PV</th>\n",
       "      <th>58PI3314.PV</th>\n",
       "      <th>58PI3107.PV</th>\n",
       "      <th>58LI3403.PV</th>\n",
       "    </tr>\n",
       "    <tr>\n",
       "      <th>DataSet</th>\n",
       "      <th></th>\n",
       "      <th></th>\n",
       "      <th></th>\n",
       "      <th></th>\n",
       "      <th></th>\n",
       "      <th></th>\n",
       "      <th></th>\n",
       "      <th></th>\n",
       "      <th></th>\n",
       "      <th></th>\n",
       "      <th></th>\n",
       "      <th></th>\n",
       "      <th></th>\n",
       "      <th></th>\n",
       "      <th></th>\n",
       "      <th></th>\n",
       "      <th></th>\n",
       "      <th></th>\n",
       "      <th></th>\n",
       "      <th></th>\n",
       "      <th></th>\n",
       "    </tr>\n",
       "  </thead>\n",
       "  <tbody>\n",
       "    <tr>\n",
       "      <th>357</th>\n",
       "      <td>0.417900</td>\n",
       "      <td>21.906485</td>\n",
       "      <td>742.446617</td>\n",
       "      <td>100.000000</td>\n",
       "      <td>98.135582</td>\n",
       "      <td>172.167233</td>\n",
       "      <td>141.893776</td>\n",
       "      <td>26.631714</td>\n",
       "      <td>350.079197</td>\n",
       "      <td>89.481161</td>\n",
       "      <td>...</td>\n",
       "      <td>21.617612</td>\n",
       "      <td>77.977305</td>\n",
       "      <td>32.956683</td>\n",
       "      <td>23.374474</td>\n",
       "      <td>72.428706</td>\n",
       "      <td>75.527024</td>\n",
       "      <td>48.825922</td>\n",
       "      <td>308.377885</td>\n",
       "      <td>1376.262293</td>\n",
       "      <td>97.599915</td>\n",
       "    </tr>\n",
       "    <tr>\n",
       "      <th>358</th>\n",
       "      <td>0.413038</td>\n",
       "      <td>21.810886</td>\n",
       "      <td>744.036934</td>\n",
       "      <td>98.532622</td>\n",
       "      <td>96.568374</td>\n",
       "      <td>170.543044</td>\n",
       "      <td>140.923352</td>\n",
       "      <td>25.753180</td>\n",
       "      <td>350.534565</td>\n",
       "      <td>88.437523</td>\n",
       "      <td>...</td>\n",
       "      <td>21.612922</td>\n",
       "      <td>78.115580</td>\n",
       "      <td>32.534028</td>\n",
       "      <td>23.066221</td>\n",
       "      <td>72.323298</td>\n",
       "      <td>75.503428</td>\n",
       "      <td>48.740631</td>\n",
       "      <td>308.447259</td>\n",
       "      <td>1376.815791</td>\n",
       "      <td>97.612499</td>\n",
       "    </tr>\n",
       "    <tr>\n",
       "      <th>359</th>\n",
       "      <td>0.412242</td>\n",
       "      <td>22.447401</td>\n",
       "      <td>742.658379</td>\n",
       "      <td>98.102481</td>\n",
       "      <td>96.058097</td>\n",
       "      <td>170.685373</td>\n",
       "      <td>141.362452</td>\n",
       "      <td>26.542145</td>\n",
       "      <td>349.689487</td>\n",
       "      <td>89.512813</td>\n",
       "      <td>...</td>\n",
       "      <td>20.940189</td>\n",
       "      <td>78.215232</td>\n",
       "      <td>31.742753</td>\n",
       "      <td>23.535592</td>\n",
       "      <td>72.422764</td>\n",
       "      <td>75.652748</td>\n",
       "      <td>49.022467</td>\n",
       "      <td>307.543480</td>\n",
       "      <td>1374.631409</td>\n",
       "      <td>97.794789</td>\n",
       "    </tr>\n",
       "    <tr>\n",
       "      <th>360</th>\n",
       "      <td>0.404231</td>\n",
       "      <td>25.431213</td>\n",
       "      <td>737.865039</td>\n",
       "      <td>98.092545</td>\n",
       "      <td>95.937002</td>\n",
       "      <td>169.017293</td>\n",
       "      <td>144.363678</td>\n",
       "      <td>28.250509</td>\n",
       "      <td>346.329617</td>\n",
       "      <td>91.387617</td>\n",
       "      <td>...</td>\n",
       "      <td>19.476514</td>\n",
       "      <td>78.419660</td>\n",
       "      <td>28.084825</td>\n",
       "      <td>22.591800</td>\n",
       "      <td>72.659777</td>\n",
       "      <td>76.013900</td>\n",
       "      <td>49.750210</td>\n",
       "      <td>305.545286</td>\n",
       "      <td>1369.404714</td>\n",
       "      <td>98.201110</td>\n",
       "    </tr>\n",
       "    <tr>\n",
       "      <th>361</th>\n",
       "      <td>NaN</td>\n",
       "      <td>NaN</td>\n",
       "      <td>NaN</td>\n",
       "      <td>NaN</td>\n",
       "      <td>NaN</td>\n",
       "      <td>NaN</td>\n",
       "      <td>NaN</td>\n",
       "      <td>NaN</td>\n",
       "      <td>NaN</td>\n",
       "      <td>NaN</td>\n",
       "      <td>...</td>\n",
       "      <td>NaN</td>\n",
       "      <td>NaN</td>\n",
       "      <td>NaN</td>\n",
       "      <td>NaN</td>\n",
       "      <td>NaN</td>\n",
       "      <td>NaN</td>\n",
       "      <td>NaN</td>\n",
       "      <td>NaN</td>\n",
       "      <td>NaN</td>\n",
       "      <td>NaN</td>\n",
       "    </tr>\n",
       "  </tbody>\n",
       "</table>\n",
       "<p>5 rows × 109 columns</p>\n",
       "</div>"
      ],
      "text/plain": [
       "         58PDI1202.PV  58TI3246.PV  58PIC3226A.PV  58HIC3225.MV  58ZI3225.PV  \\\n",
       "DataSet                                                                        \n",
       "357          0.417900    21.906485     742.446617    100.000000    98.135582   \n",
       "358          0.413038    21.810886     744.036934     98.532622    96.568374   \n",
       "359          0.412242    22.447401     742.658379     98.102481    96.058097   \n",
       "360          0.404231    25.431213     737.865039     98.092545    95.937002   \n",
       "361               NaN          NaN            NaN           NaN          NaN   \n",
       "\n",
       "         58PI3239.PV  58TI3230.PV  58TI3231.PV  58PI3209.PV  58TI3208.PV  ...  \\\n",
       "DataSet                                                                   ...   \n",
       "357       172.167233   141.893776    26.631714   350.079197    89.481161  ...   \n",
       "358       170.543044   140.923352    25.753180   350.534565    88.437523  ...   \n",
       "359       170.685373   141.362452    26.542145   349.689487    89.512813  ...   \n",
       "360       169.017293   144.363678    28.250509   346.329617    91.387617  ...   \n",
       "361              NaN          NaN          NaN          NaN          NaN  ...   \n",
       "\n",
       "         58VI3118B.PV  58TI3113.PV  58VI3233A.PV  58VI3233B.PV  58TI3232.PV  \\\n",
       "DataSet                                                                       \n",
       "357         21.617612    77.977305     32.956683     23.374474    72.428706   \n",
       "358         21.612922    78.115580     32.534028     23.066221    72.323298   \n",
       "359         20.940189    78.215232     31.742753     23.535592    72.422764   \n",
       "360         19.476514    78.419660     28.084825     22.591800    72.659777   \n",
       "361               NaN          NaN           NaN           NaN          NaN   \n",
       "\n",
       "         58TI3234.PV  58TI3414.PV  58PI3314.PV  58PI3107.PV  58LI3403.PV  \n",
       "DataSet                                                                   \n",
       "357        75.527024    48.825922   308.377885  1376.262293    97.599915  \n",
       "358        75.503428    48.740631   308.447259  1376.815791    97.612499  \n",
       "359        75.652748    49.022467   307.543480  1374.631409    97.794789  \n",
       "360        76.013900    49.750210   305.545286  1369.404714    98.201110  \n",
       "361              NaN          NaN          NaN          NaN          NaN  \n",
       "\n",
       "[5 rows x 109 columns]"
      ]
     },
     "execution_count": 27,
     "metadata": {},
     "output_type": "execute_result"
    }
   ],
   "source": [
    "a = pd.read_excel('PCA Analysis 1.xlsm',1)\n",
    "dff = pd.DataFrame(a, index = a['DataSet'])\n",
    "dff = dff.drop(['DataSet'], axis = 1)\n",
    "dff.tail()"
   ]
  },
  {
   "cell_type": "code",
   "execution_count": 28,
   "metadata": {},
   "outputs": [
    {
     "data": {
      "text/plain": [
       "58PDI1202.PV     1\n",
       "58TI3246.PV      1\n",
       "58PIC3226A.PV    1\n",
       "58HIC3225.MV     1\n",
       "58ZI3225.PV      1\n",
       "                ..\n",
       "58TI3234.PV      1\n",
       "58TI3414.PV      1\n",
       "58PI3314.PV      1\n",
       "58PI3107.PV      1\n",
       "58LI3403.PV      1\n",
       "Length: 109, dtype: int64"
      ]
     },
     "execution_count": 28,
     "metadata": {},
     "output_type": "execute_result"
    }
   ],
   "source": [
    "dff \n",
    "dff.isna().sum()"
   ]
  },
  {
   "cell_type": "code",
   "execution_count": 29,
   "metadata": {},
   "outputs": [
    {
     "ename": "ValueError",
     "evalue": "Input X contains NaN.\nPCA does not accept missing values encoded as NaN natively. For supervised learning, you might want to consider sklearn.ensemble.HistGradientBoostingClassifier and Regressor which accept missing values encoded as NaNs natively. Alternatively, it is possible to preprocess the data, for instance by using an imputer transformer in a pipeline or drop samples with missing values. See https://scikit-learn.org/stable/modules/impute.html You can find a list of all estimators that handle NaN values at the following page: https://scikit-learn.org/stable/modules/impute.html#estimators-that-handle-nan-values",
     "output_type": "error",
     "traceback": [
      "\u001b[1;31m---------------------------------------------------------------------------\u001b[0m",
      "\u001b[1;31mValueError\u001b[0m                                Traceback (most recent call last)",
      "\u001b[1;32mg:\\My Drive\\PCA TEST\\test.ipynb Cell 28'\u001b[0m in \u001b[0;36m<cell line: 10>\u001b[1;34m()\u001b[0m\n\u001b[0;32m      <a href='vscode-notebook-cell:/g%3A/My%20Drive/PCA%20TEST/test.ipynb#ch0000027?line=7'>8</a>\u001b[0m pca \u001b[39m=\u001b[39m sklearn\u001b[39m.\u001b[39mdecomposition\u001b[39m.\u001b[39mPCA()\n\u001b[0;32m      <a href='vscode-notebook-cell:/g%3A/My%20Drive/PCA%20TEST/test.ipynb#ch0000027?line=8'>9</a>\u001b[0m scaled_d \u001b[39m=\u001b[39m preprocessing\u001b[39m.\u001b[39mscale(dff)\n\u001b[1;32m---> <a href='vscode-notebook-cell:/g%3A/My%20Drive/PCA%20TEST/test.ipynb#ch0000027?line=9'>10</a>\u001b[0m pca\u001b[39m.\u001b[39;49mfit(scaled_d)\n\u001b[0;32m     <a href='vscode-notebook-cell:/g%3A/My%20Drive/PCA%20TEST/test.ipynb#ch0000027?line=10'>11</a>\u001b[0m pca_data \u001b[39m=\u001b[39m pca\u001b[39m.\u001b[39mtransform(scaled_d)\n\u001b[0;32m     <a href='vscode-notebook-cell:/g%3A/My%20Drive/PCA%20TEST/test.ipynb#ch0000027?line=11'>12</a>\u001b[0m pca_data\n",
      "File \u001b[1;32m~\\AppData\\Local\\Packages\\PythonSoftwareFoundation.Python.3.10_qbz5n2kfra8p0\\LocalCache\\local-packages\\Python310\\site-packages\\sklearn\\decomposition\\_pca.py:408\u001b[0m, in \u001b[0;36mPCA.fit\u001b[1;34m(self, X, y)\u001b[0m\n\u001b[0;32m    385\u001b[0m \u001b[39m\"\"\"Fit the model with X.\u001b[39;00m\n\u001b[0;32m    386\u001b[0m \n\u001b[0;32m    387\u001b[0m \u001b[39mParameters\u001b[39;00m\n\u001b[1;32m   (...)\u001b[0m\n\u001b[0;32m    399\u001b[0m \u001b[39m    Returns the instance itself.\u001b[39;00m\n\u001b[0;32m    400\u001b[0m \u001b[39m\"\"\"\u001b[39;00m\n\u001b[0;32m    401\u001b[0m check_scalar(\n\u001b[0;32m    402\u001b[0m     \u001b[39mself\u001b[39m\u001b[39m.\u001b[39mn_oversamples,\n\u001b[0;32m    403\u001b[0m     \u001b[39m\"\u001b[39m\u001b[39mn_oversamples\u001b[39m\u001b[39m\"\u001b[39m,\n\u001b[0;32m    404\u001b[0m     min_val\u001b[39m=\u001b[39m\u001b[39m1\u001b[39m,\n\u001b[0;32m    405\u001b[0m     target_type\u001b[39m=\u001b[39mnumbers\u001b[39m.\u001b[39mIntegral,\n\u001b[0;32m    406\u001b[0m )\n\u001b[1;32m--> 408\u001b[0m \u001b[39mself\u001b[39;49m\u001b[39m.\u001b[39;49m_fit(X)\n\u001b[0;32m    409\u001b[0m \u001b[39mreturn\u001b[39;00m \u001b[39mself\u001b[39m\n",
      "File \u001b[1;32m~\\AppData\\Local\\Packages\\PythonSoftwareFoundation.Python.3.10_qbz5n2kfra8p0\\LocalCache\\local-packages\\Python310\\site-packages\\sklearn\\decomposition\\_pca.py:456\u001b[0m, in \u001b[0;36mPCA._fit\u001b[1;34m(self, X)\u001b[0m\n\u001b[0;32m    450\u001b[0m \u001b[39mif\u001b[39;00m issparse(X):\n\u001b[0;32m    451\u001b[0m     \u001b[39mraise\u001b[39;00m \u001b[39mTypeError\u001b[39;00m(\n\u001b[0;32m    452\u001b[0m         \u001b[39m\"\u001b[39m\u001b[39mPCA does not support sparse input. See \u001b[39m\u001b[39m\"\u001b[39m\n\u001b[0;32m    453\u001b[0m         \u001b[39m\"\u001b[39m\u001b[39mTruncatedSVD for a possible alternative.\u001b[39m\u001b[39m\"\u001b[39m\n\u001b[0;32m    454\u001b[0m     )\n\u001b[1;32m--> 456\u001b[0m X \u001b[39m=\u001b[39m \u001b[39mself\u001b[39;49m\u001b[39m.\u001b[39;49m_validate_data(\n\u001b[0;32m    457\u001b[0m     X, dtype\u001b[39m=\u001b[39;49m[np\u001b[39m.\u001b[39;49mfloat64, np\u001b[39m.\u001b[39;49mfloat32], ensure_2d\u001b[39m=\u001b[39;49m\u001b[39mTrue\u001b[39;49;00m, copy\u001b[39m=\u001b[39;49m\u001b[39mself\u001b[39;49m\u001b[39m.\u001b[39;49mcopy\n\u001b[0;32m    458\u001b[0m )\n\u001b[0;32m    460\u001b[0m \u001b[39m# Handle n_components==None\u001b[39;00m\n\u001b[0;32m    461\u001b[0m \u001b[39mif\u001b[39;00m \u001b[39mself\u001b[39m\u001b[39m.\u001b[39mn_components \u001b[39mis\u001b[39;00m \u001b[39mNone\u001b[39;00m:\n",
      "File \u001b[1;32m~\\AppData\\Local\\Packages\\PythonSoftwareFoundation.Python.3.10_qbz5n2kfra8p0\\LocalCache\\local-packages\\Python310\\site-packages\\sklearn\\base.py:577\u001b[0m, in \u001b[0;36mBaseEstimator._validate_data\u001b[1;34m(self, X, y, reset, validate_separately, **check_params)\u001b[0m\n\u001b[0;32m    575\u001b[0m     \u001b[39mraise\u001b[39;00m \u001b[39mValueError\u001b[39;00m(\u001b[39m\"\u001b[39m\u001b[39mValidation should be done on X, y or both.\u001b[39m\u001b[39m\"\u001b[39m)\n\u001b[0;32m    576\u001b[0m \u001b[39melif\u001b[39;00m \u001b[39mnot\u001b[39;00m no_val_X \u001b[39mand\u001b[39;00m no_val_y:\n\u001b[1;32m--> 577\u001b[0m     X \u001b[39m=\u001b[39m check_array(X, input_name\u001b[39m=\u001b[39m\u001b[39m\"\u001b[39m\u001b[39mX\u001b[39m\u001b[39m\"\u001b[39m, \u001b[39m*\u001b[39m\u001b[39m*\u001b[39mcheck_params)\n\u001b[0;32m    578\u001b[0m     out \u001b[39m=\u001b[39m X\n\u001b[0;32m    579\u001b[0m \u001b[39melif\u001b[39;00m no_val_X \u001b[39mand\u001b[39;00m \u001b[39mnot\u001b[39;00m no_val_y:\n",
      "File \u001b[1;32m~\\AppData\\Local\\Packages\\PythonSoftwareFoundation.Python.3.10_qbz5n2kfra8p0\\LocalCache\\local-packages\\Python310\\site-packages\\sklearn\\utils\\validation.py:899\u001b[0m, in \u001b[0;36mcheck_array\u001b[1;34m(array, accept_sparse, accept_large_sparse, dtype, order, copy, force_all_finite, ensure_2d, allow_nd, ensure_min_samples, ensure_min_features, estimator, input_name)\u001b[0m\n\u001b[0;32m    893\u001b[0m         \u001b[39mraise\u001b[39;00m \u001b[39mValueError\u001b[39;00m(\n\u001b[0;32m    894\u001b[0m             \u001b[39m\"\u001b[39m\u001b[39mFound array with dim \u001b[39m\u001b[39m%d\u001b[39;00m\u001b[39m. \u001b[39m\u001b[39m%s\u001b[39;00m\u001b[39m expected <= 2.\u001b[39m\u001b[39m\"\u001b[39m\n\u001b[0;32m    895\u001b[0m             \u001b[39m%\u001b[39m (array\u001b[39m.\u001b[39mndim, estimator_name)\n\u001b[0;32m    896\u001b[0m         )\n\u001b[0;32m    898\u001b[0m     \u001b[39mif\u001b[39;00m force_all_finite:\n\u001b[1;32m--> 899\u001b[0m         _assert_all_finite(\n\u001b[0;32m    900\u001b[0m             array,\n\u001b[0;32m    901\u001b[0m             input_name\u001b[39m=\u001b[39;49minput_name,\n\u001b[0;32m    902\u001b[0m             estimator_name\u001b[39m=\u001b[39;49mestimator_name,\n\u001b[0;32m    903\u001b[0m             allow_nan\u001b[39m=\u001b[39;49mforce_all_finite \u001b[39m==\u001b[39;49m \u001b[39m\"\u001b[39;49m\u001b[39mallow-nan\u001b[39;49m\u001b[39m\"\u001b[39;49m,\n\u001b[0;32m    904\u001b[0m         )\n\u001b[0;32m    906\u001b[0m \u001b[39mif\u001b[39;00m ensure_min_samples \u001b[39m>\u001b[39m \u001b[39m0\u001b[39m:\n\u001b[0;32m    907\u001b[0m     n_samples \u001b[39m=\u001b[39m _num_samples(array)\n",
      "File \u001b[1;32m~\\AppData\\Local\\Packages\\PythonSoftwareFoundation.Python.3.10_qbz5n2kfra8p0\\LocalCache\\local-packages\\Python310\\site-packages\\sklearn\\utils\\validation.py:146\u001b[0m, in \u001b[0;36m_assert_all_finite\u001b[1;34m(X, allow_nan, msg_dtype, estimator_name, input_name)\u001b[0m\n\u001b[0;32m    124\u001b[0m         \u001b[39mif\u001b[39;00m (\n\u001b[0;32m    125\u001b[0m             \u001b[39mnot\u001b[39;00m allow_nan\n\u001b[0;32m    126\u001b[0m             \u001b[39mand\u001b[39;00m estimator_name\n\u001b[1;32m   (...)\u001b[0m\n\u001b[0;32m    130\u001b[0m             \u001b[39m# Improve the error message on how to handle missing values in\u001b[39;00m\n\u001b[0;32m    131\u001b[0m             \u001b[39m# scikit-learn.\u001b[39;00m\n\u001b[0;32m    132\u001b[0m             msg_err \u001b[39m+\u001b[39m\u001b[39m=\u001b[39m (\n\u001b[0;32m    133\u001b[0m                 \u001b[39mf\u001b[39m\u001b[39m\"\u001b[39m\u001b[39m\\n\u001b[39;00m\u001b[39m{\u001b[39;00mestimator_name\u001b[39m}\u001b[39;00m\u001b[39m does not accept missing values\u001b[39m\u001b[39m\"\u001b[39m\n\u001b[0;32m    134\u001b[0m                 \u001b[39m\"\u001b[39m\u001b[39m encoded as NaN natively. For supervised learning, you might want\u001b[39m\u001b[39m\"\u001b[39m\n\u001b[1;32m   (...)\u001b[0m\n\u001b[0;32m    144\u001b[0m                 \u001b[39m\"\u001b[39m\u001b[39m#estimators-that-handle-nan-values\u001b[39m\u001b[39m\"\u001b[39m\n\u001b[0;32m    145\u001b[0m             )\n\u001b[1;32m--> 146\u001b[0m         \u001b[39mraise\u001b[39;00m \u001b[39mValueError\u001b[39;00m(msg_err)\n\u001b[0;32m    148\u001b[0m \u001b[39m# for object dtype data, we only check for NaNs (GH-13254)\u001b[39;00m\n\u001b[0;32m    149\u001b[0m \u001b[39melif\u001b[39;00m X\u001b[39m.\u001b[39mdtype \u001b[39m==\u001b[39m np\u001b[39m.\u001b[39mdtype(\u001b[39m\"\u001b[39m\u001b[39mobject\u001b[39m\u001b[39m\"\u001b[39m) \u001b[39mand\u001b[39;00m \u001b[39mnot\u001b[39;00m allow_nan:\n",
      "\u001b[1;31mValueError\u001b[0m: Input X contains NaN.\nPCA does not accept missing values encoded as NaN natively. For supervised learning, you might want to consider sklearn.ensemble.HistGradientBoostingClassifier and Regressor which accept missing values encoded as NaNs natively. Alternatively, it is possible to preprocess the data, for instance by using an imputer transformer in a pipeline or drop samples with missing values. See https://scikit-learn.org/stable/modules/impute.html You can find a list of all estimators that handle NaN values at the following page: https://scikit-learn.org/stable/modules/impute.html#estimators-that-handle-nan-values"
     ]
    }
   ],
   "source": [
    "# scaling the data\n",
    "from sklearn import preprocessing\n",
    "import pandas as pd\n",
    "import numpy as np\n",
    "# scaling the data\n",
    "from sklearn import preprocessing\n",
    "import sklearn\n",
    "pca = sklearn.decomposition.PCA()\n",
    "scaled_d = preprocessing.scale(dff)\n",
    "pca.fit(scaled_d)\n",
    "pca_data = pca.transform(scaled_d)\n",
    "pca_data"
   ]
  },
  {
   "cell_type": "code",
   "execution_count": null,
   "metadata": {},
   "outputs": [
    {
     "data": {
      "text/plain": [
       "<AxesSubplot:>"
      ]
     },
     "execution_count": 265,
     "metadata": {},
     "output_type": "execute_result"
    },
    {
     "data": {
      "image/png": "[encoded data removed]",
      "text/plain": [
       "<Figure size 1440x1440 with 2 Axes>"
      ]
     },
     "metadata": {},
     "output_type": "display_data"
    }
   ],
   "source": [
    "a = np.cov(dff)\n",
    "sns.heatmap(a)"
   ]
  },
  {
   "cell_type": "code",
   "execution_count": null,
   "metadata": {},
   "outputs": [
    {
     "data": {
      "application/vnd.plotly.v1+json": {
       "config": {
        "plotlyServerURL": "https://plot.ly"
       },
       "data": [
        {
         "alignmentgroup": "True",
         "hovertemplate": "variable=0<br>index=%{x}<br>value=%{y}<extra></extra>",
         "legendgroup": "0",
         "marker": {
          "color": "#636efa",
          "pattern": {
           "shape": ""
          }
         },
         "name": "0",
         "offsetgroup": "0",
         "orientation": "v",
         "showlegend": true,
         "textposition": "auto",
         "type": "bar",
         "x": [
          0,
          1,
          2,
          3,
          4,
          5,
          6,
          7,
          8,
          9,
          10,
          11,
          12,
          13,
          14,
          15,
          16,
          17,
          18,
          19,
          20,
          21,
          22,
          23,
          24,
          25,
          26,
          27,
          28,
          29,
          30,
          31,
          32,
          33,
          34,
          35,
          36,
          37,
          38,
          39,
          40,
          41,
          42,
          43,
          44,
          45,
          46,
          47,
          48,
          49,
          50,
          51,
          52,
          53,
          54,
          55,
          56,
          57,
          58,
          59,
          60,
          61,
          62,
          63,
          64,
          65,
          66,
          67,
          68,
          69,
          70,
          71,
          72,
          73,
          74,
          75,
          76,
          77,
          78,
          79,
          80,
          81,
          82,
          83,
          84,
          85,
          86,
          87,
          88,
          89,
          90,
          91,
          92,
          93,
          94,
          95,
          96,
          97,
          98,
          99,
          100,
          101,
          102,
          103,
          104,
          105,
          106,
          107,
          108
         ],
         "xaxis": "x",
         "y": [
          80.25574409661529,
          4.438200536744477,
          3.397198763228473,
          2.4026738718286067,
          2.088601190030234,
          1.5149635508674841,
          1.280476531723917,
          0.7731984654288957,
          0.6999738899446001,
          0.49055076276974363,
          0.363085282512087,
          0.3444907554476476,
          0.30057827913701346,
          0.21656468959858824,
          0.16904576415291794,
          0.15463566414936564,
          0.13512841348245005,
          0.11321468844103037,
          0.1042904253028918,
          0.08781691020689984,
          0.08282467305723952,
          0.06682860014344584,
          0.06269324982761366,
          0.043547740692493876,
          0.03858924993100949,
          0.03768687705223422,
          0.031710087236996407,
          0.028049754630967844,
          0.023331955698047798,
          0.02141118323882914,
          0.02012398556782564,
          0.019288761446377093,
          0.01822416402877875,
          0.01732025762597668,
          0.01620220250491284,
          0.014421013404303573,
          0.013181767346825843,
          0.012175964385493912,
          0.009843982359920159,
          0.00953036323316203,
          0.00837770774374963,
          0.00732371783318401,
          0.00651804837586098,
          0.006227184178115902,
          0.005517007731736609,
          0.005186716245328716,
          0.004238288735312134,
          0.004098502430391649,
          0.0035714376852450515,
          0.003145531110545972,
          0.0029487965954657237,
          0.0028103169742239873,
          0.00259465041902821,
          0.002062566981915705,
          0.0019304020396929392,
          0.001752046785704343,
          0.0013764240197192985,
          0.0013236929579558065,
          0.001219842944653486,
          0.001061674834932808,
          0.0009810412465253377,
          0.000881647823081737,
          0.0008603027923189287,
          0.0007117079740074512,
          0.0006619123807497822,
          0.0005606828679756722,
          0.0004967626719116563,
          0.000487650682610441,
          0.0004329394125143206,
          0.000348813907643264,
          0.00032103892994607305,
          0.00027673335878532,
          0.00025342328666199196,
          0.00021320196011906522,
          0.0001944287972786561,
          0.00018190604276165095,
          0.00015527551578603283,
          0.00014116960290816942,
          0.00012642590103658,
          0.00012453377113068824,
          0.00010533602054560924,
          0.00009835637283447792,
          0.0000840558601213975,
          0.00007374034283505015,
          0.00006660822244774547,
          0.00006276971812742623,
          0.0000550368269886909,
          0.000041664943826437225,
          0.00004099890681189067,
          0.000037601485813348956,
          0.00003519570797569536,
          0.00003394718532225697,
          0.000031163194102382624,
          0.000022141532322200097,
          0.000021061924956684166,
          0.00001754516548745467,
          0.000015041297303769897,
          0.000013525167244375765,
          0.000011178245593170685,
          0.000005920965137714008,
          0.000004483739362163376,
          0.0000035071940870596886,
          0.0000032649256296380055,
          0.0000013344705313668813,
          1.0764224949303265e-11,
          1.394928054781925e-13,
          9.468555569509114e-14,
          7.16513896689899e-31,
          7.165138966898979e-31
         ],
         "yaxis": "y"
        }
       ],
       "layout": {
        "barmode": "relative",
        "legend": {
         "title": {
          "text": "variable"
         },
         "tracegroupgap": 0
        },
        "margin": {
         "t": 60
        },
        "template": {
         "data": {
          "bar": [
           {
            "error_x": {
             "color": "#2a3f5f"
            },
            "error_y": {
             "color": "#2a3f5f"
            },
            "marker": {
             "line": {
              "color": "#E5ECF6",
              "width": 0.5
             },
             "pattern": {
              "fillmode": "overlay",
              "size": 10,
              "solidity": 0.2
             }
            },
            "type": "bar"
           }
          ],
          "barpolar": [
           {
            "marker": {
             "line": {
              "color": "#E5ECF6",
              "width": 0.5
             },
             "pattern": {
              "fillmode": "overlay",
              "size": 10,
              "solidity": 0.2
             }
            },
            "type": "barpolar"
           }
          ],
          "carpet": [
           {
            "aaxis": {
             "endlinecolor": "#2a3f5f",
             "gridcolor": "white",
             "linecolor": "white",
             "minorgridcolor": "white",
             "startlinecolor": "#2a3f5f"
            },
            "baxis": {
             "endlinecolor": "#2a3f5f",
             "gridcolor": "white",
             "linecolor": "white",
             "minorgridcolor": "white",
             "startlinecolor": "#2a3f5f"
            },
            "type": "carpet"
           }
          ],
          "choropleth": [
           {
            "colorbar": {
             "outlinewidth": 0,
             "ticks": ""
            },
            "type": "choropleth"
           }
          ],
          "contour": [
           {
            "colorbar": {
             "outlinewidth": 0,
             "ticks": ""
            },
            "colorscale": [
             [
              0,
              "#0d0887"
             ],
             [
              0.1111111111111111,
              "#46039f"
             ],
             [
              0.2222222222222222,
              "#7201a8"
             ],
             [
              0.3333333333333333,
              "#9c179e"
             ],
             [
              0.4444444444444444,
              "#bd3786"
             ],
             [
              0.5555555555555556,
              "#d8576b"
             ],
             [
              0.6666666666666666,
              "#ed7953"
             ],
             [
              0.7777777777777778,
              "#fb9f3a"
             ],
             [
              0.8888888888888888,
              "#fdca26"
             ],
             [
              1,
              "#f0f921"
             ]
            ],
            "type": "contour"
           }
          ],
          "contourcarpet": [
           {
            "colorbar": {
             "outlinewidth": 0,
             "ticks": ""
            },
            "type": "contourcarpet"
           }
          ],
          "heatmap": [
           {
            "colorbar": {
             "outlinewidth": 0,
             "ticks": ""
            },
            "colorscale": [
             [
              0,
              "#0d0887"
             ],
             [
              0.1111111111111111,
              "#46039f"
             ],
             [
              0.2222222222222222,
              "#7201a8"
             ],
             [
              0.3333333333333333,
              "#9c179e"
             ],
             [
              0.4444444444444444,
              "#bd3786"
             ],
             [
              0.5555555555555556,
              "#d8576b"
             ],
             [
              0.6666666666666666,
              "#ed7953"
             ],
             [
              0.7777777777777778,
              "#fb9f3a"
             ],
             [
              0.8888888888888888,
              "#fdca26"
             ],
             [
              1,
              "#f0f921"
             ]
            ],
            "type": "heatmap"
           }
          ],
          "heatmapgl": [
           {
            "colorbar": {
             "outlinewidth": 0,
             "ticks": ""
            },
            "colorscale": [
             [
              0,
              "#0d0887"
             ],
             [
              0.1111111111111111,
              "#46039f"
             ],
             [
              0.2222222222222222,
              "#7201a8"
             ],
             [
              0.3333333333333333,
              "#9c179e"
             ],
             [
              0.4444444444444444,
              "#bd3786"
             ],
             [
              0.5555555555555556,
              "#d8576b"
             ],
             [
              0.6666666666666666,
              "#ed7953"
             ],
             [
              0.7777777777777778,
              "#fb9f3a"
             ],
             [
              0.8888888888888888,
              "#fdca26"
             ],
             [
              1,
              "#f0f921"
             ]
            ],
            "type": "heatmapgl"
           }
          ],
          "histogram": [
           {
            "marker": {
             "pattern": {
              "fillmode": "overlay",
              "size": 10,
              "solidity": 0.2
             }
            },
            "type": "histogram"
           }
          ],
          "histogram2d": [
           {
            "colorbar": {
             "outlinewidth": 0,
             "ticks": ""
            },
            "colorscale": [
             [
              0,
              "#0d0887"
             ],
             [
              0.1111111111111111,
              "#46039f"
             ],
             [
              0.2222222222222222,
              "#7201a8"
             ],
             [
              0.3333333333333333,
              "#9c179e"
             ],
             [
              0.4444444444444444,
              "#bd3786"
             ],
             [
              0.5555555555555556,
              "#d8576b"
             ],
             [
              0.6666666666666666,
              "#ed7953"
             ],
             [
              0.7777777777777778,
              "#fb9f3a"
             ],
             [
              0.8888888888888888,
              "#fdca26"
             ],
             [
              1,
              "#f0f921"
             ]
            ],
            "type": "histogram2d"
           }
          ],
          "histogram2dcontour": [
           {
            "colorbar": {
             "outlinewidth": 0,
             "ticks": ""
            },
            "colorscale": [
             [
              0,
              "#0d0887"
             ],
             [
              0.1111111111111111,
              "#46039f"
             ],
             [
              0.2222222222222222,
              "#7201a8"
             ],
             [
              0.3333333333333333,
              "#9c179e"
             ],
             [
              0.4444444444444444,
              "#bd3786"
             ],
             [
              0.5555555555555556,
              "#d8576b"
             ],
             [
              0.6666666666666666,
              "#ed7953"
             ],
             [
              0.7777777777777778,
              "#fb9f3a"
             ],
             [
              0.8888888888888888,
              "#fdca26"
             ],
             [
              1,
              "#f0f921"
             ]
            ],
            "type": "histogram2dcontour"
           }
          ],
          "mesh3d": [
           {
            "colorbar": {
             "outlinewidth": 0,
             "ticks": ""
            },
            "type": "mesh3d"
           }
          ],
          "parcoords": [
           {
            "line": {
             "colorbar": {
              "outlinewidth": 0,
              "ticks": ""
             }
            },
            "type": "parcoords"
           }
          ],
          "pie": [
           {
            "automargin": true,
            "type": "pie"
           }
          ],
          "scatter": [
           {
            "fillpattern": {
             "fillmode": "overlay",
             "size": 10,
             "solidity": 0.2
            },
            "type": "scatter"
           }
          ],
          "scatter3d": [
           {
            "line": {
             "colorbar": {
              "outlinewidth": 0,
              "ticks": ""
             }
            },
            "marker": {
             "colorbar": {
              "outlinewidth": 0,
              "ticks": ""
             }
            },
            "type": "scatter3d"
           }
          ],
          "scattercarpet": [
           {
            "marker": {
             "colorbar": {
              "outlinewidth": 0,
              "ticks": ""
             }
            },
            "type": "scattercarpet"
           }
          ],
          "scattergeo": [
           {
            "marker": {
             "colorbar": {
              "outlinewidth": 0,
              "ticks": ""
             }
            },
            "type": "scattergeo"
           }
          ],
          "scattergl": [
           {
            "marker": {
             "colorbar": {
              "outlinewidth": 0,
              "ticks": ""
             }
            },
            "type": "scattergl"
           }
          ],
          "scattermapbox": [
           {
            "marker": {
             "colorbar": {
              "outlinewidth": 0,
              "ticks": ""
             }
            },
            "type": "scattermapbox"
           }
          ],
          "scatterpolar": [
           {
            "marker": {
             "colorbar": {
              "outlinewidth": 0,
              "ticks": ""
             }
            },
            "type": "scatterpolar"
           }
          ],
          "scatterpolargl": [
           {
            "marker": {
             "colorbar": {
              "outlinewidth": 0,
              "ticks": ""
             }
            },
            "type": "scatterpolargl"
           }
          ],
          "scatterternary": [
           {
            "marker": {
             "colorbar": {
              "outlinewidth": 0,
              "ticks": ""
             }
            },
            "type": "scatterternary"
           }
          ],
          "surface": [
           {
            "colorbar": {
             "outlinewidth": 0,
             "ticks": ""
            },
            "colorscale": [
             [
              0,
              "#0d0887"
             ],
             [
              0.1111111111111111,
              "#46039f"
             ],
             [
              0.2222222222222222,
              "#7201a8"
             ],
             [
              0.3333333333333333,
              "#9c179e"
             ],
             [
              0.4444444444444444,
              "#bd3786"
             ],
             [
              0.5555555555555556,
              "#d8576b"
             ],
             [
              0.6666666666666666,
              "#ed7953"
             ],
             [
              0.7777777777777778,
              "#fb9f3a"
             ],
             [
              0.8888888888888888,
              "#fdca26"
             ],
             [
              1,
              "#f0f921"
             ]
            ],
            "type": "surface"
           }
          ],
          "table": [
           {
            "cells": {
             "fill": {
              "color": "#EBF0F8"
             },
             "line": {
              "color": "white"
             }
            },
            "header": {
             "fill": {
              "color": "#C8D4E3"
             },
             "line": {
              "color": "white"
             }
            },
            "type": "table"
           }
          ]
         },
         "layout": {
          "annotationdefaults": {
           "arrowcolor": "#2a3f5f",
           "arrowhead": 0,
           "arrowwidth": 1
          },
          "autotypenumbers": "strict",
          "coloraxis": {
           "colorbar": {
            "outlinewidth": 0,
            "ticks": ""
           }
          },
          "colorscale": {
           "diverging": [
            [
             0,
             "#8e0152"
            ],
            [
             0.1,
             "#c51b7d"
            ],
            [
             0.2,
             "#de77ae"
            ],
            [
             0.3,
             "#f1b6da"
            ],
            [
             0.4,
             "#fde0ef"
            ],
            [
             0.5,
             "#f7f7f7"
            ],
            [
             0.6,
             "#e6f5d0"
            ],
            [
             0.7,
             "#b8e186"
            ],
            [
             0.8,
             "#7fbc41"
            ],
            [
             0.9,
             "#4d9221"
            ],
            [
             1,
             "#276419"
            ]
           ],
           "sequential": [
            [
             0,
             "#0d0887"
            ],
            [
             0.1111111111111111,
             "#46039f"
            ],
            [
             0.2222222222222222,
             "#7201a8"
            ],
            [
             0.3333333333333333,
             "#9c179e"
            ],
            [
             0.4444444444444444,
             "#bd3786"
            ],
            [
             0.5555555555555556,
             "#d8576b"
            ],
            [
             0.6666666666666666,
             "#ed7953"
            ],
            [
             0.7777777777777778,
             "#fb9f3a"
            ],
            [
             0.8888888888888888,
             "#fdca26"
            ],
            [
             1,
             "#f0f921"
            ]
           ],
           "sequentialminus": [
            [
             0,
             "#0d0887"
            ],
            [
             0.1111111111111111,
             "#46039f"
            ],
            [
             0.2222222222222222,
             "#7201a8"
            ],
            [
             0.3333333333333333,
             "#9c179e"
            ],
            [
             0.4444444444444444,
             "#bd3786"
            ],
            [
             0.5555555555555556,
             "#d8576b"
            ],
            [
             0.6666666666666666,
             "#ed7953"
            ],
            [
             0.7777777777777778,
             "#fb9f3a"
            ],
            [
             0.8888888888888888,
             "#fdca26"
            ],
            [
             1,
             "#f0f921"
            ]
           ]
          },
          "colorway": [
           "#636efa",
           "#EF553B",
           "#00cc96",
           "#ab63fa",
           "#FFA15A",
           "#19d3f3",
           "#FF6692",
           "#B6E880",
           "#FF97FF",
           "#FECB52"
          ],
          "font": {
           "color": "#2a3f5f"
          },
          "geo": {
           "bgcolor": "white",
           "lakecolor": "white",
           "landcolor": "#E5ECF6",
           "showlakes": true,
           "showland": true,
           "subunitcolor": "white"
          },
          "hoverlabel": {
           "align": "left"
          },
          "hovermode": "closest",
          "mapbox": {
           "style": "light"
          },
          "paper_bgcolor": "white",
          "plot_bgcolor": "#E5ECF6",
          "polar": {
           "angularaxis": {
            "gridcolor": "white",
            "linecolor": "white",
            "ticks": ""
           },
           "bgcolor": "#E5ECF6",
           "radialaxis": {
            "gridcolor": "white",
            "linecolor": "white",
            "ticks": ""
           }
          },
          "scene": {
           "xaxis": {
            "backgroundcolor": "#E5ECF6",
            "gridcolor": "white",
            "gridwidth": 2,
            "linecolor": "white",
            "showbackground": true,
            "ticks": "",
            "zerolinecolor": "white"
           },
           "yaxis": {
            "backgroundcolor": "#E5ECF6",
            "gridcolor": "white",
            "gridwidth": 2,
            "linecolor": "white",
            "showbackground": true,
            "ticks": "",
            "zerolinecolor": "white"
           },
           "zaxis": {
            "backgroundcolor": "#E5ECF6",
            "gridcolor": "white",
            "gridwidth": 2,
            "linecolor": "white",
            "showbackground": true,
            "ticks": "",
            "zerolinecolor": "white"
           }
          },
          "shapedefaults": {
           "line": {
            "color": "#2a3f5f"
           }
          },
          "ternary": {
           "aaxis": {
            "gridcolor": "white",
            "linecolor": "white",
            "ticks": ""
           },
           "baxis": {
            "gridcolor": "white",
            "linecolor": "white",
            "ticks": ""
           },
           "bgcolor": "#E5ECF6",
           "caxis": {
            "gridcolor": "white",
            "linecolor": "white",
            "ticks": ""
           }
          },
          "title": {
           "x": 0.05
          },
          "xaxis": {
           "automargin": true,
           "gridcolor": "white",
           "linecolor": "white",
           "ticks": "",
           "title": {
            "standoff": 15
           },
           "zerolinecolor": "white",
           "zerolinewidth": 2
          },
          "yaxis": {
           "automargin": true,
           "gridcolor": "white",
           "linecolor": "white",
           "ticks": "",
           "title": {
            "standoff": 15
           },
           "zerolinecolor": "white",
           "zerolinewidth": 2
          }
         }
        },
        "title": {
         "text": "Screeplot "
        },
        "xaxis": {
         "anchor": "y",
         "domain": [
          0,
          1
         ],
         "title": {
          "text": "Number of Components"
         }
        },
        "yaxis": {
         "anchor": "x",
         "domain": [
          0,
          1
         ],
         "title": {
          "text": "Variation Obsereved"
         }
        }
       }
      }
     },
     "metadata": {},
     "output_type": "display_data"
    }
   ],
   "source": [
    "per_ver = pca.explained_variance_ratio_*100\n",
    "per_ver\n",
    "\n",
    "fig  = px.bar(per_ver)\n",
    "fig.update_layout(\n",
    "\n",
    "    title=\"Screeplot \",\n",
    "    xaxis_title=\"Number of Components\",\n",
    "    yaxis_title=\"Variation Obsereved\",\n",
    "    \n",
    "\n",
    ")"
   ]
  },
  {
   "cell_type": "markdown",
   "metadata": {},
   "source": []
  },
  {
   "cell_type": "code",
   "execution_count": 30,
   "metadata": {},
   "outputs": [
    {
     "data": {
      "application/vnd.plotly.v1+json": {
       "config": {
        "plotlyServerURL": "https://plot.ly"
       },
       "data": [
        {
         "hovertemplate": "0=%{x}<br>1=%{y}<extra></extra>",
         "legendgroup": "",
         "marker": {
          "color": "#636efa",
          "symbol": "circle"
         },
         "mode": "markers",
         "name": "",
         "orientation": "v",
         "showlegend": false,
         "type": "scatter",
         "x": [
          -0.8318065049949498,
          1.3088482127515053,
          0.6956305174981583,
          -0.2680761475758278,
          -1.737865781782244,
          -0.3587312343358301,
          -0.2796242839092597,
          -1.6276457362368808,
          -2.50901810765547,
          -1.074846689191911,
          0.8069096294348224,
          2.7940537949978523,
          4.291075859691247,
          5.062257539392688,
          6.0312816262383215,
          5.983605706209238,
          5.8693631410674625,
          4.903208992909154,
          5.664060101531918,
          5.451188390750775,
          5.140048124439768,
          5.4704230746439455,
          5.53975727196165,
          5.108802110306889,
          -2.290739330640794,
          -3.482891284882328,
          -4.048864274017702,
          -4.190480231390941,
          -2.992475352187245,
          -1.7717824543715068,
          -2.12343954247392,
          -1.5786666284635307,
          0.5533086642864485,
          1.4382932487574571,
          1.5133587108508635,
          0.8847365581475622,
          -0.7916928141493865,
          -2.06726705565437,
          -3.225304702835851,
          -4.073522825047304,
          -4.7320619437938625,
          -6.844639341935551,
          -9.240705942607,
          -10.125044008470239,
          -11.396938397146261,
          -11.832900544805282,
          -11.91156962049594,
          -12.931937841792884,
          -14.159378361588528,
          -14.83477688324312,
          -14.82004527626506,
          -12.531220285566338,
          -8.814175953431137,
          -5.461054644121396,
          -3.7625798647619195,
          -3.002636121030801,
          -1.4650387835965508,
          0.1594274118039339,
          0.8565976509183635,
          1.506168203172381,
          1.1446910100815924,
          0.0520420796223812,
          -0.8172073481850939,
          -3.5397501004717684,
          -4.862514367732577,
          -5.905309735622602,
          -6.231141159311795,
          -6.32857474306207,
          -6.196946430969019,
          -6.17483092614425,
          -7.464732929932243,
          -7.1286097588518595,
          -7.13663889605511,
          -6.863519716122566,
          -6.584612210309935,
          -5.447860047849312,
          -1.3500223550868147,
          2.635838917396884,
          4.294533889715414,
          5.541606331276902,
          7.466184311040054,
          10.481715069997346,
          12.941115526191005,
          12.133886502976631,
          9.658164980100056,
          8.052286906421205,
          7.759719640119965,
          7.40693726166003,
          6.850980163014696,
          6.243688905449906,
          6.3628703365782195,
          5.887642082111461,
          6.855901178511744,
          6.604289049213147,
          5.86018190036766,
          5.35209823170477,
          6.274769336600268,
          6.13751893156642,
          5.707421900437132,
          7.346966492465243,
          9.596132048674047,
          12.741998655772143,
          14.87957723195172,
          14.479424035326963,
          13.363868518349799,
          13.582969971097674,
          14.759947037192834,
          14.282220570283593,
          12.093983544740265,
          11.936728001417903,
          12.886216965663646,
          13.103048156033964,
          12.812136684555785,
          10.618632452104347,
          9.617116720273362,
          8.676687801227605,
          8.322526484733984,
          6.702289674626786,
          6.602864029537121,
          7.017130713452774,
          7.930007551817618,
          6.185695938336907,
          8.160169216142872,
          9.167654476681511,
          10.794863476049416,
          12.105844906362327,
          10.479708932196512,
          10.30932160619631,
          9.830660188471672,
          8.96377392885005,
          8.093942538088138,
          5.975568527843539,
          4.20773589809227,
          2.695444939261645,
          2.4128471190866154,
          0.8136781642074437,
          -1.601124095675097,
          -3.5678313370008223,
          -4.271889441339336,
          -4.157564775429362,
          -6.343183805030841,
          -7.520961446923707,
          -7.950340698985781,
          -9.122873815119497,
          -10.502004955883107,
          -10.813733323200042,
          -11.422491248877092,
          -9.60077220780794,
          -6.535872407346477,
          -4.149576972436325,
          -2.607488589256059,
          -1.369962999114089,
          -0.9477672672825175,
          -0.6431296822420792,
          0.3049148985600172,
          0.5794542416985587,
          -0.49942182979684147,
          -2.330095238358276,
          -3.827239050976283,
          -4.052351771695506,
          -4.698711719883644,
          -5.787004721522874,
          -7.121307679386378,
          -8.046592587662433,
          -9.63722502407362,
          -11.549678110798077,
          -12.549529029324603,
          -13.076840015495234,
          -13.212309157795223,
          -13.766214233851773,
          -13.15996669573187,
          -11.781060125146062,
          -8.3483361950278,
          -5.597956848470314,
          -3.8373706073663256,
          -1.6985682062081158,
          0.382021835213993,
          2.1059497211334626,
          1.9410227042850554,
          2.1538878044766885,
          1.861802538617476,
          1.0370065134429034,
          -1.0878407761783246,
          -2.9391612543947354,
          -4.398557111384082,
          -4.933746562553201,
          -5.352191072104558,
          -5.321523851052211,
          -6.396317500054076,
          -8.426948447612556,
          -10.018026936159176,
          -10.84955548734137
         ],
         "xaxis": "x",
         "y": [
          -1.409666269690036,
          -1.2020735900848323,
          -1.7629986452329653,
          -1.3984774038874601,
          -1.1204522371820733,
          -1.4902990682998836,
          -2.317362127944297,
          -2.4629819194360993,
          -2.072404960165308,
          -1.5784368441232612,
          -2.0949349497805607,
          -1.5501160388375934,
          -0.22900683916431938,
          -0.5119278816649314,
          -0.42566098708286954,
          -0.9139568493675788,
          -0.29260690220330154,
          -0.8043077611454384,
          -0.3941787768196016,
          -0.7653224605024654,
          -1.6572989706294123,
          -1.1449735521781905,
          -0.8825636784472168,
          0.1378430568016825,
          -0.9015220885158375,
          -0.39273276073874364,
          -1.0111617083331477,
          0.07922374914000435,
          0.45987014146483896,
          1.7912554203814983,
          9.045817557580927,
          10.74509433798293,
          8.475424073925836,
          6.258796200108149,
          4.610907060706461,
          3.867569489236036,
          3.194261731333762,
          3.5354424233559194,
          4.287195114299254,
          4.520247403519817,
          4.8089403022444985,
          5.050887493018378,
          4.691957200162104,
          4.03210298222504,
          4.239471727596819,
          3.8599262564829395,
          3.5065429387933427,
          3.761401202237325,
          3.838518209788853,
          4.617358868225799,
          5.249898536764192,
          6.23200409101945,
          6.722006942160812,
          6.601362517148477,
          6.469512699201447,
          6.433167943256227,
          6.584823253859347,
          6.085167011233641,
          5.48402515337886,
          4.194370815523318,
          3.4468380610259777,
          4.03710008138742,
          4.00218535391143,
          5.07587343392678,
          5.787457594842822,
          5.784598839678017,
          5.4247621249170015,
          4.484707068709866,
          4.204573593916759,
          4.859198402047991,
          5.467100560286087,
          5.3396572095719055,
          5.31249694828261,
          4.883703581666715,
          5.289118509845209,
          5.333684043429206,
          5.236689439772079,
          4.481729408887394,
          4.027343741793511,
          4.743474875648184,
          4.24675072662712,
          3.5231938219346945,
          3.7874891568612874,
          3.177344820577122,
          2.182988148229523,
          2.3984939701012187,
          3.0281624883285625,
          2.162714449991149,
          1.5129821129089303,
          2.3304486890572873,
          2.5733235709743014,
          2.1544695603502846,
          2.9596475963777737,
          3.2401334547270375,
          2.9662403734198057,
          3.199533193318688,
          3.43432711080593,
          3.705220764268609,
          3.4785419261595685,
          4.364087596244671,
          4.611072716718794,
          4.6539986463914005,
          8.118036640446071,
          6.299454659076488,
          3.7747602278314742,
          3.258467576444815,
          4.424105367845846,
          4.480723016325301,
          3.5612429423198466,
          0.4145239745596777,
          -3.328407304582062,
          -4.746930838047944,
          -4.4905590253306125,
          -4.6628590583658625,
          -3.662141292131855,
          -2.663382866590255,
          -2.939590703191407,
          -3.362596840970726,
          -3.8282393889889543,
          -4.40599666033796,
          -4.25370701513511,
          -5.421831074194536,
          -4.387292691654543,
          -5.212261049802514,
          -4.689293199930146,
          -4.6670525756092704,
          -5.644657008075601,
          -5.4028299918372715,
          -5.396804459264282,
          -5.789905282223065,
          -5.3569372835487945,
          -5.051880993495037,
          -4.642749159743584,
          -4.334029111123671,
          -4.139243330739489,
          -4.106270578859137,
          -3.017630599857856,
          -2.67226446212501,
          -2.577758171034313,
          -2.2963415676529473,
          -2.2188076963971755,
          -2.4281962101239825,
          -1.526262918550144,
          -1.392691467774208,
          -1.5683674696092023,
          -1.6628152871167714,
          -1.146249975835986,
          -0.9577558470115901,
          -1.0808184889731585,
          -1.2127027686706204,
          -1.2578557324297504,
          -1.3798197852709908,
          -1.7778876479456005,
          -2.192578342485872,
          -2.612745459024043,
          -3.2830681268876236,
          -3.791816342842469,
          -3.5937106618684,
          -3.0843205584912,
          -3.0189119571465874,
          -3.467457510980858,
          -3.708489899998541,
          -4.019040577833141,
          -4.279099193976922,
          -4.363813962688905,
          -4.274324876468924,
          -4.65659338282762,
          -4.455961903987406,
          -3.8928382195365225,
          -4.143637826760189,
          -5.036129356753952,
          -5.414323826002696,
          -5.277303755160781,
          -5.907654484122599,
          -6.866212582039417,
          -6.752885763194658,
          -6.032210252322804,
          -5.34979540509618,
          -6.071280107204173,
          -6.300501004356793,
          -6.5133577435515475,
          -6.160649431364228,
          -5.614666998273267,
          -4.914026134043776,
          -5.468376438486476,
          -5.881560692834755,
          -6.353540206831795,
          -5.488164432340101,
          -4.70483436716591,
          -4.706928308317051,
          -4.787396011071151,
          -4.727859820978507
         ],
         "yaxis": "y"
        }
       ],
       "layout": {
        "legend": {
         "tracegroupgap": 0
        },
        "margin": {
         "t": 60
        },
        "template": {
         "data": {
          "bar": [
           {
            "error_x": {
             "color": "#2a3f5f"
            },
            "error_y": {
             "color": "#2a3f5f"
            },
            "marker": {
             "line": {
              "color": "#E5ECF6",
              "width": 0.5
             },
             "pattern": {
              "fillmode": "overlay",
              "size": 10,
              "solidity": 0.2
             }
            },
            "type": "bar"
           }
          ],
          "barpolar": [
           {
            "marker": {
             "line": {
              "color": "#E5ECF6",
              "width": 0.5
             },
             "pattern": {
              "fillmode": "overlay",
              "size": 10,
              "solidity": 0.2
             }
            },
            "type": "barpolar"
           }
          ],
          "carpet": [
           {
            "aaxis": {
             "endlinecolor": "#2a3f5f",
             "gridcolor": "white",
             "linecolor": "white",
             "minorgridcolor": "white",
             "startlinecolor": "#2a3f5f"
            },
            "baxis": {
             "endlinecolor": "#2a3f5f",
             "gridcolor": "white",
             "linecolor": "white",
             "minorgridcolor": "white",
             "startlinecolor": "#2a3f5f"
            },
            "type": "carpet"
           }
          ],
          "choropleth": [
           {
            "colorbar": {
             "outlinewidth": 0,
             "ticks": ""
            },
            "type": "choropleth"
           }
          ],
          "contour": [
           {
            "colorbar": {
             "outlinewidth": 0,
             "ticks": ""
            },
            "colorscale": [
             [
              0,
              "#0d0887"
             ],
             [
              0.1111111111111111,
              "#46039f"
             ],
             [
              0.2222222222222222,
              "#7201a8"
             ],
             [
              0.3333333333333333,
              "#9c179e"
             ],
             [
              0.4444444444444444,
              "#bd3786"
             ],
             [
              0.5555555555555556,
              "#d8576b"
             ],
             [
              0.6666666666666666,
              "#ed7953"
             ],
             [
              0.7777777777777778,
              "#fb9f3a"
             ],
             [
              0.8888888888888888,
              "#fdca26"
             ],
             [
              1,
              "#f0f921"
             ]
            ],
            "type": "contour"
           }
          ],
          "contourcarpet": [
           {
            "colorbar": {
             "outlinewidth": 0,
             "ticks": ""
            },
            "type": "contourcarpet"
           }
          ],
          "heatmap": [
           {
            "colorbar": {
             "outlinewidth": 0,
             "ticks": ""
            },
            "colorscale": [
             [
              0,
              "#0d0887"
             ],
             [
              0.1111111111111111,
              "#46039f"
             ],
             [
              0.2222222222222222,
              "#7201a8"
             ],
             [
              0.3333333333333333,
              "#9c179e"
             ],
             [
              0.4444444444444444,
              "#bd3786"
             ],
             [
              0.5555555555555556,
              "#d8576b"
             ],
             [
              0.6666666666666666,
              "#ed7953"
             ],
             [
              0.7777777777777778,
              "#fb9f3a"
             ],
             [
              0.8888888888888888,
              "#fdca26"
             ],
             [
              1,
              "#f0f921"
             ]
            ],
            "type": "heatmap"
           }
          ],
          "heatmapgl": [
           {
            "colorbar": {
             "outlinewidth": 0,
             "ticks": ""
            },
            "colorscale": [
             [
              0,
              "#0d0887"
             ],
             [
              0.1111111111111111,
              "#46039f"
             ],
             [
              0.2222222222222222,
              "#7201a8"
             ],
             [
              0.3333333333333333,
              "#9c179e"
             ],
             [
              0.4444444444444444,
              "#bd3786"
             ],
             [
              0.5555555555555556,
              "#d8576b"
             ],
             [
              0.6666666666666666,
              "#ed7953"
             ],
             [
              0.7777777777777778,
              "#fb9f3a"
             ],
             [
              0.8888888888888888,
              "#fdca26"
             ],
             [
              1,
              "#f0f921"
             ]
            ],
            "type": "heatmapgl"
           }
          ],
          "histogram": [
           {
            "marker": {
             "pattern": {
              "fillmode": "overlay",
              "size": 10,
              "solidity": 0.2
             }
            },
            "type": "histogram"
           }
          ],
          "histogram2d": [
           {
            "colorbar": {
             "outlinewidth": 0,
             "ticks": ""
            },
            "colorscale": [
             [
              0,
              "#0d0887"
             ],
             [
              0.1111111111111111,
              "#46039f"
             ],
             [
              0.2222222222222222,
              "#7201a8"
             ],
             [
              0.3333333333333333,
              "#9c179e"
             ],
             [
              0.4444444444444444,
              "#bd3786"
             ],
             [
              0.5555555555555556,
              "#d8576b"
             ],
             [
              0.6666666666666666,
              "#ed7953"
             ],
             [
              0.7777777777777778,
              "#fb9f3a"
             ],
             [
              0.8888888888888888,
              "#fdca26"
             ],
             [
              1,
              "#f0f921"
             ]
            ],
            "type": "histogram2d"
           }
          ],
          "histogram2dcontour": [
           {
            "colorbar": {
             "outlinewidth": 0,
             "ticks": ""
            },
            "colorscale": [
             [
              0,
              "#0d0887"
             ],
             [
              0.1111111111111111,
              "#46039f"
             ],
             [
              0.2222222222222222,
              "#7201a8"
             ],
             [
              0.3333333333333333,
              "#9c179e"
             ],
             [
              0.4444444444444444,
              "#bd3786"
             ],
             [
              0.5555555555555556,
              "#d8576b"
             ],
             [
              0.6666666666666666,
              "#ed7953"
             ],
             [
              0.7777777777777778,
              "#fb9f3a"
             ],
             [
              0.8888888888888888,
              "#fdca26"
             ],
             [
              1,
              "#f0f921"
             ]
            ],
            "type": "histogram2dcontour"
           }
          ],
          "mesh3d": [
           {
            "colorbar": {
             "outlinewidth": 0,
             "ticks": ""
            },
            "type": "mesh3d"
           }
          ],
          "parcoords": [
           {
            "line": {
             "colorbar": {
              "outlinewidth": 0,
              "ticks": ""
             }
            },
            "type": "parcoords"
           }
          ],
          "pie": [
           {
            "automargin": true,
            "type": "pie"
           }
          ],
          "scatter": [
           {
            "fillpattern": {
             "fillmode": "overlay",
             "size": 10,
             "solidity": 0.2
            },
            "type": "scatter"
           }
          ],
          "scatter3d": [
           {
            "line": {
             "colorbar": {
              "outlinewidth": 0,
              "ticks": ""
             }
            },
            "marker": {
             "colorbar": {
              "outlinewidth": 0,
              "ticks": ""
             }
            },
            "type": "scatter3d"
           }
          ],
          "scattercarpet": [
           {
            "marker": {
             "colorbar": {
              "outlinewidth": 0,
              "ticks": ""
             }
            },
            "type": "scattercarpet"
           }
          ],
          "scattergeo": [
           {
            "marker": {
             "colorbar": {
              "outlinewidth": 0,
              "ticks": ""
             }
            },
            "type": "scattergeo"
           }
          ],
          "scattergl": [
           {
            "marker": {
             "colorbar": {
              "outlinewidth": 0,
              "ticks": ""
             }
            },
            "type": "scattergl"
           }
          ],
          "scattermapbox": [
           {
            "marker": {
             "colorbar": {
              "outlinewidth": 0,
              "ticks": ""
             }
            },
            "type": "scattermapbox"
           }
          ],
          "scatterpolar": [
           {
            "marker": {
             "colorbar": {
              "outlinewidth": 0,
              "ticks": ""
             }
            },
            "type": "scatterpolar"
           }
          ],
          "scatterpolargl": [
           {
            "marker": {
             "colorbar": {
              "outlinewidth": 0,
              "ticks": ""
             }
            },
            "type": "scatterpolargl"
           }
          ],
          "scatterternary": [
           {
            "marker": {
             "colorbar": {
              "outlinewidth": 0,
              "ticks": ""
             }
            },
            "type": "scatterternary"
           }
          ],
          "surface": [
           {
            "colorbar": {
             "outlinewidth": 0,
             "ticks": ""
            },
            "colorscale": [
             [
              0,
              "#0d0887"
             ],
             [
              0.1111111111111111,
              "#46039f"
             ],
             [
              0.2222222222222222,
              "#7201a8"
             ],
             [
              0.3333333333333333,
              "#9c179e"
             ],
             [
              0.4444444444444444,
              "#bd3786"
             ],
             [
              0.5555555555555556,
              "#d8576b"
             ],
             [
              0.6666666666666666,
              "#ed7953"
             ],
             [
              0.7777777777777778,
              "#fb9f3a"
             ],
             [
              0.8888888888888888,
              "#fdca26"
             ],
             [
              1,
              "#f0f921"
             ]
            ],
            "type": "surface"
           }
          ],
          "table": [
           {
            "cells": {
             "fill": {
              "color": "#EBF0F8"
             },
             "line": {
              "color": "white"
             }
            },
            "header": {
             "fill": {
              "color": "#C8D4E3"
             },
             "line": {
              "color": "white"
             }
            },
            "type": "table"
           }
          ]
         },
         "layout": {
          "annotationdefaults": {
           "arrowcolor": "#2a3f5f",
           "arrowhead": 0,
           "arrowwidth": 1
          },
          "autotypenumbers": "strict",
          "coloraxis": {
           "colorbar": {
            "outlinewidth": 0,
            "ticks": ""
           }
          },
          "colorscale": {
           "diverging": [
            [
             0,
             "#8e0152"
            ],
            [
             0.1,
             "#c51b7d"
            ],
            [
             0.2,
             "#de77ae"
            ],
            [
             0.3,
             "#f1b6da"
            ],
            [
             0.4,
             "#fde0ef"
            ],
            [
             0.5,
             "#f7f7f7"
            ],
            [
             0.6,
             "#e6f5d0"
            ],
            [
             0.7,
             "#b8e186"
            ],
            [
             0.8,
             "#7fbc41"
            ],
            [
             0.9,
             "#4d9221"
            ],
            [
             1,
             "#276419"
            ]
           ],
           "sequential": [
            [
             0,
             "#0d0887"
            ],
            [
             0.1111111111111111,
             "#46039f"
            ],
            [
             0.2222222222222222,
             "#7201a8"
            ],
            [
             0.3333333333333333,
             "#9c179e"
            ],
            [
             0.4444444444444444,
             "#bd3786"
            ],
            [
             0.5555555555555556,
             "#d8576b"
            ],
            [
             0.6666666666666666,
             "#ed7953"
            ],
            [
             0.7777777777777778,
             "#fb9f3a"
            ],
            [
             0.8888888888888888,
             "#fdca26"
            ],
            [
             1,
             "#f0f921"
            ]
           ],
           "sequentialminus": [
            [
             0,
             "#0d0887"
            ],
            [
             0.1111111111111111,
             "#46039f"
            ],
            [
             0.2222222222222222,
             "#7201a8"
            ],
            [
             0.3333333333333333,
             "#9c179e"
            ],
            [
             0.4444444444444444,
             "#bd3786"
            ],
            [
             0.5555555555555556,
             "#d8576b"
            ],
            [
             0.6666666666666666,
             "#ed7953"
            ],
            [
             0.7777777777777778,
             "#fb9f3a"
            ],
            [
             0.8888888888888888,
             "#fdca26"
            ],
            [
             1,
             "#f0f921"
            ]
           ]
          },
          "colorway": [
           "#636efa",
           "#EF553B",
           "#00cc96",
           "#ab63fa",
           "#FFA15A",
           "#19d3f3",
           "#FF6692",
           "#B6E880",
           "#FF97FF",
           "#FECB52"
          ],
          "font": {
           "color": "#2a3f5f"
          },
          "geo": {
           "bgcolor": "white",
           "lakecolor": "white",
           "landcolor": "#E5ECF6",
           "showlakes": true,
           "showland": true,
           "subunitcolor": "white"
          },
          "hoverlabel": {
           "align": "left"
          },
          "hovermode": "closest",
          "mapbox": {
           "style": "light"
          },
          "paper_bgcolor": "white",
          "plot_bgcolor": "#E5ECF6",
          "polar": {
           "angularaxis": {
            "gridcolor": "white",
            "linecolor": "white",
            "ticks": ""
           },
           "bgcolor": "#E5ECF6",
           "radialaxis": {
            "gridcolor": "white",
            "linecolor": "white",
            "ticks": ""
           }
          },
          "scene": {
           "xaxis": {
            "backgroundcolor": "#E5ECF6",
            "gridcolor": "white",
            "gridwidth": 2,
            "linecolor": "white",
            "showbackground": true,
            "ticks": "",
            "zerolinecolor": "white"
           },
           "yaxis": {
            "backgroundcolor": "#E5ECF6",
            "gridcolor": "white",
            "gridwidth": 2,
            "linecolor": "white",
            "showbackground": true,
            "ticks": "",
            "zerolinecolor": "white"
           },
           "zaxis": {
            "backgroundcolor": "#E5ECF6",
            "gridcolor": "white",
            "gridwidth": 2,
            "linecolor": "white",
            "showbackground": true,
            "ticks": "",
            "zerolinecolor": "white"
           }
          },
          "shapedefaults": {
           "line": {
            "color": "#2a3f5f"
           }
          },
          "ternary": {
           "aaxis": {
            "gridcolor": "white",
            "linecolor": "white",
            "ticks": ""
           },
           "baxis": {
            "gridcolor": "white",
            "linecolor": "white",
            "ticks": ""
           },
           "bgcolor": "#E5ECF6",
           "caxis": {
            "gridcolor": "white",
            "linecolor": "white",
            "ticks": ""
           }
          },
          "title": {
           "x": 0.05
          },
          "xaxis": {
           "automargin": true,
           "gridcolor": "white",
           "linecolor": "white",
           "ticks": "",
           "title": {
            "standoff": 15
           },
           "zerolinecolor": "white",
           "zerolinewidth": 2
          },
          "yaxis": {
           "automargin": true,
           "gridcolor": "white",
           "linecolor": "white",
           "ticks": "",
           "title": {
            "standoff": 15
           },
           "zerolinecolor": "white",
           "zerolinewidth": 2
          }
         }
        },
        "title": {
         "text": "Plot Title"
        },
        "xaxis": {
         "anchor": "y",
         "domain": [
          0,
          1
         ],
         "title": {
          "text": "PC1 - 51.44%"
         }
        },
        "yaxis": {
         "anchor": "x",
         "domain": [
          0,
          1
         ],
         "title": {
          "text": "PC2 - 16.67%"
         }
        }
       }
      }
     },
     "metadata": {},
     "output_type": "display_data"
    }
   ],
   "source": [
    "pca_df = pd.DataFrame(pca_data)\n",
    "fig = px.scatter(pca_df,x = 0,y = 1)\n",
    "newnames = {'0':'PC1', '1': 'PC2'}\n",
    "fig.update_layout(\n",
    "    title=\"PA\",\n",
    "    xaxis_title=\"PC1 - {0}%\".format(np.round(per_ver[0],decimals=2)),\n",
    "    yaxis_title=\"PC2 - {0}%\".format(np.round(per_ver[1],decimals=2)),\n",
    "  \n",
    ")\n",
    "\n",
    "fig.show()"
   ]
  },
  {
   "cell_type": "code",
   "execution_count": null,
   "metadata": {},
   "outputs": [
    {
     "data": {
      "text/plain": [
       "58TI3123.PV     0.106406\n",
       "58TI3151B.PV    0.106355\n",
       "58TI4206.PV     0.106321\n",
       "58TI3140A.PV    0.106305\n",
       "58TI3137.PV     0.106256\n",
       "58TI3140B.PV    0.106233\n",
       "58VI3301B.PV    0.106208\n",
       "58VI3301A.PV    0.106167\n",
       "58TI3151A.PV    0.106115\n",
       "58TI3213.PV     0.106058\n",
       "dtype: float64"
      ]
     },
     "execution_count": 258,
     "metadata": {},
     "output_type": "execute_result"
    }
   ],
   "source": [
    "loading_ss = pd.Series(pca.components_[0],index=dff.columns.values)\n",
    "sorted  = loading_ss.abs().sort_values(ascending = False)\n",
    "sorted.head(10)"
   ]
  },
  {
   "cell_type": "code",
   "execution_count": null,
   "metadata": {},
   "outputs": [],
   "source": []
  }
 ],
 "metadata": {
  "kernelspec": {
   "display_name": "Python 3.7.2 32-bit",
   "language": "python",
   "name": "python3"
  },
  "language_info": {
   "codemirror_mode": {
    "name": "ipython",
    "version": 3
   },
   "file_extension": ".py",
   "mimetype": "text/x-python",
   "name": "python",
   "nbconvert_exporter": "python",
   "pygments_lexer": "ipython3",
   "version": "3.7.2"
  },
  "orig_nbformat": 4,
  "vscode": {
   "interpreter": {
    "hash": "aea5f04b175941772246e52386f6cd1f6bd411a16fcd6549d372acc48679824f"
   }
  }
 },
 "nbformat": 4,
 "nbformat_minor": 2
}

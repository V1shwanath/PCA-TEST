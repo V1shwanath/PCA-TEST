{
 "cells": [
  {
   "cell_type": "code",
   "execution_count": 9,
   "metadata": {},
   "outputs": [],
   "source": [
    "import pandas as pd"
   ]
  },
  {
   "cell_type": "code",
   "execution_count": 10,
   "metadata": {},
   "outputs": [
    {
     "data": {
      "text/html": [
       "<div>\n",
       "<style scoped>\n",
       "    .dataframe tbody tr th:only-of-type {\n",
       "        vertical-align: middle;\n",
       "    }\n",
       "\n",
       "    .dataframe tbody tr th {\n",
       "        vertical-align: top;\n",
       "    }\n",
       "\n",
       "    .dataframe thead th {\n",
       "        text-align: right;\n",
       "    }\n",
       "</style>\n",
       "<table border=\"1\" class=\"dataframe\">\n",
       "  <thead>\n",
       "    <tr style=\"text-align: right;\">\n",
       "      <th></th>\n",
       "      <th></th>\n",
       "      <th>58PDI1202.PV</th>\n",
       "      <th>58TI3246.PV</th>\n",
       "      <th>58PIC3226A.PV</th>\n",
       "      <th>58HIC3225.MV</th>\n",
       "      <th>58ZI3225.PV</th>\n",
       "      <th>58PI3239.PV</th>\n",
       "      <th>58TI3230.PV</th>\n",
       "      <th>58TI3231.PV</th>\n",
       "      <th>58PI3209.PV</th>\n",
       "      <th>58TI3208.PV</th>\n",
       "      <th>...</th>\n",
       "      <th>58VI3118B.PV</th>\n",
       "      <th>58TI3113.PV</th>\n",
       "      <th>58VI3233A.PV</th>\n",
       "      <th>58VI3233B.PV</th>\n",
       "      <th>58TI3232.PV</th>\n",
       "      <th>58TI3234.PV</th>\n",
       "      <th>58TI3414.PV</th>\n",
       "      <th>58PI3314.PV</th>\n",
       "      <th>58PI3107.PV</th>\n",
       "      <th>58LI3403.PV</th>\n",
       "    </tr>\n",
       "    <tr>\n",
       "      <th>Date</th>\n",
       "      <th>Time</th>\n",
       "      <th></th>\n",
       "      <th></th>\n",
       "      <th></th>\n",
       "      <th></th>\n",
       "      <th></th>\n",
       "      <th></th>\n",
       "      <th></th>\n",
       "      <th></th>\n",
       "      <th></th>\n",
       "      <th></th>\n",
       "      <th></th>\n",
       "      <th></th>\n",
       "      <th></th>\n",
       "      <th></th>\n",
       "      <th></th>\n",
       "      <th></th>\n",
       "      <th></th>\n",
       "      <th></th>\n",
       "      <th></th>\n",
       "      <th></th>\n",
       "      <th></th>\n",
       "    </tr>\n",
       "  </thead>\n",
       "  <tbody>\n",
       "    <tr>\n",
       "      <th>2018-08-16 00:00:00</th>\n",
       "      <th>00:00:00</th>\n",
       "      <td>0.485438</td>\n",
       "      <td>13.704390</td>\n",
       "      <td>759.735596</td>\n",
       "      <td>82.490387</td>\n",
       "      <td>82.814613</td>\n",
       "      <td>168.270096</td>\n",
       "      <td>127.014091</td>\n",
       "      <td>22.268492</td>\n",
       "      <td>349.978271</td>\n",
       "      <td>85.172089</td>\n",
       "      <td>...</td>\n",
       "      <td>23.487450</td>\n",
       "      <td>76.504044</td>\n",
       "      <td>41.856094</td>\n",
       "      <td>33.768810</td>\n",
       "      <td>70.640869</td>\n",
       "      <td>74.101479</td>\n",
       "      <td>46.227104</td>\n",
       "      <td>308.491455</td>\n",
       "      <td>1386.177490</td>\n",
       "      <td>96.028496</td>\n",
       "    </tr>\n",
       "    <tr>\n",
       "      <th>2018-08-16 01:00:00</th>\n",
       "      <th>01:00:00</th>\n",
       "      <td>0.486443</td>\n",
       "      <td>14.682747</td>\n",
       "      <td>758.939575</td>\n",
       "      <td>84.825310</td>\n",
       "      <td>85.061035</td>\n",
       "      <td>168.685211</td>\n",
       "      <td>128.635193</td>\n",
       "      <td>22.674412</td>\n",
       "      <td>350.204132</td>\n",
       "      <td>85.504578</td>\n",
       "      <td>...</td>\n",
       "      <td>23.633106</td>\n",
       "      <td>76.478264</td>\n",
       "      <td>41.984322</td>\n",
       "      <td>33.921059</td>\n",
       "      <td>70.738480</td>\n",
       "      <td>74.173584</td>\n",
       "      <td>46.416500</td>\n",
       "      <td>307.626678</td>\n",
       "      <td>1383.323853</td>\n",
       "      <td>96.039764</td>\n",
       "    </tr>\n",
       "    <tr>\n",
       "      <th>2018-08-16 02:00:00</th>\n",
       "      <th>02:00:00</th>\n",
       "      <td>0.496587</td>\n",
       "      <td>14.022818</td>\n",
       "      <td>761.087402</td>\n",
       "      <td>84.914108</td>\n",
       "      <td>85.217781</td>\n",
       "      <td>169.251389</td>\n",
       "      <td>128.156845</td>\n",
       "      <td>22.561634</td>\n",
       "      <td>351.214966</td>\n",
       "      <td>85.411736</td>\n",
       "      <td>...</td>\n",
       "      <td>23.810165</td>\n",
       "      <td>76.530525</td>\n",
       "      <td>41.715927</td>\n",
       "      <td>34.148010</td>\n",
       "      <td>70.738480</td>\n",
       "      <td>74.236641</td>\n",
       "      <td>46.504772</td>\n",
       "      <td>307.028870</td>\n",
       "      <td>1381.364014</td>\n",
       "      <td>96.113159</td>\n",
       "    </tr>\n",
       "    <tr>\n",
       "      <th>2018-08-16 03:00:00</th>\n",
       "      <th>03:00:00</th>\n",
       "      <td>0.532740</td>\n",
       "      <td>13.443664</td>\n",
       "      <td>759.993347</td>\n",
       "      <td>83.618591</td>\n",
       "      <td>83.950287</td>\n",
       "      <td>168.628265</td>\n",
       "      <td>127.136993</td>\n",
       "      <td>22.304523</td>\n",
       "      <td>350.304291</td>\n",
       "      <td>85.164139</td>\n",
       "      <td>...</td>\n",
       "      <td>23.006880</td>\n",
       "      <td>76.759766</td>\n",
       "      <td>42.757172</td>\n",
       "      <td>33.967159</td>\n",
       "      <td>70.592285</td>\n",
       "      <td>74.064438</td>\n",
       "      <td>46.162468</td>\n",
       "      <td>308.572327</td>\n",
       "      <td>1385.243042</td>\n",
       "      <td>95.938889</td>\n",
       "    </tr>\n",
       "    <tr>\n",
       "      <th>2018-08-16 04:00:00</th>\n",
       "      <th>04:00:00</th>\n",
       "      <td>0.584378</td>\n",
       "      <td>12.676052</td>\n",
       "      <td>760.262573</td>\n",
       "      <td>82.454002</td>\n",
       "      <td>82.755478</td>\n",
       "      <td>168.529510</td>\n",
       "      <td>126.012871</td>\n",
       "      <td>22.126286</td>\n",
       "      <td>350.265015</td>\n",
       "      <td>84.979736</td>\n",
       "      <td>...</td>\n",
       "      <td>22.874638</td>\n",
       "      <td>77.681564</td>\n",
       "      <td>43.185646</td>\n",
       "      <td>35.361031</td>\n",
       "      <td>70.485199</td>\n",
       "      <td>73.977112</td>\n",
       "      <td>45.805019</td>\n",
       "      <td>310.387726</td>\n",
       "      <td>1389.648071</td>\n",
       "      <td>95.648880</td>\n",
       "    </tr>\n",
       "  </tbody>\n",
       "</table>\n",
       "<p>5 rows × 109 columns</p>\n",
       "</div>"
      ],
      "text/plain": [
       "                              58PDI1202.PV  58TI3246.PV  58PIC3226A.PV  \\\n",
       "Date                Time                                                 \n",
       "2018-08-16 00:00:00 00:00:00      0.485438    13.704390     759.735596   \n",
       "2018-08-16 01:00:00 01:00:00      0.486443    14.682747     758.939575   \n",
       "2018-08-16 02:00:00 02:00:00      0.496587    14.022818     761.087402   \n",
       "2018-08-16 03:00:00 03:00:00      0.532740    13.443664     759.993347   \n",
       "2018-08-16 04:00:00 04:00:00      0.584378    12.676052     760.262573   \n",
       "\n",
       "                              58HIC3225.MV  58ZI3225.PV  58PI3239.PV  \\\n",
       "Date                Time                                               \n",
       "2018-08-16 00:00:00 00:00:00     82.490387    82.814613   168.270096   \n",
       "2018-08-16 01:00:00 01:00:00     84.825310    85.061035   168.685211   \n",
       "2018-08-16 02:00:00 02:00:00     84.914108    85.217781   169.251389   \n",
       "2018-08-16 03:00:00 03:00:00     83.618591    83.950287   168.628265   \n",
       "2018-08-16 04:00:00 04:00:00     82.454002    82.755478   168.529510   \n",
       "\n",
       "                              58TI3230.PV  58TI3231.PV  58PI3209.PV  \\\n",
       "Date                Time                                              \n",
       "2018-08-16 00:00:00 00:00:00   127.014091    22.268492   349.978271   \n",
       "2018-08-16 01:00:00 01:00:00   128.635193    22.674412   350.204132   \n",
       "2018-08-16 02:00:00 02:00:00   128.156845    22.561634   351.214966   \n",
       "2018-08-16 03:00:00 03:00:00   127.136993    22.304523   350.304291   \n",
       "2018-08-16 04:00:00 04:00:00   126.012871    22.126286   350.265015   \n",
       "\n",
       "                              58TI3208.PV  ...  58VI3118B.PV  58TI3113.PV  \\\n",
       "Date                Time                   ...                              \n",
       "2018-08-16 00:00:00 00:00:00    85.172089  ...     23.487450    76.504044   \n",
       "2018-08-16 01:00:00 01:00:00    85.504578  ...     23.633106    76.478264   \n",
       "2018-08-16 02:00:00 02:00:00    85.411736  ...     23.810165    76.530525   \n",
       "2018-08-16 03:00:00 03:00:00    85.164139  ...     23.006880    76.759766   \n",
       "2018-08-16 04:00:00 04:00:00    84.979736  ...     22.874638    77.681564   \n",
       "\n",
       "                              58VI3233A.PV  58VI3233B.PV  58TI3232.PV  \\\n",
       "Date                Time                                                \n",
       "2018-08-16 00:00:00 00:00:00     41.856094     33.768810    70.640869   \n",
       "2018-08-16 01:00:00 01:00:00     41.984322     33.921059    70.738480   \n",
       "2018-08-16 02:00:00 02:00:00     41.715927     34.148010    70.738480   \n",
       "2018-08-16 03:00:00 03:00:00     42.757172     33.967159    70.592285   \n",
       "2018-08-16 04:00:00 04:00:00     43.185646     35.361031    70.485199   \n",
       "\n",
       "                              58TI3234.PV  58TI3414.PV  58PI3314.PV  \\\n",
       "Date                Time                                              \n",
       "2018-08-16 00:00:00 00:00:00    74.101479    46.227104   308.491455   \n",
       "2018-08-16 01:00:00 01:00:00    74.173584    46.416500   307.626678   \n",
       "2018-08-16 02:00:00 02:00:00    74.236641    46.504772   307.028870   \n",
       "2018-08-16 03:00:00 03:00:00    74.064438    46.162468   308.572327   \n",
       "2018-08-16 04:00:00 04:00:00    73.977112    45.805019   310.387726   \n",
       "\n",
       "                              58PI3107.PV  58LI3403.PV  \n",
       "Date                Time                                \n",
       "2018-08-16 00:00:00 00:00:00  1386.177490    96.028496  \n",
       "2018-08-16 01:00:00 01:00:00  1383.323853    96.039764  \n",
       "2018-08-16 02:00:00 02:00:00  1381.364014    96.113159  \n",
       "2018-08-16 03:00:00 03:00:00  1385.243042    95.938889  \n",
       "2018-08-16 04:00:00 04:00:00  1389.648071    95.648880  \n",
       "\n",
       "[5 rows x 109 columns]"
      ]
     },
     "execution_count": 10,
     "metadata": {},
     "output_type": "execute_result"
    }
   ],
   "source": [
    "df = pd.read_excel('Book1.xlsx', index_col= [0,1])\n",
    "df.head()"
   ]
  },
  {
   "cell_type": "code",
   "execution_count": 6,
   "metadata": {},
   "outputs": [],
   "source": [
    "from sklearn.datasets import load_iris\n",
    "data = load_iris"
   ]
  },
  {
   "cell_type": "code",
   "execution_count": 11,
   "metadata": {},
   "outputs": [
    {
     "data": {
      "text/html": [
       "<div>\n",
       "<style scoped>\n",
       "    .dataframe tbody tr th:only-of-type {\n",
       "        vertical-align: middle;\n",
       "    }\n",
       "\n",
       "    .dataframe tbody tr th {\n",
       "        vertical-align: top;\n",
       "    }\n",
       "\n",
       "    .dataframe thead th {\n",
       "        text-align: right;\n",
       "    }\n",
       "</style>\n",
       "<table border=\"1\" class=\"dataframe\">\n",
       "  <thead>\n",
       "    <tr style=\"text-align: right;\">\n",
       "      <th></th>\n",
       "      <th></th>\n",
       "      <th>58PDI1202.PV</th>\n",
       "      <th>58TI3246.PV</th>\n",
       "      <th>58PIC3226A.PV</th>\n",
       "      <th>58HIC3225.MV</th>\n",
       "      <th>58ZI3225.PV</th>\n",
       "      <th>58PI3239.PV</th>\n",
       "      <th>58TI3230.PV</th>\n",
       "      <th>58TI3231.PV</th>\n",
       "      <th>58PI3209.PV</th>\n",
       "      <th>58TI3208.PV</th>\n",
       "      <th>...</th>\n",
       "      <th>58VI3118B.PV</th>\n",
       "      <th>58TI3113.PV</th>\n",
       "      <th>58VI3233A.PV</th>\n",
       "      <th>58VI3233B.PV</th>\n",
       "      <th>58TI3232.PV</th>\n",
       "      <th>58TI3234.PV</th>\n",
       "      <th>58TI3414.PV</th>\n",
       "      <th>58PI3314.PV</th>\n",
       "      <th>58PI3107.PV</th>\n",
       "      <th>58LI3403.PV</th>\n",
       "    </tr>\n",
       "    <tr>\n",
       "      <th>Date</th>\n",
       "      <th>Time</th>\n",
       "      <th></th>\n",
       "      <th></th>\n",
       "      <th></th>\n",
       "      <th></th>\n",
       "      <th></th>\n",
       "      <th></th>\n",
       "      <th></th>\n",
       "      <th></th>\n",
       "      <th></th>\n",
       "      <th></th>\n",
       "      <th></th>\n",
       "      <th></th>\n",
       "      <th></th>\n",
       "      <th></th>\n",
       "      <th></th>\n",
       "      <th></th>\n",
       "      <th></th>\n",
       "      <th></th>\n",
       "      <th></th>\n",
       "      <th></th>\n",
       "      <th></th>\n",
       "    </tr>\n",
       "  </thead>\n",
       "  <tbody>\n",
       "    <tr>\n",
       "      <th>2018-08-16 00:00:00</th>\n",
       "      <th>00:00:00</th>\n",
       "      <td>0.485438</td>\n",
       "      <td>13.704390</td>\n",
       "      <td>759.735596</td>\n",
       "      <td>82.490387</td>\n",
       "      <td>82.814613</td>\n",
       "      <td>168.270096</td>\n",
       "      <td>127.014091</td>\n",
       "      <td>22.268492</td>\n",
       "      <td>349.978271</td>\n",
       "      <td>85.172089</td>\n",
       "      <td>...</td>\n",
       "      <td>23.487450</td>\n",
       "      <td>76.504044</td>\n",
       "      <td>41.856094</td>\n",
       "      <td>33.768810</td>\n",
       "      <td>70.640869</td>\n",
       "      <td>74.101479</td>\n",
       "      <td>46.227104</td>\n",
       "      <td>308.491455</td>\n",
       "      <td>1386.177490</td>\n",
       "      <td>96.028496</td>\n",
       "    </tr>\n",
       "    <tr>\n",
       "      <th>2018-08-16 01:00:00</th>\n",
       "      <th>01:00:00</th>\n",
       "      <td>0.486443</td>\n",
       "      <td>14.682747</td>\n",
       "      <td>758.939575</td>\n",
       "      <td>84.825310</td>\n",
       "      <td>85.061035</td>\n",
       "      <td>168.685211</td>\n",
       "      <td>128.635193</td>\n",
       "      <td>22.674412</td>\n",
       "      <td>350.204132</td>\n",
       "      <td>85.504578</td>\n",
       "      <td>...</td>\n",
       "      <td>23.633106</td>\n",
       "      <td>76.478264</td>\n",
       "      <td>41.984322</td>\n",
       "      <td>33.921059</td>\n",
       "      <td>70.738480</td>\n",
       "      <td>74.173584</td>\n",
       "      <td>46.416500</td>\n",
       "      <td>307.626678</td>\n",
       "      <td>1383.323853</td>\n",
       "      <td>96.039764</td>\n",
       "    </tr>\n",
       "    <tr>\n",
       "      <th>2018-08-16 02:00:00</th>\n",
       "      <th>02:00:00</th>\n",
       "      <td>0.496587</td>\n",
       "      <td>14.022818</td>\n",
       "      <td>761.087402</td>\n",
       "      <td>84.914108</td>\n",
       "      <td>85.217781</td>\n",
       "      <td>169.251389</td>\n",
       "      <td>128.156845</td>\n",
       "      <td>22.561634</td>\n",
       "      <td>351.214966</td>\n",
       "      <td>85.411736</td>\n",
       "      <td>...</td>\n",
       "      <td>23.810165</td>\n",
       "      <td>76.530525</td>\n",
       "      <td>41.715927</td>\n",
       "      <td>34.148010</td>\n",
       "      <td>70.738480</td>\n",
       "      <td>74.236641</td>\n",
       "      <td>46.504772</td>\n",
       "      <td>307.028870</td>\n",
       "      <td>1381.364014</td>\n",
       "      <td>96.113159</td>\n",
       "    </tr>\n",
       "    <tr>\n",
       "      <th>2018-08-16 03:00:00</th>\n",
       "      <th>03:00:00</th>\n",
       "      <td>0.532740</td>\n",
       "      <td>13.443664</td>\n",
       "      <td>759.993347</td>\n",
       "      <td>83.618591</td>\n",
       "      <td>83.950287</td>\n",
       "      <td>168.628265</td>\n",
       "      <td>127.136993</td>\n",
       "      <td>22.304523</td>\n",
       "      <td>350.304291</td>\n",
       "      <td>85.164139</td>\n",
       "      <td>...</td>\n",
       "      <td>23.006880</td>\n",
       "      <td>76.759766</td>\n",
       "      <td>42.757172</td>\n",
       "      <td>33.967159</td>\n",
       "      <td>70.592285</td>\n",
       "      <td>74.064438</td>\n",
       "      <td>46.162468</td>\n",
       "      <td>308.572327</td>\n",
       "      <td>1385.243042</td>\n",
       "      <td>95.938889</td>\n",
       "    </tr>\n",
       "    <tr>\n",
       "      <th>2018-08-16 04:00:00</th>\n",
       "      <th>04:00:00</th>\n",
       "      <td>0.584378</td>\n",
       "      <td>12.676052</td>\n",
       "      <td>760.262573</td>\n",
       "      <td>82.454002</td>\n",
       "      <td>82.755478</td>\n",
       "      <td>168.529510</td>\n",
       "      <td>126.012871</td>\n",
       "      <td>22.126286</td>\n",
       "      <td>350.265015</td>\n",
       "      <td>84.979736</td>\n",
       "      <td>...</td>\n",
       "      <td>22.874638</td>\n",
       "      <td>77.681564</td>\n",
       "      <td>43.185646</td>\n",
       "      <td>35.361031</td>\n",
       "      <td>70.485199</td>\n",
       "      <td>73.977112</td>\n",
       "      <td>45.805019</td>\n",
       "      <td>310.387726</td>\n",
       "      <td>1389.648071</td>\n",
       "      <td>95.648880</td>\n",
       "    </tr>\n",
       "    <tr>\n",
       "      <th>...</th>\n",
       "      <th>...</th>\n",
       "      <td>...</td>\n",
       "      <td>...</td>\n",
       "      <td>...</td>\n",
       "      <td>...</td>\n",
       "      <td>...</td>\n",
       "      <td>...</td>\n",
       "      <td>...</td>\n",
       "      <td>...</td>\n",
       "      <td>...</td>\n",
       "      <td>...</td>\n",
       "      <td>...</td>\n",
       "      <td>...</td>\n",
       "      <td>...</td>\n",
       "      <td>...</td>\n",
       "      <td>...</td>\n",
       "      <td>...</td>\n",
       "      <td>...</td>\n",
       "      <td>...</td>\n",
       "      <td>...</td>\n",
       "      <td>...</td>\n",
       "      <td>...</td>\n",
       "    </tr>\n",
       "    <tr>\n",
       "      <th>2018-08-24 01:00:00</th>\n",
       "      <th>01:00:00</th>\n",
       "      <td>0.473993</td>\n",
       "      <td>11.786310</td>\n",
       "      <td>760.520081</td>\n",
       "      <td>77.178696</td>\n",
       "      <td>77.820496</td>\n",
       "      <td>166.596039</td>\n",
       "      <td>123.442291</td>\n",
       "      <td>20.819235</td>\n",
       "      <td>348.574005</td>\n",
       "      <td>83.701340</td>\n",
       "      <td>...</td>\n",
       "      <td>22.990658</td>\n",
       "      <td>77.625931</td>\n",
       "      <td>40.363670</td>\n",
       "      <td>33.927650</td>\n",
       "      <td>70.351501</td>\n",
       "      <td>73.794785</td>\n",
       "      <td>45.797623</td>\n",
       "      <td>309.746033</td>\n",
       "      <td>1388.534424</td>\n",
       "      <td>95.493912</td>\n",
       "    </tr>\n",
       "    <tr>\n",
       "      <th>2018-08-24 02:00:00</th>\n",
       "      <th>02:00:00</th>\n",
       "      <td>0.467463</td>\n",
       "      <td>11.900259</td>\n",
       "      <td>760.181030</td>\n",
       "      <td>77.017929</td>\n",
       "      <td>77.817200</td>\n",
       "      <td>166.178986</td>\n",
       "      <td>123.550011</td>\n",
       "      <td>20.495556</td>\n",
       "      <td>348.061554</td>\n",
       "      <td>83.390305</td>\n",
       "      <td>...</td>\n",
       "      <td>22.288027</td>\n",
       "      <td>78.207901</td>\n",
       "      <td>41.000538</td>\n",
       "      <td>33.817520</td>\n",
       "      <td>70.213913</td>\n",
       "      <td>73.605209</td>\n",
       "      <td>45.528351</td>\n",
       "      <td>310.769257</td>\n",
       "      <td>1390.792725</td>\n",
       "      <td>95.407166</td>\n",
       "    </tr>\n",
       "    <tr>\n",
       "      <th>2018-08-24 03:00:00</th>\n",
       "      <th>03:00:00</th>\n",
       "      <td>0.464840</td>\n",
       "      <td>11.657276</td>\n",
       "      <td>760.728271</td>\n",
       "      <td>76.772148</td>\n",
       "      <td>77.409386</td>\n",
       "      <td>166.037354</td>\n",
       "      <td>123.248230</td>\n",
       "      <td>20.243111</td>\n",
       "      <td>348.021545</td>\n",
       "      <td>83.107590</td>\n",
       "      <td>...</td>\n",
       "      <td>21.714409</td>\n",
       "      <td>78.645752</td>\n",
       "      <td>42.541042</td>\n",
       "      <td>33.271301</td>\n",
       "      <td>70.082870</td>\n",
       "      <td>73.389854</td>\n",
       "      <td>45.104935</td>\n",
       "      <td>312.714050</td>\n",
       "      <td>1395.204346</td>\n",
       "      <td>95.123466</td>\n",
       "    </tr>\n",
       "    <tr>\n",
       "      <th>2018-08-24 04:00:00</th>\n",
       "      <th>04:00:00</th>\n",
       "      <td>0.467145</td>\n",
       "      <td>11.132824</td>\n",
       "      <td>760.498901</td>\n",
       "      <td>75.521309</td>\n",
       "      <td>76.357529</td>\n",
       "      <td>165.655212</td>\n",
       "      <td>122.510582</td>\n",
       "      <td>19.950104</td>\n",
       "      <td>347.567444</td>\n",
       "      <td>82.829147</td>\n",
       "      <td>...</td>\n",
       "      <td>22.560356</td>\n",
       "      <td>78.643066</td>\n",
       "      <td>43.564651</td>\n",
       "      <td>32.213875</td>\n",
       "      <td>70.060699</td>\n",
       "      <td>73.233437</td>\n",
       "      <td>44.747948</td>\n",
       "      <td>314.445190</td>\n",
       "      <td>1399.405029</td>\n",
       "      <td>94.838837</td>\n",
       "    </tr>\n",
       "    <tr>\n",
       "      <th>2018-08-24 05:00:00</th>\n",
       "      <th>05:00:00</th>\n",
       "      <td>0.468127</td>\n",
       "      <td>10.911824</td>\n",
       "      <td>760.193115</td>\n",
       "      <td>75.030769</td>\n",
       "      <td>75.882812</td>\n",
       "      <td>165.509659</td>\n",
       "      <td>122.077087</td>\n",
       "      <td>19.870119</td>\n",
       "      <td>347.370697</td>\n",
       "      <td>82.747231</td>\n",
       "      <td>...</td>\n",
       "      <td>22.755892</td>\n",
       "      <td>78.610199</td>\n",
       "      <td>43.956718</td>\n",
       "      <td>31.639442</td>\n",
       "      <td>70.037277</td>\n",
       "      <td>73.157028</td>\n",
       "      <td>44.601780</td>\n",
       "      <td>315.065063</td>\n",
       "      <td>1401.377930</td>\n",
       "      <td>94.677277</td>\n",
       "    </tr>\n",
       "  </tbody>\n",
       "</table>\n",
       "<p>192 rows × 109 columns</p>\n",
       "</div>"
      ],
      "text/plain": [
       "                              58PDI1202.PV  58TI3246.PV  58PIC3226A.PV  \\\n",
       "Date                Time                                                 \n",
       "2018-08-16 00:00:00 00:00:00      0.485438    13.704390     759.735596   \n",
       "2018-08-16 01:00:00 01:00:00      0.486443    14.682747     758.939575   \n",
       "2018-08-16 02:00:00 02:00:00      0.496587    14.022818     761.087402   \n",
       "2018-08-16 03:00:00 03:00:00      0.532740    13.443664     759.993347   \n",
       "2018-08-16 04:00:00 04:00:00      0.584378    12.676052     760.262573   \n",
       "...                                    ...          ...            ...   \n",
       "2018-08-24 01:00:00 01:00:00      0.473993    11.786310     760.520081   \n",
       "2018-08-24 02:00:00 02:00:00      0.467463    11.900259     760.181030   \n",
       "2018-08-24 03:00:00 03:00:00      0.464840    11.657276     760.728271   \n",
       "2018-08-24 04:00:00 04:00:00      0.467145    11.132824     760.498901   \n",
       "2018-08-24 05:00:00 05:00:00      0.468127    10.911824     760.193115   \n",
       "\n",
       "                              58HIC3225.MV  58ZI3225.PV  58PI3239.PV  \\\n",
       "Date                Time                                               \n",
       "2018-08-16 00:00:00 00:00:00     82.490387    82.814613   168.270096   \n",
       "2018-08-16 01:00:00 01:00:00     84.825310    85.061035   168.685211   \n",
       "2018-08-16 02:00:00 02:00:00     84.914108    85.217781   169.251389   \n",
       "2018-08-16 03:00:00 03:00:00     83.618591    83.950287   168.628265   \n",
       "2018-08-16 04:00:00 04:00:00     82.454002    82.755478   168.529510   \n",
       "...                                    ...          ...          ...   \n",
       "2018-08-24 01:00:00 01:00:00     77.178696    77.820496   166.596039   \n",
       "2018-08-24 02:00:00 02:00:00     77.017929    77.817200   166.178986   \n",
       "2018-08-24 03:00:00 03:00:00     76.772148    77.409386   166.037354   \n",
       "2018-08-24 04:00:00 04:00:00     75.521309    76.357529   165.655212   \n",
       "2018-08-24 05:00:00 05:00:00     75.030769    75.882812   165.509659   \n",
       "\n",
       "                              58TI3230.PV  58TI3231.PV  58PI3209.PV  \\\n",
       "Date                Time                                              \n",
       "2018-08-16 00:00:00 00:00:00   127.014091    22.268492   349.978271   \n",
       "2018-08-16 01:00:00 01:00:00   128.635193    22.674412   350.204132   \n",
       "2018-08-16 02:00:00 02:00:00   128.156845    22.561634   351.214966   \n",
       "2018-08-16 03:00:00 03:00:00   127.136993    22.304523   350.304291   \n",
       "2018-08-16 04:00:00 04:00:00   126.012871    22.126286   350.265015   \n",
       "...                                   ...          ...          ...   \n",
       "2018-08-24 01:00:00 01:00:00   123.442291    20.819235   348.574005   \n",
       "2018-08-24 02:00:00 02:00:00   123.550011    20.495556   348.061554   \n",
       "2018-08-24 03:00:00 03:00:00   123.248230    20.243111   348.021545   \n",
       "2018-08-24 04:00:00 04:00:00   122.510582    19.950104   347.567444   \n",
       "2018-08-24 05:00:00 05:00:00   122.077087    19.870119   347.370697   \n",
       "\n",
       "                              58TI3208.PV  ...  58VI3118B.PV  58TI3113.PV  \\\n",
       "Date                Time                   ...                              \n",
       "2018-08-16 00:00:00 00:00:00    85.172089  ...     23.487450    76.504044   \n",
       "2018-08-16 01:00:00 01:00:00    85.504578  ...     23.633106    76.478264   \n",
       "2018-08-16 02:00:00 02:00:00    85.411736  ...     23.810165    76.530525   \n",
       "2018-08-16 03:00:00 03:00:00    85.164139  ...     23.006880    76.759766   \n",
       "2018-08-16 04:00:00 04:00:00    84.979736  ...     22.874638    77.681564   \n",
       "...                                   ...  ...           ...          ...   \n",
       "2018-08-24 01:00:00 01:00:00    83.701340  ...     22.990658    77.625931   \n",
       "2018-08-24 02:00:00 02:00:00    83.390305  ...     22.288027    78.207901   \n",
       "2018-08-24 03:00:00 03:00:00    83.107590  ...     21.714409    78.645752   \n",
       "2018-08-24 04:00:00 04:00:00    82.829147  ...     22.560356    78.643066   \n",
       "2018-08-24 05:00:00 05:00:00    82.747231  ...     22.755892    78.610199   \n",
       "\n",
       "                              58VI3233A.PV  58VI3233B.PV  58TI3232.PV  \\\n",
       "Date                Time                                                \n",
       "2018-08-16 00:00:00 00:00:00     41.856094     33.768810    70.640869   \n",
       "2018-08-16 01:00:00 01:00:00     41.984322     33.921059    70.738480   \n",
       "2018-08-16 02:00:00 02:00:00     41.715927     34.148010    70.738480   \n",
       "2018-08-16 03:00:00 03:00:00     42.757172     33.967159    70.592285   \n",
       "2018-08-16 04:00:00 04:00:00     43.185646     35.361031    70.485199   \n",
       "...                                    ...           ...          ...   \n",
       "2018-08-24 01:00:00 01:00:00     40.363670     33.927650    70.351501   \n",
       "2018-08-24 02:00:00 02:00:00     41.000538     33.817520    70.213913   \n",
       "2018-08-24 03:00:00 03:00:00     42.541042     33.271301    70.082870   \n",
       "2018-08-24 04:00:00 04:00:00     43.564651     32.213875    70.060699   \n",
       "2018-08-24 05:00:00 05:00:00     43.956718     31.639442    70.037277   \n",
       "\n",
       "                              58TI3234.PV  58TI3414.PV  58PI3314.PV  \\\n",
       "Date                Time                                              \n",
       "2018-08-16 00:00:00 00:00:00    74.101479    46.227104   308.491455   \n",
       "2018-08-16 01:00:00 01:00:00    74.173584    46.416500   307.626678   \n",
       "2018-08-16 02:00:00 02:00:00    74.236641    46.504772   307.028870   \n",
       "2018-08-16 03:00:00 03:00:00    74.064438    46.162468   308.572327   \n",
       "2018-08-16 04:00:00 04:00:00    73.977112    45.805019   310.387726   \n",
       "...                                   ...          ...          ...   \n",
       "2018-08-24 01:00:00 01:00:00    73.794785    45.797623   309.746033   \n",
       "2018-08-24 02:00:00 02:00:00    73.605209    45.528351   310.769257   \n",
       "2018-08-24 03:00:00 03:00:00    73.389854    45.104935   312.714050   \n",
       "2018-08-24 04:00:00 04:00:00    73.233437    44.747948   314.445190   \n",
       "2018-08-24 05:00:00 05:00:00    73.157028    44.601780   315.065063   \n",
       "\n",
       "                              58PI3107.PV  58LI3403.PV  \n",
       "Date                Time                                \n",
       "2018-08-16 00:00:00 00:00:00  1386.177490    96.028496  \n",
       "2018-08-16 01:00:00 01:00:00  1383.323853    96.039764  \n",
       "2018-08-16 02:00:00 02:00:00  1381.364014    96.113159  \n",
       "2018-08-16 03:00:00 03:00:00  1385.243042    95.938889  \n",
       "2018-08-16 04:00:00 04:00:00  1389.648071    95.648880  \n",
       "...                                   ...          ...  \n",
       "2018-08-24 01:00:00 01:00:00  1388.534424    95.493912  \n",
       "2018-08-24 02:00:00 02:00:00  1390.792725    95.407166  \n",
       "2018-08-24 03:00:00 03:00:00  1395.204346    95.123466  \n",
       "2018-08-24 04:00:00 04:00:00  1399.405029    94.838837  \n",
       "2018-08-24 05:00:00 05:00:00  1401.377930    94.677277  \n",
       "\n",
       "[192 rows x 109 columns]"
      ]
     },
     "execution_count": 11,
     "metadata": {},
     "output_type": "execute_result"
    }
   ],
   "source": [
    "df"
   ]
  },
  {
   "cell_type": "code",
   "execution_count": 12,
   "metadata": {},
   "outputs": [
    {
     "data": {
      "text/html": [
       "<div>\n",
       "<style scoped>\n",
       "    .dataframe tbody tr th:only-of-type {\n",
       "        vertical-align: middle;\n",
       "    }\n",
       "\n",
       "    .dataframe tbody tr th {\n",
       "        vertical-align: top;\n",
       "    }\n",
       "\n",
       "    .dataframe thead th {\n",
       "        text-align: right;\n",
       "    }\n",
       "</style>\n",
       "<table border=\"1\" class=\"dataframe\">\n",
       "  <thead>\n",
       "    <tr style=\"text-align: right;\">\n",
       "      <th></th>\n",
       "      <th>sepal_length</th>\n",
       "      <th>sepal_width</th>\n",
       "      <th>petal_length</th>\n",
       "      <th>petal_width</th>\n",
       "      <th>species</th>\n",
       "    </tr>\n",
       "  </thead>\n",
       "  <tbody>\n",
       "    <tr>\n",
       "      <th>0</th>\n",
       "      <td>5.1</td>\n",
       "      <td>3.5</td>\n",
       "      <td>1.4</td>\n",
       "      <td>0.2</td>\n",
       "      <td>setosa</td>\n",
       "    </tr>\n",
       "    <tr>\n",
       "      <th>1</th>\n",
       "      <td>4.9</td>\n",
       "      <td>3.0</td>\n",
       "      <td>1.4</td>\n",
       "      <td>0.2</td>\n",
       "      <td>setosa</td>\n",
       "    </tr>\n",
       "    <tr>\n",
       "      <th>2</th>\n",
       "      <td>4.7</td>\n",
       "      <td>3.2</td>\n",
       "      <td>1.3</td>\n",
       "      <td>0.2</td>\n",
       "      <td>setosa</td>\n",
       "    </tr>\n",
       "    <tr>\n",
       "      <th>3</th>\n",
       "      <td>4.6</td>\n",
       "      <td>3.1</td>\n",
       "      <td>1.5</td>\n",
       "      <td>0.2</td>\n",
       "      <td>setosa</td>\n",
       "    </tr>\n",
       "    <tr>\n",
       "      <th>4</th>\n",
       "      <td>5.0</td>\n",
       "      <td>3.6</td>\n",
       "      <td>1.4</td>\n",
       "      <td>0.2</td>\n",
       "      <td>setosa</td>\n",
       "    </tr>\n",
       "  </tbody>\n",
       "</table>\n",
       "</div>"
      ],
      "text/plain": [
       "   sepal_length  sepal_width  petal_length  petal_width species\n",
       "0           5.1          3.5           1.4          0.2  setosa\n",
       "1           4.9          3.0           1.4          0.2  setosa\n",
       "2           4.7          3.2           1.3          0.2  setosa\n",
       "3           4.6          3.1           1.5          0.2  setosa\n",
       "4           5.0          3.6           1.4          0.2  setosa"
      ]
     },
     "execution_count": 12,
     "metadata": {},
     "output_type": "execute_result"
    }
   ],
   "source": [
    "import seaborn as sns\n",
    "iris = sns.load_dataset('iris')\n",
    "iris.head()"
   ]
  },
  {
   "cell_type": "code",
   "execution_count": 18,
   "metadata": {},
   "outputs": [],
   "source": [
    "from sklearn.preprocessing import scale\n",
    "from sklearn import decomposition\n",
    "X = scale(df)"
   ]
  },
  {
   "cell_type": "code",
   "execution_count": 21,
   "metadata": {},
   "outputs": [
    {
     "data": {
      "text/html": [
       "<style>#sk-container-id-2 {color: black;background-color: white;}#sk-container-id-2 pre{padding: 0;}#sk-container-id-2 div.sk-toggleable {background-color: white;}#sk-container-id-2 label.sk-toggleable__label {cursor: pointer;display: block;width: 100%;margin-bottom: 0;padding: 0.3em;box-sizing: border-box;text-align: center;}#sk-container-id-2 label.sk-toggleable__label-arrow:before {content: \"▸\";float: left;margin-right: 0.25em;color: #696969;}#sk-container-id-2 label.sk-toggleable__label-arrow:hover:before {color: black;}#sk-container-id-2 div.sk-estimator:hover label.sk-toggleable__label-arrow:before {color: black;}#sk-container-id-2 div.sk-toggleable__content {max-height: 0;max-width: 0;overflow: hidden;text-align: left;background-color: #f0f8ff;}#sk-container-id-2 div.sk-toggleable__content pre {margin: 0.2em;color: black;border-radius: 0.25em;background-color: #f0f8ff;}#sk-container-id-2 input.sk-toggleable__control:checked~div.sk-toggleable__content {max-height: 200px;max-width: 100%;overflow: auto;}#sk-container-id-2 input.sk-toggleable__control:checked~label.sk-toggleable__label-arrow:before {content: \"▾\";}#sk-container-id-2 div.sk-estimator input.sk-toggleable__control:checked~label.sk-toggleable__label {background-color: #d4ebff;}#sk-container-id-2 div.sk-label input.sk-toggleable__control:checked~label.sk-toggleable__label {background-color: #d4ebff;}#sk-container-id-2 input.sk-hidden--visually {border: 0;clip: rect(1px 1px 1px 1px);clip: rect(1px, 1px, 1px, 1px);height: 1px;margin: -1px;overflow: hidden;padding: 0;position: absolute;width: 1px;}#sk-container-id-2 div.sk-estimator {font-family: monospace;background-color: #f0f8ff;border: 1px dotted black;border-radius: 0.25em;box-sizing: border-box;margin-bottom: 0.5em;}#sk-container-id-2 div.sk-estimator:hover {background-color: #d4ebff;}#sk-container-id-2 div.sk-parallel-item::after {content: \"\";width: 100%;border-bottom: 1px solid gray;flex-grow: 1;}#sk-container-id-2 div.sk-label:hover label.sk-toggleable__label {background-color: #d4ebff;}#sk-container-id-2 div.sk-serial::before {content: \"\";position: absolute;border-left: 1px solid gray;box-sizing: border-box;top: 0;bottom: 0;left: 50%;z-index: 0;}#sk-container-id-2 div.sk-serial {display: flex;flex-direction: column;align-items: center;background-color: white;padding-right: 0.2em;padding-left: 0.2em;position: relative;}#sk-container-id-2 div.sk-item {position: relative;z-index: 1;}#sk-container-id-2 div.sk-parallel {display: flex;align-items: stretch;justify-content: center;background-color: white;position: relative;}#sk-container-id-2 div.sk-item::before, #sk-container-id-2 div.sk-parallel-item::before {content: \"\";position: absolute;border-left: 1px solid gray;box-sizing: border-box;top: 0;bottom: 0;left: 50%;z-index: -1;}#sk-container-id-2 div.sk-parallel-item {display: flex;flex-direction: column;z-index: 1;position: relative;background-color: white;}#sk-container-id-2 div.sk-parallel-item:first-child::after {align-self: flex-end;width: 50%;}#sk-container-id-2 div.sk-parallel-item:last-child::after {align-self: flex-start;width: 50%;}#sk-container-id-2 div.sk-parallel-item:only-child::after {width: 0;}#sk-container-id-2 div.sk-dashed-wrapped {border: 1px dashed gray;margin: 0 0.4em 0.5em 0.4em;box-sizing: border-box;padding-bottom: 0.4em;background-color: white;}#sk-container-id-2 div.sk-label label {font-family: monospace;font-weight: bold;display: inline-block;line-height: 1.2em;}#sk-container-id-2 div.sk-label-container {text-align: center;}#sk-container-id-2 div.sk-container {/* jupyter's `normalize.less` sets `[hidden] { display: none; }` but bootstrap.min.css set `[hidden] { display: none !important; }` so we also need the `!important` here to be able to override the default hidden behavior on the sphinx rendered scikit-learn.org. See: https://github.com/scikit-learn/scikit-learn/issues/21755 */display: inline-block !important;position: relative;}#sk-container-id-2 div.sk-text-repr-fallback {display: none;}</style><div id=\"sk-container-id-2\" class=\"sk-top-container\"><div class=\"sk-text-repr-fallback\"><pre>PCA(n_components=3)</pre><b>In a Jupyter environment, please rerun this cell to show the HTML representation or trust the notebook. <br />On GitHub, the HTML representation is unable to render, please try loading this page with nbviewer.org.</b></div><div class=\"sk-container\" hidden><div class=\"sk-item\"><div class=\"sk-estimator sk-toggleable\"><input class=\"sk-toggleable__control sk-hidden--visually\" id=\"sk-estimator-id-2\" type=\"checkbox\" checked><label for=\"sk-estimator-id-2\" class=\"sk-toggleable__label sk-toggleable__label-arrow\">PCA</label><div class=\"sk-toggleable__content\"><pre>PCA(n_components=3)</pre></div></div></div></div></div>"
      ],
      "text/plain": [
       "PCA(n_components=3)"
      ]
     },
     "execution_count": 21,
     "metadata": {},
     "output_type": "execute_result"
    }
   ],
   "source": [
    "pca = decomposition.PCA(n_components=3)\n",
    "pca.fit(X)"
   ]
  },
  {
   "cell_type": "code",
   "execution_count": 25,
   "metadata": {},
   "outputs": [
    {
     "data": {
      "text/html": [
       "<div>\n",
       "<style scoped>\n",
       "    .dataframe tbody tr th:only-of-type {\n",
       "        vertical-align: middle;\n",
       "    }\n",
       "\n",
       "    .dataframe tbody tr th {\n",
       "        vertical-align: top;\n",
       "    }\n",
       "\n",
       "    .dataframe thead th {\n",
       "        text-align: right;\n",
       "    }\n",
       "</style>\n",
       "<table border=\"1\" class=\"dataframe\">\n",
       "  <thead>\n",
       "    <tr style=\"text-align: right;\">\n",
       "      <th></th>\n",
       "      <th>PC1</th>\n",
       "      <th>PC2</th>\n",
       "      <th>PC3</th>\n",
       "    </tr>\n",
       "  </thead>\n",
       "  <tbody>\n",
       "    <tr>\n",
       "      <th>0</th>\n",
       "      <td>-0.831807</td>\n",
       "      <td>-1.409666</td>\n",
       "      <td>-0.649151</td>\n",
       "    </tr>\n",
       "    <tr>\n",
       "      <th>1</th>\n",
       "      <td>1.308848</td>\n",
       "      <td>-1.202074</td>\n",
       "      <td>-1.124630</td>\n",
       "    </tr>\n",
       "    <tr>\n",
       "      <th>2</th>\n",
       "      <td>0.695631</td>\n",
       "      <td>-1.762999</td>\n",
       "      <td>-3.789233</td>\n",
       "    </tr>\n",
       "    <tr>\n",
       "      <th>3</th>\n",
       "      <td>-0.268076</td>\n",
       "      <td>-1.398477</td>\n",
       "      <td>-2.022174</td>\n",
       "    </tr>\n",
       "    <tr>\n",
       "      <th>4</th>\n",
       "      <td>-1.737866</td>\n",
       "      <td>-1.120452</td>\n",
       "      <td>-0.998125</td>\n",
       "    </tr>\n",
       "    <tr>\n",
       "      <th>...</th>\n",
       "      <td>...</td>\n",
       "      <td>...</td>\n",
       "      <td>...</td>\n",
       "    </tr>\n",
       "    <tr>\n",
       "      <th>187</th>\n",
       "      <td>-5.321524</td>\n",
       "      <td>-5.488164</td>\n",
       "      <td>-2.428397</td>\n",
       "    </tr>\n",
       "    <tr>\n",
       "      <th>188</th>\n",
       "      <td>-6.396318</td>\n",
       "      <td>-4.704834</td>\n",
       "      <td>-2.129935</td>\n",
       "    </tr>\n",
       "    <tr>\n",
       "      <th>189</th>\n",
       "      <td>-8.426948</td>\n",
       "      <td>-4.706928</td>\n",
       "      <td>-1.589742</td>\n",
       "    </tr>\n",
       "    <tr>\n",
       "      <th>190</th>\n",
       "      <td>-10.018027</td>\n",
       "      <td>-4.787396</td>\n",
       "      <td>0.061166</td>\n",
       "    </tr>\n",
       "    <tr>\n",
       "      <th>191</th>\n",
       "      <td>-10.849555</td>\n",
       "      <td>-4.727860</td>\n",
       "      <td>1.340361</td>\n",
       "    </tr>\n",
       "  </tbody>\n",
       "</table>\n",
       "<p>192 rows × 3 columns</p>\n",
       "</div>"
      ],
      "text/plain": [
       "           PC1       PC2       PC3\n",
       "0    -0.831807 -1.409666 -0.649151\n",
       "1     1.308848 -1.202074 -1.124630\n",
       "2     0.695631 -1.762999 -3.789233\n",
       "3    -0.268076 -1.398477 -2.022174\n",
       "4    -1.737866 -1.120452 -0.998125\n",
       "..         ...       ...       ...\n",
       "187  -5.321524 -5.488164 -2.428397\n",
       "188  -6.396318 -4.704834 -2.129935\n",
       "189  -8.426948 -4.706928 -1.589742\n",
       "190 -10.018027 -4.787396  0.061166\n",
       "191 -10.849555 -4.727860  1.340361\n",
       "\n",
       "[192 rows x 3 columns]"
      ]
     },
     "execution_count": 25,
     "metadata": {},
     "output_type": "execute_result"
    }
   ],
   "source": [
    "scores = pca.transform(X)\n",
    "scores_df = pd.DataFrame(scores,columns=['PC1','PC2','PC3'])\n",
    "scores_df"
   ]
  },
  {
   "cell_type": "code",
   "execution_count": 51,
   "metadata": {},
   "outputs": [
    {
     "data": {
      "text/html": [
       "<div>\n",
       "<style scoped>\n",
       "    .dataframe tbody tr th:only-of-type {\n",
       "        vertical-align: middle;\n",
       "    }\n",
       "\n",
       "    .dataframe tbody tr th {\n",
       "        vertical-align: top;\n",
       "    }\n",
       "\n",
       "    .dataframe thead th {\n",
       "        text-align: right;\n",
       "    }\n",
       "</style>\n",
       "<table border=\"1\" class=\"dataframe\">\n",
       "  <thead>\n",
       "    <tr style=\"text-align: right;\">\n",
       "      <th></th>\n",
       "      <th>PC1</th>\n",
       "      <th>PC2</th>\n",
       "      <th>PC3</th>\n",
       "    </tr>\n",
       "  </thead>\n",
       "  <tbody>\n",
       "    <tr>\n",
       "      <th>58TI3414.PV</th>\n",
       "      <td>0.132567</td>\n",
       "      <td>-0.008799</td>\n",
       "      <td>-0.033748</td>\n",
       "    </tr>\n",
       "    <tr>\n",
       "      <th>58TI3117.PV</th>\n",
       "      <td>0.132557</td>\n",
       "      <td>-0.013824</td>\n",
       "      <td>-0.015572</td>\n",
       "    </tr>\n",
       "    <tr>\n",
       "      <th>58TI3224.PV</th>\n",
       "      <td>0.132089</td>\n",
       "      <td>0.005279</td>\n",
       "      <td>-0.035718</td>\n",
       "    </tr>\n",
       "    <tr>\n",
       "      <th>58TI3211.PV</th>\n",
       "      <td>0.131885</td>\n",
       "      <td>0.013248</td>\n",
       "      <td>-0.048472</td>\n",
       "    </tr>\n",
       "    <tr>\n",
       "      <th>58TI3222.PV</th>\n",
       "      <td>0.131865</td>\n",
       "      <td>0.003477</td>\n",
       "      <td>-0.028778</td>\n",
       "    </tr>\n",
       "    <tr>\n",
       "      <th>...</th>\n",
       "      <td>...</td>\n",
       "      <td>...</td>\n",
       "      <td>...</td>\n",
       "    </tr>\n",
       "    <tr>\n",
       "      <th>58VI3203A.PV</th>\n",
       "      <td>-0.129657</td>\n",
       "      <td>0.014903</td>\n",
       "      <td>-0.022427</td>\n",
       "    </tr>\n",
       "    <tr>\n",
       "      <th>58VI3268A.PV</th>\n",
       "      <td>-0.131580</td>\n",
       "      <td>0.009735</td>\n",
       "      <td>0.025539</td>\n",
       "    </tr>\n",
       "    <tr>\n",
       "      <th>58VI3210B.PV</th>\n",
       "      <td>-0.131626</td>\n",
       "      <td>0.001642</td>\n",
       "      <td>0.020905</td>\n",
       "    </tr>\n",
       "    <tr>\n",
       "      <th>58VI3268B.PV</th>\n",
       "      <td>-0.132443</td>\n",
       "      <td>0.004710</td>\n",
       "      <td>0.030358</td>\n",
       "    </tr>\n",
       "    <tr>\n",
       "      <th>58VI3228A.PV</th>\n",
       "      <td>-0.132622</td>\n",
       "      <td>-0.001925</td>\n",
       "      <td>0.028098</td>\n",
       "    </tr>\n",
       "  </tbody>\n",
       "</table>\n",
       "<p>109 rows × 3 columns</p>\n",
       "</div>"
      ],
      "text/plain": [
       "                   PC1       PC2       PC3\n",
       "58TI3414.PV   0.132567 -0.008799 -0.033748\n",
       "58TI3117.PV   0.132557 -0.013824 -0.015572\n",
       "58TI3224.PV   0.132089  0.005279 -0.035718\n",
       "58TI3211.PV   0.131885  0.013248 -0.048472\n",
       "58TI3222.PV   0.131865  0.003477 -0.028778\n",
       "...                ...       ...       ...\n",
       "58VI3203A.PV -0.129657  0.014903 -0.022427\n",
       "58VI3268A.PV -0.131580  0.009735  0.025539\n",
       "58VI3210B.PV -0.131626  0.001642  0.020905\n",
       "58VI3268B.PV -0.132443  0.004710  0.030358\n",
       "58VI3228A.PV -0.132622 -0.001925  0.028098\n",
       "\n",
       "[109 rows x 3 columns]"
      ]
     },
     "execution_count": 51,
     "metadata": {},
     "output_type": "execute_result"
    }
   ],
   "source": [
    "loadings = pca.components_.T\n",
    "loadings.shape\n",
    "index = df.columns.to_list()\n",
    "len(index)\n",
    "df_loadings = pd.DataFrame(loadings,columns=['PC1','PC2','PC3'],index=index)\n",
    "df_loadings.sort_values(by = 'PC1',ascending=False)"
   ]
  },
  {
   "cell_type": "code",
   "execution_count": 44,
   "metadata": {},
   "outputs": [
    {
     "data": {
      "text/plain": [
       "array([0.51436954, 0.16670643, 0.06634926])"
      ]
     },
     "execution_count": 44,
     "metadata": {},
     "output_type": "execute_result"
    }
   ],
   "source": [
    "explained_var = pca.explained_variance_ratio_\n",
    "explained_var"
   ]
  },
  {
   "cell_type": "code",
   "execution_count": 62,
   "metadata": {},
   "outputs": [
    {
     "data": {
      "application/vnd.plotly.v1+json": {
       "config": {
        "plotlyServerURL": "https://plot.ly"
       },
       "data": [
        {
         "dimensions": [
          {
           "axis": {
            "matches": true
           },
           "label": "PC1",
           "values": [
            0.008821353993050274,
            0.12005225658754115,
            -0.05422087353916549,
            0.13166881699588573,
            0.13167086498987643,
            0.12497948339736387,
            0.12762666589479502,
            0.13139051286807796,
            0.11537250721016654,
            0.13165781218821465,
            0.13132966751831324,
            -0.05421612557452735,
            0.13126686955438144,
            0.054425728027060215,
            -0.12079208447924453,
            -0.10843396023032059,
            0.046460787021829084,
            -0.012459330891429693,
            0.031526334046569224,
            0.111654814542644,
            -0.04802257853683654,
            0.003019924442080038,
            -0.032669386040681286,
            0.11381223580615145,
            0.11616117167754578,
            0.10828786860998489,
            -0.054673905547414726,
            -0.029418286319834452,
            -0.08353424494787919,
            -0.07340337821067532,
            0.01238713952387451,
            -0.0841273159027902,
            -0.06141621798231358,
            -0.05090902807348965,
            -0.053470704154840516,
            -0.03463822208221063,
            0.018873858338139746,
            -0.09027010455779451,
            -0.025624457171803512,
            0.0062129705012774206,
            -0.06633365440180782,
            -0.01863466992200004,
            0.020859345327314694,
            0.043717575825416674,
            0.11432317725343212,
            0.11495625388607332,
            0.12032510045662546,
            0.01103296834260978,
            0,
            0.01604394353179924,
            0.009675264580570104,
            -0.021458258206931317,
            -0.0756681126276638,
            -0.05104509481318495,
            -0.029418286319834452,
            0.09427769659851677,
            -0.12837257389220594,
            0.1320887442631662,
            -0.10722060160558822,
            -0.12854520759379315,
            0.1312200862647014,
            -0.13158000881203663,
            -0.13244348849831653,
            -0.09159961760062127,
            -0.11749656398045952,
            -0.13162565455214414,
            0.10940751888422308,
            -0.13262180280174865,
            -0.12468071441491566,
            0.13186499957928363,
            -0.12965692776081214,
            -0.11130934224694285,
            0.13188542859240046,
            0.11417241101358507,
            -0.04845624089828855,
            0.06353317703190366,
            0.12513609436394105,
            -0.05427811023213793,
            -0.0914322681402893,
            0.12959617002798673,
            -0.129469955526281,
            -0.12737474724224185,
            -0.003780969571828427,
            -0.12205415266503104,
            0.05975687420003986,
            0.13177188577797025,
            0.09618751757189369,
            0.11169970644820294,
            0.1318466110346826,
            -0.029418286319834452,
            -0.0789936245460348,
            -0.0055604973237302294,
            0.132556868117253,
            0.1294823635757815,
            0.08776749520836875,
            0.08412142013495218,
            0.03167706200042544,
            -0.09863525446639482,
            0.032414573851596185,
            0.09503830854216888,
            -0.11440631949713338,
            0.08050680856515492,
            -0.06880727899972817,
            0.1263299262766102,
            0.125492984453579,
            0.1325665235644179,
            -0.1293311849608289,
            -0.12796044580016366,
            0.12869736910381316
           ]
          },
          {
           "axis": {
            "matches": true
           },
           "label": "PC2",
           "values": [
            -0.07131576968821367,
            0.04885910895556145,
            -0.07183738972061954,
            0.017879390905923498,
            0.016878263062339083,
            -0.03608367559766307,
            0.036023952098245035,
            -0.0295651202858202,
            -0.045893827717704214,
            -0.027612219579608164,
            -0.027655208813493273,
            -0.07183192165766826,
            -0.029622276552994518,
            0.0717787633243287,
            -0.009621654944358538,
            -0.00850893618604138,
            0.037895348215246955,
            0.031052382777799144,
            0.016662200139934465,
            -0.0008519593350467564,
            -0.054012411357164426,
            0.15878300840645734,
            -0.07358178185786234,
            -0.004423752821349933,
            0.0036673889820230177,
            0.0064491497803390386,
            -0.07899231572222737,
            0.012762212717409342,
            0.013673881750917698,
            0.046221400612611416,
            0.00380028421957896,
            0.010390497408027999,
            0.021471445967428397,
            -0.2018675162290633,
            -0.18893105339853258,
            -0.21708439593207357,
            -0.21414549326826512,
            0.10991928089298164,
            -0.22539279851990326,
            -0.22599739463715357,
            0.15772133885191703,
            -0.22821402614839237,
            -0.22603080282587337,
            -0.21320724264704474,
            -0.06582058555037629,
            -0.00039178500597253986,
            0.058162510676701994,
            0.22935705604017223,
            0,
            0.1945441900958456,
            0.226241965997503,
            -0.22787662472703743,
            -0.19039251557936485,
            -0.1634297857099215,
            0.012762212717409339,
            -0.06473110978697132,
            0.0039587092997856186,
            0.005278834758289825,
            0.03669374548831562,
            0.022619754775338508,
            -0.001508057996594127,
            0.009735013354316008,
            0.004710391742306765,
            -0.00583206060381094,
            -0.0017652182162944028,
            0.0016424363266028493,
            0.01006025172693046,
            -0.001925218273887544,
            0.039852365605731,
            0.0034766834399359904,
            0.01490303901368278,
            -0.013690538348002948,
            0.013247982883586798,
            -0.09289422649652793,
            0.13978609217078575,
            0.06895285289468128,
            -0.027913466390377763,
            -0.09802157650199038,
            -0.10051672259594444,
            -0.02033744456926708,
            -0.009050196580639078,
            0.010339942925550242,
            -0.22509412501305961,
            0.04096506653060006,
            0.026635322208155055,
            0.0023354611722636504,
            -0.07781008085989005,
            -0.0037390761703386343,
            0.006720840116987754,
            0.012762212717409339,
            -0.09986863553652993,
            -0.016419561063469233,
            -0.013824235847082726,
            -0.02641527023223452,
            -0.13825404647938336,
            0.02570989575199484,
            0.01917128536812893,
            -0.1549744279352574,
            -0.10163636888877765,
            -0.0680124623985146,
            0.001181680779424521,
            -0.021881817653132397,
            0.08044406936834429,
            -0.03795201460657171,
            -0.008889259401523403,
            -0.00879886710277535,
            -0.001963575407491845,
            -0.019219512624671947,
            0.018264473951994795
           ]
          },
          {
           "axis": {
            "matches": true
           },
           "label": "PC3",
           "values": [
            -0.017548334632435523,
            -0.024466712083971213,
            -0.2245819446100552,
            -0.022134239385200268,
            -0.021430348437226437,
            -0.04503602229394546,
            -0.019063876878906927,
            0.006855563778888629,
            -0.09848679194761412,
            0.006410884620755938,
            0.009346526271550018,
            -0.22459324141314543,
            0.0107140898095643,
            0.2245399285809732,
            0.0718556664321713,
            -0.1499230338695,
            -0.18350850678926534,
            -0.1155794505321267,
            0.006328013047560097,
            -0.019517638050967196,
            -0.2358537017146133,
            -0.19274974546229284,
            -0.20299324358085194,
            -0.027726721278900517,
            -0.057276758816155314,
            -0.04265343887514483,
            -0.025793306594881164,
            0.11916123262932264,
            -0.17693511243561313,
            -0.21298498782995426,
            0.024471753064257112,
            -0.17233736232904248,
            -0.20080319913375083,
            -0.10473277567783071,
            -0.1386748700185104,
            -0.04881580153625995,
            -0.06416921598693334,
            0.05729375088715198,
            -0.022333780852719896,
            -0.04837571596345091,
            0.0842571211697698,
            0.007051691670207253,
            0.02029855436687426,
            0.03759291577178623,
            0.056382868693580404,
            0.07483383435388974,
            -0.022374454699148186,
            -0.025841646168963603,
            0,
            -0.07919935222935472,
            -0.027343926131896294,
            0.004032708855720797,
            0.012367209296456806,
            -0.059546639062412365,
            0.11916123262932264,
            -0.07639422783596794,
            -0.012609954368950042,
            -0.03571810454303012,
            -0.05741537613229815,
            -0.023252456355303906,
            -0.02927999847369205,
            0.025539035804893452,
            0.03035793216027069,
            0.07833459630106877,
            0.017637234654628596,
            0.02090466630179272,
            0.000006871315065698477,
            0.028098024363968646,
            0.04685717092061177,
            -0.028778340115923107,
            -0.022427435042910608,
            -0.06290890965197482,
            -0.04847171816141564,
            0.010059149006608394,
            -0.16076438441629404,
            -0.05448544000810908,
            -0.04949440038662338,
            0.07826816228409936,
            0.06851805730581469,
            -0.03051432566978572,
            0.04847013099596667,
            0.030004520798974404,
            0.028958638763332687,
            0.0469675344309427,
            0.09837619448578179,
            -0.03579442144752176,
            -0.11771376973853682,
            -0.10168123374604805,
            -0.041856834769471433,
            0.11916123262932264,
            0.1453327426191006,
            0.18899365741349725,
            -0.015571566788656174,
            0.00591775274925158,
            0.05608321486196386,
            0.16783546305174316,
            0.17850990874848083,
            0.039330191892400904,
            0.19636793594102234,
            0.10977910135191514,
            0.08241476970624297,
            0.18474197798943096,
            -0.07416278886254768,
            0.03475560883358937,
            0.04830054755235559,
            -0.03374752135059339,
            0.07153594248666184,
            0.07693412688279246,
            -0.06727000707767465
           ]
          }
         ],
         "hovertemplate": "%{xaxis.title.text}=%{x}<br>%{yaxis.title.text}=%{y}<extra></extra>",
         "legendgroup": "",
         "marker": {
          "color": "#636efa",
          "symbol": "circle"
         },
         "name": "",
         "showlegend": false,
         "type": "splom"
        }
       ],
       "layout": {
        "dragmode": "select",
        "legend": {
         "tracegroupgap": 0
        },
        "margin": {
         "t": 60
        },
        "template": {
         "data": {
          "bar": [
           {
            "error_x": {
             "color": "#2a3f5f"
            },
            "error_y": {
             "color": "#2a3f5f"
            },
            "marker": {
             "line": {
              "color": "#E5ECF6",
              "width": 0.5
             },
             "pattern": {
              "fillmode": "overlay",
              "size": 10,
              "solidity": 0.2
             }
            },
            "type": "bar"
           }
          ],
          "barpolar": [
           {
            "marker": {
             "line": {
              "color": "#E5ECF6",
              "width": 0.5
             },
             "pattern": {
              "fillmode": "overlay",
              "size": 10,
              "solidity": 0.2
             }
            },
            "type": "barpolar"
           }
          ],
          "carpet": [
           {
            "aaxis": {
             "endlinecolor": "#2a3f5f",
             "gridcolor": "white",
             "linecolor": "white",
             "minorgridcolor": "white",
             "startlinecolor": "#2a3f5f"
            },
            "baxis": {
             "endlinecolor": "#2a3f5f",
             "gridcolor": "white",
             "linecolor": "white",
             "minorgridcolor": "white",
             "startlinecolor": "#2a3f5f"
            },
            "type": "carpet"
           }
          ],
          "choropleth": [
           {
            "colorbar": {
             "outlinewidth": 0,
             "ticks": ""
            },
            "type": "choropleth"
           }
          ],
          "contour": [
           {
            "colorbar": {
             "outlinewidth": 0,
             "ticks": ""
            },
            "colorscale": [
             [
              0,
              "#0d0887"
             ],
             [
              0.1111111111111111,
              "#46039f"
             ],
             [
              0.2222222222222222,
              "#7201a8"
             ],
             [
              0.3333333333333333,
              "#9c179e"
             ],
             [
              0.4444444444444444,
              "#bd3786"
             ],
             [
              0.5555555555555556,
              "#d8576b"
             ],
             [
              0.6666666666666666,
              "#ed7953"
             ],
             [
              0.7777777777777778,
              "#fb9f3a"
             ],
             [
              0.8888888888888888,
              "#fdca26"
             ],
             [
              1,
              "#f0f921"
             ]
            ],
            "type": "contour"
           }
          ],
          "contourcarpet": [
           {
            "colorbar": {
             "outlinewidth": 0,
             "ticks": ""
            },
            "type": "contourcarpet"
           }
          ],
          "heatmap": [
           {
            "colorbar": {
             "outlinewidth": 0,
             "ticks": ""
            },
            "colorscale": [
             [
              0,
              "#0d0887"
             ],
             [
              0.1111111111111111,
              "#46039f"
             ],
             [
              0.2222222222222222,
              "#7201a8"
             ],
             [
              0.3333333333333333,
              "#9c179e"
             ],
             [
              0.4444444444444444,
              "#bd3786"
             ],
             [
              0.5555555555555556,
              "#d8576b"
             ],
             [
              0.6666666666666666,
              "#ed7953"
             ],
             [
              0.7777777777777778,
              "#fb9f3a"
             ],
             [
              0.8888888888888888,
              "#fdca26"
             ],
             [
              1,
              "#f0f921"
             ]
            ],
            "type": "heatmap"
           }
          ],
          "heatmapgl": [
           {
            "colorbar": {
             "outlinewidth": 0,
             "ticks": ""
            },
            "colorscale": [
             [
              0,
              "#0d0887"
             ],
             [
              0.1111111111111111,
              "#46039f"
             ],
             [
              0.2222222222222222,
              "#7201a8"
             ],
             [
              0.3333333333333333,
              "#9c179e"
             ],
             [
              0.4444444444444444,
              "#bd3786"
             ],
             [
              0.5555555555555556,
              "#d8576b"
             ],
             [
              0.6666666666666666,
              "#ed7953"
             ],
             [
              0.7777777777777778,
              "#fb9f3a"
             ],
             [
              0.8888888888888888,
              "#fdca26"
             ],
             [
              1,
              "#f0f921"
             ]
            ],
            "type": "heatmapgl"
           }
          ],
          "histogram": [
           {
            "marker": {
             "pattern": {
              "fillmode": "overlay",
              "size": 10,
              "solidity": 0.2
             }
            },
            "type": "histogram"
           }
          ],
          "histogram2d": [
           {
            "colorbar": {
             "outlinewidth": 0,
             "ticks": ""
            },
            "colorscale": [
             [
              0,
              "#0d0887"
             ],
             [
              0.1111111111111111,
              "#46039f"
             ],
             [
              0.2222222222222222,
              "#7201a8"
             ],
             [
              0.3333333333333333,
              "#9c179e"
             ],
             [
              0.4444444444444444,
              "#bd3786"
             ],
             [
              0.5555555555555556,
              "#d8576b"
             ],
             [
              0.6666666666666666,
              "#ed7953"
             ],
             [
              0.7777777777777778,
              "#fb9f3a"
             ],
             [
              0.8888888888888888,
              "#fdca26"
             ],
             [
              1,
              "#f0f921"
             ]
            ],
            "type": "histogram2d"
           }
          ],
          "histogram2dcontour": [
           {
            "colorbar": {
             "outlinewidth": 0,
             "ticks": ""
            },
            "colorscale": [
             [
              0,
              "#0d0887"
             ],
             [
              0.1111111111111111,
              "#46039f"
             ],
             [
              0.2222222222222222,
              "#7201a8"
             ],
             [
              0.3333333333333333,
              "#9c179e"
             ],
             [
              0.4444444444444444,
              "#bd3786"
             ],
             [
              0.5555555555555556,
              "#d8576b"
             ],
             [
              0.6666666666666666,
              "#ed7953"
             ],
             [
              0.7777777777777778,
              "#fb9f3a"
             ],
             [
              0.8888888888888888,
              "#fdca26"
             ],
             [
              1,
              "#f0f921"
             ]
            ],
            "type": "histogram2dcontour"
           }
          ],
          "mesh3d": [
           {
            "colorbar": {
             "outlinewidth": 0,
             "ticks": ""
            },
            "type": "mesh3d"
           }
          ],
          "parcoords": [
           {
            "line": {
             "colorbar": {
              "outlinewidth": 0,
              "ticks": ""
             }
            },
            "type": "parcoords"
           }
          ],
          "pie": [
           {
            "automargin": true,
            "type": "pie"
           }
          ],
          "scatter": [
           {
            "fillpattern": {
             "fillmode": "overlay",
             "size": 10,
             "solidity": 0.2
            },
            "type": "scatter"
           }
          ],
          "scatter3d": [
           {
            "line": {
             "colorbar": {
              "outlinewidth": 0,
              "ticks": ""
             }
            },
            "marker": {
             "colorbar": {
              "outlinewidth": 0,
              "ticks": ""
             }
            },
            "type": "scatter3d"
           }
          ],
          "scattercarpet": [
           {
            "marker": {
             "colorbar": {
              "outlinewidth": 0,
              "ticks": ""
             }
            },
            "type": "scattercarpet"
           }
          ],
          "scattergeo": [
           {
            "marker": {
             "colorbar": {
              "outlinewidth": 0,
              "ticks": ""
             }
            },
            "type": "scattergeo"
           }
          ],
          "scattergl": [
           {
            "marker": {
             "colorbar": {
              "outlinewidth": 0,
              "ticks": ""
             }
            },
            "type": "scattergl"
           }
          ],
          "scattermapbox": [
           {
            "marker": {
             "colorbar": {
              "outlinewidth": 0,
              "ticks": ""
             }
            },
            "type": "scattermapbox"
           }
          ],
          "scatterpolar": [
           {
            "marker": {
             "colorbar": {
              "outlinewidth": 0,
              "ticks": ""
             }
            },
            "type": "scatterpolar"
           }
          ],
          "scatterpolargl": [
           {
            "marker": {
             "colorbar": {
              "outlinewidth": 0,
              "ticks": ""
             }
            },
            "type": "scatterpolargl"
           }
          ],
          "scatterternary": [
           {
            "marker": {
             "colorbar": {
              "outlinewidth": 0,
              "ticks": ""
             }
            },
            "type": "scatterternary"
           }
          ],
          "surface": [
           {
            "colorbar": {
             "outlinewidth": 0,
             "ticks": ""
            },
            "colorscale": [
             [
              0,
              "#0d0887"
             ],
             [
              0.1111111111111111,
              "#46039f"
             ],
             [
              0.2222222222222222,
              "#7201a8"
             ],
             [
              0.3333333333333333,
              "#9c179e"
             ],
             [
              0.4444444444444444,
              "#bd3786"
             ],
             [
              0.5555555555555556,
              "#d8576b"
             ],
             [
              0.6666666666666666,
              "#ed7953"
             ],
             [
              0.7777777777777778,
              "#fb9f3a"
             ],
             [
              0.8888888888888888,
              "#fdca26"
             ],
             [
              1,
              "#f0f921"
             ]
            ],
            "type": "surface"
           }
          ],
          "table": [
           {
            "cells": {
             "fill": {
              "color": "#EBF0F8"
             },
             "line": {
              "color": "white"
             }
            },
            "header": {
             "fill": {
              "color": "#C8D4E3"
             },
             "line": {
              "color": "white"
             }
            },
            "type": "table"
           }
          ]
         },
         "layout": {
          "annotationdefaults": {
           "arrowcolor": "#2a3f5f",
           "arrowhead": 0,
           "arrowwidth": 1
          },
          "autotypenumbers": "strict",
          "coloraxis": {
           "colorbar": {
            "outlinewidth": 0,
            "ticks": ""
           }
          },
          "colorscale": {
           "diverging": [
            [
             0,
             "#8e0152"
            ],
            [
             0.1,
             "#c51b7d"
            ],
            [
             0.2,
             "#de77ae"
            ],
            [
             0.3,
             "#f1b6da"
            ],
            [
             0.4,
             "#fde0ef"
            ],
            [
             0.5,
             "#f7f7f7"
            ],
            [
             0.6,
             "#e6f5d0"
            ],
            [
             0.7,
             "#b8e186"
            ],
            [
             0.8,
             "#7fbc41"
            ],
            [
             0.9,
             "#4d9221"
            ],
            [
             1,
             "#276419"
            ]
           ],
           "sequential": [
            [
             0,
             "#0d0887"
            ],
            [
             0.1111111111111111,
             "#46039f"
            ],
            [
             0.2222222222222222,
             "#7201a8"
            ],
            [
             0.3333333333333333,
             "#9c179e"
            ],
            [
             0.4444444444444444,
             "#bd3786"
            ],
            [
             0.5555555555555556,
             "#d8576b"
            ],
            [
             0.6666666666666666,
             "#ed7953"
            ],
            [
             0.7777777777777778,
             "#fb9f3a"
            ],
            [
             0.8888888888888888,
             "#fdca26"
            ],
            [
             1,
             "#f0f921"
            ]
           ],
           "sequentialminus": [
            [
             0,
             "#0d0887"
            ],
            [
             0.1111111111111111,
             "#46039f"
            ],
            [
             0.2222222222222222,
             "#7201a8"
            ],
            [
             0.3333333333333333,
             "#9c179e"
            ],
            [
             0.4444444444444444,
             "#bd3786"
            ],
            [
             0.5555555555555556,
             "#d8576b"
            ],
            [
             0.6666666666666666,
             "#ed7953"
            ],
            [
             0.7777777777777778,
             "#fb9f3a"
            ],
            [
             0.8888888888888888,
             "#fdca26"
            ],
            [
             1,
             "#f0f921"
            ]
           ]
          },
          "colorway": [
           "#636efa",
           "#EF553B",
           "#00cc96",
           "#ab63fa",
           "#FFA15A",
           "#19d3f3",
           "#FF6692",
           "#B6E880",
           "#FF97FF",
           "#FECB52"
          ],
          "font": {
           "color": "#2a3f5f"
          },
          "geo": {
           "bgcolor": "white",
           "lakecolor": "white",
           "landcolor": "#E5ECF6",
           "showlakes": true,
           "showland": true,
           "subunitcolor": "white"
          },
          "hoverlabel": {
           "align": "left"
          },
          "hovermode": "closest",
          "mapbox": {
           "style": "light"
          },
          "paper_bgcolor": "white",
          "plot_bgcolor": "#E5ECF6",
          "polar": {
           "angularaxis": {
            "gridcolor": "white",
            "linecolor": "white",
            "ticks": ""
           },
           "bgcolor": "#E5ECF6",
           "radialaxis": {
            "gridcolor": "white",
            "linecolor": "white",
            "ticks": ""
           }
          },
          "scene": {
           "xaxis": {
            "backgroundcolor": "#E5ECF6",
            "gridcolor": "white",
            "gridwidth": 2,
            "linecolor": "white",
            "showbackground": true,
            "ticks": "",
            "zerolinecolor": "white"
           },
           "yaxis": {
            "backgroundcolor": "#E5ECF6",
            "gridcolor": "white",
            "gridwidth": 2,
            "linecolor": "white",
            "showbackground": true,
            "ticks": "",
            "zerolinecolor": "white"
           },
           "zaxis": {
            "backgroundcolor": "#E5ECF6",
            "gridcolor": "white",
            "gridwidth": 2,
            "linecolor": "white",
            "showbackground": true,
            "ticks": "",
            "zerolinecolor": "white"
           }
          },
          "shapedefaults": {
           "line": {
            "color": "#2a3f5f"
           }
          },
          "ternary": {
           "aaxis": {
            "gridcolor": "white",
            "linecolor": "white",
            "ticks": ""
           },
           "baxis": {
            "gridcolor": "white",
            "linecolor": "white",
            "ticks": ""
           },
           "bgcolor": "#E5ECF6",
           "caxis": {
            "gridcolor": "white",
            "linecolor": "white",
            "ticks": ""
           }
          },
          "title": {
           "x": 0.05
          },
          "xaxis": {
           "automargin": true,
           "gridcolor": "white",
           "linecolor": "white",
           "ticks": "",
           "title": {
            "standoff": 15
           },
           "zerolinecolor": "white",
           "zerolinewidth": 2
          },
          "yaxis": {
           "automargin": true,
           "gridcolor": "white",
           "linecolor": "white",
           "ticks": "",
           "title": {
            "standoff": 15
           },
           "zerolinecolor": "white",
           "zerolinewidth": 2
          }
         }
        }
       }
      }
     },
     "metadata": {},
     "output_type": "display_data"
    }
   ],
   "source": [
    "\n",
    "import plotly.express as px\n",
    "labels = {\n",
    "    str(i): f\"PC {i+1} ({var:.1f}%)\"\n",
    "    for i, var in enumerate(pca.explained_variance_ratio_ * 100)\n",
    "}\n",
    "fig = px.scatter_matrix(\n",
    "    df_loadings,\n",
    "    labels=labels\n",
    "\n",
    ")\n",
    "fig"
   ]
  },
  {
   "cell_type": "code",
   "execution_count": null,
   "metadata": {},
   "outputs": [],
   "source": []
  },
  {
   "cell_type": "code",
   "execution_count": null,
   "metadata": {},
   "outputs": [],
   "source": []
  }
 ],
 "metadata": {
  "interpreter": {
   "hash": "405429bf2dc0097573c7842462781fb679be7cfecf039cc5f97d0f179dc3da2b"
  },
  "kernelspec": {
   "display_name": "Python 3.10.4 64-bit (windows store)",
   "language": "python",
   "name": "python3"
  },
  "language_info": {
   "codemirror_mode": {
    "name": "ipython",
    "version": 3
   },
   "file_extension": ".py",
   "mimetype": "text/x-python",
   "name": "python",
   "nbconvert_exporter": "python",
   "pygments_lexer": "ipython3",
   "version": "3.10.4"
  },
  "orig_nbformat": 4
 },
 "nbformat": 4,
 "nbformat_minor": 2
}
